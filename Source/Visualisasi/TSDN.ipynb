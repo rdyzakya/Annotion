{
  "cells": [
    {
      "cell_type": "markdown",
      "metadata": {},
      "source": [
        "https://colab.research.google.com/drive/1KIqp0EcWIaSPpuHj2K-x5_l52N24bI1Y?usp=sharing"
      ]
    },
    {
      "cell_type": "code",
      "execution_count": 1,
      "metadata": {
        "colab": {
          "base_uri": "https://localhost:8080/"
        },
        "id": "2TdIjbkpbxHo",
        "outputId": "025afb12-f3d1-4fbe-93cc-6fc36991fbe7"
      },
      "outputs": [
        {
          "name": "stdout",
          "output_type": "stream",
          "text": [
            "Looking in indexes: https://pypi.org/simple, https://us-python.pkg.dev/colab-wheels/public/simple/\n",
            "Collecting transformers\n",
            "  Downloading transformers-4.24.0-py3-none-any.whl (5.5 MB)\n",
            "\u001b[K     |████████████████████████████████| 5.5 MB 20.4 MB/s \n",
            "\u001b[?25hCollecting datasets\n",
            "  Downloading datasets-2.7.0-py3-none-any.whl (451 kB)\n",
            "\u001b[K     |████████████████████████████████| 451 kB 59.1 MB/s \n",
            "\u001b[?25hCollecting scikit-learn-extra\n",
            "  Downloading scikit_learn_extra-0.2.0-cp37-cp37m-manylinux2010_x86_64.whl (1.7 MB)\n",
            "\u001b[K     |████████████████████████████████| 1.7 MB 20.0 MB/s \n",
            "\u001b[?25hRequirement already satisfied: xgboost in /usr/local/lib/python3.7/dist-packages (0.90)\n",
            "Requirement already satisfied: requests in /usr/local/lib/python3.7/dist-packages (from transformers) (2.23.0)\n",
            "Requirement already satisfied: tqdm>=4.27 in /usr/local/lib/python3.7/dist-packages (from transformers) (4.64.1)\n",
            "Requirement already satisfied: pyyaml>=5.1 in /usr/local/lib/python3.7/dist-packages (from transformers) (6.0)\n",
            "Requirement already satisfied: regex!=2019.12.17 in /usr/local/lib/python3.7/dist-packages (from transformers) (2022.6.2)\n",
            "Requirement already satisfied: importlib-metadata in /usr/local/lib/python3.7/dist-packages (from transformers) (4.13.0)\n",
            "Requirement already satisfied: packaging>=20.0 in /usr/local/lib/python3.7/dist-packages (from transformers) (21.3)\n",
            "Requirement already satisfied: filelock in /usr/local/lib/python3.7/dist-packages (from transformers) (3.8.0)\n",
            "Collecting huggingface-hub<1.0,>=0.10.0\n",
            "  Downloading huggingface_hub-0.11.0-py3-none-any.whl (182 kB)\n",
            "\u001b[K     |████████████████████████████████| 182 kB 24.5 MB/s \n",
            "\u001b[?25hRequirement already satisfied: numpy>=1.17 in /usr/local/lib/python3.7/dist-packages (from transformers) (1.21.6)\n",
            "Collecting tokenizers!=0.11.3,<0.14,>=0.11.1\n",
            "  Downloading tokenizers-0.13.2-cp37-cp37m-manylinux_2_17_x86_64.manylinux2014_x86_64.whl (7.6 MB)\n",
            "\u001b[K     |████████████████████████████████| 7.6 MB 53.6 MB/s \n",
            "\u001b[?25hRequirement already satisfied: typing-extensions>=3.7.4.3 in /usr/local/lib/python3.7/dist-packages (from huggingface-hub<1.0,>=0.10.0->transformers) (4.1.1)\n",
            "Requirement already satisfied: pyparsing!=3.0.5,>=2.0.2 in /usr/local/lib/python3.7/dist-packages (from packaging>=20.0->transformers) (3.0.9)\n",
            "Requirement already satisfied: pandas in /usr/local/lib/python3.7/dist-packages (from datasets) (1.3.5)\n",
            "Collecting multiprocess\n",
            "  Downloading multiprocess-0.70.14-py37-none-any.whl (115 kB)\n",
            "\u001b[K     |████████████████████████████████| 115 kB 62.7 MB/s \n",
            "\u001b[?25hCollecting xxhash\n",
            "  Downloading xxhash-3.1.0-cp37-cp37m-manylinux_2_17_x86_64.manylinux2014_x86_64.whl (212 kB)\n",
            "\u001b[K     |████████████████████████████████| 212 kB 59.6 MB/s \n",
            "\u001b[?25hRequirement already satisfied: aiohttp in /usr/local/lib/python3.7/dist-packages (from datasets) (3.8.3)\n",
            "Requirement already satisfied: dill<0.3.7 in /usr/local/lib/python3.7/dist-packages (from datasets) (0.3.6)\n",
            "Requirement already satisfied: fsspec[http]>=2021.11.1 in /usr/local/lib/python3.7/dist-packages (from datasets) (2022.10.0)\n",
            "Collecting responses<0.19\n",
            "  Downloading responses-0.18.0-py3-none-any.whl (38 kB)\n",
            "Requirement already satisfied: pyarrow>=6.0.0 in /usr/local/lib/python3.7/dist-packages (from datasets) (6.0.1)\n",
            "Requirement already satisfied: charset-normalizer<3.0,>=2.0 in /usr/local/lib/python3.7/dist-packages (from aiohttp->datasets) (2.1.1)\n",
            "Requirement already satisfied: async-timeout<5.0,>=4.0.0a3 in /usr/local/lib/python3.7/dist-packages (from aiohttp->datasets) (4.0.2)\n",
            "Requirement already satisfied: frozenlist>=1.1.1 in /usr/local/lib/python3.7/dist-packages (from aiohttp->datasets) (1.3.3)\n",
            "Requirement already satisfied: yarl<2.0,>=1.0 in /usr/local/lib/python3.7/dist-packages (from aiohttp->datasets) (1.8.1)\n",
            "Requirement already satisfied: attrs>=17.3.0 in /usr/local/lib/python3.7/dist-packages (from aiohttp->datasets) (22.1.0)\n",
            "Requirement already satisfied: asynctest==0.13.0 in /usr/local/lib/python3.7/dist-packages (from aiohttp->datasets) (0.13.0)\n",
            "Requirement already satisfied: multidict<7.0,>=4.5 in /usr/local/lib/python3.7/dist-packages (from aiohttp->datasets) (6.0.2)\n",
            "Requirement already satisfied: aiosignal>=1.1.2 in /usr/local/lib/python3.7/dist-packages (from aiohttp->datasets) (1.3.1)\n",
            "Requirement already satisfied: certifi>=2017.4.17 in /usr/local/lib/python3.7/dist-packages (from requests->transformers) (2022.9.24)\n",
            "Requirement already satisfied: idna<3,>=2.5 in /usr/local/lib/python3.7/dist-packages (from requests->transformers) (2.10)\n",
            "Requirement already satisfied: urllib3!=1.25.0,!=1.25.1,<1.26,>=1.21.1 in /usr/local/lib/python3.7/dist-packages (from requests->transformers) (1.24.3)\n",
            "Requirement already satisfied: chardet<4,>=3.0.2 in /usr/local/lib/python3.7/dist-packages (from requests->transformers) (3.0.4)\n",
            "Collecting urllib3!=1.25.0,!=1.25.1,<1.26,>=1.21.1\n",
            "  Downloading urllib3-1.25.11-py2.py3-none-any.whl (127 kB)\n",
            "\u001b[K     |████████████████████████████████| 127 kB 57.7 MB/s \n",
            "\u001b[?25hRequirement already satisfied: scipy>=0.19.1 in /usr/local/lib/python3.7/dist-packages (from scikit-learn-extra) (1.7.3)\n",
            "Requirement already satisfied: scikit-learn>=0.23.0 in /usr/local/lib/python3.7/dist-packages (from scikit-learn-extra) (1.0.2)\n",
            "Requirement already satisfied: joblib>=0.11 in /usr/local/lib/python3.7/dist-packages (from scikit-learn>=0.23.0->scikit-learn-extra) (1.2.0)\n",
            "Requirement already satisfied: threadpoolctl>=2.0.0 in /usr/local/lib/python3.7/dist-packages (from scikit-learn>=0.23.0->scikit-learn-extra) (3.1.0)\n",
            "Requirement already satisfied: zipp>=0.5 in /usr/local/lib/python3.7/dist-packages (from importlib-metadata->transformers) (3.10.0)\n",
            "Requirement already satisfied: pytz>=2017.3 in /usr/local/lib/python3.7/dist-packages (from pandas->datasets) (2022.6)\n",
            "Requirement already satisfied: python-dateutil>=2.7.3 in /usr/local/lib/python3.7/dist-packages (from pandas->datasets) (2.8.2)\n",
            "Requirement already satisfied: six>=1.5 in /usr/local/lib/python3.7/dist-packages (from python-dateutil>=2.7.3->pandas->datasets) (1.15.0)\n",
            "Installing collected packages: urllib3, xxhash, tokenizers, responses, multiprocess, huggingface-hub, transformers, scikit-learn-extra, datasets\n",
            "  Attempting uninstall: urllib3\n",
            "    Found existing installation: urllib3 1.24.3\n",
            "    Uninstalling urllib3-1.24.3:\n",
            "      Successfully uninstalled urllib3-1.24.3\n",
            "Successfully installed datasets-2.7.0 huggingface-hub-0.11.0 multiprocess-0.70.14 responses-0.18.0 scikit-learn-extra-0.2.0 tokenizers-0.13.2 transformers-4.24.0 urllib3-1.25.11 xxhash-3.1.0\n"
          ]
        }
      ],
      "source": [
        "!pip install transformers datasets scikit-learn-extra xgboost"
      ]
    },
    {
      "cell_type": "markdown",
      "metadata": {
        "id": "VWmpW15Vb4f3"
      },
      "source": [
        "# Text Clustering 6 labels"
      ]
    },
    {
      "cell_type": "code",
      "execution_count": 2,
      "metadata": {
        "colab": {
          "base_uri": "https://localhost:8080/"
        },
        "id": "dfJo7h2OcQGK",
        "outputId": "5768c774-8f1b-427f-d946-eee6a05d8264"
      },
      "outputs": [
        {
          "name": "stdout",
          "output_type": "stream",
          "text": [
            "Cloning into 'nusa-crowd'...\n",
            "remote: Enumerating objects: 4639, done.\u001b[K\n",
            "remote: Counting objects: 100% (4639/4639), done.\u001b[K\n",
            "remote: Compressing objects: 100% (1828/1828), done.\u001b[K\n",
            "remote: Total 4639 (delta 2483), reused 4508 (delta 2389), pack-reused 0\u001b[K\n",
            "Receiving objects: 100% (4639/4639), 2.02 MiB | 22.22 MiB/s, done.\n",
            "Resolving deltas: 100% (2483/2483), done.\n"
          ]
        }
      ],
      "source": [
        "!git clone https://github.com/IndoNLP/nusa-crowd.git"
      ]
    },
    {
      "cell_type": "code",
      "execution_count": 3,
      "metadata": {
        "id": "t8cqOjqzcRQJ"
      },
      "outputs": [],
      "source": [
        "import sys\n",
        "sys.path.append('/content/nusa-crowd')"
      ]
    },
    {
      "cell_type": "code",
      "execution_count": 4,
      "metadata": {
        "colab": {
          "base_uri": "https://localhost:8080/",
          "height": 588,
          "referenced_widgets": [
            "456fd0e296b646629fc325ad96dfb6ba",
            "930eed0b5aaf48f2bd23269b35f51f86",
            "aad2cedb203746868acb9f5727034699",
            "f5fa7c5535804e3aac766a257d13f902",
            "9fb9c5b0421747a0b00c042af5ac594f",
            "b8cb11c920a541f497fc1b2029983c25",
            "42317897debc413da9a9e87463b08010",
            "77bd0713d4dc4a039519ad2b650c02fa",
            "669b6b7aa77544ce8d5d9d87e5e4c0f4",
            "1714d36327f4457ca7e3edc002c1afcb",
            "843e73d9bce44e15ad26b5b2ed2a20de",
            "ef0a7bfab4f94d6a8a6cd005793ed791",
            "c3b72a275f82495eb3eb7b945dda7267",
            "3682f4c24f4d47bebcab7b257bd85331",
            "37c268be0f5844949f4fe1733c21562b",
            "dec7ba97dc8f4476900d33aef84cc2d2",
            "680b426379f045a387a4e54b45048e8e",
            "e51d092564a74774a7cc17471b6d5602",
            "01249505ba12468f974f2cc48b329e28",
            "1ffc5669ee264418897a8647f42df8d9",
            "5c571c08a05243028e71060b2c3c62b0",
            "5524961b7e4d40b49e635c541a9fbf14",
            "cfd5724d71d44fe59a2531bb3d77bd80",
            "41c48cf79238485bbd62d4cf24fc09df",
            "4120033655c64b91b7fd74babd345259",
            "09955071622e4e7a9c9e75b22aefa8cf",
            "edc570209e1d4188a180351ca5609b76",
            "80b636d46a3441e89966cd3a25e0a767",
            "61a4c67f0e0f4db3ac6772b871aebec6",
            "0bec162da75f4f1dbad54e8d06c7d733",
            "2f75480e52544261a5b7deb3e6404428",
            "8a6c36f62db843f68c9f2d3fff222639",
            "07883faf3d3f42deaab0cc7c331e2026",
            "a02b592d9b9a48a7992d8c7c4bfb2858",
            "7db1ce140bf9431b98284d8b59f0c940",
            "39438d292d224e23bfb15d76330e74dd",
            "d12f1d33b9854f0eb394d59217ed52b0",
            "b7ed84bf0b8342dbb8126ac1ecff7d46",
            "1e03411960ae4a57975ba0c8bd001ab8",
            "6b9e85abc144464c9a719c310db74d3c",
            "2d30f496684f43a49a0b689b25c38684",
            "50ae045ad89b431caa6ebea3348f2b9a",
            "5100a48723c141b380b9a0a85cd682fd",
            "dd24e9aeed7c4639a4c651d15ccc4929",
            "0f8ef7dce9114716b416c3929918960a",
            "af02bb58312b4ccda819a2f88fbc36ec",
            "51b68c080cc14122b6a2617b45674d89",
            "9e0a6d5efc004038a766cb3ed9f94150",
            "15773a0c7cc64efbaf8a7d9b4574eaf6",
            "535f09c1e5c64479ad63f86d4c37f8b2",
            "e9affa5c391142f5945aef11feb360ca",
            "a49c623556ed4fc2add833df2ef2e6ad",
            "8b4988cf2334498caf4c0ca707ddbfc5",
            "aa292f0be71a4af2afa546507e07062a",
            "ad09cd43c65d44cd8e9487218de4a059",
            "d87123ddf065400e907dac3daa83e2b0",
            "741361b0935d4831be97dd86c0e7770b",
            "ba63ff98ce8c490998fe07aa149c6d8e",
            "caa6a4d176874e11a65ad97d4e027053",
            "16c0f25d74f349eba44f62a55ea0573a",
            "b9bf35ea3a1148a59c1d6c131817578d",
            "95132b17488846378ef67e7eaed8bca0",
            "6c022385324f4278849d64e3424af487",
            "0adc808a9f77435ea853174a728f35a2",
            "54268735fb3f474faec631271c08202f",
            "1437fc9cea1a4c62b1d785d02ed096e7",
            "5a932c9305ed4ef5a1a112d56993bb70",
            "332cc51838814791851b832d9e4f0767",
            "e29ad23ec60e47cfb320dd2ec64c5d71",
            "1b9d9c3b6c994df7a4aaa6eb79709a0c",
            "096830b5315c4596b2488e37a0a3b6a4",
            "58a650fb7f984574a8ef68c33fc4e05d",
            "55b659ce21264fefbeaf2b4c6d197d5a",
            "80cfcec384764d89a2fc9eb5d786e792",
            "605df8b9dc5f49699192a4802ad6af12",
            "9d9e51e1e5ef4934ab6c6fbfcf4cd3d7",
            "cb3850acf0174430b698593f325e51fb",
            "9910e039d26c4a2f9fb0d46654de837f",
            "4ef46650350d46c094124a3ea21ebcd4",
            "b1cd686d662c49958e30e98ef1fa11d8",
            "a2783288e1cc470f8989b500f7a3fa52",
            "d6337d6de2604c02bdae7ddac38c19b9",
            "a78ef8920b23480e8654f775a792c12d",
            "415e61f1560e46a8b8d3988401b3952d",
            "39b08f225eba40d98e5b9f9cd88b2113",
            "0afc8adc058e4f17b66d12ed644aae44",
            "9ee3fe6286fb4de2a3ba17360bc38a0a",
            "7858ce73fb6845e597fa8d23a2a9c32f"
          ]
        },
        "id": "NQennLTgb7C2",
        "outputId": "557c38ab-99d1-4007-f845-889c481bdb8b"
      },
      "outputs": [
        {
          "name": "stderr",
          "output_type": "stream",
          "text": [
            "WARNING:datasets.builder:No config specified, defaulting to: emotion_id_opinion/emotion_id_opinion_source\n"
          ]
        },
        {
          "name": "stdout",
          "output_type": "stream",
          "text": [
            "Downloading and preparing dataset emotion_id_opinion/emotion_id_opinion_source to /root/.cache/huggingface/datasets/emotion_id_opinion/emotion_id_opinion_source/1.0.0/a6ab5b7094657b7fedf626821ac093d81dd2595a6fef013c4e4b1e72d695cc24...\n"
          ]
        },
        {
          "data": {
            "application/vnd.jupyter.widget-view+json": {
              "model_id": "456fd0e296b646629fc325ad96dfb6ba",
              "version_major": 2,
              "version_minor": 0
            },
            "text/plain": [
              "Downloading data:   0%|          | 0.00/51.6k [00:00<?, ?B/s]"
            ]
          },
          "metadata": {},
          "output_type": "display_data"
        },
        {
          "data": {
            "application/vnd.jupyter.widget-view+json": {
              "model_id": "ef0a7bfab4f94d6a8a6cd005793ed791",
              "version_major": 2,
              "version_minor": 0
            },
            "text/plain": [
              "Downloading data:   0%|          | 0.00/30.3k [00:00<?, ?B/s]"
            ]
          },
          "metadata": {},
          "output_type": "display_data"
        },
        {
          "data": {
            "application/vnd.jupyter.widget-view+json": {
              "model_id": "cfd5724d71d44fe59a2531bb3d77bd80",
              "version_major": 2,
              "version_minor": 0
            },
            "text/plain": [
              "Downloading data:   0%|          | 0.00/42.0k [00:00<?, ?B/s]"
            ]
          },
          "metadata": {},
          "output_type": "display_data"
        },
        {
          "data": {
            "application/vnd.jupyter.widget-view+json": {
              "model_id": "a02b592d9b9a48a7992d8c7c4bfb2858",
              "version_major": 2,
              "version_minor": 0
            },
            "text/plain": [
              "Downloading data:   0%|          | 0.00/40.8k [00:00<?, ?B/s]"
            ]
          },
          "metadata": {},
          "output_type": "display_data"
        },
        {
          "data": {
            "application/vnd.jupyter.widget-view+json": {
              "model_id": "0f8ef7dce9114716b416c3929918960a",
              "version_major": 2,
              "version_minor": 0
            },
            "text/plain": [
              "Downloading data:   0%|          | 0.00/97.7k [00:00<?, ?B/s]"
            ]
          },
          "metadata": {},
          "output_type": "display_data"
        },
        {
          "data": {
            "application/vnd.jupyter.widget-view+json": {
              "model_id": "d87123ddf065400e907dac3daa83e2b0",
              "version_major": 2,
              "version_minor": 0
            },
            "text/plain": [
              "Downloading data:   0%|          | 0.00/41.1k [00:00<?, ?B/s]"
            ]
          },
          "metadata": {},
          "output_type": "display_data"
        },
        {
          "data": {
            "application/vnd.jupyter.widget-view+json": {
              "model_id": "5a932c9305ed4ef5a1a112d56993bb70",
              "version_major": 2,
              "version_minor": 0
            },
            "text/plain": [
              "Generating train split: 0 examples [00:00, ? examples/s]"
            ]
          },
          "metadata": {},
          "output_type": "display_data"
        },
        {
          "name": "stdout",
          "output_type": "stream",
          "text": [
            "Dataset emotion_id_opinion downloaded and prepared to /root/.cache/huggingface/datasets/emotion_id_opinion/emotion_id_opinion_source/1.0.0/a6ab5b7094657b7fedf626821ac093d81dd2595a6fef013c4e4b1e72d695cc24. Subsequent calls will reuse this data.\n"
          ]
        },
        {
          "data": {
            "application/vnd.jupyter.widget-view+json": {
              "model_id": "9910e039d26c4a2f9fb0d46654de837f",
              "version_major": 2,
              "version_minor": 0
            },
            "text/plain": [
              "  0%|          | 0/1 [00:00<?, ?it/s]"
            ]
          },
          "metadata": {},
          "output_type": "display_data"
        },
        {
          "name": "stdout",
          "output_type": "stream",
          "text": [
            "     index                                              tweet  label\n",
            "0        0                        pagi2 udah di buat emosi :)  Anger\n",
            "1        1  kok stabilitas negara, memange 10 thn negara t...  Anger\n",
            "2        2                       dah lah emosi mulu liat emyu  Anger\n",
            "3        3  aib? bodoh benar! sebelum kata aib itu muncul,...  Anger\n",
            "4        4                            dih lu yg nyebelin bego  Anger\n",
            "...    ...                                                ...    ...\n",
            "7075  7075  pagi saat seisi semesta sujud pada zat yg acap...    Sad\n",
            "7076  7076  meski engkau yg pergi, meski engkau yg meningg...    Sad\n",
            "7077  7077                     udah biasa kalah dan tersakiti    Sad\n",
            "7078  7078  apakabar ku?. apakah baik-baik saja,, tidak, a...    Sad\n",
            "7079  7079      this user sdg tidak.baik.baik saja sdg stress    Sad\n",
            "\n",
            "[7080 rows x 3 columns]\n"
          ]
        }
      ],
      "source": [
        "from datasets import load_dataset\n",
        "\n",
        "path = \"nusa-crowd/nusacrowd/nusa_datasets/emotion_id_opinion\"\n",
        "dataset = load_dataset(path)\n",
        "\n",
        "# see dataset sample:\n",
        "print(dataset['train'].to_pandas())"
      ]
    },
    {
      "cell_type": "code",
      "execution_count": 5,
      "metadata": {
        "colab": {
          "base_uri": "https://localhost:8080/"
        },
        "id": "cQ86SRhKcjJy",
        "outputId": "e8d09b8e-1c1d-492d-8380-72a77f732e4e"
      },
      "outputs": [
        {
          "data": {
            "text/plain": [
              "{'index': '0', 'tweet': 'pagi2 udah di buat emosi :)', 'label': 'Anger'}"
            ]
          },
          "execution_count": 5,
          "metadata": {},
          "output_type": "execute_result"
        }
      ],
      "source": [
        "dataset['train'][0]"
      ]
    },
    {
      "cell_type": "code",
      "execution_count": 6,
      "metadata": {
        "id": "oGOaMpFaczyb"
      },
      "outputs": [],
      "source": [
        "df = dataset['train'].to_pandas()"
      ]
    },
    {
      "cell_type": "code",
      "execution_count": 7,
      "metadata": {
        "colab": {
          "base_uri": "https://localhost:8080/",
          "height": 206
        },
        "id": "-ECnbAm0c1JT",
        "outputId": "b8753d5b-40d3-4d4a-9fee-ccd6c5e91fa2"
      },
      "outputs": [
        {
          "data": {
            "text/html": [
              "\n",
              "  <div id=\"df-9eaad654-dbee-48d4-bd3d-b4b538c69626\">\n",
              "    <div class=\"colab-df-container\">\n",
              "      <div>\n",
              "<style scoped>\n",
              "    .dataframe tbody tr th:only-of-type {\n",
              "        vertical-align: middle;\n",
              "    }\n",
              "\n",
              "    .dataframe tbody tr th {\n",
              "        vertical-align: top;\n",
              "    }\n",
              "\n",
              "    .dataframe thead th {\n",
              "        text-align: right;\n",
              "    }\n",
              "</style>\n",
              "<table border=\"1\" class=\"dataframe\">\n",
              "  <thead>\n",
              "    <tr style=\"text-align: right;\">\n",
              "      <th></th>\n",
              "      <th>index</th>\n",
              "      <th>tweet</th>\n",
              "      <th>label</th>\n",
              "    </tr>\n",
              "  </thead>\n",
              "  <tbody>\n",
              "    <tr>\n",
              "      <th>0</th>\n",
              "      <td>0</td>\n",
              "      <td>pagi2 udah di buat emosi :)</td>\n",
              "      <td>Anger</td>\n",
              "    </tr>\n",
              "    <tr>\n",
              "      <th>1</th>\n",
              "      <td>1</td>\n",
              "      <td>kok stabilitas negara, memange 10 thn negara t...</td>\n",
              "      <td>Anger</td>\n",
              "    </tr>\n",
              "    <tr>\n",
              "      <th>2</th>\n",
              "      <td>2</td>\n",
              "      <td>dah lah emosi mulu liat emyu</td>\n",
              "      <td>Anger</td>\n",
              "    </tr>\n",
              "    <tr>\n",
              "      <th>3</th>\n",
              "      <td>3</td>\n",
              "      <td>aib? bodoh benar! sebelum kata aib itu muncul,...</td>\n",
              "      <td>Anger</td>\n",
              "    </tr>\n",
              "    <tr>\n",
              "      <th>4</th>\n",
              "      <td>4</td>\n",
              "      <td>dih lu yg nyebelin bego</td>\n",
              "      <td>Anger</td>\n",
              "    </tr>\n",
              "  </tbody>\n",
              "</table>\n",
              "</div>\n",
              "      <button class=\"colab-df-convert\" onclick=\"convertToInteractive('df-9eaad654-dbee-48d4-bd3d-b4b538c69626')\"\n",
              "              title=\"Convert this dataframe to an interactive table.\"\n",
              "              style=\"display:none;\">\n",
              "        \n",
              "  <svg xmlns=\"http://www.w3.org/2000/svg\" height=\"24px\"viewBox=\"0 0 24 24\"\n",
              "       width=\"24px\">\n",
              "    <path d=\"M0 0h24v24H0V0z\" fill=\"none\"/>\n",
              "    <path d=\"M18.56 5.44l.94 2.06.94-2.06 2.06-.94-2.06-.94-.94-2.06-.94 2.06-2.06.94zm-11 1L8.5 8.5l.94-2.06 2.06-.94-2.06-.94L8.5 2.5l-.94 2.06-2.06.94zm10 10l.94 2.06.94-2.06 2.06-.94-2.06-.94-.94-2.06-.94 2.06-2.06.94z\"/><path d=\"M17.41 7.96l-1.37-1.37c-.4-.4-.92-.59-1.43-.59-.52 0-1.04.2-1.43.59L10.3 9.45l-7.72 7.72c-.78.78-.78 2.05 0 2.83L4 21.41c.39.39.9.59 1.41.59.51 0 1.02-.2 1.41-.59l7.78-7.78 2.81-2.81c.8-.78.8-2.07 0-2.86zM5.41 20L4 18.59l7.72-7.72 1.47 1.35L5.41 20z\"/>\n",
              "  </svg>\n",
              "      </button>\n",
              "      \n",
              "  <style>\n",
              "    .colab-df-container {\n",
              "      display:flex;\n",
              "      flex-wrap:wrap;\n",
              "      gap: 12px;\n",
              "    }\n",
              "\n",
              "    .colab-df-convert {\n",
              "      background-color: #E8F0FE;\n",
              "      border: none;\n",
              "      border-radius: 50%;\n",
              "      cursor: pointer;\n",
              "      display: none;\n",
              "      fill: #1967D2;\n",
              "      height: 32px;\n",
              "      padding: 0 0 0 0;\n",
              "      width: 32px;\n",
              "    }\n",
              "\n",
              "    .colab-df-convert:hover {\n",
              "      background-color: #E2EBFA;\n",
              "      box-shadow: 0px 1px 2px rgba(60, 64, 67, 0.3), 0px 1px 3px 1px rgba(60, 64, 67, 0.15);\n",
              "      fill: #174EA6;\n",
              "    }\n",
              "\n",
              "    [theme=dark] .colab-df-convert {\n",
              "      background-color: #3B4455;\n",
              "      fill: #D2E3FC;\n",
              "    }\n",
              "\n",
              "    [theme=dark] .colab-df-convert:hover {\n",
              "      background-color: #434B5C;\n",
              "      box-shadow: 0px 1px 3px 1px rgba(0, 0, 0, 0.15);\n",
              "      filter: drop-shadow(0px 1px 2px rgba(0, 0, 0, 0.3));\n",
              "      fill: #FFFFFF;\n",
              "    }\n",
              "  </style>\n",
              "\n",
              "      <script>\n",
              "        const buttonEl =\n",
              "          document.querySelector('#df-9eaad654-dbee-48d4-bd3d-b4b538c69626 button.colab-df-convert');\n",
              "        buttonEl.style.display =\n",
              "          google.colab.kernel.accessAllowed ? 'block' : 'none';\n",
              "\n",
              "        async function convertToInteractive(key) {\n",
              "          const element = document.querySelector('#df-9eaad654-dbee-48d4-bd3d-b4b538c69626');\n",
              "          const dataTable =\n",
              "            await google.colab.kernel.invokeFunction('convertToInteractive',\n",
              "                                                     [key], {});\n",
              "          if (!dataTable) return;\n",
              "\n",
              "          const docLinkHtml = 'Like what you see? Visit the ' +\n",
              "            '<a target=\"_blank\" href=https://colab.research.google.com/notebooks/data_table.ipynb>data table notebook</a>'\n",
              "            + ' to learn more about interactive tables.';\n",
              "          element.innerHTML = '';\n",
              "          dataTable['output_type'] = 'display_data';\n",
              "          await google.colab.output.renderOutput(dataTable, element);\n",
              "          const docLink = document.createElement('div');\n",
              "          docLink.innerHTML = docLinkHtml;\n",
              "          element.appendChild(docLink);\n",
              "        }\n",
              "      </script>\n",
              "    </div>\n",
              "  </div>\n",
              "  "
            ],
            "text/plain": [
              "  index                                              tweet  label\n",
              "0     0                        pagi2 udah di buat emosi :)  Anger\n",
              "1     1  kok stabilitas negara, memange 10 thn negara t...  Anger\n",
              "2     2                       dah lah emosi mulu liat emyu  Anger\n",
              "3     3  aib? bodoh benar! sebelum kata aib itu muncul,...  Anger\n",
              "4     4                            dih lu yg nyebelin bego  Anger"
            ]
          },
          "execution_count": 7,
          "metadata": {},
          "output_type": "execute_result"
        }
      ],
      "source": [
        "df.head()"
      ]
    },
    {
      "cell_type": "code",
      "execution_count": 54,
      "metadata": {
        "id": "b-sfm4Vfd0bH"
      },
      "outputs": [],
      "source": [
        "from sklearn.feature_extraction.text import CountVectorizer, TfidfVectorizer\n",
        "from tqdm import tqdm\n",
        "\n",
        "def count_vectorize(texts,**kwargs):\n",
        "    vectorizer = CountVectorizer(**kwargs)\n",
        "    vectorizer.fit(texts)\n",
        "    vector = vectorizer.transform(texts)\n",
        "    return vector,vectorizer\n",
        "\n",
        "def tfidf_vectorize(texts,**kwargs):\n",
        "    vectorizer = TfidfVectorizer(**kwargs)\n",
        "    vectorizer.fit(texts)\n",
        "    vector = vectorizer.transform(texts)\n",
        "    return vector,vectorizer\n",
        "\n",
        "def hf_automodel_vectorizer(texts,model,tokenizer,device,batch_size=16,**kwargs):\n",
        "    model.to(device)\n",
        "    result = []\n",
        "    for i in tqdm(range(0,len(texts),batch_size)):\n",
        "        batch = texts[i:i+batch_size]\n",
        "        tokenized = tokenizer(batch,return_tensors=\"pt\",padding=True,truncation=True,max_length=512,**kwargs)\n",
        "        tokenized = tokenized.to(device)\n",
        "        embedding = model(**tokenized)[0].detach().cpu().numpy()\n",
        "        result.extend(embedding[:,0].tolist())\n",
        "    return result"
      ]
    },
    {
      "cell_type": "code",
      "execution_count": 9,
      "metadata": {
        "colab": {
          "base_uri": "https://localhost:8080/",
          "height": 177,
          "referenced_widgets": [
            "8a5292f4193e43a8abe2e10edc92ab43",
            "1053b7f68aef42dd9f16704f6fa37ed8",
            "a22e79d371ed4e92aa072eb6bd3332bc",
            "e0ad6a53bf8e46cc850d594eae0c0924",
            "dfaaa190ae4e45c39ae4ce1d8b443790",
            "716e706bfcb445e1928a1c7a952599d4",
            "7a20e77378d449f9b88b6fd3705835a5",
            "48d91abe8ae34066b6f16644481f936c",
            "eed0955705c7450e9e8dd9c1580c57e0",
            "8edc6868dd8042649daaf0e76e072574",
            "cfc7b877daf6415ea518087445506e3d",
            "e91f948a304c4b3a9bd2f6a703f06d0a",
            "ff6d0b22043e42038e03863e606d6ff0",
            "7dbe16322dd2415fb47588b2f12d4ea2",
            "b1e42c62e3654e1287c711900988056e",
            "4860c0d40329452895a1534ba1c22f8d",
            "d5991738417043d78c557e5906d4f090",
            "c73ebf020b8e43efa375c84f9cec50af",
            "b8d240ed0ac2480398980d7eaffb4aac",
            "369d946467914dafa6e9236107823b3a",
            "cd39ad95cf2b44afa590429eb9b77be0",
            "f7f48970f0284419a0a3c5c31b1265d3",
            "5e168333e16b4812ab8482eba85df368",
            "4211bffaf40b40b69b7860af66c8ca28",
            "796060c808b44be28394d1d733be56ca",
            "2358684336e64000b35b8e2ca5e73fde",
            "35a140ffdec547028db7155e5007bb93",
            "332446359f504c08bfba6a5191a16c0e",
            "a9f0b080abed46588e9d2c045a1dad44",
            "81b1856328bf4d19b10c7fdc71c740aa",
            "d34de73882784df9a5371e23abf2e0cb",
            "6f03c2b735f7495a95467ce3d16fb881",
            "9b6fab8b24524ad8b020ad11fdf181b6",
            "1c315637275d4851b10974ab30c29058",
            "546c26bd77af409e88985855bb4361a5",
            "a15ea227220c4664ab362797a3465532",
            "73c5ec8aedf94521ac042ae73b56298e",
            "a8aa7f8548d546c9b5254e3dc616e41d",
            "08d93699366446dab682f5a5583e9e43",
            "a191087772aa4662a5a6d49d287f00f9",
            "462b491b97bc4325857fc38cd1074f5e",
            "c3d1aa16c31645a89c656136b64726e1",
            "9e1f0a92add84cc2acc1b18d65f1ed36",
            "d250fce4b641472597c65771298649f3",
            "c0be461f1f0444048110b0aa1444e57a",
            "1de681fbfa56403aa0b3f55553dc2045",
            "7f131c7622d849e9a30ff8435a6c5c53",
            "e5dd0a6ec3bf4d83baff4c96fe0436c1",
            "1a8af4723f484e71a76444e1d4ce1532",
            "bd4752b83552464b9e1b7c2444855545",
            "d24c06d1bee244aeab03a1fe966e52a8",
            "92a0451cdc3d4e4693b984a6b19c5937",
            "dcf34b15acea4bc9ae30196266080e0a",
            "51d10f8212ff4ea5add261fbea97c9b3",
            "9f497a4624954380a677172bd2ed47dc"
          ]
        },
        "id": "w2woM1K2d41e",
        "outputId": "0456ea34-f5b3-40e2-c0cd-104614ed59ce"
      },
      "outputs": [
        {
          "data": {
            "application/vnd.jupyter.widget-view+json": {
              "model_id": "8a5292f4193e43a8abe2e10edc92ab43",
              "version_major": 2,
              "version_minor": 0
            },
            "text/plain": [
              "Downloading:   0%|          | 0.00/1.53k [00:00<?, ?B/s]"
            ]
          },
          "metadata": {},
          "output_type": "display_data"
        },
        {
          "data": {
            "application/vnd.jupyter.widget-view+json": {
              "model_id": "e91f948a304c4b3a9bd2f6a703f06d0a",
              "version_major": 2,
              "version_minor": 0
            },
            "text/plain": [
              "Downloading:   0%|          | 0.00/498M [00:00<?, ?B/s]"
            ]
          },
          "metadata": {},
          "output_type": "display_data"
        },
        {
          "data": {
            "application/vnd.jupyter.widget-view+json": {
              "model_id": "5e168333e16b4812ab8482eba85df368",
              "version_major": 2,
              "version_minor": 0
            },
            "text/plain": [
              "Downloading:   0%|          | 0.00/2.00 [00:00<?, ?B/s]"
            ]
          },
          "metadata": {},
          "output_type": "display_data"
        },
        {
          "data": {
            "application/vnd.jupyter.widget-view+json": {
              "model_id": "1c315637275d4851b10974ab30c29058",
              "version_major": 2,
              "version_minor": 0
            },
            "text/plain": [
              "Downloading:   0%|          | 0.00/229k [00:00<?, ?B/s]"
            ]
          },
          "metadata": {},
          "output_type": "display_data"
        },
        {
          "data": {
            "application/vnd.jupyter.widget-view+json": {
              "model_id": "c0be461f1f0444048110b0aa1444e57a",
              "version_major": 2,
              "version_minor": 0
            },
            "text/plain": [
              "Downloading:   0%|          | 0.00/112 [00:00<?, ?B/s]"
            ]
          },
          "metadata": {},
          "output_type": "display_data"
        }
      ],
      "source": [
        "from transformers import AutoModel, AutoTokenizer\n",
        "\n",
        "model = AutoModel.from_pretrained('indobenchmark/indobert-base-p1')\n",
        "tokenizer = AutoTokenizer.from_pretrained('indobenchmark/indobert-base-p1')"
      ]
    },
    {
      "cell_type": "code",
      "execution_count": 10,
      "metadata": {
        "id": "30nwQU4CeRQS"
      },
      "outputs": [],
      "source": [
        "X_cnt, cnt_v = count_vectorize(df.tweet)\n",
        "X_tfidf, tfidf_v = tfidf_vectorize(df.tweet)"
      ]
    },
    {
      "cell_type": "code",
      "execution_count": 11,
      "metadata": {
        "id": "__5spzvCfPTO"
      },
      "outputs": [],
      "source": [
        "import torch"
      ]
    },
    {
      "cell_type": "code",
      "execution_count": 12,
      "metadata": {
        "colab": {
          "base_uri": "https://localhost:8080/"
        },
        "id": "Ahd56VpMfVKd",
        "outputId": "98e15939-29f2-45ba-d55c-5c96b1b95499"
      },
      "outputs": [
        {
          "data": {
            "text/plain": [
              "{'input_ids': [[2, 2208, 30378, 2137, 26, 968, 4173, 30472, 30465, 3], [2, 2105, 12302, 664, 30468, 731, 30357, 740, 8992, 664, 6049, 1703, 30468, 816, 7148, 30010, 14073, 30378, 10640, 30468, 26120, 4838, 5, 30468, 10427, 30468, 741, 49, 9760, 21494, 106, 43, 2304, 1400, 30470, 30470, 18275, 578, 1773, 30355, 8099, 3478, 7249, 30470, 30470, 3], [2, 1299, 1389, 4173, 19176, 4961, 822, 3164, 3], [2, 17989, 30477, 7249, 839, 30457, 560, 661, 17989, 137, 1492, 30468, 2311, 2114, 259, 176, 2326, 30470, 1584, 22558, 121, 30457, 843, 954, 29114, 15542, 30360, 23974, 805, 30470, 13463, 436, 1747, 503, 29709, 30, 30457, 387, 954, 186, 5629, 90, 364, 6740, 15750, 24, 30477, 16362, 3031, 24957, 839, 30470, 6117, 387, 9724, 3], [2, 886, 3036, 741, 794, 77, 16400, 872, 30370, 3]], 'token_type_ids': [[0, 0, 0, 0, 0, 0, 0, 0, 0, 0], [0, 0, 0, 0, 0, 0, 0, 0, 0, 0, 0, 0, 0, 0, 0, 0, 0, 0, 0, 0, 0, 0, 0, 0, 0, 0, 0, 0, 0, 0, 0, 0, 0, 0, 0, 0, 0, 0, 0, 0, 0, 0, 0, 0, 0, 0], [0, 0, 0, 0, 0, 0, 0, 0, 0], [0, 0, 0, 0, 0, 0, 0, 0, 0, 0, 0, 0, 0, 0, 0, 0, 0, 0, 0, 0, 0, 0, 0, 0, 0, 0, 0, 0, 0, 0, 0, 0, 0, 0, 0, 0, 0, 0, 0, 0, 0, 0, 0, 0, 0, 0, 0, 0, 0, 0, 0, 0, 0, 0, 0, 0], [0, 0, 0, 0, 0, 0, 0, 0, 0, 0]], 'attention_mask': [[1, 1, 1, 1, 1, 1, 1, 1, 1, 1], [1, 1, 1, 1, 1, 1, 1, 1, 1, 1, 1, 1, 1, 1, 1, 1, 1, 1, 1, 1, 1, 1, 1, 1, 1, 1, 1, 1, 1, 1, 1, 1, 1, 1, 1, 1, 1, 1, 1, 1, 1, 1, 1, 1, 1, 1], [1, 1, 1, 1, 1, 1, 1, 1, 1], [1, 1, 1, 1, 1, 1, 1, 1, 1, 1, 1, 1, 1, 1, 1, 1, 1, 1, 1, 1, 1, 1, 1, 1, 1, 1, 1, 1, 1, 1, 1, 1, 1, 1, 1, 1, 1, 1, 1, 1, 1, 1, 1, 1, 1, 1, 1, 1, 1, 1, 1, 1, 1, 1, 1, 1], [1, 1, 1, 1, 1, 1, 1, 1, 1, 1]]}"
            ]
          },
          "execution_count": 12,
          "metadata": {},
          "output_type": "execute_result"
        }
      ],
      "source": [
        "tokenizer(df.tweet.values[:5].tolist())"
      ]
    },
    {
      "cell_type": "code",
      "execution_count": 13,
      "metadata": {
        "colab": {
          "base_uri": "https://localhost:8080/"
        },
        "id": "KvEjDiuyecX2",
        "outputId": "e05899ae-9fc0-41aa-8477-813df0e5332b"
      },
      "outputs": [
        {
          "name": "stderr",
          "output_type": "stream",
          "text": [
            "  0%|          | 0/443 [00:00<?, ?it/s]Asking to truncate to max_length but no maximum length is provided and the model has no predefined maximum length. Default to no truncation.\n",
            "100%|██████████| 443/443 [00:26<00:00, 16.92it/s]\n"
          ]
        }
      ],
      "source": [
        "X_hf = hf_automodel_vectorizer(df.tweet.values.tolist(),model,tokenizer,torch.device('cuda:0'))"
      ]
    },
    {
      "cell_type": "code",
      "execution_count": 14,
      "metadata": {
        "colab": {
          "base_uri": "https://localhost:8080/"
        },
        "id": "qfpqAZvgb2ho",
        "outputId": "78d26552-e6e1-4220-a02f-8474285cf942"
      },
      "outputs": [
        {
          "data": {
            "text/plain": [
              "array(['Anger', 'Fear', 'Joy', 'Love', 'Neutral', 'Sad'], dtype=object)"
            ]
          },
          "execution_count": 14,
          "metadata": {},
          "output_type": "execute_result"
        }
      ],
      "source": [
        "df.label.unique()"
      ]
    },
    {
      "cell_type": "code",
      "execution_count": 15,
      "metadata": {
        "id": "jcO2aTgEc4QS"
      },
      "outputs": [],
      "source": [
        "from sklearn.preprocessing import LabelEncoder"
      ]
    },
    {
      "cell_type": "code",
      "execution_count": 16,
      "metadata": {
        "id": "W8k1X5D3dDzK"
      },
      "outputs": [],
      "source": [
        "le = LabelEncoder().fit(df.label)"
      ]
    },
    {
      "cell_type": "code",
      "execution_count": 17,
      "metadata": {
        "id": "JCtXtnwJdHFa"
      },
      "outputs": [],
      "source": [
        "y = le.transform(df.label)"
      ]
    },
    {
      "cell_type": "code",
      "execution_count": 18,
      "metadata": {
        "id": "rJGgDqfphSaU"
      },
      "outputs": [],
      "source": [
        "n_clusters = len(df.label.unique())"
      ]
    },
    {
      "cell_type": "code",
      "execution_count": 19,
      "metadata": {
        "colab": {
          "base_uri": "https://localhost:8080/"
        },
        "id": "9zlNxv5VhWDj",
        "outputId": "3c369adb-2668-491c-d608-18a08b3d02f8"
      },
      "outputs": [
        {
          "data": {
            "text/plain": [
              "6"
            ]
          },
          "execution_count": 19,
          "metadata": {},
          "output_type": "execute_result"
        }
      ],
      "source": [
        "n_clusters"
      ]
    },
    {
      "cell_type": "code",
      "execution_count": 20,
      "metadata": {
        "id": "jn7pQIOzdOjB"
      },
      "outputs": [],
      "source": [
        "from sklearn.cluster import AgglomerativeClustering\n",
        "from sklearn_extra.cluster import KMedoids\n",
        "\n",
        "def kmedoids(vectors,n_clusters,**kwargs):\n",
        "    kmedoids = KMedoids(n_clusters=n_clusters,metric=\"cosine\",**kwargs)\n",
        "    clusters = kmedoids.fit_predict(vectors)\n",
        "    return clusters,kmedoids\n",
        "\n",
        "def agglo_cluster(vectors,n_clusters,**kwargs):\n",
        "    agglo = AgglomerativeClustering(n_clusters=n_clusters,linkage=\"average\",affinity=\"cosine\")\n",
        "    clusters = agglo.fit_predict(vectors)\n",
        "    return clusters,agglo"
      ]
    },
    {
      "cell_type": "markdown",
      "metadata": {
        "id": "h-Q539u9hH1O"
      },
      "source": [
        "## Count"
      ]
    },
    {
      "cell_type": "code",
      "execution_count": 21,
      "metadata": {
        "id": "OCTtybajdprq"
      },
      "outputs": [],
      "source": [
        "cluster_kmedoid_cnt, kmedoid_cnt = kmedoids(X_cnt,n_clusters)"
      ]
    },
    {
      "cell_type": "code",
      "execution_count": 22,
      "metadata": {
        "id": "Qwe0D5iZhtov"
      },
      "outputs": [],
      "source": [
        "cluster_agglo_cnt, agglo_cnt = agglo_cluster(X_cnt.toarray(),n_clusters)"
      ]
    },
    {
      "cell_type": "markdown",
      "metadata": {
        "id": "ib4Mn8cuhnwR"
      },
      "source": [
        "## Tfidf"
      ]
    },
    {
      "cell_type": "code",
      "execution_count": 23,
      "metadata": {
        "id": "t5N8-iAQhZfY"
      },
      "outputs": [],
      "source": [
        "cluster_kmedoid_tfidf, kmedoid_tfidf = kmedoids(X_tfidf,n_clusters)"
      ]
    },
    {
      "cell_type": "code",
      "execution_count": 24,
      "metadata": {
        "id": "ZfWblQ1vjyeu"
      },
      "outputs": [],
      "source": [
        "cluster_agglo_tfidf, agglo_tfidf = agglo_cluster(X_tfidf.toarray(),n_clusters)"
      ]
    },
    {
      "cell_type": "markdown",
      "metadata": {
        "id": "g0yIYnVHjqUI"
      },
      "source": [
        "## HF"
      ]
    },
    {
      "cell_type": "code",
      "execution_count": 25,
      "metadata": {
        "id": "q3K-uwMehrkX"
      },
      "outputs": [],
      "source": [
        "cluster_kmedoid_hf, kmedoid_hf = kmedoids(X_hf,n_clusters)"
      ]
    },
    {
      "cell_type": "code",
      "execution_count": 26,
      "metadata": {
        "id": "8yONxflUjuR3"
      },
      "outputs": [],
      "source": [
        "cluster_agglo_hf, agglo_hf = agglo_cluster(X_hf,n_clusters)"
      ]
    },
    {
      "cell_type": "markdown",
      "metadata": {
        "id": "cLNUnVAxj728"
      },
      "source": [
        "## Evaluation"
      ]
    },
    {
      "cell_type": "code",
      "execution_count": 27,
      "metadata": {
        "id": "lmgVaM7_ksaV"
      },
      "outputs": [],
      "source": [
        "from sklearn.metrics import confusion_matrix, classification_report\n",
        "import pandas as pd"
      ]
    },
    {
      "cell_type": "code",
      "execution_count": 28,
      "metadata": {
        "colab": {
          "base_uri": "https://localhost:8080/"
        },
        "id": "c8ZznuD4kSWg",
        "outputId": "526c8660-01a2-4a42-be88-b6cf8c430d5c"
      },
      "outputs": [
        {
          "data": {
            "text/plain": [
              "array(['Anger', 'Fear', 'Joy', 'Love', 'Neutral', 'Sad'], dtype=object)"
            ]
          },
          "execution_count": 28,
          "metadata": {},
          "output_type": "execute_result"
        }
      ],
      "source": [
        "le.classes_"
      ]
    },
    {
      "cell_type": "code",
      "execution_count": 29,
      "metadata": {
        "id": "nv44kW9llqMg"
      },
      "outputs": [],
      "source": [
        "import numpy as np"
      ]
    },
    {
      "cell_type": "code",
      "execution_count": 30,
      "metadata": {
        "id": "kyxz0_Uhn8tD"
      },
      "outputs": [],
      "source": [
        "def remap_label(y_true,y_pred):\n",
        "  assert len(y_true) == len(y_pred)\n",
        "  unique1 = np.unique(y_pred)\n",
        "  unique2 = np.unique(y_true)\n",
        "  assert len(unique1) == len(unique2)\n",
        "  mapping = {}\n",
        "  for u1 in unique1:\n",
        "    labels, counts = np.unique(y_true[y_pred == u1],return_counts=True)\n",
        "    max_count = -1\n",
        "    chosen_label = -1\n",
        "    for i in range(len(labels)):\n",
        "      if counts[i] > max_count and i not in mapping.values():\n",
        "        max_count = counts[i]\n",
        "        chosen_label = i\n",
        "    mapping[u1] = chosen_label\n",
        "  return mapping"
      ]
    },
    {
      "cell_type": "code",
      "execution_count": 31,
      "metadata": {
        "id": "arTUoZ7izKt2"
      },
      "outputs": [],
      "source": [
        "map_kmedoid_cnt = remap_label(y,cluster_kmedoid_cnt)\n",
        "map_kmedoid_tfidf = remap_label(y,cluster_kmedoid_tfidf)\n",
        "map_kmedoid_hf = remap_label(y,cluster_kmedoid_hf)"
      ]
    },
    {
      "cell_type": "code",
      "execution_count": 32,
      "metadata": {
        "id": "ucj3nBLOzTE_"
      },
      "outputs": [],
      "source": [
        "remapped_kmedoid_cnt = cluster_kmedoid_cnt.copy()\n",
        "for i in range(len(remapped_kmedoid_cnt)):\n",
        "  remapped_kmedoid_cnt[i] = map_kmedoid_cnt[remapped_kmedoid_cnt[i]]\n",
        "\n",
        "remapped_kmedoid_tfidf = cluster_kmedoid_tfidf.copy()\n",
        "for i in range(len(remapped_kmedoid_tfidf)):\n",
        "  remapped_kmedoid_tfidf[i] = map_kmedoid_tfidf[remapped_kmedoid_tfidf[i]]\n",
        "\n",
        "remapped_kmedoid_hf = cluster_kmedoid_hf.copy()\n",
        "for i in range(len(remapped_kmedoid_hf)):\n",
        "  remapped_kmedoid_hf[i] = map_kmedoid_hf[remapped_kmedoid_hf[i]]"
      ]
    },
    {
      "cell_type": "code",
      "execution_count": 33,
      "metadata": {
        "id": "0lpJ714L2_6E"
      },
      "outputs": [],
      "source": [
        "map_agglo_cnt = remap_label(y,cluster_agglo_cnt)\n",
        "map_agglo_tfidf = remap_label(y,cluster_agglo_tfidf)\n",
        "map_agglo_hf = remap_label(y,cluster_agglo_hf)"
      ]
    },
    {
      "cell_type": "code",
      "execution_count": 34,
      "metadata": {
        "id": "cxPvoN7q3GMC"
      },
      "outputs": [],
      "source": [
        "remapped_agglo_cnt = cluster_agglo_cnt.copy()\n",
        "for i in range(len(remapped_agglo_cnt)):\n",
        "  remapped_agglo_cnt[i] = map_agglo_cnt[remapped_agglo_cnt[i]]\n",
        "\n",
        "remapped_agglo_tfidf = cluster_agglo_tfidf.copy()\n",
        "for i in range(len(remapped_agglo_tfidf)):\n",
        "  remapped_agglo_tfidf[i] = map_agglo_tfidf[remapped_agglo_tfidf[i]]\n",
        "\n",
        "remapped_agglo_hf = cluster_agglo_hf.copy()\n",
        "for i in range(len(remapped_agglo_hf)):\n",
        "  remapped_agglo_hf[i] = map_agglo_hf[remapped_agglo_hf[i]]"
      ]
    },
    {
      "cell_type": "markdown",
      "metadata": {
        "id": "td0yvI24zwxF"
      },
      "source": [
        "### K Medoid Count"
      ]
    },
    {
      "cell_type": "code",
      "execution_count": 35,
      "metadata": {
        "id": "_iv4-6pLz7pK"
      },
      "outputs": [],
      "source": [
        "import seaborn as sns"
      ]
    },
    {
      "cell_type": "code",
      "execution_count": 36,
      "metadata": {
        "colab": {
          "base_uri": "https://localhost:8080/",
          "height": 282
        },
        "id": "BMIK9HKhztTT",
        "outputId": "95fe1b6b-cce2-4145-a322-3380019a4fbb"
      },
      "outputs": [
        {
          "data": {
            "text/plain": [
              "<matplotlib.axes._subplots.AxesSubplot at 0x7fa8f645add0>"
            ]
          },
          "execution_count": 36,
          "metadata": {},
          "output_type": "execute_result"
        },
        {
          "data": {
            "image/png": "[encoded data removed]",
            "text/plain": [
              "<Figure size 432x288 with 2 Axes>"
            ]
          },
          "metadata": {
            "needs_background": "light"
          },
          "output_type": "display_data"
        }
      ],
      "source": [
        "sns.heatmap(confusion_matrix(y,remapped_kmedoid_cnt))"
      ]
    },
    {
      "cell_type": "code",
      "execution_count": 37,
      "metadata": {
        "colab": {
          "base_uri": "https://localhost:8080/"
        },
        "id": "76AW65LZ0Ppm",
        "outputId": "6a495e87-06cb-45c6-d25d-ea651934757c"
      },
      "outputs": [
        {
          "name": "stdout",
          "output_type": "stream",
          "text": [
            "              precision    recall  f1-score   support\n",
            "\n",
            "           0       0.19      0.15      0.17      1130\n",
            "           1       0.14      0.21      0.17       911\n",
            "           2       0.17      0.11      0.13      1275\n",
            "           3       0.21      0.20      0.20       760\n",
            "           4       0.33      0.44      0.38      2001\n",
            "           5       0.76      0.54      0.63      1003\n",
            "\n",
            "    accuracy                           0.29      7080\n",
            "   macro avg       0.30      0.27      0.28      7080\n",
            "weighted avg       0.30      0.29      0.29      7080\n",
            "\n"
          ]
        }
      ],
      "source": [
        "print(classification_report(y,remapped_kmedoid_cnt))"
      ]
    },
    {
      "cell_type": "markdown",
      "metadata": {
        "id": "Fp8jqWLN0OxO"
      },
      "source": [
        "### K Medoid Tfidf"
      ]
    },
    {
      "cell_type": "code",
      "execution_count": 38,
      "metadata": {
        "colab": {
          "base_uri": "https://localhost:8080/",
          "height": 282
        },
        "id": "_elBUZO7z2Fb",
        "outputId": "1353691e-4158-4803-ede0-eb321ac87b44"
      },
      "outputs": [
        {
          "data": {
            "text/plain": [
              "<matplotlib.axes._subplots.AxesSubplot at 0x7fa8f61e3d10>"
            ]
          },
          "execution_count": 38,
          "metadata": {},
          "output_type": "execute_result"
        },
        {
          "data": {
            "image/png": "[encoded data removed]",
            "text/plain": [
              "<Figure size 432x288 with 2 Axes>"
            ]
          },
          "metadata": {
            "needs_background": "light"
          },
          "output_type": "display_data"
        }
      ],
      "source": [
        "sns.heatmap(confusion_matrix(y,remapped_kmedoid_tfidf))"
      ]
    },
    {
      "cell_type": "code",
      "execution_count": 39,
      "metadata": {
        "colab": {
          "base_uri": "https://localhost:8080/"
        },
        "id": "ts0usOEQ0aAK",
        "outputId": "644e4c5f-7810-44f9-93be-d18a5a415733"
      },
      "outputs": [
        {
          "name": "stdout",
          "output_type": "stream",
          "text": [
            "              precision    recall  f1-score   support\n",
            "\n",
            "           0       0.30      0.21      0.25      1130\n",
            "           1       0.13      0.13      0.13       911\n",
            "           2       0.58      0.41      0.48      1275\n",
            "           3       0.42      0.61      0.50       760\n",
            "           4       0.31      0.33      0.32      2001\n",
            "           5       0.12      0.14      0.13      1003\n",
            "\n",
            "    accuracy                           0.30      7080\n",
            "   macro avg       0.31      0.31      0.30      7080\n",
            "weighted avg       0.32      0.30      0.31      7080\n",
            "\n"
          ]
        }
      ],
      "source": [
        "print(classification_report(y,remapped_kmedoid_tfidf))"
      ]
    },
    {
      "cell_type": "markdown",
      "metadata": {
        "id": "Kd9ylyzw0h1r"
      },
      "source": [
        "### K Medoid HF"
      ]
    },
    {
      "cell_type": "code",
      "execution_count": 40,
      "metadata": {
        "colab": {
          "base_uri": "https://localhost:8080/",
          "height": 282
        },
        "id": "JOQRbL1o0cQ5",
        "outputId": "40832999-e216-4a8b-ca78-816a59784fcf"
      },
      "outputs": [
        {
          "data": {
            "text/plain": [
              "<matplotlib.axes._subplots.AxesSubplot at 0x7fa8f5d48750>"
            ]
          },
          "execution_count": 40,
          "metadata": {},
          "output_type": "execute_result"
        },
        {
          "data": {
            "image/png": "[encoded data removed]",
            "text/plain": [
              "<Figure size 432x288 with 2 Axes>"
            ]
          },
          "metadata": {
            "needs_background": "light"
          },
          "output_type": "display_data"
        }
      ],
      "source": [
        "sns.heatmap(confusion_matrix(y,remapped_kmedoid_hf))"
      ]
    },
    {
      "cell_type": "code",
      "execution_count": 41,
      "metadata": {
        "colab": {
          "base_uri": "https://localhost:8080/"
        },
        "id": "OY4v2GqX0k6S",
        "outputId": "fa59f15b-043f-45d4-c1a6-9398cc8a9474"
      },
      "outputs": [
        {
          "name": "stdout",
          "output_type": "stream",
          "text": [
            "              precision    recall  f1-score   support\n",
            "\n",
            "           0       0.21      0.22      0.22      1130\n",
            "           1       0.15      0.23      0.18       911\n",
            "           2       0.64      0.43      0.52      1275\n",
            "           3       0.17      0.44      0.24       760\n",
            "           4       0.35      0.17      0.22      2001\n",
            "           5       0.29      0.21      0.25      1003\n",
            "\n",
            "    accuracy                           0.27      7080\n",
            "   macro avg       0.30      0.28      0.27      7080\n",
            "weighted avg       0.33      0.27      0.28      7080\n",
            "\n"
          ]
        }
      ],
      "source": [
        "print(classification_report(y,remapped_kmedoid_hf))"
      ]
    },
    {
      "cell_type": "markdown",
      "metadata": {
        "id": "0uWkhHji3W9P"
      },
      "source": [
        "### Agglo Count"
      ]
    },
    {
      "cell_type": "code",
      "execution_count": 42,
      "metadata": {
        "colab": {
          "base_uri": "https://localhost:8080/",
          "height": 282
        },
        "id": "CIOlZ8T50xHi",
        "outputId": "1336e96a-8db3-4c5a-e091-9e002a611b69"
      },
      "outputs": [
        {
          "data": {
            "text/plain": [
              "<matplotlib.axes._subplots.AxesSubplot at 0x7fa8f5c36e50>"
            ]
          },
          "execution_count": 42,
          "metadata": {},
          "output_type": "execute_result"
        },
        {
          "data": {
            "image/png": "[encoded data removed]",
            "text/plain": [
              "<Figure size 432x288 with 2 Axes>"
            ]
          },
          "metadata": {
            "needs_background": "light"
          },
          "output_type": "display_data"
        }
      ],
      "source": [
        "sns.heatmap(confusion_matrix(y,cluster_agglo_cnt))"
      ]
    },
    {
      "cell_type": "markdown",
      "metadata": {
        "id": "lPIDsJoN4BI_"
      },
      "source": [
        "### Agglo Tfidf"
      ]
    },
    {
      "cell_type": "code",
      "execution_count": 43,
      "metadata": {
        "colab": {
          "base_uri": "https://localhost:8080/",
          "height": 282
        },
        "id": "ZXkE-Asm4AdP",
        "outputId": "b22d2735-9d2f-43ea-8de1-43ac21e1eb23"
      },
      "outputs": [
        {
          "data": {
            "text/plain": [
              "<matplotlib.axes._subplots.AxesSubplot at 0x7fa8f5b6c710>"
            ]
          },
          "execution_count": 43,
          "metadata": {},
          "output_type": "execute_result"
        },
        {
          "data": {
            "image/png": "[encoded data removed]",
            "text/plain": [
              "<Figure size 432x288 with 2 Axes>"
            ]
          },
          "metadata": {
            "needs_background": "light"
          },
          "output_type": "display_data"
        }
      ],
      "source": [
        "sns.heatmap(confusion_matrix(y,cluster_agglo_tfidf))"
      ]
    },
    {
      "cell_type": "markdown",
      "metadata": {
        "id": "6hd4ywQA4Fdu"
      },
      "source": [
        "### Agglo HF"
      ]
    },
    {
      "cell_type": "code",
      "execution_count": 44,
      "metadata": {
        "colab": {
          "base_uri": "https://localhost:8080/",
          "height": 282
        },
        "id": "CXqfIf5w3irJ",
        "outputId": "6f65b933-87d2-4613-ec25-40274c31a736"
      },
      "outputs": [
        {
          "data": {
            "text/plain": [
              "<matplotlib.axes._subplots.AxesSubplot at 0x7fa8f5b12110>"
            ]
          },
          "execution_count": 44,
          "metadata": {},
          "output_type": "execute_result"
        },
        {
          "data": {
            "image/png": "[encoded data removed]",
            "text/plain": [
              "<Figure size 432x288 with 2 Axes>"
            ]
          },
          "metadata": {
            "needs_background": "light"
          },
          "output_type": "display_data"
        }
      ],
      "source": [
        "sns.heatmap(confusion_matrix(y,cluster_agglo_hf))"
      ]
    },
    {
      "cell_type": "markdown",
      "metadata": {
        "id": "dUx2jEo44_jU"
      },
      "source": [
        "# Text Clustering 2 Labels"
      ]
    },
    {
      "cell_type": "code",
      "execution_count": 45,
      "metadata": {
        "colab": {
          "base_uri": "https://localhost:8080/",
          "height": 428,
          "referenced_widgets": [
            "8044851fa5b145078a5c01b8404edd00",
            "157319f02a444ccd8c7f95c58bd32092",
            "f126fc42415f4c5591879aba5f475a34",
            "1b8ca76f7f99489691d6d51c75cbd21d",
            "1d49e199b45640f8bfa6c46af9d1e4ef",
            "1ce0d85b3d2048699a64b046c3bce803",
            "a185810485a54b66be9925668c363749",
            "8fb1c6657b5e4005a4b6bbf5b21cda58",
            "28556c22750744aba54fbd537770fa39",
            "a8ff8023ef0046f1a43e83804415add0",
            "9317e28771a84a44845f878b2c1360c7",
            "ba4cbd2d63a94b17b5526846b5fb341b",
            "a12a2ad3153d4a51b66081580b023a03",
            "88ae469bf11e4690bf444d6e74ec0c0c",
            "23e9c709192d4e73af8f6b03db91a76f",
            "02646dd5ee754376b6f89eefa5a33519",
            "06ee5f2b9d6f49fc824e25abbe32fe79",
            "edf7e96b001c49b5916b7cccebc59007",
            "cc1093350cf141299ff6a6655be081f2",
            "28963ad21e6d4c54beff5d89b5d19df6",
            "24234023cb8c4a11ba7f122038991f4d",
            "f0b24b76a73143f796c1328a65c5d541",
            "47aa3f2e32ca410bb1e64303cd8e177e",
            "2bd8efc85cf741e79c85ffbaa34bffab",
            "aa925a383bf14cc9a1bf367bb700b035",
            "22b91dd405b0494b986f4f6180af07f5",
            "b3aed11dfa444bfda90f76a5c4d4b0be",
            "020352d294ff48c79985afa1b9e2714c",
            "ee568b7f7415499788af8d30f831538c",
            "bda14f7730104124ade8b721633c374f",
            "a5dcd295ea674222b66fb128069bc041",
            "4d9101f0666b43f08606fe4c03e164fc",
            "7a8753ee83a8426d9f1fec428c199915",
            "2e2587260e1341b59cced95ff4414190",
            "a473344024784b118a18fc137417904d",
            "56051995328f409d946cbf7c3ce109ce",
            "04292b68ae5040339f58a25ccb575451",
            "45014c5f913e4d0a9fda98aa421cddba",
            "2b4d74da9757483098768c7a9c050787",
            "7c9df9dab181425b99639110a01ac82d",
            "e85a4d82d46d4febba82d9a75153fe92",
            "a38f9cffbf4c49b5937941692b3df037",
            "70b4a607c95c48de9a6c86a97a21ada9",
            "65dbb4b97e864de4aeacdc51d0471da2"
          ]
        },
        "id": "NXUR_0yz4HuB",
        "outputId": "a8fe9ebd-de60-4c16-c926-0c089eccd306"
      },
      "outputs": [
        {
          "name": "stderr",
          "output_type": "stream",
          "text": [
            "WARNING:datasets.builder:No config specified, defaulting to: id_hsd_nofaaulia/id_hsd_nofaaulia_source\n"
          ]
        },
        {
          "name": "stdout",
          "output_type": "stream",
          "text": [
            "Downloading and preparing dataset id_hsd_nofaaulia/id_hsd_nofaaulia_source to /root/.cache/huggingface/datasets/id_hsd_nofaaulia/id_hsd_nofaaulia_source/1.0.0/f4f0da66231b2dff4a39c7c40d73634a9773cc4075095988ec818827f03cdafc...\n"
          ]
        },
        {
          "data": {
            "application/vnd.jupyter.widget-view+json": {
              "model_id": "8044851fa5b145078a5c01b8404edd00",
              "version_major": 2,
              "version_minor": 0
            },
            "text/plain": [
              "Downloading data:   0%|          | 0.00/634k [00:00<?, ?B/s]"
            ]
          },
          "metadata": {},
          "output_type": "display_data"
        },
        {
          "data": {
            "application/vnd.jupyter.widget-view+json": {
              "model_id": "ba4cbd2d63a94b17b5526846b5fb341b",
              "version_major": 2,
              "version_minor": 0
            },
            "text/plain": [
              "Generating train split: 0 examples [00:00, ? examples/s]"
            ]
          },
          "metadata": {},
          "output_type": "display_data"
        },
        {
          "data": {
            "application/vnd.jupyter.widget-view+json": {
              "model_id": "47aa3f2e32ca410bb1e64303cd8e177e",
              "version_major": 2,
              "version_minor": 0
            },
            "text/plain": [
              "Generating test split: 0 examples [00:00, ? examples/s]"
            ]
          },
          "metadata": {},
          "output_type": "display_data"
        },
        {
          "name": "stdout",
          "output_type": "stream",
          "text": [
            "Dataset id_hsd_nofaaulia downloaded and prepared to /root/.cache/huggingface/datasets/id_hsd_nofaaulia/id_hsd_nofaaulia_source/1.0.0/f4f0da66231b2dff4a39c7c40d73634a9773cc4075095988ec818827f03cdafc. Subsequent calls will reuse this data.\n"
          ]
        },
        {
          "data": {
            "application/vnd.jupyter.widget-view+json": {
              "model_id": "2e2587260e1341b59cced95ff4414190",
              "version_major": 2,
              "version_minor": 0
            },
            "text/plain": [
              "  0%|          | 0/2 [00:00<?, ?it/s]"
            ]
          },
          "metadata": {},
          "output_type": "display_data"
        },
        {
          "name": "stdout",
          "output_type": "stream",
          "text": [
            "    index                                               text label\n",
            "0       0  7 JAM PEMERIKSAAN 2 JAM FOTO2. Luar biasa aura...     0\n",
            "1       1  Terbitkan Perpres No 20 Tahun 2018, Presiden D...     0\n",
            "2       2  MURADI: TIM SELEKSI KPU JABAR YANG JUGA STAF A...     0\n",
            "3       3  Kaos Kampanye PilGub / PilBup / PiLeg / PilPre...     0\n",
            "4       4  TIMSES JOKOWI MA'RUF AMIN MENGAKUI JOKOWI MARU...     0\n",
            "..    ...                                                ...   ...\n",
            "810   810  #HENTIKAN #2019GANTIPRESIDEN DAN HENTIKAN TUDI...     0\n",
            "811   811  Orang ini memang tidak segagah Prabowo. Badann...     0\n",
            "812   812  Hai Cebong laknat...kalian kira...kami mengiri...     1\n",
            "813   813  LEMBAGA SURVEI YANG PREDIKSI TEPAT ANIES SANDI...     0\n",
            "814   814  BLACK CAMPAIGN SASAR SANDIAGA UNO By: Agung So...     1\n",
            "\n",
            "[815 rows x 3 columns]\n"
          ]
        }
      ],
      "source": [
        "path = \"nusa-crowd/nusacrowd/nusa_datasets/id_hsd_nofaaulia\"\n",
        "dataset = load_dataset(path)\n",
        "\n",
        "# see dataset sample:\n",
        "print(dataset['train'].to_pandas())"
      ]
    },
    {
      "cell_type": "code",
      "execution_count": 46,
      "metadata": {
        "id": "PXOYWZQU5fOR"
      },
      "outputs": [],
      "source": [
        "df = pd.concat([dataset['train'].to_pandas(),dataset['test'].to_pandas()])"
      ]
    },
    {
      "cell_type": "code",
      "execution_count": 47,
      "metadata": {
        "colab": {
          "base_uri": "https://localhost:8080/"
        },
        "id": "RN-wNS2y5x2Q",
        "outputId": "9430f803-07cd-45c9-d52a-e33ad52e0c24"
      },
      "outputs": [
        {
          "data": {
            "text/plain": [
              "array(['0', '1'], dtype=object)"
            ]
          },
          "execution_count": 47,
          "metadata": {},
          "output_type": "execute_result"
        }
      ],
      "source": [
        "df.label.unique()"
      ]
    },
    {
      "cell_type": "code",
      "execution_count": 48,
      "metadata": {
        "id": "Klj4N4Aa5qDg"
      },
      "outputs": [],
      "source": [
        "X_cnt, cnt_v = count_vectorize(df.text)\n",
        "X_tfidf, tfidf_v = tfidf_vectorize(df.text)"
      ]
    },
    {
      "cell_type": "code",
      "execution_count": 52,
      "metadata": {
        "colab": {
          "base_uri": "https://localhost:8080/"
        },
        "id": "4hAPvJqzgS0W",
        "outputId": "a67ab746-0163-48db-a890-68db0cc4a4f1"
      },
      "outputs": [
        {
          "data": {
            "text/plain": [
              "906"
            ]
          },
          "execution_count": 52,
          "metadata": {},
          "output_type": "execute_result"
        }
      ],
      "source": [
        "len(df.text.values.tolist())"
      ]
    },
    {
      "cell_type": "code",
      "execution_count": 55,
      "metadata": {
        "colab": {
          "base_uri": "https://localhost:8080/"
        },
        "id": "kbrJd8XA59IX",
        "outputId": "faa0de7f-fbce-4906-a585-866528549c9c"
      },
      "outputs": [
        {
          "name": "stderr",
          "output_type": "stream",
          "text": [
            "100%|██████████| 57/57 [00:29<00:00,  1.92it/s]\n"
          ]
        }
      ],
      "source": [
        "X_hf = hf_automodel_vectorizer(df.text.values.tolist(),model,tokenizer,torch.device('cuda:0'))"
      ]
    },
    {
      "cell_type": "code",
      "execution_count": 56,
      "metadata": {
        "id": "xVyk39fj6CgA"
      },
      "outputs": [],
      "source": [
        "le = LabelEncoder().fit(df.label)"
      ]
    },
    {
      "cell_type": "code",
      "execution_count": 57,
      "metadata": {
        "id": "N96mIh8m6Hto"
      },
      "outputs": [],
      "source": [
        "y = le.transform(df.label)"
      ]
    },
    {
      "cell_type": "code",
      "execution_count": 58,
      "metadata": {
        "id": "qiuRigVc6Mbp"
      },
      "outputs": [],
      "source": [
        "n_clusters = len(df.label.unique())"
      ]
    },
    {
      "cell_type": "code",
      "execution_count": 59,
      "metadata": {
        "colab": {
          "base_uri": "https://localhost:8080/"
        },
        "id": "J1raHVGu6PlI",
        "outputId": "4cd5ce7e-8b9f-4703-eb07-520e2a68ff3c"
      },
      "outputs": [
        {
          "data": {
            "text/plain": [
              "2"
            ]
          },
          "execution_count": 59,
          "metadata": {},
          "output_type": "execute_result"
        }
      ],
      "source": [
        "n_clusters"
      ]
    },
    {
      "cell_type": "markdown",
      "metadata": {
        "id": "Ycdne34C6VIj"
      },
      "source": [
        "## Count"
      ]
    },
    {
      "cell_type": "code",
      "execution_count": 60,
      "metadata": {
        "id": "qKbCK2Ii6SQ4"
      },
      "outputs": [],
      "source": [
        "cluster_kmedoid_cnt, kmedoid_cnt = kmedoids(X_cnt,n_clusters)"
      ]
    },
    {
      "cell_type": "code",
      "execution_count": 61,
      "metadata": {
        "id": "_O-6x_6q6WzS"
      },
      "outputs": [],
      "source": [
        "cluster_agglo_cnt, agglo_cnt = agglo_cluster(X_cnt.toarray(),n_clusters)"
      ]
    },
    {
      "cell_type": "markdown",
      "metadata": {
        "id": "YmeaakFQ6bNq"
      },
      "source": [
        "## Tfidf"
      ]
    },
    {
      "cell_type": "code",
      "execution_count": 62,
      "metadata": {
        "id": "QNlJYGn96bx_"
      },
      "outputs": [],
      "source": [
        "cluster_kmedoid_tfidf, kmedoid_tfidf = kmedoids(X_tfidf,n_clusters)"
      ]
    },
    {
      "cell_type": "code",
      "execution_count": 63,
      "metadata": {
        "id": "zsXAf03p6d5w"
      },
      "outputs": [],
      "source": [
        "cluster_agglo_tfidf, agglo_tfidf = agglo_cluster(X_tfidf.toarray(),n_clusters)"
      ]
    },
    {
      "cell_type": "markdown",
      "metadata": {
        "id": "zDvTOcZk6o9e"
      },
      "source": [
        "## HF"
      ]
    },
    {
      "cell_type": "code",
      "execution_count": 64,
      "metadata": {
        "id": "A1hsCc696g7g"
      },
      "outputs": [],
      "source": [
        "cluster_kmedoid_hf, kmedoid_hf = kmedoids(X_hf,n_clusters)"
      ]
    },
    {
      "cell_type": "code",
      "execution_count": 65,
      "metadata": {
        "id": "GmxNpW7-6smg"
      },
      "outputs": [],
      "source": [
        "cluster_agglo_hf, agglo_hf = agglo_cluster(X_hf,n_clusters)"
      ]
    },
    {
      "cell_type": "markdown",
      "metadata": {
        "id": "bx_8k23_6yZV"
      },
      "source": [
        "## Evaluation"
      ]
    },
    {
      "cell_type": "code",
      "execution_count": 66,
      "metadata": {
        "colab": {
          "base_uri": "https://localhost:8080/"
        },
        "id": "bYP75QZW6uz3",
        "outputId": "6017f84c-1034-4936-dd53-cba02f2f095c"
      },
      "outputs": [
        {
          "data": {
            "text/plain": [
              "array(['0', '1'], dtype=object)"
            ]
          },
          "execution_count": 66,
          "metadata": {},
          "output_type": "execute_result"
        }
      ],
      "source": [
        "le.classes_"
      ]
    },
    {
      "cell_type": "code",
      "execution_count": 67,
      "metadata": {
        "id": "WUqXnTC66zSI"
      },
      "outputs": [],
      "source": [
        "map_kmedoid_cnt = remap_label(y,cluster_kmedoid_cnt)\n",
        "map_kmedoid_tfidf = remap_label(y,cluster_kmedoid_tfidf)\n",
        "map_kmedoid_hf = remap_label(y,cluster_kmedoid_hf)"
      ]
    },
    {
      "cell_type": "code",
      "execution_count": 68,
      "metadata": {
        "id": "E1Ie8MZz68cI"
      },
      "outputs": [],
      "source": [
        "remapped_kmedoid_cnt = cluster_kmedoid_cnt.copy()\n",
        "for i in range(len(remapped_kmedoid_cnt)):\n",
        "  remapped_kmedoid_cnt[i] = map_kmedoid_cnt[remapped_kmedoid_cnt[i]]\n",
        "\n",
        "remapped_kmedoid_tfidf = cluster_kmedoid_tfidf.copy()\n",
        "for i in range(len(remapped_kmedoid_tfidf)):\n",
        "  remapped_kmedoid_tfidf[i] = map_kmedoid_tfidf[remapped_kmedoid_tfidf[i]]\n",
        "\n",
        "remapped_kmedoid_hf = cluster_kmedoid_hf.copy()\n",
        "for i in range(len(remapped_kmedoid_hf)):\n",
        "  remapped_kmedoid_hf[i] = map_kmedoid_hf[remapped_kmedoid_hf[i]]"
      ]
    },
    {
      "cell_type": "code",
      "execution_count": 69,
      "metadata": {
        "id": "4vrZtdsM6_53"
      },
      "outputs": [],
      "source": [
        "map_agglo_cnt = remap_label(y,cluster_agglo_cnt)\n",
        "map_agglo_tfidf = remap_label(y,cluster_agglo_tfidf)\n",
        "map_agglo_hf = remap_label(y,cluster_agglo_hf)"
      ]
    },
    {
      "cell_type": "code",
      "execution_count": 70,
      "metadata": {
        "id": "AdF4Owy87FB3"
      },
      "outputs": [],
      "source": [
        "remapped_agglo_cnt = cluster_agglo_cnt.copy()\n",
        "for i in range(len(remapped_agglo_cnt)):\n",
        "  remapped_agglo_cnt[i] = map_agglo_cnt[remapped_agglo_cnt[i]]\n",
        "\n",
        "remapped_agglo_tfidf = cluster_agglo_tfidf.copy()\n",
        "for i in range(len(remapped_agglo_tfidf)):\n",
        "  remapped_agglo_tfidf[i] = map_agglo_tfidf[remapped_agglo_tfidf[i]]\n",
        "\n",
        "remapped_agglo_hf = cluster_agglo_hf.copy()\n",
        "for i in range(len(remapped_agglo_hf)):\n",
        "  remapped_agglo_hf[i] = map_agglo_hf[remapped_agglo_hf[i]]"
      ]
    },
    {
      "cell_type": "markdown",
      "metadata": {
        "id": "ksQPRSy-7Lf5"
      },
      "source": [
        "### K Medoid Count"
      ]
    },
    {
      "cell_type": "code",
      "execution_count": 71,
      "metadata": {
        "colab": {
          "base_uri": "https://localhost:8080/",
          "height": 286
        },
        "id": "4yxy1zS47HkJ",
        "outputId": "74e8debf-f61d-48d4-e922-cae6fe212ac1"
      },
      "outputs": [
        {
          "data": {
            "text/plain": [
              "<matplotlib.axes._subplots.AxesSubplot at 0x7fa8f26087d0>"
            ]
          },
          "execution_count": 71,
          "metadata": {},
          "output_type": "execute_result"
        },
        {
          "data": {
            "image/png": "[encoded data removed]",
            "text/plain": [
              "<Figure size 432x288 with 2 Axes>"
            ]
          },
          "metadata": {
            "needs_background": "light"
          },
          "output_type": "display_data"
        }
      ],
      "source": [
        "sns.heatmap(confusion_matrix(y,remapped_kmedoid_cnt))"
      ]
    },
    {
      "cell_type": "code",
      "execution_count": 72,
      "metadata": {
        "colab": {
          "base_uri": "https://localhost:8080/"
        },
        "id": "2QkGjUlQ7Mw4",
        "outputId": "6964ea6d-4a8b-4c62-899e-b312951334e2"
      },
      "outputs": [
        {
          "name": "stdout",
          "output_type": "stream",
          "text": [
            "              precision    recall  f1-score   support\n",
            "\n",
            "           0       0.74      0.52      0.61       677\n",
            "           1       0.24      0.45      0.32       229\n",
            "\n",
            "    accuracy                           0.50       906\n",
            "   macro avg       0.49      0.49      0.46       906\n",
            "weighted avg       0.61      0.50      0.53       906\n",
            "\n"
          ]
        }
      ],
      "source": [
        "print(classification_report(y,remapped_kmedoid_cnt))"
      ]
    },
    {
      "cell_type": "markdown",
      "metadata": {
        "id": "byCIbMdq7W3X"
      },
      "source": [
        "### K Medoid Tfidf"
      ]
    },
    {
      "cell_type": "code",
      "execution_count": 73,
      "metadata": {
        "colab": {
          "base_uri": "https://localhost:8080/",
          "height": 282
        },
        "id": "Mcv5jTeV7Q8A",
        "outputId": "a8a21d3b-8424-43c9-9e46-c7ea296ebf6a"
      },
      "outputs": [
        {
          "data": {
            "text/plain": [
              "<matplotlib.axes._subplots.AxesSubplot at 0x7fab931db850>"
            ]
          },
          "execution_count": 73,
          "metadata": {},
          "output_type": "execute_result"
        },
        {
          "data": {
            "image/png": "[encoded data removed]",
            "text/plain": [
              "<Figure size 432x288 with 2 Axes>"
            ]
          },
          "metadata": {
            "needs_background": "light"
          },
          "output_type": "display_data"
        }
      ],
      "source": [
        "sns.heatmap(confusion_matrix(y,remapped_kmedoid_tfidf))"
      ]
    },
    {
      "cell_type": "code",
      "execution_count": 74,
      "metadata": {
        "colab": {
          "base_uri": "https://localhost:8080/"
        },
        "id": "88-eCgkg7X-Y",
        "outputId": "dd934844-fc89-4746-ebeb-9b72321e668f"
      },
      "outputs": [
        {
          "name": "stdout",
          "output_type": "stream",
          "text": [
            "              precision    recall  f1-score   support\n",
            "\n",
            "           0       0.75      0.55      0.64       677\n",
            "           1       0.25      0.45      0.32       229\n",
            "\n",
            "    accuracy                           0.53       906\n",
            "   macro avg       0.50      0.50      0.48       906\n",
            "weighted avg       0.62      0.53      0.56       906\n",
            "\n"
          ]
        }
      ],
      "source": [
        "print(classification_report(y,remapped_kmedoid_tfidf))"
      ]
    },
    {
      "cell_type": "markdown",
      "metadata": {
        "id": "WombjyJA7ggO"
      },
      "source": [
        "### K Medoid HF"
      ]
    },
    {
      "cell_type": "code",
      "execution_count": 75,
      "metadata": {
        "colab": {
          "base_uri": "https://localhost:8080/",
          "height": 282
        },
        "id": "DaZrNuv87dH5",
        "outputId": "f51f1382-10ec-4eb3-e3e9-305db63a1dd0"
      },
      "outputs": [
        {
          "data": {
            "text/plain": [
              "<matplotlib.axes._subplots.AxesSubplot at 0x7fab931e6e10>"
            ]
          },
          "execution_count": 75,
          "metadata": {},
          "output_type": "execute_result"
        },
        {
          "data": {
            "image/png": "[encoded data removed]",
            "text/plain": [
              "<Figure size 432x288 with 2 Axes>"
            ]
          },
          "metadata": {
            "needs_background": "light"
          },
          "output_type": "display_data"
        }
      ],
      "source": [
        "sns.heatmap(confusion_matrix(y,remapped_kmedoid_hf))"
      ]
    },
    {
      "cell_type": "code",
      "execution_count": 76,
      "metadata": {
        "colab": {
          "base_uri": "https://localhost:8080/"
        },
        "id": "mrBDV_Ii7iko",
        "outputId": "89542b54-3b3f-4553-bdb4-e46486c6ed9c"
      },
      "outputs": [
        {
          "name": "stdout",
          "output_type": "stream",
          "text": [
            "              precision    recall  f1-score   support\n",
            "\n",
            "           0       0.81      0.62      0.70       677\n",
            "           1       0.33      0.56      0.42       229\n",
            "\n",
            "    accuracy                           0.60       906\n",
            "   macro avg       0.57      0.59      0.56       906\n",
            "weighted avg       0.69      0.60      0.63       906\n",
            "\n"
          ]
        }
      ],
      "source": [
        "print(classification_report(y,remapped_kmedoid_hf))"
      ]
    },
    {
      "cell_type": "markdown",
      "metadata": {
        "id": "-Skn2tSR7ti6"
      },
      "source": [
        "### Agglo Count"
      ]
    },
    {
      "cell_type": "code",
      "execution_count": 77,
      "metadata": {
        "colab": {
          "base_uri": "https://localhost:8080/",
          "height": 282
        },
        "id": "yCVZHjI97m1I",
        "outputId": "81c12d25-594c-4d6a-90f0-1441f6ec5b44"
      },
      "outputs": [
        {
          "data": {
            "text/plain": [
              "<matplotlib.axes._subplots.AxesSubplot at 0x7fab931d2690>"
            ]
          },
          "execution_count": 77,
          "metadata": {},
          "output_type": "execute_result"
        },
        {
          "data": {
            "image/png": "[encoded data removed]",
            "text/plain": [
              "<Figure size 432x288 with 2 Axes>"
            ]
          },
          "metadata": {
            "needs_background": "light"
          },
          "output_type": "display_data"
        }
      ],
      "source": [
        "sns.heatmap(confusion_matrix(y,cluster_agglo_cnt))"
      ]
    },
    {
      "cell_type": "code",
      "execution_count": 78,
      "metadata": {
        "colab": {
          "base_uri": "https://localhost:8080/"
        },
        "id": "QqoXdZS78Dt_",
        "outputId": "08ac466f-0215-41d0-ef79-f4de9d47ad30"
      },
      "outputs": [
        {
          "data": {
            "text/plain": [
              "(array([0, 1]), array([905,   1]))"
            ]
          },
          "execution_count": 78,
          "metadata": {},
          "output_type": "execute_result"
        }
      ],
      "source": [
        "np.unique(cluster_agglo_cnt,return_counts=True)"
      ]
    },
    {
      "cell_type": "markdown",
      "metadata": {
        "id": "9XVL0HcC7yM6"
      },
      "source": [
        "### Agglo Tfidf"
      ]
    },
    {
      "cell_type": "code",
      "execution_count": 79,
      "metadata": {
        "colab": {
          "base_uri": "https://localhost:8080/",
          "height": 282
        },
        "id": "CbgoquXZ7xlr",
        "outputId": "f2658725-3995-4eb2-afae-920f6a6aca19"
      },
      "outputs": [
        {
          "data": {
            "text/plain": [
              "<matplotlib.axes._subplots.AxesSubplot at 0x7fa8f2645c10>"
            ]
          },
          "execution_count": 79,
          "metadata": {},
          "output_type": "execute_result"
        },
        {
          "data": {
            "image/png": "[encoded data removed]",
            "text/plain": [
              "<Figure size 432x288 with 2 Axes>"
            ]
          },
          "metadata": {
            "needs_background": "light"
          },
          "output_type": "display_data"
        }
      ],
      "source": [
        "sns.heatmap(confusion_matrix(y,cluster_agglo_tfidf))"
      ]
    },
    {
      "cell_type": "code",
      "execution_count": 80,
      "metadata": {
        "colab": {
          "base_uri": "https://localhost:8080/"
        },
        "id": "W6wmOEip8Jim",
        "outputId": "0c92eec9-9447-449b-c55e-9223997dff12"
      },
      "outputs": [
        {
          "data": {
            "text/plain": [
              "(array([0, 1]), array([905,   1]))"
            ]
          },
          "execution_count": 80,
          "metadata": {},
          "output_type": "execute_result"
        }
      ],
      "source": [
        "np.unique(cluster_agglo_tfidf,return_counts=True)"
      ]
    },
    {
      "cell_type": "markdown",
      "metadata": {
        "id": "iWRiAIs971fz"
      },
      "source": [
        "### Agglo HF"
      ]
    },
    {
      "cell_type": "code",
      "execution_count": 81,
      "metadata": {
        "colab": {
          "base_uri": "https://localhost:8080/",
          "height": 282
        },
        "id": "SqRM7NpS7upI",
        "outputId": "c9bd3c9b-af64-419c-ea3e-c9c4eb0fbe0f"
      },
      "outputs": [
        {
          "data": {
            "text/plain": [
              "<matplotlib.axes._subplots.AxesSubplot at 0x7faa654efbd0>"
            ]
          },
          "execution_count": 81,
          "metadata": {},
          "output_type": "execute_result"
        },
        {
          "data": {
            "image/png": "[encoded data removed]",
            "text/plain": [
              "<Figure size 432x288 with 2 Axes>"
            ]
          },
          "metadata": {
            "needs_background": "light"
          },
          "output_type": "display_data"
        }
      ],
      "source": [
        "sns.heatmap(confusion_matrix(y,cluster_agglo_hf))"
      ]
    },
    {
      "cell_type": "code",
      "execution_count": 82,
      "metadata": {
        "colab": {
          "base_uri": "https://localhost:8080/"
        },
        "id": "-3_EGy0T72fA",
        "outputId": "64f7b39a-0193-423c-ef8e-100fb5739942"
      },
      "outputs": [
        {
          "data": {
            "text/plain": [
              "(array([0, 1]), array([905,   1]))"
            ]
          },
          "execution_count": 82,
          "metadata": {},
          "output_type": "execute_result"
        }
      ],
      "source": [
        "np.unique(cluster_agglo_hf,return_counts=True)"
      ]
    },
    {
      "cell_type": "markdown",
      "metadata": {
        "id": "H2ZtaVoSSNNl"
      },
      "source": [
        "# Text Classification 6 Labels"
      ]
    },
    {
      "cell_type": "code",
      "execution_count": 144,
      "metadata": {
        "colab": {
          "base_uri": "https://localhost:8080/",
          "height": 347,
          "referenced_widgets": [
            "9cdca179527d443fb0bfa3037842e67e",
            "44ee0cc623be484ca4201c4b7a313053",
            "c642748e715647c888ca62b549b0a6ce",
            "eef094be65ff4e4eb3c37b25601ab548",
            "3af438d31b414050b7869cb60defbeec",
            "ba0e08a5fe8f47b6a9acb44cb918869b",
            "2dba02d50d524a71b6c92897212fa544",
            "75f0c1d995ab447998f83e5c8160bfa6",
            "9cd1232cf42f4f269190352aac3614ea",
            "95ee86d2ddf941b29e1b829077a79734",
            "cf24b0ffe7194a019c118ccfe634d7fb"
          ]
        },
        "id": "Cfd47m7ROBHD",
        "outputId": "f5e417e3-719c-4e88-bff9-bb2664898125"
      },
      "outputs": [
        {
          "name": "stderr",
          "output_type": "stream",
          "text": [
            "WARNING:datasets.builder:No config specified, defaulting to: emotion_id_opinion/emotion_id_opinion_source\n",
            "WARNING:datasets.builder:Found cached dataset emotion_id_opinion (/root/.cache/huggingface/datasets/emotion_id_opinion/emotion_id_opinion_source/1.0.0/a6ab5b7094657b7fedf626821ac093d81dd2595a6fef013c4e4b1e72d695cc24)\n"
          ]
        },
        {
          "data": {
            "application/vnd.jupyter.widget-view+json": {
              "model_id": "9cdca179527d443fb0bfa3037842e67e",
              "version_major": 2,
              "version_minor": 0
            },
            "text/plain": [
              "  0%|          | 0/1 [00:00<?, ?it/s]"
            ]
          },
          "metadata": {},
          "output_type": "display_data"
        },
        {
          "name": "stdout",
          "output_type": "stream",
          "text": [
            "     index                                              tweet  label\n",
            "0        0                        pagi2 udah di buat emosi :)  Anger\n",
            "1        1  kok stabilitas negara, memange 10 thn negara t...  Anger\n",
            "2        2                       dah lah emosi mulu liat emyu  Anger\n",
            "3        3  aib? bodoh benar! sebelum kata aib itu muncul,...  Anger\n",
            "4        4                            dih lu yg nyebelin bego  Anger\n",
            "...    ...                                                ...    ...\n",
            "7075  7075  pagi saat seisi semesta sujud pada zat yg acap...    Sad\n",
            "7076  7076  meski engkau yg pergi, meski engkau yg meningg...    Sad\n",
            "7077  7077                     udah biasa kalah dan tersakiti    Sad\n",
            "7078  7078  apakabar ku?. apakah baik-baik saja,, tidak, a...    Sad\n",
            "7079  7079      this user sdg tidak.baik.baik saja sdg stress    Sad\n",
            "\n",
            "[7080 rows x 3 columns]\n"
          ]
        }
      ],
      "source": [
        "from datasets import load_dataset\n",
        "\n",
        "path = \"nusa-crowd/nusacrowd/nusa_datasets/emotion_id_opinion\"\n",
        "dataset = load_dataset(path)\n",
        "\n",
        "# see dataset sample:\n",
        "print(dataset['train'].to_pandas())"
      ]
    },
    {
      "cell_type": "code",
      "execution_count": 145,
      "metadata": {
        "id": "7Pd2FEX5SQmX"
      },
      "outputs": [],
      "source": [
        "df = dataset['train'].to_pandas()"
      ]
    },
    {
      "cell_type": "code",
      "execution_count": 146,
      "metadata": {
        "colab": {
          "base_uri": "https://localhost:8080/",
          "height": 206
        },
        "id": "34hG_hCzShgx",
        "outputId": "33069355-5f7e-481e-a755-8b0351a30569"
      },
      "outputs": [
        {
          "data": {
            "text/html": [
              "\n",
              "  <div id=\"df-92e50493-7b6c-4ef3-a0ba-f3a9188257b3\">\n",
              "    <div class=\"colab-df-container\">\n",
              "      <div>\n",
              "<style scoped>\n",
              "    .dataframe tbody tr th:only-of-type {\n",
              "        vertical-align: middle;\n",
              "    }\n",
              "\n",
              "    .dataframe tbody tr th {\n",
              "        vertical-align: top;\n",
              "    }\n",
              "\n",
              "    .dataframe thead th {\n",
              "        text-align: right;\n",
              "    }\n",
              "</style>\n",
              "<table border=\"1\" class=\"dataframe\">\n",
              "  <thead>\n",
              "    <tr style=\"text-align: right;\">\n",
              "      <th></th>\n",
              "      <th>index</th>\n",
              "      <th>tweet</th>\n",
              "      <th>label</th>\n",
              "    </tr>\n",
              "  </thead>\n",
              "  <tbody>\n",
              "    <tr>\n",
              "      <th>0</th>\n",
              "      <td>0</td>\n",
              "      <td>pagi2 udah di buat emosi :)</td>\n",
              "      <td>Anger</td>\n",
              "    </tr>\n",
              "    <tr>\n",
              "      <th>1</th>\n",
              "      <td>1</td>\n",
              "      <td>kok stabilitas negara, memange 10 thn negara t...</td>\n",
              "      <td>Anger</td>\n",
              "    </tr>\n",
              "    <tr>\n",
              "      <th>2</th>\n",
              "      <td>2</td>\n",
              "      <td>dah lah emosi mulu liat emyu</td>\n",
              "      <td>Anger</td>\n",
              "    </tr>\n",
              "    <tr>\n",
              "      <th>3</th>\n",
              "      <td>3</td>\n",
              "      <td>aib? bodoh benar! sebelum kata aib itu muncul,...</td>\n",
              "      <td>Anger</td>\n",
              "    </tr>\n",
              "    <tr>\n",
              "      <th>4</th>\n",
              "      <td>4</td>\n",
              "      <td>dih lu yg nyebelin bego</td>\n",
              "      <td>Anger</td>\n",
              "    </tr>\n",
              "  </tbody>\n",
              "</table>\n",
              "</div>\n",
              "      <button class=\"colab-df-convert\" onclick=\"convertToInteractive('df-92e50493-7b6c-4ef3-a0ba-f3a9188257b3')\"\n",
              "              title=\"Convert this dataframe to an interactive table.\"\n",
              "              style=\"display:none;\">\n",
              "        \n",
              "  <svg xmlns=\"http://www.w3.org/2000/svg\" height=\"24px\"viewBox=\"0 0 24 24\"\n",
              "       width=\"24px\">\n",
              "    <path d=\"M0 0h24v24H0V0z\" fill=\"none\"/>\n",
              "    <path d=\"M18.56 5.44l.94 2.06.94-2.06 2.06-.94-2.06-.94-.94-2.06-.94 2.06-2.06.94zm-11 1L8.5 8.5l.94-2.06 2.06-.94-2.06-.94L8.5 2.5l-.94 2.06-2.06.94zm10 10l.94 2.06.94-2.06 2.06-.94-2.06-.94-.94-2.06-.94 2.06-2.06.94z\"/><path d=\"M17.41 7.96l-1.37-1.37c-.4-.4-.92-.59-1.43-.59-.52 0-1.04.2-1.43.59L10.3 9.45l-7.72 7.72c-.78.78-.78 2.05 0 2.83L4 21.41c.39.39.9.59 1.41.59.51 0 1.02-.2 1.41-.59l7.78-7.78 2.81-2.81c.8-.78.8-2.07 0-2.86zM5.41 20L4 18.59l7.72-7.72 1.47 1.35L5.41 20z\"/>\n",
              "  </svg>\n",
              "      </button>\n",
              "      \n",
              "  <style>\n",
              "    .colab-df-container {\n",
              "      display:flex;\n",
              "      flex-wrap:wrap;\n",
              "      gap: 12px;\n",
              "    }\n",
              "\n",
              "    .colab-df-convert {\n",
              "      background-color: #E8F0FE;\n",
              "      border: none;\n",
              "      border-radius: 50%;\n",
              "      cursor: pointer;\n",
              "      display: none;\n",
              "      fill: #1967D2;\n",
              "      height: 32px;\n",
              "      padding: 0 0 0 0;\n",
              "      width: 32px;\n",
              "    }\n",
              "\n",
              "    .colab-df-convert:hover {\n",
              "      background-color: #E2EBFA;\n",
              "      box-shadow: 0px 1px 2px rgba(60, 64, 67, 0.3), 0px 1px 3px 1px rgba(60, 64, 67, 0.15);\n",
              "      fill: #174EA6;\n",
              "    }\n",
              "\n",
              "    [theme=dark] .colab-df-convert {\n",
              "      background-color: #3B4455;\n",
              "      fill: #D2E3FC;\n",
              "    }\n",
              "\n",
              "    [theme=dark] .colab-df-convert:hover {\n",
              "      background-color: #434B5C;\n",
              "      box-shadow: 0px 1px 3px 1px rgba(0, 0, 0, 0.15);\n",
              "      filter: drop-shadow(0px 1px 2px rgba(0, 0, 0, 0.3));\n",
              "      fill: #FFFFFF;\n",
              "    }\n",
              "  </style>\n",
              "\n",
              "      <script>\n",
              "        const buttonEl =\n",
              "          document.querySelector('#df-92e50493-7b6c-4ef3-a0ba-f3a9188257b3 button.colab-df-convert');\n",
              "        buttonEl.style.display =\n",
              "          google.colab.kernel.accessAllowed ? 'block' : 'none';\n",
              "\n",
              "        async function convertToInteractive(key) {\n",
              "          const element = document.querySelector('#df-92e50493-7b6c-4ef3-a0ba-f3a9188257b3');\n",
              "          const dataTable =\n",
              "            await google.colab.kernel.invokeFunction('convertToInteractive',\n",
              "                                                     [key], {});\n",
              "          if (!dataTable) return;\n",
              "\n",
              "          const docLinkHtml = 'Like what you see? Visit the ' +\n",
              "            '<a target=\"_blank\" href=https://colab.research.google.com/notebooks/data_table.ipynb>data table notebook</a>'\n",
              "            + ' to learn more about interactive tables.';\n",
              "          element.innerHTML = '';\n",
              "          dataTable['output_type'] = 'display_data';\n",
              "          await google.colab.output.renderOutput(dataTable, element);\n",
              "          const docLink = document.createElement('div');\n",
              "          docLink.innerHTML = docLinkHtml;\n",
              "          element.appendChild(docLink);\n",
              "        }\n",
              "      </script>\n",
              "    </div>\n",
              "  </div>\n",
              "  "
            ],
            "text/plain": [
              "  index                                              tweet  label\n",
              "0     0                        pagi2 udah di buat emosi :)  Anger\n",
              "1     1  kok stabilitas negara, memange 10 thn negara t...  Anger\n",
              "2     2                       dah lah emosi mulu liat emyu  Anger\n",
              "3     3  aib? bodoh benar! sebelum kata aib itu muncul,...  Anger\n",
              "4     4                            dih lu yg nyebelin bego  Anger"
            ]
          },
          "execution_count": 146,
          "metadata": {},
          "output_type": "execute_result"
        }
      ],
      "source": [
        "df.head()"
      ]
    },
    {
      "cell_type": "code",
      "execution_count": 147,
      "metadata": {
        "colab": {
          "base_uri": "https://localhost:8080/"
        },
        "id": "KLMa9WCVSk1Q",
        "outputId": "ab019892-25da-43da-e106-2b6753d8af7a"
      },
      "outputs": [
        {
          "name": "stderr",
          "output_type": "stream",
          "text": [
            "100%|██████████| 443/443 [00:28<00:00, 15.52it/s]\n"
          ]
        }
      ],
      "source": [
        "X_cnt, cnt_v = count_vectorize(df.tweet)\n",
        "X_tfidf, tfidf_v = tfidf_vectorize(df.tweet)\n",
        "X_hf = hf_automodel_vectorizer(df.tweet.values.tolist(),model,tokenizer,torch.device('cuda:0'))"
      ]
    },
    {
      "cell_type": "code",
      "execution_count": 148,
      "metadata": {
        "id": "sSfPXqxRS7Px"
      },
      "outputs": [],
      "source": [
        "le = LabelEncoder().fit(df.label)\n",
        "y = le.transform(df.label)\n",
        "strat = y"
      ]
    },
    {
      "cell_type": "code",
      "execution_count": 149,
      "metadata": {
        "id": "1d2kHp2lTqpw"
      },
      "outputs": [],
      "source": [
        "annotated_ratio = [i/10 for i in range(1,10)]"
      ]
    },
    {
      "cell_type": "code",
      "execution_count": 150,
      "metadata": {
        "id": "dCAhStKWUKTW"
      },
      "outputs": [],
      "source": [
        "from sklearn.ensemble import AdaBoostClassifier\n",
        "from sklearn.svm import SVC\n",
        "from xgboost import XGBClassifier\n",
        "\n",
        "def xgboost(train_vectors,prediction_vectors,target,**kwargs):\n",
        "    xgb = XGBClassifier(**kwargs)\n",
        "    xgb.fit(train_vectors,target)\n",
        "    predictions = xgb.predict(prediction_vectors)\n",
        "    return predictions,xgb\n",
        "\n",
        "def adaboost(train_vectors,prediction_vectors,target,**kwargs):\n",
        "    ada = AdaBoostClassifier(**kwargs)\n",
        "    ada.fit(train_vectors,target)\n",
        "    predictions = ada.predict(prediction_vectors)\n",
        "    return predictions,ada\n",
        "\n",
        "def svm_classifier(train_vectors,prediction_vectors,target,**kwargs):\n",
        "    svm = SVC(**kwargs)\n",
        "    svm.fit(train_vectors,target)\n",
        "    predictions = svm.predict(prediction_vectors)\n",
        "    return predictions,svm"
      ]
    },
    {
      "cell_type": "markdown",
      "metadata": {
        "id": "zosgJjt3UfVQ"
      },
      "source": [
        "## Count"
      ]
    },
    {
      "cell_type": "code",
      "execution_count": 151,
      "metadata": {
        "colab": {
          "base_uri": "https://localhost:8080/"
        },
        "id": "g1MTLElmT1UZ",
        "outputId": "96bc57c0-daed-4be1-a4bf-984d7164422a"
      },
      "outputs": [
        {
          "name": "stdout",
          "output_type": "stream",
          "text": [
            "Classification for annotated from 10 % data using XGBoost...\n",
            "              precision    recall  f1-score   support\n",
            "\n",
            "           0       0.74      0.57      0.64      1017\n",
            "           1       0.77      0.68      0.72       820\n",
            "           2       0.75      0.61      0.67      1147\n",
            "           3       0.60      0.78      0.68       684\n",
            "           4       0.57      0.68      0.62      1801\n",
            "           5       0.69      0.68      0.68       903\n",
            "\n",
            "    accuracy                           0.66      6372\n",
            "   macro avg       0.69      0.67      0.67      6372\n",
            "weighted avg       0.67      0.66      0.66      6372\n",
            "\n",
            "\n",
            "Classification for annotated from 20 % data using XGBoost...\n",
            "              precision    recall  f1-score   support\n",
            "\n",
            "           0       0.73      0.64      0.68       904\n",
            "           1       0.74      0.75      0.75       729\n",
            "           2       0.76      0.61      0.68      1020\n",
            "           3       0.60      0.84      0.70       608\n",
            "           4       0.61      0.65      0.63      1601\n",
            "           5       0.72      0.68      0.70       802\n",
            "\n",
            "    accuracy                           0.68      5664\n",
            "   macro avg       0.69      0.69      0.69      5664\n",
            "weighted avg       0.69      0.68      0.68      5664\n",
            "\n",
            "\n",
            "Classification for annotated from 30 % data using XGBoost...\n",
            "              precision    recall  f1-score   support\n",
            "\n",
            "           0       0.72      0.66      0.69       791\n",
            "           1       0.75      0.80      0.78       638\n",
            "           2       0.76      0.64      0.70       892\n",
            "           3       0.59      0.84      0.70       532\n",
            "           4       0.65      0.64      0.64      1401\n",
            "           5       0.73      0.70      0.71       702\n",
            "\n",
            "    accuracy                           0.69      4956\n",
            "   macro avg       0.70      0.71      0.70      4956\n",
            "weighted avg       0.70      0.69      0.69      4956\n",
            "\n",
            "\n",
            "Classification for annotated from 40 % data using XGBoost...\n",
            "              precision    recall  f1-score   support\n",
            "\n",
            "           0       0.73      0.65      0.69       678\n",
            "           1       0.74      0.81      0.78       547\n",
            "           2       0.75      0.66      0.70       765\n",
            "           3       0.59      0.86      0.70       456\n",
            "           4       0.66      0.62      0.64      1200\n",
            "           5       0.74      0.70      0.72       602\n",
            "\n",
            "    accuracy                           0.70      4248\n",
            "   macro avg       0.70      0.72      0.71      4248\n",
            "weighted avg       0.70      0.70      0.70      4248\n",
            "\n",
            "\n",
            "Classification for annotated from 50 % data using XGBoost...\n",
            "              precision    recall  f1-score   support\n",
            "\n",
            "           0       0.73      0.64      0.68       565\n",
            "           1       0.73      0.81      0.77       456\n",
            "           2       0.74      0.66      0.70       637\n",
            "           3       0.61      0.84      0.70       380\n",
            "           4       0.66      0.62      0.64      1000\n",
            "           5       0.72      0.70      0.71       502\n",
            "\n",
            "    accuracy                           0.69      3540\n",
            "   macro avg       0.70      0.71      0.70      3540\n",
            "weighted avg       0.70      0.69      0.69      3540\n",
            "\n",
            "\n",
            "Classification for annotated from 60 % data using XGBoost...\n",
            "              precision    recall  f1-score   support\n",
            "\n",
            "           0       0.76      0.63      0.69       452\n",
            "           1       0.72      0.82      0.77       365\n",
            "           2       0.73      0.68      0.70       510\n",
            "           3       0.63      0.87      0.73       304\n",
            "           4       0.67      0.63      0.65       800\n",
            "           5       0.73      0.71      0.72       401\n",
            "\n",
            "    accuracy                           0.70      2832\n",
            "   macro avg       0.70      0.72      0.71      2832\n",
            "weighted avg       0.70      0.70      0.70      2832\n",
            "\n",
            "\n",
            "Classification for annotated from 70 % data using XGBoost...\n",
            "              precision    recall  f1-score   support\n",
            "\n",
            "           0       0.78      0.63      0.70       339\n",
            "           1       0.75      0.83      0.79       273\n",
            "           2       0.74      0.67      0.70       383\n",
            "           3       0.62      0.85      0.71       228\n",
            "           4       0.67      0.65      0.66       601\n",
            "           5       0.72      0.73      0.72       301\n",
            "\n",
            "    accuracy                           0.71      2125\n",
            "   macro avg       0.71      0.73      0.71      2125\n",
            "weighted avg       0.71      0.71      0.70      2125\n",
            "\n",
            "\n",
            "Classification for annotated from 80 % data using XGBoost...\n",
            "              precision    recall  f1-score   support\n",
            "\n",
            "           0       0.78      0.70      0.74       226\n",
            "           1       0.75      0.84      0.79       182\n",
            "           2       0.72      0.66      0.69       255\n",
            "           3       0.61      0.85      0.71       152\n",
            "           4       0.68      0.63      0.65       400\n",
            "           5       0.75      0.74      0.74       201\n",
            "\n",
            "    accuracy                           0.71      1416\n",
            "   macro avg       0.72      0.73      0.72      1416\n",
            "weighted avg       0.71      0.71      0.71      1416\n",
            "\n",
            "\n",
            "Classification for annotated from 90 % data using XGBoost...\n",
            "              precision    recall  f1-score   support\n",
            "\n",
            "           0       0.74      0.71      0.72       113\n",
            "           1       0.76      0.86      0.81        91\n",
            "           2       0.70      0.61      0.65       128\n",
            "           3       0.62      0.89      0.73        76\n",
            "           4       0.68      0.60      0.64       200\n",
            "           5       0.78      0.78      0.78       100\n",
            "\n",
            "    accuracy                           0.71       708\n",
            "   macro avg       0.71      0.74      0.72       708\n",
            "weighted avg       0.71      0.71      0.71       708\n",
            "\n",
            "\n"
          ]
        }
      ],
      "source": [
        "from sklearn.model_selection import train_test_split\n",
        "\n",
        "for ratio in annotated_ratio:\n",
        "  X_train, X_test, y_train, y_test = train_test_split(X_cnt, y, test_size=1-ratio, random_state=42, stratify=strat)\n",
        "\n",
        "  print(f\"Classification for annotated from {int(ratio * 100)} % data using XGBoost...\")\n",
        "  predictions, clf = xgboost(X_train,X_test,y_train)\n",
        "  print(classification_report(y_test,predictions))\n",
        "  print()"
      ]
    },
    {
      "cell_type": "code",
      "execution_count": 152,
      "metadata": {
        "colab": {
          "base_uri": "https://localhost:8080/"
        },
        "id": "qIiQgXFwWjsg",
        "outputId": "defca8f2-20d4-402f-d9a9-054b71e79488"
      },
      "outputs": [
        {
          "name": "stdout",
          "output_type": "stream",
          "text": [
            "Classification for annotated from 10 % data using Adaboost...\n",
            "              precision    recall  f1-score   support\n",
            "\n",
            "           0       0.41      0.06      0.10      1017\n",
            "           1       0.65      0.60      0.62       820\n",
            "           2       0.63      0.52      0.57      1147\n",
            "           3       0.60      0.71      0.65       684\n",
            "           4       0.43      0.67      0.52      1801\n",
            "           5       0.57      0.57      0.57       903\n",
            "\n",
            "    accuracy                           0.52      6372\n",
            "   macro avg       0.55      0.52      0.51      6372\n",
            "weighted avg       0.53      0.52      0.50      6372\n",
            "\n",
            "\n",
            "Classification for annotated from 20 % data using Adaboost...\n",
            "              precision    recall  f1-score   support\n",
            "\n",
            "           0       0.22      0.08      0.12       904\n",
            "           1       0.49      0.10      0.17       729\n",
            "           2       0.64      0.39      0.48      1020\n",
            "           3       0.60      0.80      0.69       608\n",
            "           4       0.40      0.78      0.52      1601\n",
            "           5       0.78      0.56      0.65       802\n",
            "\n",
            "    accuracy                           0.48      5664\n",
            "   macro avg       0.52      0.45      0.44      5664\n",
            "weighted avg       0.50      0.48      0.44      5664\n",
            "\n",
            "\n",
            "Classification for annotated from 30 % data using Adaboost...\n",
            "              precision    recall  f1-score   support\n",
            "\n",
            "           0       0.53      0.16      0.25       791\n",
            "           1       0.72      0.61      0.66       638\n",
            "           2       0.74      0.37      0.50       892\n",
            "           3       0.58      0.80      0.68       532\n",
            "           4       0.45      0.72      0.55      1401\n",
            "           5       0.64      0.68      0.66       702\n",
            "\n",
            "    accuracy                           0.56      4956\n",
            "   macro avg       0.61      0.56      0.55      4956\n",
            "weighted avg       0.59      0.56      0.54      4956\n",
            "\n",
            "\n",
            "Classification for annotated from 40 % data using Adaboost...\n",
            "              precision    recall  f1-score   support\n",
            "\n",
            "           0       0.63      0.15      0.25       678\n",
            "           1       0.73      0.71      0.72       547\n",
            "           2       0.68      0.66      0.67       765\n",
            "           3       0.59      0.79      0.67       456\n",
            "           4       0.49      0.66      0.56      1200\n",
            "           5       0.71      0.70      0.70       602\n",
            "\n",
            "    accuracy                           0.60      4248\n",
            "   macro avg       0.64      0.61      0.60      4248\n",
            "weighted avg       0.62      0.60      0.58      4248\n",
            "\n",
            "\n",
            "Classification for annotated from 50 % data using Adaboost...\n",
            "              precision    recall  f1-score   support\n",
            "\n",
            "           0       0.71      0.29      0.41       565\n",
            "           1       0.70      0.80      0.74       456\n",
            "           2       0.67      0.64      0.66       637\n",
            "           3       0.59      0.78      0.67       380\n",
            "           4       0.55      0.64      0.59      1000\n",
            "           5       0.71      0.71      0.71       502\n",
            "\n",
            "    accuracy                           0.63      3540\n",
            "   macro avg       0.65      0.64      0.63      3540\n",
            "weighted avg       0.64      0.63      0.62      3540\n",
            "\n",
            "\n",
            "Classification for annotated from 60 % data using Adaboost...\n",
            "              precision    recall  f1-score   support\n",
            "\n",
            "           0       0.69      0.62      0.65       452\n",
            "           1       0.69      0.80      0.74       365\n",
            "           2       0.66      0.64      0.65       510\n",
            "           3       0.62      0.79      0.69       304\n",
            "           4       0.61      0.59      0.60       800\n",
            "           5       0.72      0.64      0.68       401\n",
            "\n",
            "    accuracy                           0.66      2832\n",
            "   macro avg       0.67      0.68      0.67      2832\n",
            "weighted avg       0.66      0.66      0.66      2832\n",
            "\n",
            "\n",
            "Classification for annotated from 70 % data using Adaboost...\n",
            "              precision    recall  f1-score   support\n",
            "\n",
            "           0       0.77      0.53      0.63       339\n",
            "           1       0.70      0.79      0.74       273\n",
            "           2       0.68      0.65      0.66       383\n",
            "           3       0.59      0.80      0.68       228\n",
            "           4       0.59      0.61      0.60       601\n",
            "           5       0.71      0.68      0.69       301\n",
            "\n",
            "    accuracy                           0.66      2125\n",
            "   macro avg       0.67      0.68      0.67      2125\n",
            "weighted avg       0.67      0.66      0.66      2125\n",
            "\n",
            "\n",
            "Classification for annotated from 80 % data using Adaboost...\n",
            "              precision    recall  f1-score   support\n",
            "\n",
            "           0       0.77      0.64      0.70       226\n",
            "           1       0.71      0.80      0.75       182\n",
            "           2       0.67      0.63      0.65       255\n",
            "           3       0.61      0.76      0.68       152\n",
            "           4       0.60      0.57      0.59       400\n",
            "           5       0.73      0.76      0.75       201\n",
            "\n",
            "    accuracy                           0.67      1416\n",
            "   macro avg       0.68      0.70      0.68      1416\n",
            "weighted avg       0.67      0.67      0.67      1416\n",
            "\n",
            "\n",
            "Classification for annotated from 90 % data using Adaboost...\n",
            "              precision    recall  f1-score   support\n",
            "\n",
            "           0       0.73      0.69      0.71       113\n",
            "           1       0.75      0.84      0.79        91\n",
            "           2       0.64      0.59      0.61       128\n",
            "           3       0.60      0.82      0.69        76\n",
            "           4       0.61      0.56      0.58       200\n",
            "           5       0.76      0.70      0.73       100\n",
            "\n",
            "    accuracy                           0.67       708\n",
            "   macro avg       0.68      0.70      0.68       708\n",
            "weighted avg       0.67      0.67      0.67       708\n",
            "\n",
            "\n"
          ]
        }
      ],
      "source": [
        "for ratio in annotated_ratio:\n",
        "  X_train, X_test, y_train, y_test = train_test_split(X_cnt, y, test_size=1-ratio, random_state=42, stratify=strat)\n",
        "\n",
        "  print(f\"Classification for annotated from {int(ratio * 100)} % data using Adaboost...\")\n",
        "  predictions, clf = adaboost(X_train,X_test,y_train)\n",
        "  print(classification_report(y_test,predictions))\n",
        "  print()"
      ]
    },
    {
      "cell_type": "code",
      "execution_count": 153,
      "metadata": {
        "colab": {
          "base_uri": "https://localhost:8080/"
        },
        "id": "Gat2YskKW--A",
        "outputId": "0a270f95-4dc9-494c-9f8b-3f749d5469cd"
      },
      "outputs": [
        {
          "name": "stdout",
          "output_type": "stream",
          "text": [
            "Classification for annotated from 10 % data using SVM Classifier...\n",
            "              precision    recall  f1-score   support\n",
            "\n",
            "           0       0.76      0.34      0.47      1017\n",
            "           1       0.89      0.42      0.57       820\n",
            "           2       0.81      0.52      0.63      1147\n",
            "           3       0.67      0.53      0.59       684\n",
            "           4       0.41      0.85      0.55      1801\n",
            "           5       0.79      0.47      0.59       903\n",
            "\n",
            "    accuracy                           0.57      6372\n",
            "   macro avg       0.72      0.52      0.57      6372\n",
            "weighted avg       0.68      0.57      0.57      6372\n",
            "\n",
            "\n",
            "Classification for annotated from 20 % data using SVM Classifier...\n",
            "              precision    recall  f1-score   support\n",
            "\n",
            "           0       0.71      0.46      0.56       904\n",
            "           1       0.84      0.57      0.68       729\n",
            "           2       0.81      0.53      0.64      1020\n",
            "           3       0.65      0.56      0.60       608\n",
            "           4       0.44      0.80      0.57      1601\n",
            "           5       0.79      0.49      0.61       802\n",
            "\n",
            "    accuracy                           0.60      5664\n",
            "   macro avg       0.71      0.57      0.61      5664\n",
            "weighted avg       0.67      0.60      0.60      5664\n",
            "\n",
            "\n",
            "Classification for annotated from 30 % data using SVM Classifier...\n",
            "              precision    recall  f1-score   support\n",
            "\n",
            "           0       0.73      0.51      0.60       791\n",
            "           1       0.81      0.64      0.71       638\n",
            "           2       0.80      0.57      0.66       892\n",
            "           3       0.63      0.61      0.62       532\n",
            "           4       0.47      0.77      0.59      1401\n",
            "           5       0.79      0.52      0.62       702\n",
            "\n",
            "    accuracy                           0.62      4956\n",
            "   macro avg       0.70      0.60      0.64      4956\n",
            "weighted avg       0.68      0.62      0.63      4956\n",
            "\n",
            "\n",
            "Classification for annotated from 40 % data using SVM Classifier...\n",
            "              precision    recall  f1-score   support\n",
            "\n",
            "           0       0.73      0.52      0.61       678\n",
            "           1       0.78      0.67      0.72       547\n",
            "           2       0.80      0.58      0.67       765\n",
            "           3       0.62      0.64      0.63       456\n",
            "           4       0.49      0.77      0.60      1200\n",
            "           5       0.80      0.54      0.65       602\n",
            "\n",
            "    accuracy                           0.64      4248\n",
            "   macro avg       0.70      0.62      0.65      4248\n",
            "weighted avg       0.68      0.64      0.64      4248\n",
            "\n",
            "\n",
            "Classification for annotated from 50 % data using SVM Classifier...\n",
            "              precision    recall  f1-score   support\n",
            "\n",
            "           0       0.74      0.53      0.62       565\n",
            "           1       0.75      0.69      0.72       456\n",
            "           2       0.79      0.59      0.68       637\n",
            "           3       0.65      0.67      0.66       380\n",
            "           4       0.50      0.75      0.60      1000\n",
            "           5       0.80      0.56      0.66       502\n",
            "\n",
            "    accuracy                           0.64      3540\n",
            "   macro avg       0.71      0.63      0.66      3540\n",
            "weighted avg       0.68      0.64      0.65      3540\n",
            "\n",
            "\n",
            "Classification for annotated from 60 % data using SVM Classifier...\n",
            "              precision    recall  f1-score   support\n",
            "\n",
            "           0       0.76      0.52      0.62       452\n",
            "           1       0.74      0.69      0.71       365\n",
            "           2       0.78      0.61      0.68       510\n",
            "           3       0.67      0.69      0.68       304\n",
            "           4       0.52      0.76      0.61       800\n",
            "           5       0.78      0.56      0.65       401\n",
            "\n",
            "    accuracy                           0.65      2832\n",
            "   macro avg       0.71      0.64      0.66      2832\n",
            "weighted avg       0.68      0.65      0.65      2832\n",
            "\n",
            "\n",
            "Classification for annotated from 70 % data using SVM Classifier...\n",
            "              precision    recall  f1-score   support\n",
            "\n",
            "           0       0.79      0.50      0.61       339\n",
            "           1       0.76      0.71      0.73       273\n",
            "           2       0.77      0.62      0.69       383\n",
            "           3       0.64      0.69      0.67       228\n",
            "           4       0.52      0.76      0.62       601\n",
            "           5       0.79      0.59      0.68       301\n",
            "\n",
            "    accuracy                           0.65      2125\n",
            "   macro avg       0.71      0.64      0.67      2125\n",
            "weighted avg       0.69      0.65      0.66      2125\n",
            "\n",
            "\n",
            "Classification for annotated from 80 % data using SVM Classifier...\n",
            "              precision    recall  f1-score   support\n",
            "\n",
            "           0       0.80      0.54      0.64       226\n",
            "           1       0.75      0.74      0.74       182\n",
            "           2       0.76      0.63      0.69       255\n",
            "           3       0.66      0.71      0.68       152\n",
            "           4       0.53      0.73      0.62       400\n",
            "           5       0.83      0.64      0.72       201\n",
            "\n",
            "    accuracy                           0.67      1416\n",
            "   macro avg       0.72      0.67      0.68      1416\n",
            "weighted avg       0.70      0.67      0.67      1416\n",
            "\n",
            "\n",
            "Classification for annotated from 90 % data using SVM Classifier...\n",
            "              precision    recall  f1-score   support\n",
            "\n",
            "           0       0.76      0.53      0.63       113\n",
            "           1       0.76      0.76      0.76        91\n",
            "           2       0.74      0.60      0.66       128\n",
            "           3       0.65      0.76      0.70        76\n",
            "           4       0.55      0.73      0.63       200\n",
            "           5       0.85      0.67      0.75       100\n",
            "\n",
            "    accuracy                           0.67       708\n",
            "   macro avg       0.72      0.68      0.69       708\n",
            "weighted avg       0.70      0.67      0.68       708\n",
            "\n",
            "\n"
          ]
        }
      ],
      "source": [
        "for ratio in annotated_ratio:\n",
        "  X_train, X_test, y_train, y_test = train_test_split(X_cnt, y, test_size=1-ratio, random_state=42, stratify=strat)\n",
        "\n",
        "  print(f\"Classification for annotated from {int(ratio * 100)} % data using SVM Classifier...\")\n",
        "  predictions, clf = svm_classifier(X_train,X_test,y_train)\n",
        "  print(classification_report(y_test,predictions))\n",
        "  print()"
      ]
    },
    {
      "cell_type": "markdown",
      "metadata": {
        "id": "P76lrPhnXhqs"
      },
      "source": [
        "## Tfidf"
      ]
    },
    {
      "cell_type": "code",
      "execution_count": 154,
      "metadata": {
        "colab": {
          "base_uri": "https://localhost:8080/"
        },
        "id": "X8irjKfHXITI",
        "outputId": "dc72bf3e-e5b4-4272-8b06-c58906dbd088"
      },
      "outputs": [
        {
          "name": "stdout",
          "output_type": "stream",
          "text": [
            "Classification for annotated from 10 % data using XGBoost...\n",
            "              precision    recall  f1-score   support\n",
            "\n",
            "           0       0.71      0.56      0.63      1017\n",
            "           1       0.75      0.64      0.69       820\n",
            "           2       0.75      0.59      0.66      1147\n",
            "           3       0.61      0.73      0.66       684\n",
            "           4       0.55      0.68      0.60      1801\n",
            "           5       0.68      0.69      0.68       903\n",
            "\n",
            "    accuracy                           0.65      6372\n",
            "   macro avg       0.67      0.65      0.65      6372\n",
            "weighted avg       0.66      0.65      0.65      6372\n",
            "\n",
            "\n",
            "Classification for annotated from 20 % data using XGBoost...\n",
            "              precision    recall  f1-score   support\n",
            "\n",
            "           0       0.71      0.63      0.67       904\n",
            "           1       0.75      0.73      0.74       729\n",
            "           2       0.77      0.61      0.68      1020\n",
            "           3       0.61      0.79      0.69       608\n",
            "           4       0.59      0.67      0.62      1601\n",
            "           5       0.74      0.67      0.70       802\n",
            "\n",
            "    accuracy                           0.67      5664\n",
            "   macro avg       0.69      0.68      0.68      5664\n",
            "weighted avg       0.68      0.67      0.67      5664\n",
            "\n",
            "\n",
            "Classification for annotated from 30 % data using XGBoost...\n",
            "              precision    recall  f1-score   support\n",
            "\n",
            "           0       0.71      0.63      0.67       791\n",
            "           1       0.78      0.74      0.76       638\n",
            "           2       0.76      0.64      0.69       892\n",
            "           3       0.61      0.80      0.69       532\n",
            "           4       0.60      0.66      0.63      1401\n",
            "           5       0.73      0.69      0.71       702\n",
            "\n",
            "    accuracy                           0.68      4956\n",
            "   macro avg       0.70      0.69      0.69      4956\n",
            "weighted avg       0.69      0.68      0.68      4956\n",
            "\n",
            "\n",
            "Classification for annotated from 40 % data using XGBoost...\n",
            "              precision    recall  f1-score   support\n",
            "\n",
            "           0       0.75      0.60      0.67       678\n",
            "           1       0.75      0.78      0.77       547\n",
            "           2       0.76      0.68      0.72       765\n",
            "           3       0.61      0.85      0.71       456\n",
            "           4       0.62      0.65      0.64      1200\n",
            "           5       0.73      0.69      0.71       602\n",
            "\n",
            "    accuracy                           0.69      4248\n",
            "   macro avg       0.71      0.71      0.70      4248\n",
            "weighted avg       0.70      0.69      0.69      4248\n",
            "\n",
            "\n",
            "Classification for annotated from 50 % data using XGBoost...\n",
            "              precision    recall  f1-score   support\n",
            "\n",
            "           0       0.73      0.61      0.66       565\n",
            "           1       0.74      0.78      0.76       456\n",
            "           2       0.74      0.66      0.70       637\n",
            "           3       0.62      0.84      0.72       380\n",
            "           4       0.62      0.64      0.63      1000\n",
            "           5       0.73      0.70      0.71       502\n",
            "\n",
            "    accuracy                           0.69      3540\n",
            "   macro avg       0.70      0.71      0.70      3540\n",
            "weighted avg       0.69      0.69      0.69      3540\n",
            "\n",
            "\n",
            "Classification for annotated from 60 % data using XGBoost...\n",
            "              precision    recall  f1-score   support\n",
            "\n",
            "           0       0.77      0.61      0.68       452\n",
            "           1       0.75      0.79      0.77       365\n",
            "           2       0.73      0.67      0.70       510\n",
            "           3       0.62      0.86      0.72       304\n",
            "           4       0.63      0.66      0.65       800\n",
            "           5       0.74      0.69      0.71       401\n",
            "\n",
            "    accuracy                           0.70      2832\n",
            "   macro avg       0.71      0.71      0.70      2832\n",
            "weighted avg       0.70      0.70      0.69      2832\n",
            "\n",
            "\n",
            "Classification for annotated from 70 % data using XGBoost...\n",
            "              precision    recall  f1-score   support\n",
            "\n",
            "           0       0.78      0.62      0.69       339\n",
            "           1       0.75      0.80      0.78       273\n",
            "           2       0.73      0.66      0.70       383\n",
            "           3       0.60      0.82      0.69       228\n",
            "           4       0.64      0.65      0.65       601\n",
            "           5       0.73      0.71      0.72       301\n",
            "\n",
            "    accuracy                           0.69      2125\n",
            "   macro avg       0.71      0.71      0.70      2125\n",
            "weighted avg       0.70      0.69      0.69      2125\n",
            "\n",
            "\n",
            "Classification for annotated from 80 % data using XGBoost...\n",
            "              precision    recall  f1-score   support\n",
            "\n",
            "           0       0.80      0.66      0.73       226\n",
            "           1       0.77      0.82      0.80       182\n",
            "           2       0.73      0.69      0.71       255\n",
            "           3       0.61      0.86      0.71       152\n",
            "           4       0.67      0.66      0.66       400\n",
            "           5       0.76      0.72      0.74       201\n",
            "\n",
            "    accuracy                           0.72      1416\n",
            "   macro avg       0.72      0.74      0.73      1416\n",
            "weighted avg       0.72      0.72      0.72      1416\n",
            "\n",
            "\n",
            "Classification for annotated from 90 % data using XGBoost...\n",
            "              precision    recall  f1-score   support\n",
            "\n",
            "           0       0.78      0.67      0.72       113\n",
            "           1       0.78      0.86      0.82        91\n",
            "           2       0.74      0.64      0.69       128\n",
            "           3       0.65      0.92      0.76        76\n",
            "           4       0.67      0.66      0.66       200\n",
            "           5       0.80      0.76      0.78       100\n",
            "\n",
            "    accuracy                           0.72       708\n",
            "   macro avg       0.74      0.75      0.74       708\n",
            "weighted avg       0.73      0.72      0.72       708\n",
            "\n",
            "\n"
          ]
        }
      ],
      "source": [
        "for ratio in annotated_ratio:\n",
        "  X_train, X_test, y_train, y_test = train_test_split(X_tfidf, y, test_size=1-ratio, random_state=42, stratify=strat)\n",
        "\n",
        "  print(f\"Classification for annotated from {int(ratio * 100)} % data using XGBoost...\")\n",
        "  predictions, clf = xgboost(X_train,X_test,y_train)\n",
        "  print(classification_report(y_test,predictions))\n",
        "  print()"
      ]
    },
    {
      "cell_type": "code",
      "execution_count": 155,
      "metadata": {
        "colab": {
          "base_uri": "https://localhost:8080/"
        },
        "id": "Dw4PHZJnXm4e",
        "outputId": "ccbd3155-1747-4120-d936-9c4753183c46"
      },
      "outputs": [
        {
          "name": "stdout",
          "output_type": "stream",
          "text": [
            "Classification for annotated from 10 % data using Adaboost...\n",
            "              precision    recall  f1-score   support\n",
            "\n",
            "           0       0.26      0.06      0.09      1017\n",
            "           1       0.66      0.56      0.61       820\n",
            "           2       0.84      0.37      0.52      1147\n",
            "           3       0.64      0.62      0.63       684\n",
            "           4       0.40      0.80      0.54      1801\n",
            "           5       0.74      0.58      0.65       903\n",
            "\n",
            "    accuracy                           0.52      6372\n",
            "   macro avg       0.59      0.50      0.51      6372\n",
            "weighted avg       0.57      0.52      0.50      6372\n",
            "\n",
            "\n",
            "Classification for annotated from 20 % data using Adaboost...\n",
            "              precision    recall  f1-score   support\n",
            "\n",
            "           0       0.28      0.05      0.08       904\n",
            "           1       0.43      0.33      0.37       729\n",
            "           2       0.72      0.34      0.46      1020\n",
            "           3       0.56      0.77      0.65       608\n",
            "           4       0.39      0.66      0.49      1601\n",
            "           5       0.55      0.65      0.60       802\n",
            "\n",
            "    accuracy                           0.47      5664\n",
            "   macro avg       0.49      0.47      0.44      5664\n",
            "weighted avg       0.48      0.47      0.44      5664\n",
            "\n",
            "\n",
            "Classification for annotated from 30 % data using Adaboost...\n",
            "              precision    recall  f1-score   support\n",
            "\n",
            "           0       0.40      0.28      0.33       791\n",
            "           1       0.68      0.58      0.63       638\n",
            "           2       0.78      0.35      0.49       892\n",
            "           3       0.56      0.81      0.66       532\n",
            "           4       0.45      0.63      0.53      1401\n",
            "           5       0.66      0.69      0.67       702\n",
            "\n",
            "    accuracy                           0.55      4956\n",
            "   macro avg       0.59      0.56      0.55      4956\n",
            "weighted avg       0.57      0.55      0.54      4956\n",
            "\n",
            "\n",
            "Classification for annotated from 40 % data using Adaboost...\n",
            "              precision    recall  f1-score   support\n",
            "\n",
            "           0       0.51      0.17      0.26       678\n",
            "           1       0.70      0.76      0.73       547\n",
            "           2       0.72      0.39      0.51       765\n",
            "           3       0.59      0.79      0.67       456\n",
            "           4       0.47      0.70      0.57      1200\n",
            "           5       0.63      0.63      0.63       602\n",
            "\n",
            "    accuracy                           0.57      4248\n",
            "   macro avg       0.60      0.58      0.56      4248\n",
            "weighted avg       0.59      0.57      0.55      4248\n",
            "\n",
            "\n",
            "Classification for annotated from 50 % data using Adaboost...\n",
            "              precision    recall  f1-score   support\n",
            "\n",
            "           0       0.69      0.38      0.49       565\n",
            "           1       0.70      0.78      0.74       456\n",
            "           2       0.68      0.62      0.65       637\n",
            "           3       0.57      0.78      0.66       380\n",
            "           4       0.56      0.64      0.60      1000\n",
            "           5       0.71      0.69      0.70       502\n",
            "\n",
            "    accuracy                           0.63      3540\n",
            "   macro avg       0.65      0.65      0.64      3540\n",
            "weighted avg       0.64      0.63      0.63      3540\n",
            "\n",
            "\n",
            "Classification for annotated from 60 % data using Adaboost...\n",
            "              precision    recall  f1-score   support\n",
            "\n",
            "           0       0.73      0.36      0.48       452\n",
            "           1       0.69      0.79      0.74       365\n",
            "           2       0.67      0.62      0.64       510\n",
            "           3       0.59      0.79      0.68       304\n",
            "           4       0.56      0.64      0.60       800\n",
            "           5       0.69      0.69      0.69       401\n",
            "\n",
            "    accuracy                           0.63      2832\n",
            "   macro avg       0.66      0.65      0.64      2832\n",
            "weighted avg       0.65      0.63      0.63      2832\n",
            "\n",
            "\n",
            "Classification for annotated from 70 % data using Adaboost...\n",
            "              precision    recall  f1-score   support\n",
            "\n",
            "           0       0.74      0.34      0.46       339\n",
            "           1       0.71      0.79      0.75       273\n",
            "           2       0.65      0.60      0.63       383\n",
            "           3       0.57      0.77      0.66       228\n",
            "           4       0.56      0.64      0.60       601\n",
            "           5       0.69      0.73      0.71       301\n",
            "\n",
            "    accuracy                           0.63      2125\n",
            "   macro avg       0.65      0.64      0.63      2125\n",
            "weighted avg       0.64      0.63      0.62      2125\n",
            "\n",
            "\n",
            "Classification for annotated from 80 % data using Adaboost...\n",
            "              precision    recall  f1-score   support\n",
            "\n",
            "           0       0.75      0.65      0.70       226\n",
            "           1       0.72      0.80      0.76       182\n",
            "           2       0.66      0.64      0.65       255\n",
            "           3       0.61      0.85      0.71       152\n",
            "           4       0.64      0.59      0.62       400\n",
            "           5       0.75      0.72      0.73       201\n",
            "\n",
            "    accuracy                           0.68      1416\n",
            "   macro avg       0.69      0.71      0.69      1416\n",
            "weighted avg       0.68      0.68      0.68      1416\n",
            "\n",
            "\n",
            "Classification for annotated from 90 % data using Adaboost...\n",
            "              precision    recall  f1-score   support\n",
            "\n",
            "           0       0.75      0.60      0.67       113\n",
            "           1       0.73      0.81      0.77        91\n",
            "           2       0.62      0.56      0.59       128\n",
            "           3       0.58      0.87      0.70        76\n",
            "           4       0.60      0.57      0.58       200\n",
            "           5       0.70      0.66      0.68       100\n",
            "\n",
            "    accuracy                           0.65       708\n",
            "   macro avg       0.66      0.68      0.66       708\n",
            "weighted avg       0.65      0.65      0.65       708\n",
            "\n",
            "\n"
          ]
        }
      ],
      "source": [
        "for ratio in annotated_ratio:\n",
        "  X_train, X_test, y_train, y_test = train_test_split(X_tfidf, y, test_size=1-ratio, random_state=42, stratify=strat)\n",
        "\n",
        "  print(f\"Classification for annotated from {int(ratio * 100)} % data using Adaboost...\")\n",
        "  predictions, clf = adaboost(X_train,X_test,y_train)\n",
        "  print(classification_report(y_test,predictions))\n",
        "  print()"
      ]
    },
    {
      "cell_type": "code",
      "execution_count": 156,
      "metadata": {
        "colab": {
          "base_uri": "https://localhost:8080/"
        },
        "id": "e-ya5CsWXuSn",
        "outputId": "cd77a33a-b87f-461a-cd4c-3b66b7aabefc"
      },
      "outputs": [
        {
          "name": "stdout",
          "output_type": "stream",
          "text": [
            "Classification for annotated from 10 % data using SVM...\n",
            "              precision    recall  f1-score   support\n",
            "\n",
            "           0       0.89      0.17      0.28      1017\n",
            "           1       0.92      0.17      0.29       820\n",
            "           2       0.86      0.42      0.56      1147\n",
            "           3       0.80      0.23      0.35       684\n",
            "           4       0.34      0.95      0.50      1801\n",
            "           5       0.91      0.25      0.39       903\n",
            "\n",
            "    accuracy                           0.45      6372\n",
            "   macro avg       0.79      0.36      0.40      6372\n",
            "weighted avg       0.73      0.45      0.42      6372\n",
            "\n",
            "\n",
            "Classification for annotated from 20 % data using SVM...\n",
            "              precision    recall  f1-score   support\n",
            "\n",
            "           0       0.83      0.37      0.51       904\n",
            "           1       0.89      0.41      0.56       729\n",
            "           2       0.85      0.48      0.61      1020\n",
            "           3       0.70      0.47      0.56       608\n",
            "           4       0.40      0.89      0.55      1601\n",
            "           5       0.85      0.43      0.57       802\n",
            "\n",
            "    accuracy                           0.56      5664\n",
            "   macro avg       0.75      0.51      0.56      5664\n",
            "weighted avg       0.71      0.56      0.56      5664\n",
            "\n",
            "\n",
            "Classification for annotated from 30 % data using SVM...\n",
            "              precision    recall  f1-score   support\n",
            "\n",
            "           0       0.76      0.49      0.60       791\n",
            "           1       0.87      0.54      0.67       638\n",
            "           2       0.82      0.53      0.65       892\n",
            "           3       0.67      0.60      0.63       532\n",
            "           4       0.45      0.84      0.59      1401\n",
            "           5       0.84      0.47      0.61       702\n",
            "\n",
            "    accuracy                           0.61      4956\n",
            "   macro avg       0.73      0.58      0.62      4956\n",
            "weighted avg       0.70      0.61      0.62      4956\n",
            "\n",
            "\n",
            "Classification for annotated from 40 % data using SVM...\n",
            "              precision    recall  f1-score   support\n",
            "\n",
            "           0       0.77      0.50      0.61       678\n",
            "           1       0.85      0.59      0.70       547\n",
            "           2       0.83      0.57      0.68       765\n",
            "           3       0.64      0.65      0.64       456\n",
            "           4       0.48      0.83      0.61      1200\n",
            "           5       0.85      0.51      0.64       602\n",
            "\n",
            "    accuracy                           0.64      4248\n",
            "   macro avg       0.74      0.61      0.65      4248\n",
            "weighted avg       0.71      0.64      0.64      4248\n",
            "\n",
            "\n",
            "Classification for annotated from 50 % data using SVM...\n",
            "              precision    recall  f1-score   support\n",
            "\n",
            "           0       0.78      0.53      0.63       565\n",
            "           1       0.83      0.64      0.73       456\n",
            "           2       0.81      0.59      0.68       637\n",
            "           3       0.68      0.72      0.70       380\n",
            "           4       0.51      0.81      0.62      1000\n",
            "           5       0.82      0.54      0.65       502\n",
            "\n",
            "    accuracy                           0.66      3540\n",
            "   macro avg       0.74      0.64      0.67      3540\n",
            "weighted avg       0.71      0.66      0.66      3540\n",
            "\n",
            "\n",
            "Classification for annotated from 60 % data using SVM...\n",
            "              precision    recall  f1-score   support\n",
            "\n",
            "           0       0.78      0.51      0.62       452\n",
            "           1       0.82      0.68      0.74       365\n",
            "           2       0.81      0.60      0.69       510\n",
            "           3       0.69      0.74      0.72       304\n",
            "           4       0.52      0.82      0.64       800\n",
            "           5       0.83      0.55      0.66       401\n",
            "\n",
            "    accuracy                           0.67      2832\n",
            "   macro avg       0.74      0.65      0.68      2832\n",
            "weighted avg       0.71      0.67      0.67      2832\n",
            "\n",
            "\n",
            "Classification for annotated from 70 % data using SVM...\n",
            "              precision    recall  f1-score   support\n",
            "\n",
            "           0       0.82      0.52      0.64       339\n",
            "           1       0.81      0.68      0.74       273\n",
            "           2       0.81      0.62      0.70       383\n",
            "           3       0.67      0.76      0.71       228\n",
            "           4       0.54      0.82      0.65       601\n",
            "           5       0.83      0.58      0.69       301\n",
            "\n",
            "    accuracy                           0.68      2125\n",
            "   macro avg       0.75      0.66      0.69      2125\n",
            "weighted avg       0.72      0.68      0.68      2125\n",
            "\n",
            "\n",
            "Classification for annotated from 80 % data using SVM...\n",
            "              precision    recall  f1-score   support\n",
            "\n",
            "           0       0.83      0.59      0.69       226\n",
            "           1       0.82      0.71      0.76       182\n",
            "           2       0.78      0.64      0.71       255\n",
            "           3       0.67      0.77      0.72       152\n",
            "           4       0.56      0.80      0.66       400\n",
            "           5       0.86      0.62      0.72       201\n",
            "\n",
            "    accuracy                           0.70      1416\n",
            "   macro avg       0.75      0.69      0.71      1416\n",
            "weighted avg       0.73      0.70      0.70      1416\n",
            "\n",
            "\n",
            "Classification for annotated from 90 % data using SVM...\n",
            "              precision    recall  f1-score   support\n",
            "\n",
            "           0       0.82      0.62      0.71       113\n",
            "           1       0.78      0.74      0.76        91\n",
            "           2       0.77      0.62      0.68       128\n",
            "           3       0.69      0.79      0.74        76\n",
            "           4       0.58      0.79      0.67       200\n",
            "           5       0.89      0.67      0.77       100\n",
            "\n",
            "    accuracy                           0.71       708\n",
            "   macro avg       0.76      0.70      0.72       708\n",
            "weighted avg       0.73      0.71      0.71       708\n",
            "\n",
            "\n"
          ]
        }
      ],
      "source": [
        "for ratio in annotated_ratio:\n",
        "  X_train, X_test, y_train, y_test = train_test_split(X_tfidf, y, test_size=1-ratio, random_state=42, stratify=strat)\n",
        "\n",
        "  print(f\"Classification for annotated from {int(ratio * 100)} % data using SVM...\")\n",
        "  predictions, clf = svm_classifier(X_train,X_test,y_train)\n",
        "  print(classification_report(y_test,predictions))\n",
        "  print()"
      ]
    },
    {
      "cell_type": "markdown",
      "metadata": {
        "id": "Hno_dOlMXzRP"
      },
      "source": [
        "## HF"
      ]
    },
    {
      "cell_type": "code",
      "execution_count": 157,
      "metadata": {
        "colab": {
          "base_uri": "https://localhost:8080/"
        },
        "id": "lbToIfGjXxZO",
        "outputId": "d29d6124-1e00-4983-be76-b2d4637c413e"
      },
      "outputs": [
        {
          "name": "stdout",
          "output_type": "stream",
          "text": [
            "Classification for annotated from 10 % data using XGBoost...\n",
            "              precision    recall  f1-score   support\n",
            "\n",
            "           0       0.55      0.51      0.53      1017\n",
            "           1       0.58      0.44      0.50       820\n",
            "           2       0.67      0.61      0.64      1147\n",
            "           3       0.61      0.50      0.55       684\n",
            "           4       0.54      0.74      0.62      1801\n",
            "           5       0.58      0.50      0.54       903\n",
            "\n",
            "    accuracy                           0.58      6372\n",
            "   macro avg       0.59      0.55      0.56      6372\n",
            "weighted avg       0.58      0.58      0.58      6372\n",
            "\n",
            "\n",
            "Classification for annotated from 20 % data using XGBoost...\n",
            "              precision    recall  f1-score   support\n",
            "\n",
            "           0       0.56      0.59      0.57       904\n",
            "           1       0.64      0.48      0.55       729\n",
            "           2       0.71      0.60      0.65      1020\n",
            "           3       0.67      0.56      0.61       608\n",
            "           4       0.56      0.73      0.63      1601\n",
            "           5       0.61      0.53      0.57       802\n",
            "\n",
            "    accuracy                           0.61      5664\n",
            "   macro avg       0.62      0.58      0.60      5664\n",
            "weighted avg       0.62      0.61      0.60      5664\n",
            "\n",
            "\n",
            "Classification for annotated from 30 % data using XGBoost...\n",
            "              precision    recall  f1-score   support\n",
            "\n",
            "           0       0.56      0.60      0.58       791\n",
            "           1       0.66      0.54      0.59       638\n",
            "           2       0.73      0.61      0.67       892\n",
            "           3       0.66      0.61      0.63       532\n",
            "           4       0.58      0.73      0.65      1401\n",
            "           5       0.64      0.54      0.59       702\n",
            "\n",
            "    accuracy                           0.62      4956\n",
            "   macro avg       0.64      0.61      0.62      4956\n",
            "weighted avg       0.63      0.62      0.62      4956\n",
            "\n",
            "\n",
            "Classification for annotated from 40 % data using XGBoost...\n",
            "              precision    recall  f1-score   support\n",
            "\n",
            "           0       0.59      0.62      0.60       678\n",
            "           1       0.70      0.53      0.61       547\n",
            "           2       0.73      0.62      0.67       765\n",
            "           3       0.64      0.61      0.62       456\n",
            "           4       0.58      0.74      0.65      1200\n",
            "           5       0.64      0.56      0.60       602\n",
            "\n",
            "    accuracy                           0.63      4248\n",
            "   macro avg       0.65      0.61      0.63      4248\n",
            "weighted avg       0.64      0.63      0.63      4248\n",
            "\n",
            "\n",
            "Classification for annotated from 50 % data using XGBoost...\n",
            "              precision    recall  f1-score   support\n",
            "\n",
            "           0       0.58      0.61      0.60       565\n",
            "           1       0.71      0.54      0.61       456\n",
            "           2       0.74      0.64      0.68       637\n",
            "           3       0.67      0.63      0.65       380\n",
            "           4       0.59      0.73      0.65      1000\n",
            "           5       0.64      0.58      0.61       502\n",
            "\n",
            "    accuracy                           0.64      3540\n",
            "   macro avg       0.65      0.62      0.63      3540\n",
            "weighted avg       0.65      0.64      0.64      3540\n",
            "\n",
            "\n",
            "Classification for annotated from 60 % data using XGBoost...\n",
            "              precision    recall  f1-score   support\n",
            "\n",
            "           0       0.59      0.58      0.58       452\n",
            "           1       0.70      0.57      0.63       365\n",
            "           2       0.71      0.63      0.67       510\n",
            "           3       0.69      0.64      0.66       304\n",
            "           4       0.59      0.74      0.65       800\n",
            "           5       0.66      0.58      0.62       401\n",
            "\n",
            "    accuracy                           0.64      2832\n",
            "   macro avg       0.66      0.62      0.64      2832\n",
            "weighted avg       0.65      0.64      0.64      2832\n",
            "\n",
            "\n",
            "Classification for annotated from 70 % data using XGBoost...\n",
            "              precision    recall  f1-score   support\n",
            "\n",
            "           0       0.61      0.58      0.59       339\n",
            "           1       0.73      0.56      0.63       273\n",
            "           2       0.69      0.63      0.66       383\n",
            "           3       0.65      0.62      0.64       228\n",
            "           4       0.59      0.75      0.66       601\n",
            "           5       0.68      0.59      0.63       301\n",
            "\n",
            "    accuracy                           0.64      2125\n",
            "   macro avg       0.66      0.62      0.64      2125\n",
            "weighted avg       0.65      0.64      0.64      2125\n",
            "\n",
            "\n",
            "Classification for annotated from 80 % data using XGBoost...\n",
            "              precision    recall  f1-score   support\n",
            "\n",
            "           0       0.62      0.62      0.62       226\n",
            "           1       0.70      0.60      0.65       182\n",
            "           2       0.73      0.67      0.70       255\n",
            "           3       0.72      0.68      0.70       152\n",
            "           4       0.61      0.74      0.67       400\n",
            "           5       0.68      0.58      0.63       201\n",
            "\n",
            "    accuracy                           0.66      1416\n",
            "   macro avg       0.68      0.65      0.66      1416\n",
            "weighted avg       0.67      0.66      0.66      1416\n",
            "\n",
            "\n",
            "Classification for annotated from 90 % data using XGBoost...\n",
            "              precision    recall  f1-score   support\n",
            "\n",
            "           0       0.62      0.63      0.63       113\n",
            "           1       0.71      0.60      0.65        91\n",
            "           2       0.71      0.59      0.64       128\n",
            "           3       0.67      0.72      0.70        76\n",
            "           4       0.62      0.73      0.67       200\n",
            "           5       0.64      0.58      0.61       100\n",
            "\n",
            "    accuracy                           0.65       708\n",
            "   macro avg       0.66      0.64      0.65       708\n",
            "weighted avg       0.66      0.65      0.65       708\n",
            "\n",
            "\n"
          ]
        }
      ],
      "source": [
        "for ratio in annotated_ratio:\n",
        "  X_train, X_test, y_train, y_test = train_test_split(np.array(X_hf), y, test_size=1-ratio, random_state=42, stratify=strat)\n",
        "\n",
        "  print(f\"Classification for annotated from {int(ratio * 100)} % data using XGBoost...\")\n",
        "  predictions, clf = xgboost(X_train,X_test,y_train)\n",
        "  print(classification_report(y_test,predictions))\n",
        "  print()"
      ]
    },
    {
      "cell_type": "code",
      "execution_count": 158,
      "metadata": {
        "colab": {
          "base_uri": "https://localhost:8080/"
        },
        "id": "iBgxr0kiX38X",
        "outputId": "7f62cd2b-6052-4dcd-a57f-90644244f385"
      },
      "outputs": [
        {
          "name": "stdout",
          "output_type": "stream",
          "text": [
            "Classification for annotated from 10 % data using Adaboost...\n",
            "              precision    recall  f1-score   support\n",
            "\n",
            "           0       0.41      0.33      0.36      1017\n",
            "           1       0.29      0.25      0.27       820\n",
            "           2       0.47      0.51      0.49      1147\n",
            "           3       0.60      0.22      0.32       684\n",
            "           4       0.39      0.55      0.46      1801\n",
            "           5       0.35      0.32      0.33       903\n",
            "\n",
            "    accuracy                           0.40      6372\n",
            "   macro avg       0.42      0.36      0.37      6372\n",
            "weighted avg       0.41      0.40      0.39      6372\n",
            "\n",
            "\n",
            "Classification for annotated from 20 % data using Adaboost...\n",
            "              precision    recall  f1-score   support\n",
            "\n",
            "           0       0.36      0.48      0.41       904\n",
            "           1       0.32      0.29      0.31       729\n",
            "           2       0.55      0.57      0.56      1020\n",
            "           3       0.65      0.41      0.50       608\n",
            "           4       0.44      0.44      0.44      1601\n",
            "           5       0.42      0.39      0.40       802\n",
            "\n",
            "    accuracy                           0.44      5664\n",
            "   macro avg       0.46      0.43      0.44      5664\n",
            "weighted avg       0.45      0.44      0.44      5664\n",
            "\n",
            "\n",
            "Classification for annotated from 30 % data using Adaboost...\n",
            "              precision    recall  f1-score   support\n",
            "\n",
            "           0       0.39      0.45      0.42       791\n",
            "           1       0.36      0.36      0.36       638\n",
            "           2       0.57      0.54      0.55       892\n",
            "           3       0.60      0.48      0.53       532\n",
            "           4       0.45      0.51      0.48      1401\n",
            "           5       0.45      0.35      0.40       702\n",
            "\n",
            "    accuracy                           0.46      4956\n",
            "   macro avg       0.47      0.45      0.46      4956\n",
            "weighted avg       0.47      0.46      0.46      4956\n",
            "\n",
            "\n",
            "Classification for annotated from 40 % data using Adaboost...\n",
            "              precision    recall  f1-score   support\n",
            "\n",
            "           0       0.39      0.35      0.37       678\n",
            "           1       0.40      0.41      0.41       547\n",
            "           2       0.60      0.59      0.60       765\n",
            "           3       0.58      0.52      0.55       456\n",
            "           4       0.47      0.52      0.49      1200\n",
            "           5       0.40      0.40      0.40       602\n",
            "\n",
            "    accuracy                           0.47      4248\n",
            "   macro avg       0.47      0.47      0.47      4248\n",
            "weighted avg       0.47      0.47      0.47      4248\n",
            "\n",
            "\n",
            "Classification for annotated from 50 % data using Adaboost...\n",
            "              precision    recall  f1-score   support\n",
            "\n",
            "           0       0.38      0.42      0.40       565\n",
            "           1       0.42      0.37      0.39       456\n",
            "           2       0.55      0.57      0.56       637\n",
            "           3       0.58      0.51      0.54       380\n",
            "           4       0.47      0.51      0.49      1000\n",
            "           5       0.37      0.33      0.35       502\n",
            "\n",
            "    accuracy                           0.46      3540\n",
            "   macro avg       0.46      0.45      0.45      3540\n",
            "weighted avg       0.46      0.46      0.46      3540\n",
            "\n",
            "\n",
            "Classification for annotated from 60 % data using Adaboost...\n",
            "              precision    recall  f1-score   support\n",
            "\n",
            "           0       0.43      0.47      0.45       452\n",
            "           1       0.49      0.41      0.45       365\n",
            "           2       0.57      0.63      0.60       510\n",
            "           3       0.59      0.58      0.58       304\n",
            "           4       0.52      0.53      0.53       800\n",
            "           5       0.48      0.42      0.45       401\n",
            "\n",
            "    accuracy                           0.51      2832\n",
            "   macro avg       0.51      0.51      0.51      2832\n",
            "weighted avg       0.51      0.51      0.51      2832\n",
            "\n",
            "\n",
            "Classification for annotated from 70 % data using Adaboost...\n",
            "              precision    recall  f1-score   support\n",
            "\n",
            "           0       0.40      0.47      0.43       339\n",
            "           1       0.46      0.34      0.39       273\n",
            "           2       0.55      0.60      0.58       383\n",
            "           3       0.55      0.57      0.56       228\n",
            "           4       0.52      0.54      0.53       601\n",
            "           5       0.51      0.41      0.45       301\n",
            "\n",
            "    accuracy                           0.50      2125\n",
            "   macro avg       0.50      0.49      0.49      2125\n",
            "weighted avg       0.50      0.50      0.50      2125\n",
            "\n",
            "\n",
            "Classification for annotated from 80 % data using Adaboost...\n",
            "              precision    recall  f1-score   support\n",
            "\n",
            "           0       0.39      0.42      0.41       226\n",
            "           1       0.40      0.33      0.36       182\n",
            "           2       0.57      0.59      0.58       255\n",
            "           3       0.64      0.65      0.65       152\n",
            "           4       0.50      0.55      0.52       400\n",
            "           5       0.51      0.42      0.46       201\n",
            "\n",
            "    accuracy                           0.50      1416\n",
            "   macro avg       0.50      0.49      0.50      1416\n",
            "weighted avg       0.50      0.50      0.50      1416\n",
            "\n",
            "\n",
            "Classification for annotated from 90 % data using Adaboost...\n",
            "              precision    recall  f1-score   support\n",
            "\n",
            "           0       0.34      0.34      0.34       113\n",
            "           1       0.44      0.36      0.40        91\n",
            "           2       0.60      0.64      0.62       128\n",
            "           3       0.66      0.70      0.68        76\n",
            "           4       0.49      0.58      0.53       200\n",
            "           5       0.50      0.35      0.41       100\n",
            "\n",
            "    accuracy                           0.50       708\n",
            "   macro avg       0.51      0.49      0.50       708\n",
            "weighted avg       0.50      0.50      0.50       708\n",
            "\n",
            "\n"
          ]
        }
      ],
      "source": [
        "for ratio in annotated_ratio:\n",
        "  X_train, X_test, y_train, y_test = train_test_split(np.array(X_hf), y, test_size=1-ratio, random_state=42, stratify=strat)\n",
        "\n",
        "  print(f\"Classification for annotated from {int(ratio * 100)} % data using Adaboost...\")\n",
        "  predictions, clf = adaboost(X_train,X_test,y_train)\n",
        "  print(classification_report(y_test,predictions))\n",
        "  print()"
      ]
    },
    {
      "cell_type": "code",
      "execution_count": 159,
      "metadata": {
        "colab": {
          "base_uri": "https://localhost:8080/"
        },
        "id": "m9gOqhkHX6v-",
        "outputId": "9e315f03-d046-4111-e611-f2a21cb3e40c"
      },
      "outputs": [
        {
          "name": "stdout",
          "output_type": "stream",
          "text": [
            "Classification for annotated from 10 % data using SVM...\n",
            "              precision    recall  f1-score   support\n",
            "\n",
            "           0       0.57      0.48      0.52      1017\n",
            "           1       0.67      0.41      0.51       820\n",
            "           2       0.75      0.61      0.67      1147\n",
            "           3       0.67      0.55      0.61       684\n",
            "           4       0.50      0.81      0.62      1801\n",
            "           5       0.73      0.48      0.58       903\n",
            "\n",
            "    accuracy                           0.60      6372\n",
            "   macro avg       0.65      0.56      0.58      6372\n",
            "weighted avg       0.63      0.60      0.59      6372\n",
            "\n",
            "\n",
            "Classification for annotated from 20 % data using SVM...\n",
            "              precision    recall  f1-score   support\n",
            "\n",
            "           0       0.60      0.65      0.62       904\n",
            "           1       0.75      0.53      0.62       729\n",
            "           2       0.77      0.60      0.68      1020\n",
            "           3       0.68      0.60      0.64       608\n",
            "           4       0.56      0.77      0.65      1601\n",
            "           5       0.69      0.54      0.61       802\n",
            "\n",
            "    accuracy                           0.64      5664\n",
            "   macro avg       0.68      0.62      0.64      5664\n",
            "weighted avg       0.66      0.64      0.64      5664\n",
            "\n",
            "\n",
            "Classification for annotated from 30 % data using SVM...\n",
            "              precision    recall  f1-score   support\n",
            "\n",
            "           0       0.60      0.66      0.63       791\n",
            "           1       0.75      0.56      0.64       638\n",
            "           2       0.79      0.62      0.70       892\n",
            "           3       0.68      0.67      0.67       532\n",
            "           4       0.58      0.76      0.66      1401\n",
            "           5       0.70      0.55      0.62       702\n",
            "\n",
            "    accuracy                           0.66      4956\n",
            "   macro avg       0.68      0.64      0.65      4956\n",
            "weighted avg       0.67      0.66      0.66      4956\n",
            "\n",
            "\n",
            "Classification for annotated from 40 % data using SVM...\n",
            "              precision    recall  f1-score   support\n",
            "\n",
            "           0       0.61      0.66      0.63       678\n",
            "           1       0.78      0.59      0.67       547\n",
            "           2       0.79      0.64      0.71       765\n",
            "           3       0.67      0.68      0.67       456\n",
            "           4       0.60      0.77      0.67      1200\n",
            "           5       0.73      0.58      0.64       602\n",
            "\n",
            "    accuracy                           0.67      4248\n",
            "   macro avg       0.70      0.65      0.67      4248\n",
            "weighted avg       0.68      0.67      0.67      4248\n",
            "\n",
            "\n",
            "Classification for annotated from 50 % data using SVM...\n",
            "              precision    recall  f1-score   support\n",
            "\n",
            "           0       0.63      0.68      0.65       565\n",
            "           1       0.79      0.61      0.69       456\n",
            "           2       0.77      0.65      0.71       637\n",
            "           3       0.70      0.70      0.70       380\n",
            "           4       0.60      0.76      0.67      1000\n",
            "           5       0.73      0.59      0.65       502\n",
            "\n",
            "    accuracy                           0.68      3540\n",
            "   macro avg       0.70      0.66      0.68      3540\n",
            "weighted avg       0.69      0.68      0.68      3540\n",
            "\n",
            "\n",
            "Classification for annotated from 60 % data using SVM...\n",
            "              precision    recall  f1-score   support\n",
            "\n",
            "           0       0.62      0.65      0.63       452\n",
            "           1       0.78      0.61      0.69       365\n",
            "           2       0.75      0.65      0.70       510\n",
            "           3       0.70      0.70      0.70       304\n",
            "           4       0.60      0.74      0.66       800\n",
            "           5       0.70      0.58      0.63       401\n",
            "\n",
            "    accuracy                           0.67      2832\n",
            "   macro avg       0.69      0.66      0.67      2832\n",
            "weighted avg       0.68      0.67      0.67      2832\n",
            "\n",
            "\n",
            "Classification for annotated from 70 % data using SVM...\n",
            "              precision    recall  f1-score   support\n",
            "\n",
            "           0       0.64      0.65      0.65       339\n",
            "           1       0.80      0.62      0.69       273\n",
            "           2       0.75      0.64      0.69       383\n",
            "           3       0.71      0.72      0.72       228\n",
            "           4       0.60      0.76      0.67       601\n",
            "           5       0.72      0.59      0.65       301\n",
            "\n",
            "    accuracy                           0.67      2125\n",
            "   macro avg       0.70      0.66      0.68      2125\n",
            "weighted avg       0.69      0.67      0.68      2125\n",
            "\n",
            "\n",
            "Classification for annotated from 80 % data using SVM...\n",
            "              precision    recall  f1-score   support\n",
            "\n",
            "           0       0.65      0.71      0.68       226\n",
            "           1       0.81      0.63      0.71       182\n",
            "           2       0.75      0.65      0.70       255\n",
            "           3       0.72      0.76      0.74       152\n",
            "           4       0.63      0.76      0.69       400\n",
            "           5       0.72      0.58      0.64       201\n",
            "\n",
            "    accuracy                           0.69      1416\n",
            "   macro avg       0.71      0.68      0.69      1416\n",
            "weighted avg       0.70      0.69      0.69      1416\n",
            "\n",
            "\n",
            "Classification for annotated from 90 % data using SVM...\n",
            "              precision    recall  f1-score   support\n",
            "\n",
            "           0       0.65      0.72      0.68       113\n",
            "           1       0.83      0.64      0.72        91\n",
            "           2       0.78      0.65      0.71       128\n",
            "           3       0.73      0.79      0.76        76\n",
            "           4       0.63      0.77      0.69       200\n",
            "           5       0.74      0.59      0.66       100\n",
            "\n",
            "    accuracy                           0.70       708\n",
            "   macro avg       0.72      0.69      0.70       708\n",
            "weighted avg       0.71      0.70      0.70       708\n",
            "\n",
            "\n"
          ]
        }
      ],
      "source": [
        "for ratio in annotated_ratio:\n",
        "  X_train, X_test, y_train, y_test = train_test_split(np.array(X_hf), y, test_size=1-ratio, random_state=42, stratify=strat)\n",
        "\n",
        "  print(f\"Classification for annotated from {int(ratio * 100)} % data using SVM...\")\n",
        "  predictions, clf = svm_classifier(X_train,X_test,y_train)\n",
        "  print(classification_report(y_test,predictions))\n",
        "  print()"
      ]
    },
    {
      "cell_type": "markdown",
      "metadata": {
        "id": "dGCXTrg8f7bC"
      },
      "source": [
        "# Text Classification 2 Labels"
      ]
    },
    {
      "cell_type": "code",
      "execution_count": 162,
      "metadata": {
        "colab": {
          "base_uri": "https://localhost:8080/",
          "height": 347,
          "referenced_widgets": [
            "d57582c578254502b7e65f54b99ee246",
            "9b2eb85c075f40ab871e063c8873c2ba",
            "bd29b650dbcd45ce93bd2c02149eab83",
            "e4c813aac7c0460599c63e0fd7a8c3e0",
            "8f067d1b46dc4111a75a7cb25d85fc49",
            "02f85eeb60624cf8862efd3436372e0f",
            "af43c0b80c4f4e9cb914858974c46a98",
            "f27c9909ad8947a7b2d50776cc748958",
            "a305fff323d84b23b346827f498548b7",
            "1765dbc7223d41268812ef25fe4558ca",
            "6e15108b87584980848abd11de20c2d0"
          ]
        },
        "id": "alpNKLF3X9n-",
        "outputId": "29562327-3f41-4e37-8630-9553684f3953"
      },
      "outputs": [
        {
          "name": "stderr",
          "output_type": "stream",
          "text": [
            "WARNING:datasets.builder:No config specified, defaulting to: id_hsd_nofaaulia/id_hsd_nofaaulia_source\n",
            "WARNING:datasets.builder:Found cached dataset id_hsd_nofaaulia (/root/.cache/huggingface/datasets/id_hsd_nofaaulia/id_hsd_nofaaulia_source/1.0.0/f4f0da66231b2dff4a39c7c40d73634a9773cc4075095988ec818827f03cdafc)\n"
          ]
        },
        {
          "data": {
            "application/vnd.jupyter.widget-view+json": {
              "model_id": "d57582c578254502b7e65f54b99ee246",
              "version_major": 2,
              "version_minor": 0
            },
            "text/plain": [
              "  0%|          | 0/2 [00:00<?, ?it/s]"
            ]
          },
          "metadata": {},
          "output_type": "display_data"
        },
        {
          "name": "stdout",
          "output_type": "stream",
          "text": [
            "    index                                               text label\n",
            "0       0  7 JAM PEMERIKSAAN 2 JAM FOTO2. Luar biasa aura...     0\n",
            "1       1  Terbitkan Perpres No 20 Tahun 2018, Presiden D...     0\n",
            "2       2  MURADI: TIM SELEKSI KPU JABAR YANG JUGA STAF A...     0\n",
            "3       3  Kaos Kampanye PilGub / PilBup / PiLeg / PilPre...     0\n",
            "4       4  TIMSES JOKOWI MA'RUF AMIN MENGAKUI JOKOWI MARU...     0\n",
            "..    ...                                                ...   ...\n",
            "810   810  #HENTIKAN #2019GANTIPRESIDEN DAN HENTIKAN TUDI...     0\n",
            "811   811  Orang ini memang tidak segagah Prabowo. Badann...     0\n",
            "812   812  Hai Cebong laknat...kalian kira...kami mengiri...     1\n",
            "813   813  LEMBAGA SURVEI YANG PREDIKSI TEPAT ANIES SANDI...     0\n",
            "814   814  BLACK CAMPAIGN SASAR SANDIAGA UNO By: Agung So...     1\n",
            "\n",
            "[815 rows x 3 columns]\n"
          ]
        }
      ],
      "source": [
        "path = \"nusa-crowd/nusacrowd/nusa_datasets/id_hsd_nofaaulia\"\n",
        "dataset = load_dataset(path)\n",
        "\n",
        "# see dataset sample:\n",
        "print(dataset['train'].to_pandas())"
      ]
    },
    {
      "cell_type": "code",
      "execution_count": 164,
      "metadata": {
        "id": "AuQVn1M0gx6k"
      },
      "outputs": [],
      "source": [
        "df = pd.concat([dataset['train'].to_pandas(),dataset['test'].to_pandas()])"
      ]
    },
    {
      "cell_type": "code",
      "execution_count": 165,
      "metadata": {
        "id": "dpGPRNBfg0xN"
      },
      "outputs": [],
      "source": [
        "X_cnt, cnt_v = count_vectorize(df.text)\n",
        "X_tfidf, tfidf_v = tfidf_vectorize(df.text)"
      ]
    },
    {
      "cell_type": "code",
      "execution_count": 166,
      "metadata": {
        "colab": {
          "base_uri": "https://localhost:8080/"
        },
        "id": "ho57caa6g4Gk",
        "outputId": "c3a7ee08-c56b-4993-e5b4-2b1cf292036e"
      },
      "outputs": [
        {
          "name": "stderr",
          "output_type": "stream",
          "text": [
            "100%|██████████| 57/57 [00:31<00:00,  1.83it/s]\n"
          ]
        }
      ],
      "source": [
        "X_hf = hf_automodel_vectorizer(df.text.values.tolist(),model,tokenizer,torch.device('cuda:0'))"
      ]
    },
    {
      "cell_type": "code",
      "execution_count": 167,
      "metadata": {
        "id": "fLfI9_DMg71s"
      },
      "outputs": [],
      "source": [
        "le = LabelEncoder().fit(df.label)\n",
        "y = le.transform(df.label)\n",
        "strat = y"
      ]
    },
    {
      "cell_type": "markdown",
      "metadata": {
        "id": "FcSqIeCghmyv"
      },
      "source": [
        "## Count"
      ]
    },
    {
      "cell_type": "code",
      "execution_count": 168,
      "metadata": {
        "colab": {
          "base_uri": "https://localhost:8080/"
        },
        "id": "3Mnx9dt_hD8b",
        "outputId": "cc6bf32a-cd1c-4f43-ca9f-2c3328601baf"
      },
      "outputs": [
        {
          "name": "stdout",
          "output_type": "stream",
          "text": [
            "Classification for annotated from 10 % data using XGBoost...\n",
            "              precision    recall  f1-score   support\n",
            "\n",
            "           0       0.77      0.94      0.85       610\n",
            "           1       0.50      0.17      0.25       206\n",
            "\n",
            "    accuracy                           0.75       816\n",
            "   macro avg       0.64      0.55      0.55       816\n",
            "weighted avg       0.70      0.75      0.70       816\n",
            "\n",
            "\n",
            "Classification for annotated from 20 % data using XGBoost...\n",
            "              precision    recall  f1-score   support\n",
            "\n",
            "           0       0.80      0.94      0.86       542\n",
            "           1       0.63      0.28      0.39       183\n",
            "\n",
            "    accuracy                           0.78       725\n",
            "   macro avg       0.71      0.61      0.62       725\n",
            "weighted avg       0.75      0.78      0.74       725\n",
            "\n",
            "\n",
            "Classification for annotated from 30 % data using XGBoost...\n",
            "              precision    recall  f1-score   support\n",
            "\n",
            "           0       0.80      0.97      0.88       474\n",
            "           1       0.75      0.28      0.41       161\n",
            "\n",
            "    accuracy                           0.79       635\n",
            "   macro avg       0.77      0.62      0.64       635\n",
            "weighted avg       0.79      0.79      0.76       635\n",
            "\n",
            "\n",
            "Classification for annotated from 40 % data using XGBoost...\n",
            "              precision    recall  f1-score   support\n",
            "\n",
            "           0       0.81      0.96      0.88       406\n",
            "           1       0.72      0.34      0.46       138\n",
            "\n",
            "    accuracy                           0.80       544\n",
            "   macro avg       0.77      0.65      0.67       544\n",
            "weighted avg       0.79      0.80      0.77       544\n",
            "\n",
            "\n",
            "Classification for annotated from 50 % data using XGBoost...\n",
            "              precision    recall  f1-score   support\n",
            "\n",
            "           0       0.81      0.94      0.87       339\n",
            "           1       0.65      0.35      0.45       114\n",
            "\n",
            "    accuracy                           0.79       453\n",
            "   macro avg       0.73      0.64      0.66       453\n",
            "weighted avg       0.77      0.79      0.76       453\n",
            "\n",
            "\n",
            "Classification for annotated from 60 % data using XGBoost...\n",
            "              precision    recall  f1-score   support\n",
            "\n",
            "           0       0.81      0.96      0.88       271\n",
            "           1       0.74      0.34      0.46        92\n",
            "\n",
            "    accuracy                           0.80       363\n",
            "   macro avg       0.77      0.65      0.67       363\n",
            "weighted avg       0.79      0.80      0.77       363\n",
            "\n",
            "\n",
            "Classification for annotated from 70 % data using XGBoost...\n",
            "              precision    recall  f1-score   support\n",
            "\n",
            "           0       0.79      0.96      0.87       203\n",
            "           1       0.69      0.26      0.38        69\n",
            "\n",
            "    accuracy                           0.78       272\n",
            "   macro avg       0.74      0.61      0.62       272\n",
            "weighted avg       0.77      0.78      0.74       272\n",
            "\n",
            "\n",
            "Classification for annotated from 80 % data using XGBoost...\n",
            "              precision    recall  f1-score   support\n",
            "\n",
            "           0       0.82      0.98      0.89       136\n",
            "           1       0.84      0.35      0.49        46\n",
            "\n",
            "    accuracy                           0.82       182\n",
            "   macro avg       0.83      0.66      0.69       182\n",
            "weighted avg       0.82      0.82      0.79       182\n",
            "\n",
            "\n",
            "Classification for annotated from 90 % data using XGBoost...\n",
            "              precision    recall  f1-score   support\n",
            "\n",
            "           0       0.83      0.99      0.90        68\n",
            "           1       0.90      0.39      0.55        23\n",
            "\n",
            "    accuracy                           0.84        91\n",
            "   macro avg       0.86      0.69      0.72        91\n",
            "weighted avg       0.85      0.84      0.81        91\n",
            "\n",
            "\n"
          ]
        }
      ],
      "source": [
        "for ratio in annotated_ratio:\n",
        "  X_train, X_test, y_train, y_test = train_test_split(X_cnt, y, test_size=1-ratio, random_state=42, stratify=strat)\n",
        "\n",
        "  print(f\"Classification for annotated from {int(ratio * 100)} % data using XGBoost...\")\n",
        "  predictions, clf = xgboost(X_train,X_test,y_train)\n",
        "  print(classification_report(y_test,predictions))\n",
        "  print()"
      ]
    },
    {
      "cell_type": "code",
      "execution_count": 169,
      "metadata": {
        "colab": {
          "base_uri": "https://localhost:8080/"
        },
        "id": "gCeIiZgMhuxk",
        "outputId": "9f80a19f-2864-4546-ad0f-13ae1b90336c"
      },
      "outputs": [
        {
          "name": "stdout",
          "output_type": "stream",
          "text": [
            "Classification for annotated from 10 % data using Adaboost...\n",
            "              precision    recall  f1-score   support\n",
            "\n",
            "           0       0.78      0.87      0.82       610\n",
            "           1       0.42      0.29      0.34       206\n",
            "\n",
            "    accuracy                           0.72       816\n",
            "   macro avg       0.60      0.58      0.58       816\n",
            "weighted avg       0.69      0.72      0.70       816\n",
            "\n",
            "\n",
            "Classification for annotated from 20 % data using Adaboost...\n",
            "              precision    recall  f1-score   support\n",
            "\n",
            "           0       0.81      0.84      0.82       542\n",
            "           1       0.47      0.42      0.44       183\n",
            "\n",
            "    accuracy                           0.73       725\n",
            "   macro avg       0.64      0.63      0.63       725\n",
            "weighted avg       0.72      0.73      0.73       725\n",
            "\n",
            "\n",
            "Classification for annotated from 30 % data using Adaboost...\n",
            "              precision    recall  f1-score   support\n",
            "\n",
            "           0       0.81      0.88      0.84       474\n",
            "           1       0.51      0.38      0.44       161\n",
            "\n",
            "    accuracy                           0.75       635\n",
            "   macro avg       0.66      0.63      0.64       635\n",
            "weighted avg       0.73      0.75      0.74       635\n",
            "\n",
            "\n",
            "Classification for annotated from 40 % data using Adaboost...\n",
            "              precision    recall  f1-score   support\n",
            "\n",
            "           0       0.80      0.88      0.84       406\n",
            "           1       0.51      0.36      0.42       138\n",
            "\n",
            "    accuracy                           0.75       544\n",
            "   macro avg       0.65      0.62      0.63       544\n",
            "weighted avg       0.73      0.75      0.73       544\n",
            "\n",
            "\n",
            "Classification for annotated from 50 % data using Adaboost...\n",
            "              precision    recall  f1-score   support\n",
            "\n",
            "           0       0.82      0.89      0.85       339\n",
            "           1       0.56      0.42      0.48       114\n",
            "\n",
            "    accuracy                           0.77       453\n",
            "   macro avg       0.69      0.65      0.67       453\n",
            "weighted avg       0.75      0.77      0.76       453\n",
            "\n",
            "\n",
            "Classification for annotated from 60 % data using Adaboost...\n",
            "              precision    recall  f1-score   support\n",
            "\n",
            "           0       0.83      0.91      0.87       271\n",
            "           1       0.63      0.46      0.53        92\n",
            "\n",
            "    accuracy                           0.79       363\n",
            "   macro avg       0.73      0.68      0.70       363\n",
            "weighted avg       0.78      0.79      0.78       363\n",
            "\n",
            "\n",
            "Classification for annotated from 70 % data using Adaboost...\n",
            "              precision    recall  f1-score   support\n",
            "\n",
            "           0       0.84      0.90      0.87       203\n",
            "           1       0.62      0.48      0.54        69\n",
            "\n",
            "    accuracy                           0.79       272\n",
            "   macro avg       0.73      0.69      0.70       272\n",
            "weighted avg       0.78      0.79      0.78       272\n",
            "\n",
            "\n",
            "Classification for annotated from 80 % data using Adaboost...\n",
            "              precision    recall  f1-score   support\n",
            "\n",
            "           0       0.87      0.90      0.88       136\n",
            "           1       0.68      0.59      0.63        46\n",
            "\n",
            "    accuracy                           0.82       182\n",
            "   macro avg       0.77      0.75      0.76       182\n",
            "weighted avg       0.82      0.82      0.82       182\n",
            "\n",
            "\n",
            "Classification for annotated from 90 % data using Adaboost...\n",
            "              precision    recall  f1-score   support\n",
            "\n",
            "           0       0.86      0.93      0.89        68\n",
            "           1       0.72      0.57      0.63        23\n",
            "\n",
            "    accuracy                           0.84        91\n",
            "   macro avg       0.79      0.75      0.76        91\n",
            "weighted avg       0.83      0.84      0.83        91\n",
            "\n",
            "\n"
          ]
        }
      ],
      "source": [
        "for ratio in annotated_ratio:\n",
        "  X_train, X_test, y_train, y_test = train_test_split(X_cnt, y, test_size=1-ratio, random_state=42, stratify=strat)\n",
        "\n",
        "  print(f\"Classification for annotated from {int(ratio * 100)} % data using Adaboost...\")\n",
        "  predictions, clf = adaboost(X_train,X_test,y_train)\n",
        "  print(classification_report(y_test,predictions))\n",
        "  print()"
      ]
    },
    {
      "cell_type": "code",
      "execution_count": 170,
      "metadata": {
        "colab": {
          "base_uri": "https://localhost:8080/"
        },
        "id": "IY_Un-o4hxKw",
        "outputId": "7749cacd-0d76-427e-9425-9e21a839dc1b"
      },
      "outputs": [
        {
          "name": "stdout",
          "output_type": "stream",
          "text": [
            "Classification for annotated from 10 % data using SVM Classifier...\n",
            "              precision    recall  f1-score   support\n",
            "\n",
            "           0       0.75      1.00      0.86       610\n",
            "           1       0.00      0.00      0.00       206\n",
            "\n",
            "    accuracy                           0.75       816\n",
            "   macro avg       0.37      0.50      0.43       816\n",
            "weighted avg       0.56      0.75      0.64       816\n",
            "\n",
            "\n",
            "Classification for annotated from 20 % data using SVM Classifier...\n"
          ]
        },
        {
          "name": "stderr",
          "output_type": "stream",
          "text": [
            "/usr/local/lib/python3.7/dist-packages/sklearn/metrics/_classification.py:1318: UndefinedMetricWarning: Precision and F-score are ill-defined and being set to 0.0 in labels with no predicted samples. Use `zero_division` parameter to control this behavior.\n",
            "  _warn_prf(average, modifier, msg_start, len(result))\n",
            "/usr/local/lib/python3.7/dist-packages/sklearn/metrics/_classification.py:1318: UndefinedMetricWarning: Precision and F-score are ill-defined and being set to 0.0 in labels with no predicted samples. Use `zero_division` parameter to control this behavior.\n",
            "  _warn_prf(average, modifier, msg_start, len(result))\n",
            "/usr/local/lib/python3.7/dist-packages/sklearn/metrics/_classification.py:1318: UndefinedMetricWarning: Precision and F-score are ill-defined and being set to 0.0 in labels with no predicted samples. Use `zero_division` parameter to control this behavior.\n",
            "  _warn_prf(average, modifier, msg_start, len(result))\n",
            "/usr/local/lib/python3.7/dist-packages/sklearn/metrics/_classification.py:1318: UndefinedMetricWarning: Precision and F-score are ill-defined and being set to 0.0 in labels with no predicted samples. Use `zero_division` parameter to control this behavior.\n",
            "  _warn_prf(average, modifier, msg_start, len(result))\n",
            "/usr/local/lib/python3.7/dist-packages/sklearn/metrics/_classification.py:1318: UndefinedMetricWarning: Precision and F-score are ill-defined and being set to 0.0 in labels with no predicted samples. Use `zero_division` parameter to control this behavior.\n",
            "  _warn_prf(average, modifier, msg_start, len(result))\n",
            "/usr/local/lib/python3.7/dist-packages/sklearn/metrics/_classification.py:1318: UndefinedMetricWarning: Precision and F-score are ill-defined and being set to 0.0 in labels with no predicted samples. Use `zero_division` parameter to control this behavior.\n",
            "  _warn_prf(average, modifier, msg_start, len(result))\n"
          ]
        },
        {
          "name": "stdout",
          "output_type": "stream",
          "text": [
            "              precision    recall  f1-score   support\n",
            "\n",
            "           0       0.75      1.00      0.86       542\n",
            "           1       0.00      0.00      0.00       183\n",
            "\n",
            "    accuracy                           0.75       725\n",
            "   macro avg       0.37      0.50      0.43       725\n",
            "weighted avg       0.56      0.75      0.64       725\n",
            "\n",
            "\n",
            "Classification for annotated from 30 % data using SVM Classifier...\n"
          ]
        },
        {
          "name": "stderr",
          "output_type": "stream",
          "text": [
            "/usr/local/lib/python3.7/dist-packages/sklearn/metrics/_classification.py:1318: UndefinedMetricWarning: Precision and F-score are ill-defined and being set to 0.0 in labels with no predicted samples. Use `zero_division` parameter to control this behavior.\n",
            "  _warn_prf(average, modifier, msg_start, len(result))\n",
            "/usr/local/lib/python3.7/dist-packages/sklearn/metrics/_classification.py:1318: UndefinedMetricWarning: Precision and F-score are ill-defined and being set to 0.0 in labels with no predicted samples. Use `zero_division` parameter to control this behavior.\n",
            "  _warn_prf(average, modifier, msg_start, len(result))\n",
            "/usr/local/lib/python3.7/dist-packages/sklearn/metrics/_classification.py:1318: UndefinedMetricWarning: Precision and F-score are ill-defined and being set to 0.0 in labels with no predicted samples. Use `zero_division` parameter to control this behavior.\n",
            "  _warn_prf(average, modifier, msg_start, len(result))\n"
          ]
        },
        {
          "name": "stdout",
          "output_type": "stream",
          "text": [
            "              precision    recall  f1-score   support\n",
            "\n",
            "           0       0.75      1.00      0.85       474\n",
            "           1       0.00      0.00      0.00       161\n",
            "\n",
            "    accuracy                           0.75       635\n",
            "   macro avg       0.37      0.50      0.43       635\n",
            "weighted avg       0.56      0.75      0.64       635\n",
            "\n",
            "\n",
            "Classification for annotated from 40 % data using SVM Classifier...\n",
            "              precision    recall  f1-score   support\n",
            "\n",
            "           0       0.75      1.00      0.86       406\n",
            "           1       1.00      0.01      0.03       138\n",
            "\n",
            "    accuracy                           0.75       544\n",
            "   macro avg       0.87      0.51      0.44       544\n",
            "weighted avg       0.81      0.75      0.65       544\n",
            "\n",
            "\n",
            "Classification for annotated from 50 % data using SVM Classifier...\n",
            "              precision    recall  f1-score   support\n",
            "\n",
            "           0       0.75      1.00      0.86       339\n",
            "           1       0.80      0.04      0.07       114\n",
            "\n",
            "    accuracy                           0.75       453\n",
            "   macro avg       0.78      0.52      0.46       453\n",
            "weighted avg       0.77      0.75      0.66       453\n",
            "\n",
            "\n",
            "Classification for annotated from 60 % data using SVM Classifier...\n",
            "              precision    recall  f1-score   support\n",
            "\n",
            "           0       0.76      0.99      0.86       271\n",
            "           1       0.70      0.08      0.14        92\n",
            "\n",
            "    accuracy                           0.76       363\n",
            "   macro avg       0.73      0.53      0.50       363\n",
            "weighted avg       0.74      0.76      0.68       363\n",
            "\n",
            "\n",
            "Classification for annotated from 70 % data using SVM Classifier...\n",
            "              precision    recall  f1-score   support\n",
            "\n",
            "           0       0.78      0.99      0.87       203\n",
            "           1       0.79      0.16      0.27        69\n",
            "\n",
            "    accuracy                           0.78       272\n",
            "   macro avg       0.78      0.57      0.57       272\n",
            "weighted avg       0.78      0.78      0.71       272\n",
            "\n",
            "\n",
            "Classification for annotated from 80 % data using SVM Classifier...\n",
            "              precision    recall  f1-score   support\n",
            "\n",
            "           0       0.78      1.00      0.88       136\n",
            "           1       1.00      0.17      0.30        46\n",
            "\n",
            "    accuracy                           0.79       182\n",
            "   macro avg       0.89      0.59      0.59       182\n",
            "weighted avg       0.84      0.79      0.73       182\n",
            "\n",
            "\n",
            "Classification for annotated from 90 % data using SVM Classifier...\n",
            "              precision    recall  f1-score   support\n",
            "\n",
            "           0       0.79      1.00      0.88        68\n",
            "           1       1.00      0.22      0.36        23\n",
            "\n",
            "    accuracy                           0.80        91\n",
            "   macro avg       0.90      0.61      0.62        91\n",
            "weighted avg       0.84      0.80      0.75        91\n",
            "\n",
            "\n"
          ]
        }
      ],
      "source": [
        "for ratio in annotated_ratio:\n",
        "  X_train, X_test, y_train, y_test = train_test_split(X_cnt, y, test_size=1-ratio, random_state=42, stratify=strat)\n",
        "\n",
        "  print(f\"Classification for annotated from {int(ratio * 100)} % data using SVM Classifier...\")\n",
        "  predictions, clf = svm_classifier(X_train,X_test,y_train)\n",
        "  print(classification_report(y_test,predictions))\n",
        "  print()"
      ]
    },
    {
      "cell_type": "markdown",
      "metadata": {
        "id": "yAGrRxywhpwn"
      },
      "source": [
        "## Tfidf"
      ]
    },
    {
      "cell_type": "code",
      "execution_count": 171,
      "metadata": {
        "colab": {
          "base_uri": "https://localhost:8080/"
        },
        "id": "jfGQMP6Rhn6r",
        "outputId": "f92cd098-5f92-4d30-ed2f-1d0c16a39496"
      },
      "outputs": [
        {
          "name": "stdout",
          "output_type": "stream",
          "text": [
            "Classification for annotated from 10 % data using XGBoost...\n",
            "              precision    recall  f1-score   support\n",
            "\n",
            "           0       0.76      0.96      0.85       610\n",
            "           1       0.48      0.11      0.18       206\n",
            "\n",
            "    accuracy                           0.75       816\n",
            "   macro avg       0.62      0.54      0.52       816\n",
            "weighted avg       0.69      0.75      0.68       816\n",
            "\n",
            "\n",
            "Classification for annotated from 20 % data using XGBoost...\n",
            "              precision    recall  f1-score   support\n",
            "\n",
            "           0       0.78      0.94      0.86       542\n",
            "           1       0.57      0.22      0.32       183\n",
            "\n",
            "    accuracy                           0.76       725\n",
            "   macro avg       0.68      0.58      0.59       725\n",
            "weighted avg       0.73      0.76      0.72       725\n",
            "\n",
            "\n",
            "Classification for annotated from 30 % data using XGBoost...\n",
            "              precision    recall  f1-score   support\n",
            "\n",
            "           0       0.79      0.97      0.87       474\n",
            "           1       0.71      0.23      0.35       161\n",
            "\n",
            "    accuracy                           0.78       635\n",
            "   macro avg       0.75      0.60      0.61       635\n",
            "weighted avg       0.77      0.78      0.74       635\n",
            "\n",
            "\n",
            "Classification for annotated from 40 % data using XGBoost...\n",
            "              precision    recall  f1-score   support\n",
            "\n",
            "           0       0.81      0.97      0.88       406\n",
            "           1       0.77      0.31      0.44       138\n",
            "\n",
            "    accuracy                           0.80       544\n",
            "   macro avg       0.79      0.64      0.66       544\n",
            "weighted avg       0.80      0.80      0.77       544\n",
            "\n",
            "\n",
            "Classification for annotated from 50 % data using XGBoost...\n",
            "              precision    recall  f1-score   support\n",
            "\n",
            "           0       0.80      0.97      0.88       339\n",
            "           1       0.76      0.30      0.43       114\n",
            "\n",
            "    accuracy                           0.80       453\n",
            "   macro avg       0.78      0.63      0.65       453\n",
            "weighted avg       0.79      0.80      0.76       453\n",
            "\n",
            "\n",
            "Classification for annotated from 60 % data using XGBoost...\n",
            "              precision    recall  f1-score   support\n",
            "\n",
            "           0       0.82      0.97      0.89       271\n",
            "           1       0.80      0.38      0.51        92\n",
            "\n",
            "    accuracy                           0.82       363\n",
            "   macro avg       0.81      0.67      0.70       363\n",
            "weighted avg       0.81      0.82      0.79       363\n",
            "\n",
            "\n",
            "Classification for annotated from 70 % data using XGBoost...\n",
            "              precision    recall  f1-score   support\n",
            "\n",
            "           0       0.81      0.97      0.88       203\n",
            "           1       0.79      0.33      0.47        69\n",
            "\n",
            "    accuracy                           0.81       272\n",
            "   macro avg       0.80      0.65      0.68       272\n",
            "weighted avg       0.81      0.81      0.78       272\n",
            "\n",
            "\n",
            "Classification for annotated from 80 % data using XGBoost...\n",
            "              precision    recall  f1-score   support\n",
            "\n",
            "           0       0.82      0.97      0.89       136\n",
            "           1       0.82      0.39      0.53        46\n",
            "\n",
            "    accuracy                           0.82       182\n",
            "   macro avg       0.82      0.68      0.71       182\n",
            "weighted avg       0.82      0.82      0.80       182\n",
            "\n",
            "\n",
            "Classification for annotated from 90 % data using XGBoost...\n",
            "              precision    recall  f1-score   support\n",
            "\n",
            "           0       0.84      0.99      0.91        68\n",
            "           1       0.91      0.43      0.59        23\n",
            "\n",
            "    accuracy                           0.85        91\n",
            "   macro avg       0.87      0.71      0.75        91\n",
            "weighted avg       0.86      0.85      0.83        91\n",
            "\n",
            "\n"
          ]
        }
      ],
      "source": [
        "for ratio in annotated_ratio:\n",
        "  X_train, X_test, y_train, y_test = train_test_split(X_tfidf, y, test_size=1-ratio, random_state=42, stratify=strat)\n",
        "\n",
        "  print(f\"Classification for annotated from {int(ratio * 100)} % data using XGBoost...\")\n",
        "  predictions, clf = xgboost(X_train,X_test,y_train)\n",
        "  print(classification_report(y_test,predictions))\n",
        "  print()"
      ]
    },
    {
      "cell_type": "code",
      "execution_count": 172,
      "metadata": {
        "colab": {
          "base_uri": "https://localhost:8080/"
        },
        "id": "uK3OOj95hqnb",
        "outputId": "e3688843-ab8c-4f6f-8f9a-7e7d191250fb"
      },
      "outputs": [
        {
          "name": "stdout",
          "output_type": "stream",
          "text": [
            "Classification for annotated from 10 % data using Adaboost...\n",
            "              precision    recall  f1-score   support\n",
            "\n",
            "           0       0.78      0.90      0.83       610\n",
            "           1       0.44      0.23      0.30       206\n",
            "\n",
            "    accuracy                           0.73       816\n",
            "   macro avg       0.61      0.56      0.57       816\n",
            "weighted avg       0.69      0.73      0.70       816\n",
            "\n",
            "\n",
            "Classification for annotated from 20 % data using Adaboost...\n",
            "              precision    recall  f1-score   support\n",
            "\n",
            "           0       0.81      0.82      0.82       542\n",
            "           1       0.45      0.44      0.44       183\n",
            "\n",
            "    accuracy                           0.72       725\n",
            "   macro avg       0.63      0.63      0.63       725\n",
            "weighted avg       0.72      0.72      0.72       725\n",
            "\n",
            "\n",
            "Classification for annotated from 30 % data using Adaboost...\n",
            "              precision    recall  f1-score   support\n",
            "\n",
            "           0       0.81      0.88      0.84       474\n",
            "           1       0.52      0.38      0.44       161\n",
            "\n",
            "    accuracy                           0.75       635\n",
            "   macro avg       0.66      0.63      0.64       635\n",
            "weighted avg       0.73      0.75      0.74       635\n",
            "\n",
            "\n",
            "Classification for annotated from 40 % data using Adaboost...\n",
            "              precision    recall  f1-score   support\n",
            "\n",
            "           0       0.83      0.88      0.85       406\n",
            "           1       0.57      0.46      0.51       138\n",
            "\n",
            "    accuracy                           0.77       544\n",
            "   macro avg       0.70      0.67      0.68       544\n",
            "weighted avg       0.76      0.77      0.77       544\n",
            "\n",
            "\n",
            "Classification for annotated from 50 % data using Adaboost...\n",
            "              precision    recall  f1-score   support\n",
            "\n",
            "           0       0.84      0.89      0.87       339\n",
            "           1       0.62      0.51      0.56       114\n",
            "\n",
            "    accuracy                           0.80       453\n",
            "   macro avg       0.73      0.70      0.71       453\n",
            "weighted avg       0.79      0.80      0.79       453\n",
            "\n",
            "\n",
            "Classification for annotated from 60 % data using Adaboost...\n",
            "              precision    recall  f1-score   support\n",
            "\n",
            "           0       0.83      0.89      0.86       271\n",
            "           1       0.60      0.47      0.52        92\n",
            "\n",
            "    accuracy                           0.79       363\n",
            "   macro avg       0.71      0.68      0.69       363\n",
            "weighted avg       0.77      0.79      0.78       363\n",
            "\n",
            "\n",
            "Classification for annotated from 70 % data using Adaboost...\n",
            "              precision    recall  f1-score   support\n",
            "\n",
            "           0       0.83      0.89      0.86       203\n",
            "           1       0.57      0.45      0.50        69\n",
            "\n",
            "    accuracy                           0.78       272\n",
            "   macro avg       0.70      0.67      0.68       272\n",
            "weighted avg       0.76      0.78      0.77       272\n",
            "\n",
            "\n",
            "Classification for annotated from 80 % data using Adaboost...\n",
            "              precision    recall  f1-score   support\n",
            "\n",
            "           0       0.82      0.89      0.86       136\n",
            "           1       0.57      0.43      0.49        46\n",
            "\n",
            "    accuracy                           0.77       182\n",
            "   macro avg       0.70      0.66      0.67       182\n",
            "weighted avg       0.76      0.77      0.76       182\n",
            "\n",
            "\n",
            "Classification for annotated from 90 % data using Adaboost...\n",
            "              precision    recall  f1-score   support\n",
            "\n",
            "           0       0.84      0.93      0.88        68\n",
            "           1       0.69      0.48      0.56        23\n",
            "\n",
            "    accuracy                           0.81        91\n",
            "   macro avg       0.76      0.70      0.72        91\n",
            "weighted avg       0.80      0.81      0.80        91\n",
            "\n",
            "\n"
          ]
        }
      ],
      "source": [
        "for ratio in annotated_ratio:\n",
        "  X_train, X_test, y_train, y_test = train_test_split(X_tfidf, y, test_size=1-ratio, random_state=42, stratify=strat)\n",
        "\n",
        "  print(f\"Classification for annotated from {int(ratio * 100)} % data using Adaboost...\")\n",
        "  predictions, clf = adaboost(X_train,X_test,y_train)\n",
        "  print(classification_report(y_test,predictions))\n",
        "  print()"
      ]
    },
    {
      "cell_type": "code",
      "execution_count": 173,
      "metadata": {
        "colab": {
          "base_uri": "https://localhost:8080/"
        },
        "id": "MiDFjv93hzBs",
        "outputId": "1dd4cabc-5e18-45c0-ecbb-691be0ad7a14"
      },
      "outputs": [
        {
          "name": "stdout",
          "output_type": "stream",
          "text": [
            "Classification for annotated from 10 % data using SVM...\n",
            "              precision    recall  f1-score   support\n",
            "\n",
            "           0       0.75      1.00      0.86       610\n",
            "           1       0.00      0.00      0.00       206\n",
            "\n",
            "    accuracy                           0.75       816\n",
            "   macro avg       0.37      0.50      0.43       816\n",
            "weighted avg       0.56      0.75      0.64       816\n",
            "\n",
            "\n",
            "Classification for annotated from 20 % data using SVM...\n"
          ]
        },
        {
          "name": "stderr",
          "output_type": "stream",
          "text": [
            "/usr/local/lib/python3.7/dist-packages/sklearn/metrics/_classification.py:1318: UndefinedMetricWarning: Precision and F-score are ill-defined and being set to 0.0 in labels with no predicted samples. Use `zero_division` parameter to control this behavior.\n",
            "  _warn_prf(average, modifier, msg_start, len(result))\n",
            "/usr/local/lib/python3.7/dist-packages/sklearn/metrics/_classification.py:1318: UndefinedMetricWarning: Precision and F-score are ill-defined and being set to 0.0 in labels with no predicted samples. Use `zero_division` parameter to control this behavior.\n",
            "  _warn_prf(average, modifier, msg_start, len(result))\n",
            "/usr/local/lib/python3.7/dist-packages/sklearn/metrics/_classification.py:1318: UndefinedMetricWarning: Precision and F-score are ill-defined and being set to 0.0 in labels with no predicted samples. Use `zero_division` parameter to control this behavior.\n",
            "  _warn_prf(average, modifier, msg_start, len(result))\n",
            "/usr/local/lib/python3.7/dist-packages/sklearn/metrics/_classification.py:1318: UndefinedMetricWarning: Precision and F-score are ill-defined and being set to 0.0 in labels with no predicted samples. Use `zero_division` parameter to control this behavior.\n",
            "  _warn_prf(average, modifier, msg_start, len(result))\n",
            "/usr/local/lib/python3.7/dist-packages/sklearn/metrics/_classification.py:1318: UndefinedMetricWarning: Precision and F-score are ill-defined and being set to 0.0 in labels with no predicted samples. Use `zero_division` parameter to control this behavior.\n",
            "  _warn_prf(average, modifier, msg_start, len(result))\n",
            "/usr/local/lib/python3.7/dist-packages/sklearn/metrics/_classification.py:1318: UndefinedMetricWarning: Precision and F-score are ill-defined and being set to 0.0 in labels with no predicted samples. Use `zero_division` parameter to control this behavior.\n",
            "  _warn_prf(average, modifier, msg_start, len(result))\n"
          ]
        },
        {
          "name": "stdout",
          "output_type": "stream",
          "text": [
            "              precision    recall  f1-score   support\n",
            "\n",
            "           0       0.75      1.00      0.86       542\n",
            "           1       0.00      0.00      0.00       183\n",
            "\n",
            "    accuracy                           0.75       725\n",
            "   macro avg       0.37      0.50      0.43       725\n",
            "weighted avg       0.56      0.75      0.64       725\n",
            "\n",
            "\n",
            "Classification for annotated from 30 % data using SVM...\n"
          ]
        },
        {
          "name": "stderr",
          "output_type": "stream",
          "text": [
            "/usr/local/lib/python3.7/dist-packages/sklearn/metrics/_classification.py:1318: UndefinedMetricWarning: Precision and F-score are ill-defined and being set to 0.0 in labels with no predicted samples. Use `zero_division` parameter to control this behavior.\n",
            "  _warn_prf(average, modifier, msg_start, len(result))\n",
            "/usr/local/lib/python3.7/dist-packages/sklearn/metrics/_classification.py:1318: UndefinedMetricWarning: Precision and F-score are ill-defined and being set to 0.0 in labels with no predicted samples. Use `zero_division` parameter to control this behavior.\n",
            "  _warn_prf(average, modifier, msg_start, len(result))\n",
            "/usr/local/lib/python3.7/dist-packages/sklearn/metrics/_classification.py:1318: UndefinedMetricWarning: Precision and F-score are ill-defined and being set to 0.0 in labels with no predicted samples. Use `zero_division` parameter to control this behavior.\n",
            "  _warn_prf(average, modifier, msg_start, len(result))\n"
          ]
        },
        {
          "name": "stdout",
          "output_type": "stream",
          "text": [
            "              precision    recall  f1-score   support\n",
            "\n",
            "           0       0.75      1.00      0.85       474\n",
            "           1       0.00      0.00      0.00       161\n",
            "\n",
            "    accuracy                           0.75       635\n",
            "   macro avg       0.37      0.50      0.43       635\n",
            "weighted avg       0.56      0.75      0.64       635\n",
            "\n",
            "\n",
            "Classification for annotated from 40 % data using SVM...\n"
          ]
        },
        {
          "name": "stderr",
          "output_type": "stream",
          "text": [
            "/usr/local/lib/python3.7/dist-packages/sklearn/metrics/_classification.py:1318: UndefinedMetricWarning: Precision and F-score are ill-defined and being set to 0.0 in labels with no predicted samples. Use `zero_division` parameter to control this behavior.\n",
            "  _warn_prf(average, modifier, msg_start, len(result))\n",
            "/usr/local/lib/python3.7/dist-packages/sklearn/metrics/_classification.py:1318: UndefinedMetricWarning: Precision and F-score are ill-defined and being set to 0.0 in labels with no predicted samples. Use `zero_division` parameter to control this behavior.\n",
            "  _warn_prf(average, modifier, msg_start, len(result))\n",
            "/usr/local/lib/python3.7/dist-packages/sklearn/metrics/_classification.py:1318: UndefinedMetricWarning: Precision and F-score are ill-defined and being set to 0.0 in labels with no predicted samples. Use `zero_division` parameter to control this behavior.\n",
            "  _warn_prf(average, modifier, msg_start, len(result))\n"
          ]
        },
        {
          "name": "stdout",
          "output_type": "stream",
          "text": [
            "              precision    recall  f1-score   support\n",
            "\n",
            "           0       0.75      1.00      0.85       406\n",
            "           1       0.00      0.00      0.00       138\n",
            "\n",
            "    accuracy                           0.75       544\n",
            "   macro avg       0.37      0.50      0.43       544\n",
            "weighted avg       0.56      0.75      0.64       544\n",
            "\n",
            "\n",
            "Classification for annotated from 50 % data using SVM...\n"
          ]
        },
        {
          "name": "stderr",
          "output_type": "stream",
          "text": [
            "/usr/local/lib/python3.7/dist-packages/sklearn/metrics/_classification.py:1318: UndefinedMetricWarning: Precision and F-score are ill-defined and being set to 0.0 in labels with no predicted samples. Use `zero_division` parameter to control this behavior.\n",
            "  _warn_prf(average, modifier, msg_start, len(result))\n",
            "/usr/local/lib/python3.7/dist-packages/sklearn/metrics/_classification.py:1318: UndefinedMetricWarning: Precision and F-score are ill-defined and being set to 0.0 in labels with no predicted samples. Use `zero_division` parameter to control this behavior.\n",
            "  _warn_prf(average, modifier, msg_start, len(result))\n",
            "/usr/local/lib/python3.7/dist-packages/sklearn/metrics/_classification.py:1318: UndefinedMetricWarning: Precision and F-score are ill-defined and being set to 0.0 in labels with no predicted samples. Use `zero_division` parameter to control this behavior.\n",
            "  _warn_prf(average, modifier, msg_start, len(result))\n"
          ]
        },
        {
          "name": "stdout",
          "output_type": "stream",
          "text": [
            "              precision    recall  f1-score   support\n",
            "\n",
            "           0       0.75      1.00      0.86       339\n",
            "           1       0.00      0.00      0.00       114\n",
            "\n",
            "    accuracy                           0.75       453\n",
            "   macro avg       0.37      0.50      0.43       453\n",
            "weighted avg       0.56      0.75      0.64       453\n",
            "\n",
            "\n",
            "Classification for annotated from 60 % data using SVM...\n"
          ]
        },
        {
          "name": "stderr",
          "output_type": "stream",
          "text": [
            "/usr/local/lib/python3.7/dist-packages/sklearn/metrics/_classification.py:1318: UndefinedMetricWarning: Precision and F-score are ill-defined and being set to 0.0 in labels with no predicted samples. Use `zero_division` parameter to control this behavior.\n",
            "  _warn_prf(average, modifier, msg_start, len(result))\n",
            "/usr/local/lib/python3.7/dist-packages/sklearn/metrics/_classification.py:1318: UndefinedMetricWarning: Precision and F-score are ill-defined and being set to 0.0 in labels with no predicted samples. Use `zero_division` parameter to control this behavior.\n",
            "  _warn_prf(average, modifier, msg_start, len(result))\n",
            "/usr/local/lib/python3.7/dist-packages/sklearn/metrics/_classification.py:1318: UndefinedMetricWarning: Precision and F-score are ill-defined and being set to 0.0 in labels with no predicted samples. Use `zero_division` parameter to control this behavior.\n",
            "  _warn_prf(average, modifier, msg_start, len(result))\n"
          ]
        },
        {
          "name": "stdout",
          "output_type": "stream",
          "text": [
            "              precision    recall  f1-score   support\n",
            "\n",
            "           0       0.75      1.00      0.85       271\n",
            "           1       0.00      0.00      0.00        92\n",
            "\n",
            "    accuracy                           0.75       363\n",
            "   macro avg       0.37      0.50      0.43       363\n",
            "weighted avg       0.56      0.75      0.64       363\n",
            "\n",
            "\n",
            "Classification for annotated from 70 % data using SVM...\n",
            "              precision    recall  f1-score   support\n",
            "\n",
            "           0       0.75      1.00      0.86       203\n",
            "           1       1.00      0.01      0.03        69\n",
            "\n",
            "    accuracy                           0.75       272\n",
            "   macro avg       0.87      0.51      0.44       272\n",
            "weighted avg       0.81      0.75      0.65       272\n",
            "\n",
            "\n",
            "Classification for annotated from 80 % data using SVM...\n",
            "              precision    recall  f1-score   support\n",
            "\n",
            "           0       0.76      1.00      0.86       136\n",
            "           1       1.00      0.04      0.08        46\n",
            "\n",
            "    accuracy                           0.76       182\n",
            "   macro avg       0.88      0.52      0.47       182\n",
            "weighted avg       0.82      0.76      0.66       182\n",
            "\n",
            "\n",
            "Classification for annotated from 90 % data using SVM...\n",
            "              precision    recall  f1-score   support\n",
            "\n",
            "           0       0.76      1.00      0.87        68\n",
            "           1       1.00      0.09      0.16        23\n",
            "\n",
            "    accuracy                           0.77        91\n",
            "   macro avg       0.88      0.54      0.51        91\n",
            "weighted avg       0.82      0.77      0.69        91\n",
            "\n",
            "\n"
          ]
        }
      ],
      "source": [
        "for ratio in annotated_ratio:\n",
        "  X_train, X_test, y_train, y_test = train_test_split(X_tfidf, y, test_size=1-ratio, random_state=42, stratify=strat)\n",
        "\n",
        "  print(f\"Classification for annotated from {int(ratio * 100)} % data using SVM...\")\n",
        "  predictions, clf = svm_classifier(X_train,X_test,y_train)\n",
        "  print(classification_report(y_test,predictions))\n",
        "  print()"
      ]
    },
    {
      "cell_type": "markdown",
      "metadata": {
        "id": "WYYvZHy3h1AL"
      },
      "source": [
        "## HF"
      ]
    },
    {
      "cell_type": "code",
      "execution_count": 174,
      "metadata": {
        "colab": {
          "base_uri": "https://localhost:8080/"
        },
        "id": "u5dQ5YA3h0ck",
        "outputId": "1556b940-3c1e-4279-b4bb-a40c717c37a3"
      },
      "outputs": [
        {
          "name": "stdout",
          "output_type": "stream",
          "text": [
            "Classification for annotated from 10 % data using XGBoost...\n",
            "              precision    recall  f1-score   support\n",
            "\n",
            "           0       0.81      0.92      0.86       610\n",
            "           1       0.60      0.36      0.45       206\n",
            "\n",
            "    accuracy                           0.78       816\n",
            "   macro avg       0.71      0.64      0.66       816\n",
            "weighted avg       0.76      0.78      0.76       816\n",
            "\n",
            "\n",
            "Classification for annotated from 20 % data using XGBoost...\n",
            "              precision    recall  f1-score   support\n",
            "\n",
            "           0       0.82      0.95      0.88       542\n",
            "           1       0.72      0.40      0.52       183\n",
            "\n",
            "    accuracy                           0.81       725\n",
            "   macro avg       0.77      0.68      0.70       725\n",
            "weighted avg       0.80      0.81      0.79       725\n",
            "\n",
            "\n",
            "Classification for annotated from 30 % data using XGBoost...\n",
            "              precision    recall  f1-score   support\n",
            "\n",
            "           0       0.84      0.95      0.89       474\n",
            "           1       0.76      0.48      0.59       161\n",
            "\n",
            "    accuracy                           0.83       635\n",
            "   macro avg       0.80      0.72      0.74       635\n",
            "weighted avg       0.82      0.83      0.82       635\n",
            "\n",
            "\n",
            "Classification for annotated from 40 % data using XGBoost...\n",
            "              precision    recall  f1-score   support\n",
            "\n",
            "           0       0.86      0.94      0.90       406\n",
            "           1       0.77      0.57      0.65       138\n",
            "\n",
            "    accuracy                           0.85       544\n",
            "   macro avg       0.82      0.75      0.78       544\n",
            "weighted avg       0.84      0.85      0.84       544\n",
            "\n",
            "\n",
            "Classification for annotated from 50 % data using XGBoost...\n",
            "              precision    recall  f1-score   support\n",
            "\n",
            "           0       0.87      0.95      0.91       339\n",
            "           1       0.78      0.57      0.66       114\n",
            "\n",
            "    accuracy                           0.85       453\n",
            "   macro avg       0.83      0.76      0.78       453\n",
            "weighted avg       0.85      0.85      0.84       453\n",
            "\n",
            "\n",
            "Classification for annotated from 60 % data using XGBoost...\n",
            "              precision    recall  f1-score   support\n",
            "\n",
            "           0       0.86      0.94      0.90       271\n",
            "           1       0.78      0.57      0.65        92\n",
            "\n",
            "    accuracy                           0.85       363\n",
            "   macro avg       0.82      0.75      0.78       363\n",
            "weighted avg       0.84      0.85      0.84       363\n",
            "\n",
            "\n",
            "Classification for annotated from 70 % data using XGBoost...\n",
            "              precision    recall  f1-score   support\n",
            "\n",
            "           0       0.84      0.93      0.88       203\n",
            "           1       0.69      0.49      0.58        69\n",
            "\n",
            "    accuracy                           0.82       272\n",
            "   macro avg       0.77      0.71      0.73       272\n",
            "weighted avg       0.81      0.82      0.80       272\n",
            "\n",
            "\n",
            "Classification for annotated from 80 % data using XGBoost...\n",
            "              precision    recall  f1-score   support\n",
            "\n",
            "           0       0.87      0.93      0.90       136\n",
            "           1       0.75      0.59      0.66        46\n",
            "\n",
            "    accuracy                           0.85       182\n",
            "   macro avg       0.81      0.76      0.78       182\n",
            "weighted avg       0.84      0.85      0.84       182\n",
            "\n",
            "\n",
            "Classification for annotated from 90 % data using XGBoost...\n",
            "              precision    recall  f1-score   support\n",
            "\n",
            "           0       0.86      0.96      0.90        68\n",
            "           1       0.80      0.52      0.63        23\n",
            "\n",
            "    accuracy                           0.85        91\n",
            "   macro avg       0.83      0.74      0.77        91\n",
            "weighted avg       0.84      0.85      0.83        91\n",
            "\n",
            "\n"
          ]
        }
      ],
      "source": [
        "for ratio in annotated_ratio:\n",
        "  X_train, X_test, y_train, y_test = train_test_split(np.array(X_hf), y, test_size=1-ratio, random_state=42, stratify=strat)\n",
        "\n",
        "  print(f\"Classification for annotated from {int(ratio * 100)} % data using XGBoost...\")\n",
        "  predictions, clf = xgboost(X_train,X_test,y_train)\n",
        "  print(classification_report(y_test,predictions))\n",
        "  print()"
      ]
    },
    {
      "cell_type": "code",
      "execution_count": 175,
      "metadata": {
        "colab": {
          "base_uri": "https://localhost:8080/"
        },
        "id": "B8bzY-wqh3K8",
        "outputId": "ff432c17-b976-4e6c-eab1-a59946a648fc"
      },
      "outputs": [
        {
          "name": "stdout",
          "output_type": "stream",
          "text": [
            "Classification for annotated from 10 % data using Adaboost...\n",
            "              precision    recall  f1-score   support\n",
            "\n",
            "           0       0.82      0.93      0.87       610\n",
            "           1       0.66      0.39      0.49       206\n",
            "\n",
            "    accuracy                           0.79       816\n",
            "   macro avg       0.74      0.66      0.68       816\n",
            "weighted avg       0.78      0.79      0.77       816\n",
            "\n",
            "\n",
            "Classification for annotated from 20 % data using Adaboost...\n",
            "              precision    recall  f1-score   support\n",
            "\n",
            "           0       0.84      0.91      0.88       542\n",
            "           1       0.66      0.49      0.56       183\n",
            "\n",
            "    accuracy                           0.81       725\n",
            "   macro avg       0.75      0.70      0.72       725\n",
            "weighted avg       0.80      0.81      0.80       725\n",
            "\n",
            "\n",
            "Classification for annotated from 30 % data using Adaboost...\n",
            "              precision    recall  f1-score   support\n",
            "\n",
            "           0       0.86      0.91      0.88       474\n",
            "           1       0.67      0.57      0.62       161\n",
            "\n",
            "    accuracy                           0.82       635\n",
            "   macro avg       0.77      0.74      0.75       635\n",
            "weighted avg       0.81      0.82      0.82       635\n",
            "\n",
            "\n",
            "Classification for annotated from 40 % data using Adaboost...\n",
            "              precision    recall  f1-score   support\n",
            "\n",
            "           0       0.87      0.90      0.89       406\n",
            "           1       0.67      0.62      0.64       138\n",
            "\n",
            "    accuracy                           0.83       544\n",
            "   macro avg       0.77      0.76      0.76       544\n",
            "weighted avg       0.82      0.83      0.82       544\n",
            "\n",
            "\n",
            "Classification for annotated from 50 % data using Adaboost...\n",
            "              precision    recall  f1-score   support\n",
            "\n",
            "           0       0.86      0.91      0.89       339\n",
            "           1       0.68      0.55      0.61       114\n",
            "\n",
            "    accuracy                           0.82       453\n",
            "   macro avg       0.77      0.73      0.75       453\n",
            "weighted avg       0.81      0.82      0.82       453\n",
            "\n",
            "\n",
            "Classification for annotated from 60 % data using Adaboost...\n",
            "              precision    recall  f1-score   support\n",
            "\n",
            "           0       0.89      0.86      0.88       271\n",
            "           1       0.63      0.70      0.66        92\n",
            "\n",
            "    accuracy                           0.82       363\n",
            "   macro avg       0.76      0.78      0.77       363\n",
            "weighted avg       0.83      0.82      0.82       363\n",
            "\n",
            "\n",
            "Classification for annotated from 70 % data using Adaboost...\n",
            "              precision    recall  f1-score   support\n",
            "\n",
            "           0       0.85      0.90      0.88       203\n",
            "           1       0.64      0.55      0.59        69\n",
            "\n",
            "    accuracy                           0.81       272\n",
            "   macro avg       0.75      0.72      0.73       272\n",
            "weighted avg       0.80      0.81      0.80       272\n",
            "\n",
            "\n",
            "Classification for annotated from 80 % data using Adaboost...\n",
            "              precision    recall  f1-score   support\n",
            "\n",
            "           0       0.87      0.89      0.88       136\n",
            "           1       0.65      0.61      0.63        46\n",
            "\n",
            "    accuracy                           0.82       182\n",
            "   macro avg       0.76      0.75      0.75       182\n",
            "weighted avg       0.82      0.82      0.82       182\n",
            "\n",
            "\n",
            "Classification for annotated from 90 % data using Adaboost...\n",
            "              precision    recall  f1-score   support\n",
            "\n",
            "           0       0.86      0.88      0.87        68\n",
            "           1       0.62      0.57      0.59        23\n",
            "\n",
            "    accuracy                           0.80        91\n",
            "   macro avg       0.74      0.72      0.73        91\n",
            "weighted avg       0.80      0.80      0.80        91\n",
            "\n",
            "\n"
          ]
        }
      ],
      "source": [
        "for ratio in annotated_ratio:\n",
        "  X_train, X_test, y_train, y_test = train_test_split(np.array(X_hf), y, test_size=1-ratio, random_state=42, stratify=strat)\n",
        "\n",
        "  print(f\"Classification for annotated from {int(ratio * 100)} % data using Adaboost...\")\n",
        "  predictions, clf = adaboost(X_train,X_test,y_train)\n",
        "  print(classification_report(y_test,predictions))\n",
        "  print()"
      ]
    },
    {
      "cell_type": "code",
      "execution_count": 176,
      "metadata": {
        "colab": {
          "base_uri": "https://localhost:8080/"
        },
        "id": "nohrzVl4h4cD",
        "outputId": "cd6bf0b0-9035-4d34-fcc4-66213a7ccdce"
      },
      "outputs": [
        {
          "name": "stdout",
          "output_type": "stream",
          "text": [
            "Classification for annotated from 10 % data using SVM...\n",
            "              precision    recall  f1-score   support\n",
            "\n",
            "           0       0.75      1.00      0.86       610\n",
            "           1       0.00      0.00      0.00       206\n",
            "\n",
            "    accuracy                           0.75       816\n",
            "   macro avg       0.37      0.50      0.43       816\n",
            "weighted avg       0.56      0.75      0.64       816\n",
            "\n",
            "\n",
            "Classification for annotated from 20 % data using SVM...\n",
            "              precision    recall  f1-score   support\n",
            "\n",
            "           0       0.75      1.00      0.86       542\n",
            "           1       1.00      0.02      0.04       183\n",
            "\n",
            "    accuracy                           0.75       725\n",
            "   macro avg       0.88      0.51      0.45       725\n",
            "weighted avg       0.81      0.75      0.65       725\n",
            "\n",
            "\n",
            "Classification for annotated from 30 % data using SVM...\n"
          ]
        },
        {
          "name": "stderr",
          "output_type": "stream",
          "text": [
            "/usr/local/lib/python3.7/dist-packages/sklearn/metrics/_classification.py:1318: UndefinedMetricWarning: Precision and F-score are ill-defined and being set to 0.0 in labels with no predicted samples. Use `zero_division` parameter to control this behavior.\n",
            "  _warn_prf(average, modifier, msg_start, len(result))\n",
            "/usr/local/lib/python3.7/dist-packages/sklearn/metrics/_classification.py:1318: UndefinedMetricWarning: Precision and F-score are ill-defined and being set to 0.0 in labels with no predicted samples. Use `zero_division` parameter to control this behavior.\n",
            "  _warn_prf(average, modifier, msg_start, len(result))\n",
            "/usr/local/lib/python3.7/dist-packages/sklearn/metrics/_classification.py:1318: UndefinedMetricWarning: Precision and F-score are ill-defined and being set to 0.0 in labels with no predicted samples. Use `zero_division` parameter to control this behavior.\n",
            "  _warn_prf(average, modifier, msg_start, len(result))\n"
          ]
        },
        {
          "name": "stdout",
          "output_type": "stream",
          "text": [
            "              precision    recall  f1-score   support\n",
            "\n",
            "           0       0.76      0.99      0.86       474\n",
            "           1       0.83      0.09      0.17       161\n",
            "\n",
            "    accuracy                           0.77       635\n",
            "   macro avg       0.80      0.54      0.52       635\n",
            "weighted avg       0.78      0.77      0.69       635\n",
            "\n",
            "\n",
            "Classification for annotated from 40 % data using SVM...\n",
            "              precision    recall  f1-score   support\n",
            "\n",
            "           0       0.82      0.98      0.89       406\n",
            "           1       0.83      0.36      0.50       138\n",
            "\n",
            "    accuracy                           0.82       544\n",
            "   macro avg       0.82      0.67      0.69       544\n",
            "weighted avg       0.82      0.82      0.79       544\n",
            "\n",
            "\n",
            "Classification for annotated from 50 % data using SVM...\n",
            "              precision    recall  f1-score   support\n",
            "\n",
            "           0       0.84      0.96      0.90       339\n",
            "           1       0.80      0.46      0.59       114\n",
            "\n",
            "    accuracy                           0.84       453\n",
            "   macro avg       0.82      0.71      0.74       453\n",
            "weighted avg       0.83      0.84      0.82       453\n",
            "\n",
            "\n",
            "Classification for annotated from 60 % data using SVM...\n",
            "              precision    recall  f1-score   support\n",
            "\n",
            "           0       0.85      0.95      0.89       271\n",
            "           1       0.76      0.49      0.60        92\n",
            "\n",
            "    accuracy                           0.83       363\n",
            "   macro avg       0.80      0.72      0.74       363\n",
            "weighted avg       0.82      0.83      0.82       363\n",
            "\n",
            "\n",
            "Classification for annotated from 70 % data using SVM...\n",
            "              precision    recall  f1-score   support\n",
            "\n",
            "           0       0.86      0.94      0.90       203\n",
            "           1       0.76      0.57      0.65        69\n",
            "\n",
            "    accuracy                           0.85       272\n",
            "   macro avg       0.81      0.75      0.78       272\n",
            "weighted avg       0.84      0.85      0.84       272\n",
            "\n",
            "\n",
            "Classification for annotated from 80 % data using SVM...\n",
            "              precision    recall  f1-score   support\n",
            "\n",
            "           0       0.86      0.94      0.90       136\n",
            "           1       0.76      0.54      0.63        46\n",
            "\n",
            "    accuracy                           0.84       182\n",
            "   macro avg       0.81      0.74      0.77       182\n",
            "weighted avg       0.83      0.84      0.83       182\n",
            "\n",
            "\n",
            "Classification for annotated from 90 % data using SVM...\n",
            "              precision    recall  f1-score   support\n",
            "\n",
            "           0       0.82      0.96      0.88        68\n",
            "           1       0.75      0.39      0.51        23\n",
            "\n",
            "    accuracy                           0.81        91\n",
            "   macro avg       0.79      0.67      0.70        91\n",
            "weighted avg       0.80      0.81      0.79        91\n",
            "\n",
            "\n"
          ]
        }
      ],
      "source": [
        "for ratio in annotated_ratio:\n",
        "  X_train, X_test, y_train, y_test = train_test_split(np.array(X_hf), y, test_size=1-ratio, random_state=42, stratify=strat)\n",
        "\n",
        "  print(f\"Classification for annotated from {int(ratio * 100)} % data using SVM...\")\n",
        "  predictions, clf = svm_classifier(X_train,X_test,y_train)\n",
        "  print(classification_report(y_test,predictions))\n",
        "  print()"
      ]
    },
    {
      "cell_type": "code",
      "execution_count": 177,
      "metadata": {
        "id": "OWRlbAmRh5-E"
      },
      "outputs": [],
      "source": []
    }
  ],
  "metadata": {
    "accelerator": "GPU",
    "colab": {
      "provenance": [],
      "toc_visible": true
    },
    "gpuClass": "standard",
    "kernelspec": {
      "display_name": "Python 3",
      "name": "python3"
    },
    "language_info": {
      "name": "python"
    },
    "widgets": {
      "application/vnd.jupyter.widget-state+json": {
        "01249505ba12468f974f2cc48b329e28": {
          "model_module": "@jupyter-widgets/base",
          "model_module_version": "1.2.0",
          "model_name": "LayoutModel",
          "state": {
            "_model_module": "@jupyter-widgets/base",
            "_model_module_version": "1.2.0",
            "_model_name": "LayoutModel",
            "_view_count": null,
            "_view_module": "@jupyter-widgets/base",
            "_view_module_version": "1.2.0",
            "_view_name": "LayoutView",
            "align_content": null,
            "align_items": null,
            "align_self": null,
            "border": null,
            "bottom": null,
            "display": null,
            "flex": null,
            "flex_flow": null,
            "grid_area": null,
            "grid_auto_columns": null,
            "grid_auto_flow": null,
            "grid_auto_rows": null,
            "grid_column": null,
            "grid_gap": null,
            "grid_row": null,
            "grid_template_areas": null,
            "grid_template_columns": null,
            "grid_template_rows": null,
            "height": null,
            "justify_content": null,
            "justify_items": null,
            "left": null,
            "margin": null,
            "max_height": null,
            "max_width": null,
            "min_height": null,
            "min_width": null,
            "object_fit": null,
            "object_position": null,
            "order": null,
            "overflow": null,
            "overflow_x": null,
            "overflow_y": null,
            "padding": null,
            "right": null,
            "top": null,
            "visibility": null,
            "width": null
          }
        },
        "020352d294ff48c79985afa1b9e2714c": {
          "model_module": "@jupyter-widgets/base",
          "model_module_version": "1.2.0",
          "model_name": "LayoutModel",
          "state": {
            "_model_module": "@jupyter-widgets/base",
            "_model_module_version": "1.2.0",
            "_model_name": "LayoutModel",
            "_view_count": null,
            "_view_module": "@jupyter-widgets/base",
            "_view_module_version": "1.2.0",
            "_view_name": "LayoutView",
            "align_content": null,
            "align_items": null,
            "align_self": null,
            "border": null,
            "bottom": null,
            "display": null,
            "flex": null,
            "flex_flow": null,
            "grid_area": null,
            "grid_auto_columns": null,
            "grid_auto_flow": null,
            "grid_auto_rows": null,
            "grid_column": null,
            "grid_gap": null,
            "grid_row": null,
            "grid_template_areas": null,
            "grid_template_columns": null,
            "grid_template_rows": null,
            "height": null,
            "justify_content": null,
            "justify_items": null,
            "left": null,
            "margin": null,
            "max_height": null,
            "max_width": null,
            "min_height": null,
            "min_width": null,
            "object_fit": null,
            "object_position": null,
            "order": null,
            "overflow": null,
            "overflow_x": null,
            "overflow_y": null,
            "padding": null,
            "right": null,
            "top": null,
            "visibility": null,
            "width": null
          }
        },
        "02646dd5ee754376b6f89eefa5a33519": {
          "model_module": "@jupyter-widgets/base",
          "model_module_version": "1.2.0",
          "model_name": "LayoutModel",
          "state": {
            "_model_module": "@jupyter-widgets/base",
            "_model_module_version": "1.2.0",
            "_model_name": "LayoutModel",
            "_view_count": null,
            "_view_module": "@jupyter-widgets/base",
            "_view_module_version": "1.2.0",
            "_view_name": "LayoutView",
            "align_content": null,
            "align_items": null,
            "align_self": null,
            "border": null,
            "bottom": null,
            "display": null,
            "flex": null,
            "flex_flow": null,
            "grid_area": null,
            "grid_auto_columns": null,
            "grid_auto_flow": null,
            "grid_auto_rows": null,
            "grid_column": null,
            "grid_gap": null,
            "grid_row": null,
            "grid_template_areas": null,
            "grid_template_columns": null,
            "grid_template_rows": null,
            "height": null,
            "justify_content": null,
            "justify_items": null,
            "left": null,
            "margin": null,
            "max_height": null,
            "max_width": null,
            "min_height": null,
            "min_width": null,
            "object_fit": null,
            "object_position": null,
            "order": null,
            "overflow": null,
            "overflow_x": null,
            "overflow_y": null,
            "padding": null,
            "right": null,
            "top": null,
            "visibility": "hidden",
            "width": null
          }
        },
        "02f85eeb60624cf8862efd3436372e0f": {
          "model_module": "@jupyter-widgets/base",
          "model_module_version": "1.2.0",
          "model_name": "LayoutModel",
          "state": {
            "_model_module": "@jupyter-widgets/base",
            "_model_module_version": "1.2.0",
            "_model_name": "LayoutModel",
            "_view_count": null,
            "_view_module": "@jupyter-widgets/base",
            "_view_module_version": "1.2.0",
            "_view_name": "LayoutView",
            "align_content": null,
            "align_items": null,
            "align_self": null,
            "border": null,
            "bottom": null,
            "display": null,
            "flex": null,
            "flex_flow": null,
            "grid_area": null,
            "grid_auto_columns": null,
            "grid_auto_flow": null,
            "grid_auto_rows": null,
            "grid_column": null,
            "grid_gap": null,
            "grid_row": null,
            "grid_template_areas": null,
            "grid_template_columns": null,
            "grid_template_rows": null,
            "height": null,
            "justify_content": null,
            "justify_items": null,
            "left": null,
            "margin": null,
            "max_height": null,
            "max_width": null,
            "min_height": null,
            "min_width": null,
            "object_fit": null,
            "object_position": null,
            "order": null,
            "overflow": null,
            "overflow_x": null,
            "overflow_y": null,
            "padding": null,
            "right": null,
            "top": null,
            "visibility": null,
            "width": null
          }
        },
        "04292b68ae5040339f58a25ccb575451": {
          "model_module": "@jupyter-widgets/controls",
          "model_module_version": "1.5.0",
          "model_name": "HTMLModel",
          "state": {
            "_dom_classes": [],
            "_model_module": "@jupyter-widgets/controls",
            "_model_module_version": "1.5.0",
            "_model_name": "HTMLModel",
            "_view_count": null,
            "_view_module": "@jupyter-widgets/controls",
            "_view_module_version": "1.5.0",
            "_view_name": "HTMLView",
            "description": "",
            "description_tooltip": null,
            "layout": "IPY_MODEL_70b4a607c95c48de9a6c86a97a21ada9",
            "placeholder": "​",
            "style": "IPY_MODEL_65dbb4b97e864de4aeacdc51d0471da2",
            "value": " 2/2 [00:00&lt;00:00, 50.65it/s]"
          }
        },
        "06ee5f2b9d6f49fc824e25abbe32fe79": {
          "model_module": "@jupyter-widgets/base",
          "model_module_version": "1.2.0",
          "model_name": "LayoutModel",
          "state": {
            "_model_module": "@jupyter-widgets/base",
            "_model_module_version": "1.2.0",
            "_model_name": "LayoutModel",
            "_view_count": null,
            "_view_module": "@jupyter-widgets/base",
            "_view_module_version": "1.2.0",
            "_view_name": "LayoutView",
            "align_content": null,
            "align_items": null,
            "align_self": null,
            "border": null,
            "bottom": null,
            "display": null,
            "flex": null,
            "flex_flow": null,
            "grid_area": null,
            "grid_auto_columns": null,
            "grid_auto_flow": null,
            "grid_auto_rows": null,
            "grid_column": null,
            "grid_gap": null,
            "grid_row": null,
            "grid_template_areas": null,
            "grid_template_columns": null,
            "grid_template_rows": null,
            "height": null,
            "justify_content": null,
            "justify_items": null,
            "left": null,
            "margin": null,
            "max_height": null,
            "max_width": null,
            "min_height": null,
            "min_width": null,
            "object_fit": null,
            "object_position": null,
            "order": null,
            "overflow": null,
            "overflow_x": null,
            "overflow_y": null,
            "padding": null,
            "right": null,
            "top": null,
            "visibility": null,
            "width": null
          }
        },
        "07883faf3d3f42deaab0cc7c331e2026": {
          "model_module": "@jupyter-widgets/controls",
          "model_module_version": "1.5.0",
          "model_name": "DescriptionStyleModel",
          "state": {
            "_model_module": "@jupyter-widgets/controls",
            "_model_module_version": "1.5.0",
            "_model_name": "DescriptionStyleModel",
            "_view_count": null,
            "_view_module": "@jupyter-widgets/base",
            "_view_module_version": "1.2.0",
            "_view_name": "StyleView",
            "description_width": ""
          }
        },
        "08d93699366446dab682f5a5583e9e43": {
          "model_module": "@jupyter-widgets/base",
          "model_module_version": "1.2.0",
          "model_name": "LayoutModel",
          "state": {
            "_model_module": "@jupyter-widgets/base",
            "_model_module_version": "1.2.0",
            "_model_name": "LayoutModel",
            "_view_count": null,
            "_view_module": "@jupyter-widgets/base",
            "_view_module_version": "1.2.0",
            "_view_name": "LayoutView",
            "align_content": null,
            "align_items": null,
            "align_self": null,
            "border": null,
            "bottom": null,
            "display": null,
            "flex": null,
            "flex_flow": null,
            "grid_area": null,
            "grid_auto_columns": null,
            "grid_auto_flow": null,
            "grid_auto_rows": null,
            "grid_column": null,
            "grid_gap": null,
            "grid_row": null,
            "grid_template_areas": null,
            "grid_template_columns": null,
            "grid_template_rows": null,
            "height": null,
            "justify_content": null,
            "justify_items": null,
            "left": null,
            "margin": null,
            "max_height": null,
            "max_width": null,
            "min_height": null,
            "min_width": null,
            "object_fit": null,
            "object_position": null,
            "order": null,
            "overflow": null,
            "overflow_x": null,
            "overflow_y": null,
            "padding": null,
            "right": null,
            "top": null,
            "visibility": null,
            "width": null
          }
        },
        "096830b5315c4596b2488e37a0a3b6a4": {
          "model_module": "@jupyter-widgets/base",
          "model_module_version": "1.2.0",
          "model_name": "LayoutModel",
          "state": {
            "_model_module": "@jupyter-widgets/base",
            "_model_module_version": "1.2.0",
            "_model_name": "LayoutModel",
            "_view_count": null,
            "_view_module": "@jupyter-widgets/base",
            "_view_module_version": "1.2.0",
            "_view_name": "LayoutView",
            "align_content": null,
            "align_items": null,
            "align_self": null,
            "border": null,
            "bottom": null,
            "display": null,
            "flex": null,
            "flex_flow": null,
            "grid_area": null,
            "grid_auto_columns": null,
            "grid_auto_flow": null,
            "grid_auto_rows": null,
            "grid_column": null,
            "grid_gap": null,
            "grid_row": null,
            "grid_template_areas": null,
            "grid_template_columns": null,
            "grid_template_rows": null,
            "height": null,
            "justify_content": null,
            "justify_items": null,
            "left": null,
            "margin": null,
            "max_height": null,
            "max_width": null,
            "min_height": null,
            "min_width": null,
            "object_fit": null,
            "object_position": null,
            "order": null,
            "overflow": null,
            "overflow_x": null,
            "overflow_y": null,
            "padding": null,
            "right": null,
            "top": null,
            "visibility": "hidden",
            "width": null
          }
        },
        "09955071622e4e7a9c9e75b22aefa8cf": {
          "model_module": "@jupyter-widgets/controls",
          "model_module_version": "1.5.0",
          "model_name": "HTMLModel",
          "state": {
            "_dom_classes": [],
            "_model_module": "@jupyter-widgets/controls",
            "_model_module_version": "1.5.0",
            "_model_name": "HTMLModel",
            "_view_count": null,
            "_view_module": "@jupyter-widgets/controls",
            "_view_module_version": "1.5.0",
            "_view_name": "HTMLView",
            "description": "",
            "description_tooltip": null,
            "layout": "IPY_MODEL_8a6c36f62db843f68c9f2d3fff222639",
            "placeholder": "​",
            "style": "IPY_MODEL_07883faf3d3f42deaab0cc7c331e2026",
            "value": " 110k/? [00:00&lt;00:00, 2.96MB/s]"
          }
        },
        "0adc808a9f77435ea853174a728f35a2": {
          "model_module": "@jupyter-widgets/controls",
          "model_module_version": "1.5.0",
          "model_name": "ProgressStyleModel",
          "state": {
            "_model_module": "@jupyter-widgets/controls",
            "_model_module_version": "1.5.0",
            "_model_name": "ProgressStyleModel",
            "_view_count": null,
            "_view_module": "@jupyter-widgets/base",
            "_view_module_version": "1.2.0",
            "_view_name": "StyleView",
            "bar_color": null,
            "description_width": ""
          }
        },
        "0afc8adc058e4f17b66d12ed644aae44": {
          "model_module": "@jupyter-widgets/controls",
          "model_module_version": "1.5.0",
          "model_name": "ProgressStyleModel",
          "state": {
            "_model_module": "@jupyter-widgets/controls",
            "_model_module_version": "1.5.0",
            "_model_name": "ProgressStyleModel",
            "_view_count": null,
            "_view_module": "@jupyter-widgets/base",
            "_view_module_version": "1.2.0",
            "_view_name": "StyleView",
            "bar_color": null,
            "description_width": ""
          }
        },
        "0bec162da75f4f1dbad54e8d06c7d733": {
          "model_module": "@jupyter-widgets/base",
          "model_module_version": "1.2.0",
          "model_name": "LayoutModel",
          "state": {
            "_model_module": "@jupyter-widgets/base",
            "_model_module_version": "1.2.0",
            "_model_name": "LayoutModel",
            "_view_count": null,
            "_view_module": "@jupyter-widgets/base",
            "_view_module_version": "1.2.0",
            "_view_name": "LayoutView",
            "align_content": null,
            "align_items": null,
            "align_self": null,
            "border": null,
            "bottom": null,
            "display": null,
            "flex": null,
            "flex_flow": null,
            "grid_area": null,
            "grid_auto_columns": null,
            "grid_auto_flow": null,
            "grid_auto_rows": null,
            "grid_column": null,
            "grid_gap": null,
            "grid_row": null,
            "grid_template_areas": null,
            "grid_template_columns": null,
            "grid_template_rows": null,
            "height": null,
            "justify_content": null,
            "justify_items": null,
            "left": null,
            "margin": null,
            "max_height": null,
            "max_width": null,
            "min_height": null,
            "min_width": null,
            "object_fit": null,
            "object_position": null,
            "order": null,
            "overflow": null,
            "overflow_x": null,
            "overflow_y": null,
            "padding": null,
            "right": null,
            "top": null,
            "visibility": null,
            "width": null
          }
        },
        "0f8ef7dce9114716b416c3929918960a": {
          "model_module": "@jupyter-widgets/controls",
          "model_module_version": "1.5.0",
          "model_name": "HBoxModel",
          "state": {
            "_dom_classes": [],
            "_model_module": "@jupyter-widgets/controls",
            "_model_module_version": "1.5.0",
            "_model_name": "HBoxModel",
            "_view_count": null,
            "_view_module": "@jupyter-widgets/controls",
            "_view_module_version": "1.5.0",
            "_view_name": "HBoxView",
            "box_style": "",
            "children": [
              "IPY_MODEL_af02bb58312b4ccda819a2f88fbc36ec",
              "IPY_MODEL_51b68c080cc14122b6a2617b45674d89",
              "IPY_MODEL_9e0a6d5efc004038a766cb3ed9f94150"
            ],
            "layout": "IPY_MODEL_15773a0c7cc64efbaf8a7d9b4574eaf6"
          }
        },
        "1053b7f68aef42dd9f16704f6fa37ed8": {
          "model_module": "@jupyter-widgets/controls",
          "model_module_version": "1.5.0",
          "model_name": "HTMLModel",
          "state": {
            "_dom_classes": [],
            "_model_module": "@jupyter-widgets/controls",
            "_model_module_version": "1.5.0",
            "_model_name": "HTMLModel",
            "_view_count": null,
            "_view_module": "@jupyter-widgets/controls",
            "_view_module_version": "1.5.0",
            "_view_name": "HTMLView",
            "description": "",
            "description_tooltip": null,
            "layout": "IPY_MODEL_716e706bfcb445e1928a1c7a952599d4",
            "placeholder": "​",
            "style": "IPY_MODEL_7a20e77378d449f9b88b6fd3705835a5",
            "value": "Downloading: 100%"
          }
        },
        "1437fc9cea1a4c62b1d785d02ed096e7": {
          "model_module": "@jupyter-widgets/controls",
          "model_module_version": "1.5.0",
          "model_name": "DescriptionStyleModel",
          "state": {
            "_model_module": "@jupyter-widgets/controls",
            "_model_module_version": "1.5.0",
            "_model_name": "DescriptionStyleModel",
            "_view_count": null,
            "_view_module": "@jupyter-widgets/base",
            "_view_module_version": "1.2.0",
            "_view_name": "StyleView",
            "description_width": ""
          }
        },
        "157319f02a444ccd8c7f95c58bd32092": {
          "model_module": "@jupyter-widgets/controls",
          "model_module_version": "1.5.0",
          "model_name": "HTMLModel",
          "state": {
            "_dom_classes": [],
            "_model_module": "@jupyter-widgets/controls",
            "_model_module_version": "1.5.0",
            "_model_name": "HTMLModel",
            "_view_count": null,
            "_view_module": "@jupyter-widgets/controls",
            "_view_module_version": "1.5.0",
            "_view_name": "HTMLView",
            "description": "",
            "description_tooltip": null,
            "layout": "IPY_MODEL_1ce0d85b3d2048699a64b046c3bce803",
            "placeholder": "​",
            "style": "IPY_MODEL_a185810485a54b66be9925668c363749",
            "value": "Downloading data: "
          }
        },
        "15773a0c7cc64efbaf8a7d9b4574eaf6": {
          "model_module": "@jupyter-widgets/base",
          "model_module_version": "1.2.0",
          "model_name": "LayoutModel",
          "state": {
            "_model_module": "@jupyter-widgets/base",
            "_model_module_version": "1.2.0",
            "_model_name": "LayoutModel",
            "_view_count": null,
            "_view_module": "@jupyter-widgets/base",
            "_view_module_version": "1.2.0",
            "_view_name": "LayoutView",
            "align_content": null,
            "align_items": null,
            "align_self": null,
            "border": null,
            "bottom": null,
            "display": null,
            "flex": null,
            "flex_flow": null,
            "grid_area": null,
            "grid_auto_columns": null,
            "grid_auto_flow": null,
            "grid_auto_rows": null,
            "grid_column": null,
            "grid_gap": null,
            "grid_row": null,
            "grid_template_areas": null,
            "grid_template_columns": null,
            "grid_template_rows": null,
            "height": null,
            "justify_content": null,
            "justify_items": null,
            "left": null,
            "margin": null,
            "max_height": null,
            "max_width": null,
            "min_height": null,
            "min_width": null,
            "object_fit": null,
            "object_position": null,
            "order": null,
            "overflow": null,
            "overflow_x": null,
            "overflow_y": null,
            "padding": null,
            "right": null,
            "top": null,
            "visibility": null,
            "width": null
          }
        },
        "16c0f25d74f349eba44f62a55ea0573a": {
          "model_module": "@jupyter-widgets/base",
          "model_module_version": "1.2.0",
          "model_name": "LayoutModel",
          "state": {
            "_model_module": "@jupyter-widgets/base",
            "_model_module_version": "1.2.0",
            "_model_name": "LayoutModel",
            "_view_count": null,
            "_view_module": "@jupyter-widgets/base",
            "_view_module_version": "1.2.0",
            "_view_name": "LayoutView",
            "align_content": null,
            "align_items": null,
            "align_self": null,
            "border": null,
            "bottom": null,
            "display": null,
            "flex": null,
            "flex_flow": null,
            "grid_area": null,
            "grid_auto_columns": null,
            "grid_auto_flow": null,
            "grid_auto_rows": null,
            "grid_column": null,
            "grid_gap": null,
            "grid_row": null,
            "grid_template_areas": null,
            "grid_template_columns": null,
            "grid_template_rows": null,
            "height": null,
            "justify_content": null,
            "justify_items": null,
            "left": null,
            "margin": null,
            "max_height": null,
            "max_width": null,
            "min_height": null,
            "min_width": null,
            "object_fit": null,
            "object_position": null,
            "order": null,
            "overflow": null,
            "overflow_x": null,
            "overflow_y": null,
            "padding": null,
            "right": null,
            "top": null,
            "visibility": null,
            "width": null
          }
        },
        "1714d36327f4457ca7e3edc002c1afcb": {
          "model_module": "@jupyter-widgets/base",
          "model_module_version": "1.2.0",
          "model_name": "LayoutModel",
          "state": {
            "_model_module": "@jupyter-widgets/base",
            "_model_module_version": "1.2.0",
            "_model_name": "LayoutModel",
            "_view_count": null,
            "_view_module": "@jupyter-widgets/base",
            "_view_module_version": "1.2.0",
            "_view_name": "LayoutView",
            "align_content": null,
            "align_items": null,
            "align_self": null,
            "border": null,
            "bottom": null,
            "display": null,
            "flex": null,
            "flex_flow": null,
            "grid_area": null,
            "grid_auto_columns": null,
            "grid_auto_flow": null,
            "grid_auto_rows": null,
            "grid_column": null,
            "grid_gap": null,
            "grid_row": null,
            "grid_template_areas": null,
            "grid_template_columns": null,
            "grid_template_rows": null,
            "height": null,
            "justify_content": null,
            "justify_items": null,
            "left": null,
            "margin": null,
            "max_height": null,
            "max_width": null,
            "min_height": null,
            "min_width": null,
            "object_fit": null,
            "object_position": null,
            "order": null,
            "overflow": null,
            "overflow_x": null,
            "overflow_y": null,
            "padding": null,
            "right": null,
            "top": null,
            "visibility": null,
            "width": null
          }
        },
        "1765dbc7223d41268812ef25fe4558ca": {
          "model_module": "@jupyter-widgets/base",
          "model_module_version": "1.2.0",
          "model_name": "LayoutModel",
          "state": {
            "_model_module": "@jupyter-widgets/base",
            "_model_module_version": "1.2.0",
            "_model_name": "LayoutModel",
            "_view_count": null,
            "_view_module": "@jupyter-widgets/base",
            "_view_module_version": "1.2.0",
            "_view_name": "LayoutView",
            "align_content": null,
            "align_items": null,
            "align_self": null,
            "border": null,
            "bottom": null,
            "display": null,
            "flex": null,
            "flex_flow": null,
            "grid_area": null,
            "grid_auto_columns": null,
            "grid_auto_flow": null,
            "grid_auto_rows": null,
            "grid_column": null,
            "grid_gap": null,
            "grid_row": null,
            "grid_template_areas": null,
            "grid_template_columns": null,
            "grid_template_rows": null,
            "height": null,
            "justify_content": null,
            "justify_items": null,
            "left": null,
            "margin": null,
            "max_height": null,
            "max_width": null,
            "min_height": null,
            "min_width": null,
            "object_fit": null,
            "object_position": null,
            "order": null,
            "overflow": null,
            "overflow_x": null,
            "overflow_y": null,
            "padding": null,
            "right": null,
            "top": null,
            "visibility": null,
            "width": null
          }
        },
        "1a8af4723f484e71a76444e1d4ce1532": {
          "model_module": "@jupyter-widgets/base",
          "model_module_version": "1.2.0",
          "model_name": "LayoutModel",
          "state": {
            "_model_module": "@jupyter-widgets/base",
            "_model_module_version": "1.2.0",
            "_model_name": "LayoutModel",
            "_view_count": null,
            "_view_module": "@jupyter-widgets/base",
            "_view_module_version": "1.2.0",
            "_view_name": "LayoutView",
            "align_content": null,
            "align_items": null,
            "align_self": null,
            "border": null,
            "bottom": null,
            "display": null,
            "flex": null,
            "flex_flow": null,
            "grid_area": null,
            "grid_auto_columns": null,
            "grid_auto_flow": null,
            "grid_auto_rows": null,
            "grid_column": null,
            "grid_gap": null,
            "grid_row": null,
            "grid_template_areas": null,
            "grid_template_columns": null,
            "grid_template_rows": null,
            "height": null,
            "justify_content": null,
            "justify_items": null,
            "left": null,
            "margin": null,
            "max_height": null,
            "max_width": null,
            "min_height": null,
            "min_width": null,
            "object_fit": null,
            "object_position": null,
            "order": null,
            "overflow": null,
            "overflow_x": null,
            "overflow_y": null,
            "padding": null,
            "right": null,
            "top": null,
            "visibility": null,
            "width": null
          }
        },
        "1b8ca76f7f99489691d6d51c75cbd21d": {
          "model_module": "@jupyter-widgets/controls",
          "model_module_version": "1.5.0",
          "model_name": "HTMLModel",
          "state": {
            "_dom_classes": [],
            "_model_module": "@jupyter-widgets/controls",
            "_model_module_version": "1.5.0",
            "_model_name": "HTMLModel",
            "_view_count": null,
            "_view_module": "@jupyter-widgets/controls",
            "_view_module_version": "1.5.0",
            "_view_name": "HTMLView",
            "description": "",
            "description_tooltip": null,
            "layout": "IPY_MODEL_a8ff8023ef0046f1a43e83804415add0",
            "placeholder": "​",
            "style": "IPY_MODEL_9317e28771a84a44845f878b2c1360c7",
            "value": " 1.55M/? [00:00&lt;00:00, 22.0MB/s]"
          }
        },
        "1b9d9c3b6c994df7a4aaa6eb79709a0c": {
          "model_module": "@jupyter-widgets/controls",
          "model_module_version": "1.5.0",
          "model_name": "HTMLModel",
          "state": {
            "_dom_classes": [],
            "_model_module": "@jupyter-widgets/controls",
            "_model_module_version": "1.5.0",
            "_model_name": "HTMLModel",
            "_view_count": null,
            "_view_module": "@jupyter-widgets/controls",
            "_view_module_version": "1.5.0",
            "_view_name": "HTMLView",
            "description": "",
            "description_tooltip": null,
            "layout": "IPY_MODEL_9d9e51e1e5ef4934ab6c6fbfcf4cd3d7",
            "placeholder": "​",
            "style": "IPY_MODEL_cb3850acf0174430b698593f325e51fb",
            "value": " 5676/0 [00:00&lt;00:00, 20794.62 examples/s]"
          }
        },
        "1c315637275d4851b10974ab30c29058": {
          "model_module": "@jupyter-widgets/controls",
          "model_module_version": "1.5.0",
          "model_name": "HBoxModel",
          "state": {
            "_dom_classes": [],
            "_model_module": "@jupyter-widgets/controls",
            "_model_module_version": "1.5.0",
            "_model_name": "HBoxModel",
            "_view_count": null,
            "_view_module": "@jupyter-widgets/controls",
            "_view_module_version": "1.5.0",
            "_view_name": "HBoxView",
            "box_style": "",
            "children": [
              "IPY_MODEL_546c26bd77af409e88985855bb4361a5",
              "IPY_MODEL_a15ea227220c4664ab362797a3465532",
              "IPY_MODEL_73c5ec8aedf94521ac042ae73b56298e"
            ],
            "layout": "IPY_MODEL_a8aa7f8548d546c9b5254e3dc616e41d"
          }
        },
        "1ce0d85b3d2048699a64b046c3bce803": {
          "model_module": "@jupyter-widgets/base",
          "model_module_version": "1.2.0",
          "model_name": "LayoutModel",
          "state": {
            "_model_module": "@jupyter-widgets/base",
            "_model_module_version": "1.2.0",
            "_model_name": "LayoutModel",
            "_view_count": null,
            "_view_module": "@jupyter-widgets/base",
            "_view_module_version": "1.2.0",
            "_view_name": "LayoutView",
            "align_content": null,
            "align_items": null,
            "align_self": null,
            "border": null,
            "bottom": null,
            "display": null,
            "flex": null,
            "flex_flow": null,
            "grid_area": null,
            "grid_auto_columns": null,
            "grid_auto_flow": null,
            "grid_auto_rows": null,
            "grid_column": null,
            "grid_gap": null,
            "grid_row": null,
            "grid_template_areas": null,
            "grid_template_columns": null,
            "grid_template_rows": null,
            "height": null,
            "justify_content": null,
            "justify_items": null,
            "left": null,
            "margin": null,
            "max_height": null,
            "max_width": null,
            "min_height": null,
            "min_width": null,
            "object_fit": null,
            "object_position": null,
            "order": null,
            "overflow": null,
            "overflow_x": null,
            "overflow_y": null,
            "padding": null,
            "right": null,
            "top": null,
            "visibility": null,
            "width": null
          }
        },
        "1d49e199b45640f8bfa6c46af9d1e4ef": {
          "model_module": "@jupyter-widgets/base",
          "model_module_version": "1.2.0",
          "model_name": "LayoutModel",
          "state": {
            "_model_module": "@jupyter-widgets/base",
            "_model_module_version": "1.2.0",
            "_model_name": "LayoutModel",
            "_view_count": null,
            "_view_module": "@jupyter-widgets/base",
            "_view_module_version": "1.2.0",
            "_view_name": "LayoutView",
            "align_content": null,
            "align_items": null,
            "align_self": null,
            "border": null,
            "bottom": null,
            "display": null,
            "flex": null,
            "flex_flow": null,
            "grid_area": null,
            "grid_auto_columns": null,
            "grid_auto_flow": null,
            "grid_auto_rows": null,
            "grid_column": null,
            "grid_gap": null,
            "grid_row": null,
            "grid_template_areas": null,
            "grid_template_columns": null,
            "grid_template_rows": null,
            "height": null,
            "justify_content": null,
            "justify_items": null,
            "left": null,
            "margin": null,
            "max_height": null,
            "max_width": null,
            "min_height": null,
            "min_width": null,
            "object_fit": null,
            "object_position": null,
            "order": null,
            "overflow": null,
            "overflow_x": null,
            "overflow_y": null,
            "padding": null,
            "right": null,
            "top": null,
            "visibility": null,
            "width": null
          }
        },
        "1de681fbfa56403aa0b3f55553dc2045": {
          "model_module": "@jupyter-widgets/controls",
          "model_module_version": "1.5.0",
          "model_name": "HTMLModel",
          "state": {
            "_dom_classes": [],
            "_model_module": "@jupyter-widgets/controls",
            "_model_module_version": "1.5.0",
            "_model_name": "HTMLModel",
            "_view_count": null,
            "_view_module": "@jupyter-widgets/controls",
            "_view_module_version": "1.5.0",
            "_view_name": "HTMLView",
            "description": "",
            "description_tooltip": null,
            "layout": "IPY_MODEL_bd4752b83552464b9e1b7c2444855545",
            "placeholder": "​",
            "style": "IPY_MODEL_d24c06d1bee244aeab03a1fe966e52a8",
            "value": "Downloading: 100%"
          }
        },
        "1e03411960ae4a57975ba0c8bd001ab8": {
          "model_module": "@jupyter-widgets/base",
          "model_module_version": "1.2.0",
          "model_name": "LayoutModel",
          "state": {
            "_model_module": "@jupyter-widgets/base",
            "_model_module_version": "1.2.0",
            "_model_name": "LayoutModel",
            "_view_count": null,
            "_view_module": "@jupyter-widgets/base",
            "_view_module_version": "1.2.0",
            "_view_name": "LayoutView",
            "align_content": null,
            "align_items": null,
            "align_self": null,
            "border": null,
            "bottom": null,
            "display": null,
            "flex": null,
            "flex_flow": null,
            "grid_area": null,
            "grid_auto_columns": null,
            "grid_auto_flow": null,
            "grid_auto_rows": null,
            "grid_column": null,
            "grid_gap": null,
            "grid_row": null,
            "grid_template_areas": null,
            "grid_template_columns": null,
            "grid_template_rows": null,
            "height": null,
            "justify_content": null,
            "justify_items": null,
            "left": null,
            "margin": null,
            "max_height": null,
            "max_width": null,
            "min_height": null,
            "min_width": null,
            "object_fit": null,
            "object_position": null,
            "order": null,
            "overflow": null,
            "overflow_x": null,
            "overflow_y": null,
            "padding": null,
            "right": null,
            "top": null,
            "visibility": null,
            "width": null
          }
        },
        "1ffc5669ee264418897a8647f42df8d9": {
          "model_module": "@jupyter-widgets/controls",
          "model_module_version": "1.5.0",
          "model_name": "ProgressStyleModel",
          "state": {
            "_model_module": "@jupyter-widgets/controls",
            "_model_module_version": "1.5.0",
            "_model_name": "ProgressStyleModel",
            "_view_count": null,
            "_view_module": "@jupyter-widgets/base",
            "_view_module_version": "1.2.0",
            "_view_name": "StyleView",
            "bar_color": null,
            "description_width": ""
          }
        },
        "22b91dd405b0494b986f4f6180af07f5": {
          "model_module": "@jupyter-widgets/controls",
          "model_module_version": "1.5.0",
          "model_name": "HTMLModel",
          "state": {
            "_dom_classes": [],
            "_model_module": "@jupyter-widgets/controls",
            "_model_module_version": "1.5.0",
            "_model_name": "HTMLModel",
            "_view_count": null,
            "_view_module": "@jupyter-widgets/controls",
            "_view_module_version": "1.5.0",
            "_view_name": "HTMLView",
            "description": "",
            "description_tooltip": null,
            "layout": "IPY_MODEL_4d9101f0666b43f08606fe4c03e164fc",
            "placeholder": "​",
            "style": "IPY_MODEL_7a8753ee83a8426d9f1fec428c199915",
            "value": " 0/0 [00:00&lt;?, ? examples/s]"
          }
        },
        "2358684336e64000b35b8e2ca5e73fde": {
          "model_module": "@jupyter-widgets/controls",
          "model_module_version": "1.5.0",
          "model_name": "HTMLModel",
          "state": {
            "_dom_classes": [],
            "_model_module": "@jupyter-widgets/controls",
            "_model_module_version": "1.5.0",
            "_model_name": "HTMLModel",
            "_view_count": null,
            "_view_module": "@jupyter-widgets/controls",
            "_view_module_version": "1.5.0",
            "_view_name": "HTMLView",
            "description": "",
            "description_tooltip": null,
            "layout": "IPY_MODEL_6f03c2b735f7495a95467ce3d16fb881",
            "placeholder": "​",
            "style": "IPY_MODEL_9b6fab8b24524ad8b020ad11fdf181b6",
            "value": " 2.00/2.00 [00:00&lt;00:00, 62.2B/s]"
          }
        },
        "23e9c709192d4e73af8f6b03db91a76f": {
          "model_module": "@jupyter-widgets/controls",
          "model_module_version": "1.5.0",
          "model_name": "HTMLModel",
          "state": {
            "_dom_classes": [],
            "_model_module": "@jupyter-widgets/controls",
            "_model_module_version": "1.5.0",
            "_model_name": "HTMLModel",
            "_view_count": null,
            "_view_module": "@jupyter-widgets/controls",
            "_view_module_version": "1.5.0",
            "_view_name": "HTMLView",
            "description": "",
            "description_tooltip": null,
            "layout": "IPY_MODEL_24234023cb8c4a11ba7f122038991f4d",
            "placeholder": "​",
            "style": "IPY_MODEL_f0b24b76a73143f796c1328a65c5d541",
            "value": " 815/0 [00:00&lt;00:00, 7683.24 examples/s]"
          }
        },
        "24234023cb8c4a11ba7f122038991f4d": {
          "model_module": "@jupyter-widgets/base",
          "model_module_version": "1.2.0",
          "model_name": "LayoutModel",
          "state": {
            "_model_module": "@jupyter-widgets/base",
            "_model_module_version": "1.2.0",
            "_model_name": "LayoutModel",
            "_view_count": null,
            "_view_module": "@jupyter-widgets/base",
            "_view_module_version": "1.2.0",
            "_view_name": "LayoutView",
            "align_content": null,
            "align_items": null,
            "align_self": null,
            "border": null,
            "bottom": null,
            "display": null,
            "flex": null,
            "flex_flow": null,
            "grid_area": null,
            "grid_auto_columns": null,
            "grid_auto_flow": null,
            "grid_auto_rows": null,
            "grid_column": null,
            "grid_gap": null,
            "grid_row": null,
            "grid_template_areas": null,
            "grid_template_columns": null,
            "grid_template_rows": null,
            "height": null,
            "justify_content": null,
            "justify_items": null,
            "left": null,
            "margin": null,
            "max_height": null,
            "max_width": null,
            "min_height": null,
            "min_width": null,
            "object_fit": null,
            "object_position": null,
            "order": null,
            "overflow": null,
            "overflow_x": null,
            "overflow_y": null,
            "padding": null,
            "right": null,
            "top": null,
            "visibility": null,
            "width": null
          }
        },
        "28556c22750744aba54fbd537770fa39": {
          "model_module": "@jupyter-widgets/controls",
          "model_module_version": "1.5.0",
          "model_name": "ProgressStyleModel",
          "state": {
            "_model_module": "@jupyter-widgets/controls",
            "_model_module_version": "1.5.0",
            "_model_name": "ProgressStyleModel",
            "_view_count": null,
            "_view_module": "@jupyter-widgets/base",
            "_view_module_version": "1.2.0",
            "_view_name": "StyleView",
            "bar_color": null,
            "description_width": ""
          }
        },
        "28963ad21e6d4c54beff5d89b5d19df6": {
          "model_module": "@jupyter-widgets/controls",
          "model_module_version": "1.5.0",
          "model_name": "ProgressStyleModel",
          "state": {
            "_model_module": "@jupyter-widgets/controls",
            "_model_module_version": "1.5.0",
            "_model_name": "ProgressStyleModel",
            "_view_count": null,
            "_view_module": "@jupyter-widgets/base",
            "_view_module_version": "1.2.0",
            "_view_name": "StyleView",
            "bar_color": null,
            "description_width": ""
          }
        },
        "2b4d74da9757483098768c7a9c050787": {
          "model_module": "@jupyter-widgets/base",
          "model_module_version": "1.2.0",
          "model_name": "LayoutModel",
          "state": {
            "_model_module": "@jupyter-widgets/base",
            "_model_module_version": "1.2.0",
            "_model_name": "LayoutModel",
            "_view_count": null,
            "_view_module": "@jupyter-widgets/base",
            "_view_module_version": "1.2.0",
            "_view_name": "LayoutView",
            "align_content": null,
            "align_items": null,
            "align_self": null,
            "border": null,
            "bottom": null,
            "display": null,
            "flex": null,
            "flex_flow": null,
            "grid_area": null,
            "grid_auto_columns": null,
            "grid_auto_flow": null,
            "grid_auto_rows": null,
            "grid_column": null,
            "grid_gap": null,
            "grid_row": null,
            "grid_template_areas": null,
            "grid_template_columns": null,
            "grid_template_rows": null,
            "height": null,
            "justify_content": null,
            "justify_items": null,
            "left": null,
            "margin": null,
            "max_height": null,
            "max_width": null,
            "min_height": null,
            "min_width": null,
            "object_fit": null,
            "object_position": null,
            "order": null,
            "overflow": null,
            "overflow_x": null,
            "overflow_y": null,
            "padding": null,
            "right": null,
            "top": null,
            "visibility": null,
            "width": null
          }
        },
        "2bd8efc85cf741e79c85ffbaa34bffab": {
          "model_module": "@jupyter-widgets/controls",
          "model_module_version": "1.5.0",
          "model_name": "HTMLModel",
          "state": {
            "_dom_classes": [],
            "_model_module": "@jupyter-widgets/controls",
            "_model_module_version": "1.5.0",
            "_model_name": "HTMLModel",
            "_view_count": null,
            "_view_module": "@jupyter-widgets/controls",
            "_view_module_version": "1.5.0",
            "_view_name": "HTMLView",
            "description": "",
            "description_tooltip": null,
            "layout": "IPY_MODEL_020352d294ff48c79985afa1b9e2714c",
            "placeholder": "​",
            "style": "IPY_MODEL_ee568b7f7415499788af8d30f831538c",
            "value": "Generating test split: "
          }
        },
        "2d30f496684f43a49a0b689b25c38684": {
          "model_module": "@jupyter-widgets/base",
          "model_module_version": "1.2.0",
          "model_name": "LayoutModel",
          "state": {
            "_model_module": "@jupyter-widgets/base",
            "_model_module_version": "1.2.0",
            "_model_name": "LayoutModel",
            "_view_count": null,
            "_view_module": "@jupyter-widgets/base",
            "_view_module_version": "1.2.0",
            "_view_name": "LayoutView",
            "align_content": null,
            "align_items": null,
            "align_self": null,
            "border": null,
            "bottom": null,
            "display": null,
            "flex": null,
            "flex_flow": null,
            "grid_area": null,
            "grid_auto_columns": null,
            "grid_auto_flow": null,
            "grid_auto_rows": null,
            "grid_column": null,
            "grid_gap": null,
            "grid_row": null,
            "grid_template_areas": null,
            "grid_template_columns": null,
            "grid_template_rows": null,
            "height": null,
            "justify_content": null,
            "justify_items": null,
            "left": null,
            "margin": null,
            "max_height": null,
            "max_width": null,
            "min_height": null,
            "min_width": null,
            "object_fit": null,
            "object_position": null,
            "order": null,
            "overflow": null,
            "overflow_x": null,
            "overflow_y": null,
            "padding": null,
            "right": null,
            "top": null,
            "visibility": null,
            "width": null
          }
        },
        "2dba02d50d524a71b6c92897212fa544": {
          "model_module": "@jupyter-widgets/controls",
          "model_module_version": "1.5.0",
          "model_name": "DescriptionStyleModel",
          "state": {
            "_model_module": "@jupyter-widgets/controls",
            "_model_module_version": "1.5.0",
            "_model_name": "DescriptionStyleModel",
            "_view_count": null,
            "_view_module": "@jupyter-widgets/base",
            "_view_module_version": "1.2.0",
            "_view_name": "StyleView",
            "description_width": ""
          }
        },
        "2e2587260e1341b59cced95ff4414190": {
          "model_module": "@jupyter-widgets/controls",
          "model_module_version": "1.5.0",
          "model_name": "HBoxModel",
          "state": {
            "_dom_classes": [],
            "_model_module": "@jupyter-widgets/controls",
            "_model_module_version": "1.5.0",
            "_model_name": "HBoxModel",
            "_view_count": null,
            "_view_module": "@jupyter-widgets/controls",
            "_view_module_version": "1.5.0",
            "_view_name": "HBoxView",
            "box_style": "",
            "children": [
              "IPY_MODEL_a473344024784b118a18fc137417904d",
              "IPY_MODEL_56051995328f409d946cbf7c3ce109ce",
              "IPY_MODEL_04292b68ae5040339f58a25ccb575451"
            ],
            "layout": "IPY_MODEL_45014c5f913e4d0a9fda98aa421cddba"
          }
        },
        "2f75480e52544261a5b7deb3e6404428": {
          "model_module": "@jupyter-widgets/controls",
          "model_module_version": "1.5.0",
          "model_name": "ProgressStyleModel",
          "state": {
            "_model_module": "@jupyter-widgets/controls",
            "_model_module_version": "1.5.0",
            "_model_name": "ProgressStyleModel",
            "_view_count": null,
            "_view_module": "@jupyter-widgets/base",
            "_view_module_version": "1.2.0",
            "_view_name": "StyleView",
            "bar_color": null,
            "description_width": ""
          }
        },
        "332446359f504c08bfba6a5191a16c0e": {
          "model_module": "@jupyter-widgets/base",
          "model_module_version": "1.2.0",
          "model_name": "LayoutModel",
          "state": {
            "_model_module": "@jupyter-widgets/base",
            "_model_module_version": "1.2.0",
            "_model_name": "LayoutModel",
            "_view_count": null,
            "_view_module": "@jupyter-widgets/base",
            "_view_module_version": "1.2.0",
            "_view_name": "LayoutView",
            "align_content": null,
            "align_items": null,
            "align_self": null,
            "border": null,
            "bottom": null,
            "display": null,
            "flex": null,
            "flex_flow": null,
            "grid_area": null,
            "grid_auto_columns": null,
            "grid_auto_flow": null,
            "grid_auto_rows": null,
            "grid_column": null,
            "grid_gap": null,
            "grid_row": null,
            "grid_template_areas": null,
            "grid_template_columns": null,
            "grid_template_rows": null,
            "height": null,
            "justify_content": null,
            "justify_items": null,
            "left": null,
            "margin": null,
            "max_height": null,
            "max_width": null,
            "min_height": null,
            "min_width": null,
            "object_fit": null,
            "object_position": null,
            "order": null,
            "overflow": null,
            "overflow_x": null,
            "overflow_y": null,
            "padding": null,
            "right": null,
            "top": null,
            "visibility": null,
            "width": null
          }
        },
        "332cc51838814791851b832d9e4f0767": {
          "model_module": "@jupyter-widgets/controls",
          "model_module_version": "1.5.0",
          "model_name": "HTMLModel",
          "state": {
            "_dom_classes": [],
            "_model_module": "@jupyter-widgets/controls",
            "_model_module_version": "1.5.0",
            "_model_name": "HTMLModel",
            "_view_count": null,
            "_view_module": "@jupyter-widgets/controls",
            "_view_module_version": "1.5.0",
            "_view_name": "HTMLView",
            "description": "",
            "description_tooltip": null,
            "layout": "IPY_MODEL_58a650fb7f984574a8ef68c33fc4e05d",
            "placeholder": "​",
            "style": "IPY_MODEL_55b659ce21264fefbeaf2b4c6d197d5a",
            "value": "Generating train split: "
          }
        },
        "35a140ffdec547028db7155e5007bb93": {
          "model_module": "@jupyter-widgets/base",
          "model_module_version": "1.2.0",
          "model_name": "LayoutModel",
          "state": {
            "_model_module": "@jupyter-widgets/base",
            "_model_module_version": "1.2.0",
            "_model_name": "LayoutModel",
            "_view_count": null,
            "_view_module": "@jupyter-widgets/base",
            "_view_module_version": "1.2.0",
            "_view_name": "LayoutView",
            "align_content": null,
            "align_items": null,
            "align_self": null,
            "border": null,
            "bottom": null,
            "display": null,
            "flex": null,
            "flex_flow": null,
            "grid_area": null,
            "grid_auto_columns": null,
            "grid_auto_flow": null,
            "grid_auto_rows": null,
            "grid_column": null,
            "grid_gap": null,
            "grid_row": null,
            "grid_template_areas": null,
            "grid_template_columns": null,
            "grid_template_rows": null,
            "height": null,
            "justify_content": null,
            "justify_items": null,
            "left": null,
            "margin": null,
            "max_height": null,
            "max_width": null,
            "min_height": null,
            "min_width": null,
            "object_fit": null,
            "object_position": null,
            "order": null,
            "overflow": null,
            "overflow_x": null,
            "overflow_y": null,
            "padding": null,
            "right": null,
            "top": null,
            "visibility": null,
            "width": null
          }
        },
        "3682f4c24f4d47bebcab7b257bd85331": {
          "model_module": "@jupyter-widgets/controls",
          "model_module_version": "1.5.0",
          "model_name": "FloatProgressModel",
          "state": {
            "_dom_classes": [],
            "_model_module": "@jupyter-widgets/controls",
            "_model_module_version": "1.5.0",
            "_model_name": "FloatProgressModel",
            "_view_count": null,
            "_view_module": "@jupyter-widgets/controls",
            "_view_module_version": "1.5.0",
            "_view_name": "ProgressView",
            "bar_style": "success",
            "description": "",
            "description_tooltip": null,
            "layout": "IPY_MODEL_01249505ba12468f974f2cc48b329e28",
            "max": 30344,
            "min": 0,
            "orientation": "horizontal",
            "style": "IPY_MODEL_1ffc5669ee264418897a8647f42df8d9",
            "value": 30344
          }
        },
        "369d946467914dafa6e9236107823b3a": {
          "model_module": "@jupyter-widgets/controls",
          "model_module_version": "1.5.0",
          "model_name": "ProgressStyleModel",
          "state": {
            "_model_module": "@jupyter-widgets/controls",
            "_model_module_version": "1.5.0",
            "_model_name": "ProgressStyleModel",
            "_view_count": null,
            "_view_module": "@jupyter-widgets/base",
            "_view_module_version": "1.2.0",
            "_view_name": "StyleView",
            "bar_color": null,
            "description_width": ""
          }
        },
        "37c268be0f5844949f4fe1733c21562b": {
          "model_module": "@jupyter-widgets/controls",
          "model_module_version": "1.5.0",
          "model_name": "HTMLModel",
          "state": {
            "_dom_classes": [],
            "_model_module": "@jupyter-widgets/controls",
            "_model_module_version": "1.5.0",
            "_model_name": "HTMLModel",
            "_view_count": null,
            "_view_module": "@jupyter-widgets/controls",
            "_view_module_version": "1.5.0",
            "_view_name": "HTMLView",
            "description": "",
            "description_tooltip": null,
            "layout": "IPY_MODEL_5c571c08a05243028e71060b2c3c62b0",
            "placeholder": "​",
            "style": "IPY_MODEL_5524961b7e4d40b49e635c541a9fbf14",
            "value": " 73.5k/? [00:00&lt;00:00, 1.47MB/s]"
          }
        },
        "39438d292d224e23bfb15d76330e74dd": {
          "model_module": "@jupyter-widgets/controls",
          "model_module_version": "1.5.0",
          "model_name": "FloatProgressModel",
          "state": {
            "_dom_classes": [],
            "_model_module": "@jupyter-widgets/controls",
            "_model_module_version": "1.5.0",
            "_model_name": "FloatProgressModel",
            "_view_count": null,
            "_view_module": "@jupyter-widgets/controls",
            "_view_module_version": "1.5.0",
            "_view_name": "ProgressView",
            "bar_style": "success",
            "description": "",
            "description_tooltip": null,
            "layout": "IPY_MODEL_2d30f496684f43a49a0b689b25c38684",
            "max": 40778,
            "min": 0,
            "orientation": "horizontal",
            "style": "IPY_MODEL_50ae045ad89b431caa6ebea3348f2b9a",
            "value": 40778
          }
        },
        "39b08f225eba40d98e5b9f9cd88b2113": {
          "model_module": "@jupyter-widgets/base",
          "model_module_version": "1.2.0",
          "model_name": "LayoutModel",
          "state": {
            "_model_module": "@jupyter-widgets/base",
            "_model_module_version": "1.2.0",
            "_model_name": "LayoutModel",
            "_view_count": null,
            "_view_module": "@jupyter-widgets/base",
            "_view_module_version": "1.2.0",
            "_view_name": "LayoutView",
            "align_content": null,
            "align_items": null,
            "align_self": null,
            "border": null,
            "bottom": null,
            "display": null,
            "flex": null,
            "flex_flow": null,
            "grid_area": null,
            "grid_auto_columns": null,
            "grid_auto_flow": null,
            "grid_auto_rows": null,
            "grid_column": null,
            "grid_gap": null,
            "grid_row": null,
            "grid_template_areas": null,
            "grid_template_columns": null,
            "grid_template_rows": null,
            "height": null,
            "justify_content": null,
            "justify_items": null,
            "left": null,
            "margin": null,
            "max_height": null,
            "max_width": null,
            "min_height": null,
            "min_width": null,
            "object_fit": null,
            "object_position": null,
            "order": null,
            "overflow": null,
            "overflow_x": null,
            "overflow_y": null,
            "padding": null,
            "right": null,
            "top": null,
            "visibility": null,
            "width": null
          }
        },
        "3af438d31b414050b7869cb60defbeec": {
          "model_module": "@jupyter-widgets/base",
          "model_module_version": "1.2.0",
          "model_name": "LayoutModel",
          "state": {
            "_model_module": "@jupyter-widgets/base",
            "_model_module_version": "1.2.0",
            "_model_name": "LayoutModel",
            "_view_count": null,
            "_view_module": "@jupyter-widgets/base",
            "_view_module_version": "1.2.0",
            "_view_name": "LayoutView",
            "align_content": null,
            "align_items": null,
            "align_self": null,
            "border": null,
            "bottom": null,
            "display": null,
            "flex": null,
            "flex_flow": null,
            "grid_area": null,
            "grid_auto_columns": null,
            "grid_auto_flow": null,
            "grid_auto_rows": null,
            "grid_column": null,
            "grid_gap": null,
            "grid_row": null,
            "grid_template_areas": null,
            "grid_template_columns": null,
            "grid_template_rows": null,
            "height": null,
            "justify_content": null,
            "justify_items": null,
            "left": null,
            "margin": null,
            "max_height": null,
            "max_width": null,
            "min_height": null,
            "min_width": null,
            "object_fit": null,
            "object_position": null,
            "order": null,
            "overflow": null,
            "overflow_x": null,
            "overflow_y": null,
            "padding": null,
            "right": null,
            "top": null,
            "visibility": null,
            "width": null
          }
        },
        "4120033655c64b91b7fd74babd345259": {
          "model_module": "@jupyter-widgets/controls",
          "model_module_version": "1.5.0",
          "model_name": "FloatProgressModel",
          "state": {
            "_dom_classes": [],
            "_model_module": "@jupyter-widgets/controls",
            "_model_module_version": "1.5.0",
            "_model_name": "FloatProgressModel",
            "_view_count": null,
            "_view_module": "@jupyter-widgets/controls",
            "_view_module_version": "1.5.0",
            "_view_name": "ProgressView",
            "bar_style": "success",
            "description": "",
            "description_tooltip": null,
            "layout": "IPY_MODEL_0bec162da75f4f1dbad54e8d06c7d733",
            "max": 41980,
            "min": 0,
            "orientation": "horizontal",
            "style": "IPY_MODEL_2f75480e52544261a5b7deb3e6404428",
            "value": 41980
          }
        },
        "415e61f1560e46a8b8d3988401b3952d": {
          "model_module": "@jupyter-widgets/controls",
          "model_module_version": "1.5.0",
          "model_name": "DescriptionStyleModel",
          "state": {
            "_model_module": "@jupyter-widgets/controls",
            "_model_module_version": "1.5.0",
            "_model_name": "DescriptionStyleModel",
            "_view_count": null,
            "_view_module": "@jupyter-widgets/base",
            "_view_module_version": "1.2.0",
            "_view_name": "StyleView",
            "description_width": ""
          }
        },
        "41c48cf79238485bbd62d4cf24fc09df": {
          "model_module": "@jupyter-widgets/controls",
          "model_module_version": "1.5.0",
          "model_name": "HTMLModel",
          "state": {
            "_dom_classes": [],
            "_model_module": "@jupyter-widgets/controls",
            "_model_module_version": "1.5.0",
            "_model_name": "HTMLModel",
            "_view_count": null,
            "_view_module": "@jupyter-widgets/controls",
            "_view_module_version": "1.5.0",
            "_view_name": "HTMLView",
            "description": "",
            "description_tooltip": null,
            "layout": "IPY_MODEL_80b636d46a3441e89966cd3a25e0a767",
            "placeholder": "​",
            "style": "IPY_MODEL_61a4c67f0e0f4db3ac6772b871aebec6",
            "value": "Downloading data: "
          }
        },
        "4211bffaf40b40b69b7860af66c8ca28": {
          "model_module": "@jupyter-widgets/controls",
          "model_module_version": "1.5.0",
          "model_name": "HTMLModel",
          "state": {
            "_dom_classes": [],
            "_model_module": "@jupyter-widgets/controls",
            "_model_module_version": "1.5.0",
            "_model_name": "HTMLModel",
            "_view_count": null,
            "_view_module": "@jupyter-widgets/controls",
            "_view_module_version": "1.5.0",
            "_view_name": "HTMLView",
            "description": "",
            "description_tooltip": null,
            "layout": "IPY_MODEL_332446359f504c08bfba6a5191a16c0e",
            "placeholder": "​",
            "style": "IPY_MODEL_a9f0b080abed46588e9d2c045a1dad44",
            "value": "Downloading: 100%"
          }
        },
        "42317897debc413da9a9e87463b08010": {
          "model_module": "@jupyter-widgets/controls",
          "model_module_version": "1.5.0",
          "model_name": "DescriptionStyleModel",
          "state": {
            "_model_module": "@jupyter-widgets/controls",
            "_model_module_version": "1.5.0",
            "_model_name": "DescriptionStyleModel",
            "_view_count": null,
            "_view_module": "@jupyter-widgets/base",
            "_view_module_version": "1.2.0",
            "_view_name": "StyleView",
            "description_width": ""
          }
        },
        "44ee0cc623be484ca4201c4b7a313053": {
          "model_module": "@jupyter-widgets/controls",
          "model_module_version": "1.5.0",
          "model_name": "HTMLModel",
          "state": {
            "_dom_classes": [],
            "_model_module": "@jupyter-widgets/controls",
            "_model_module_version": "1.5.0",
            "_model_name": "HTMLModel",
            "_view_count": null,
            "_view_module": "@jupyter-widgets/controls",
            "_view_module_version": "1.5.0",
            "_view_name": "HTMLView",
            "description": "",
            "description_tooltip": null,
            "layout": "IPY_MODEL_ba0e08a5fe8f47b6a9acb44cb918869b",
            "placeholder": "​",
            "style": "IPY_MODEL_2dba02d50d524a71b6c92897212fa544",
            "value": "100%"
          }
        },
        "45014c5f913e4d0a9fda98aa421cddba": {
          "model_module": "@jupyter-widgets/base",
          "model_module_version": "1.2.0",
          "model_name": "LayoutModel",
          "state": {
            "_model_module": "@jupyter-widgets/base",
            "_model_module_version": "1.2.0",
            "_model_name": "LayoutModel",
            "_view_count": null,
            "_view_module": "@jupyter-widgets/base",
            "_view_module_version": "1.2.0",
            "_view_name": "LayoutView",
            "align_content": null,
            "align_items": null,
            "align_self": null,
            "border": null,
            "bottom": null,
            "display": null,
            "flex": null,
            "flex_flow": null,
            "grid_area": null,
            "grid_auto_columns": null,
            "grid_auto_flow": null,
            "grid_auto_rows": null,
            "grid_column": null,
            "grid_gap": null,
            "grid_row": null,
            "grid_template_areas": null,
            "grid_template_columns": null,
            "grid_template_rows": null,
            "height": null,
            "justify_content": null,
            "justify_items": null,
            "left": null,
            "margin": null,
            "max_height": null,
            "max_width": null,
            "min_height": null,
            "min_width": null,
            "object_fit": null,
            "object_position": null,
            "order": null,
            "overflow": null,
            "overflow_x": null,
            "overflow_y": null,
            "padding": null,
            "right": null,
            "top": null,
            "visibility": null,
            "width": null
          }
        },
        "456fd0e296b646629fc325ad96dfb6ba": {
          "model_module": "@jupyter-widgets/controls",
          "model_module_version": "1.5.0",
          "model_name": "HBoxModel",
          "state": {
            "_dom_classes": [],
            "_model_module": "@jupyter-widgets/controls",
            "_model_module_version": "1.5.0",
            "_model_name": "HBoxModel",
            "_view_count": null,
            "_view_module": "@jupyter-widgets/controls",
            "_view_module_version": "1.5.0",
            "_view_name": "HBoxView",
            "box_style": "",
            "children": [
              "IPY_MODEL_930eed0b5aaf48f2bd23269b35f51f86",
              "IPY_MODEL_aad2cedb203746868acb9f5727034699",
              "IPY_MODEL_f5fa7c5535804e3aac766a257d13f902"
            ],
            "layout": "IPY_MODEL_9fb9c5b0421747a0b00c042af5ac594f"
          }
        },
        "462b491b97bc4325857fc38cd1074f5e": {
          "model_module": "@jupyter-widgets/base",
          "model_module_version": "1.2.0",
          "model_name": "LayoutModel",
          "state": {
            "_model_module": "@jupyter-widgets/base",
            "_model_module_version": "1.2.0",
            "_model_name": "LayoutModel",
            "_view_count": null,
            "_view_module": "@jupyter-widgets/base",
            "_view_module_version": "1.2.0",
            "_view_name": "LayoutView",
            "align_content": null,
            "align_items": null,
            "align_self": null,
            "border": null,
            "bottom": null,
            "display": null,
            "flex": null,
            "flex_flow": null,
            "grid_area": null,
            "grid_auto_columns": null,
            "grid_auto_flow": null,
            "grid_auto_rows": null,
            "grid_column": null,
            "grid_gap": null,
            "grid_row": null,
            "grid_template_areas": null,
            "grid_template_columns": null,
            "grid_template_rows": null,
            "height": null,
            "justify_content": null,
            "justify_items": null,
            "left": null,
            "margin": null,
            "max_height": null,
            "max_width": null,
            "min_height": null,
            "min_width": null,
            "object_fit": null,
            "object_position": null,
            "order": null,
            "overflow": null,
            "overflow_x": null,
            "overflow_y": null,
            "padding": null,
            "right": null,
            "top": null,
            "visibility": null,
            "width": null
          }
        },
        "47aa3f2e32ca410bb1e64303cd8e177e": {
          "model_module": "@jupyter-widgets/controls",
          "model_module_version": "1.5.0",
          "model_name": "HBoxModel",
          "state": {
            "_dom_classes": [],
            "_model_module": "@jupyter-widgets/controls",
            "_model_module_version": "1.5.0",
            "_model_name": "HBoxModel",
            "_view_count": null,
            "_view_module": "@jupyter-widgets/controls",
            "_view_module_version": "1.5.0",
            "_view_name": "HBoxView",
            "box_style": "",
            "children": [
              "IPY_MODEL_2bd8efc85cf741e79c85ffbaa34bffab",
              "IPY_MODEL_aa925a383bf14cc9a1bf367bb700b035",
              "IPY_MODEL_22b91dd405b0494b986f4f6180af07f5"
            ],
            "layout": "IPY_MODEL_b3aed11dfa444bfda90f76a5c4d4b0be"
          }
        },
        "4860c0d40329452895a1534ba1c22f8d": {
          "model_module": "@jupyter-widgets/base",
          "model_module_version": "1.2.0",
          "model_name": "LayoutModel",
          "state": {
            "_model_module": "@jupyter-widgets/base",
            "_model_module_version": "1.2.0",
            "_model_name": "LayoutModel",
            "_view_count": null,
            "_view_module": "@jupyter-widgets/base",
            "_view_module_version": "1.2.0",
            "_view_name": "LayoutView",
            "align_content": null,
            "align_items": null,
            "align_self": null,
            "border": null,
            "bottom": null,
            "display": null,
            "flex": null,
            "flex_flow": null,
            "grid_area": null,
            "grid_auto_columns": null,
            "grid_auto_flow": null,
            "grid_auto_rows": null,
            "grid_column": null,
            "grid_gap": null,
            "grid_row": null,
            "grid_template_areas": null,
            "grid_template_columns": null,
            "grid_template_rows": null,
            "height": null,
            "justify_content": null,
            "justify_items": null,
            "left": null,
            "margin": null,
            "max_height": null,
            "max_width": null,
            "min_height": null,
            "min_width": null,
            "object_fit": null,
            "object_position": null,
            "order": null,
            "overflow": null,
            "overflow_x": null,
            "overflow_y": null,
            "padding": null,
            "right": null,
            "top": null,
            "visibility": null,
            "width": null
          }
        },
        "48d91abe8ae34066b6f16644481f936c": {
          "model_module": "@jupyter-widgets/base",
          "model_module_version": "1.2.0",
          "model_name": "LayoutModel",
          "state": {
            "_model_module": "@jupyter-widgets/base",
            "_model_module_version": "1.2.0",
            "_model_name": "LayoutModel",
            "_view_count": null,
            "_view_module": "@jupyter-widgets/base",
            "_view_module_version": "1.2.0",
            "_view_name": "LayoutView",
            "align_content": null,
            "align_items": null,
            "align_self": null,
            "border": null,
            "bottom": null,
            "display": null,
            "flex": null,
            "flex_flow": null,
            "grid_area": null,
            "grid_auto_columns": null,
            "grid_auto_flow": null,
            "grid_auto_rows": null,
            "grid_column": null,
            "grid_gap": null,
            "grid_row": null,
            "grid_template_areas": null,
            "grid_template_columns": null,
            "grid_template_rows": null,
            "height": null,
            "justify_content": null,
            "justify_items": null,
            "left": null,
            "margin": null,
            "max_height": null,
            "max_width": null,
            "min_height": null,
            "min_width": null,
            "object_fit": null,
            "object_position": null,
            "order": null,
            "overflow": null,
            "overflow_x": null,
            "overflow_y": null,
            "padding": null,
            "right": null,
            "top": null,
            "visibility": null,
            "width": null
          }
        },
        "4d9101f0666b43f08606fe4c03e164fc": {
          "model_module": "@jupyter-widgets/base",
          "model_module_version": "1.2.0",
          "model_name": "LayoutModel",
          "state": {
            "_model_module": "@jupyter-widgets/base",
            "_model_module_version": "1.2.0",
            "_model_name": "LayoutModel",
            "_view_count": null,
            "_view_module": "@jupyter-widgets/base",
            "_view_module_version": "1.2.0",
            "_view_name": "LayoutView",
            "align_content": null,
            "align_items": null,
            "align_self": null,
            "border": null,
            "bottom": null,
            "display": null,
            "flex": null,
            "flex_flow": null,
            "grid_area": null,
            "grid_auto_columns": null,
            "grid_auto_flow": null,
            "grid_auto_rows": null,
            "grid_column": null,
            "grid_gap": null,
            "grid_row": null,
            "grid_template_areas": null,
            "grid_template_columns": null,
            "grid_template_rows": null,
            "height": null,
            "justify_content": null,
            "justify_items": null,
            "left": null,
            "margin": null,
            "max_height": null,
            "max_width": null,
            "min_height": null,
            "min_width": null,
            "object_fit": null,
            "object_position": null,
            "order": null,
            "overflow": null,
            "overflow_x": null,
            "overflow_y": null,
            "padding": null,
            "right": null,
            "top": null,
            "visibility": null,
            "width": null
          }
        },
        "4ef46650350d46c094124a3ea21ebcd4": {
          "model_module": "@jupyter-widgets/controls",
          "model_module_version": "1.5.0",
          "model_name": "HTMLModel",
          "state": {
            "_dom_classes": [],
            "_model_module": "@jupyter-widgets/controls",
            "_model_module_version": "1.5.0",
            "_model_name": "HTMLModel",
            "_view_count": null,
            "_view_module": "@jupyter-widgets/controls",
            "_view_module_version": "1.5.0",
            "_view_name": "HTMLView",
            "description": "",
            "description_tooltip": null,
            "layout": "IPY_MODEL_a78ef8920b23480e8654f775a792c12d",
            "placeholder": "​",
            "style": "IPY_MODEL_415e61f1560e46a8b8d3988401b3952d",
            "value": "100%"
          }
        },
        "50ae045ad89b431caa6ebea3348f2b9a": {
          "model_module": "@jupyter-widgets/controls",
          "model_module_version": "1.5.0",
          "model_name": "ProgressStyleModel",
          "state": {
            "_model_module": "@jupyter-widgets/controls",
            "_model_module_version": "1.5.0",
            "_model_name": "ProgressStyleModel",
            "_view_count": null,
            "_view_module": "@jupyter-widgets/base",
            "_view_module_version": "1.2.0",
            "_view_name": "StyleView",
            "bar_color": null,
            "description_width": ""
          }
        },
        "5100a48723c141b380b9a0a85cd682fd": {
          "model_module": "@jupyter-widgets/base",
          "model_module_version": "1.2.0",
          "model_name": "LayoutModel",
          "state": {
            "_model_module": "@jupyter-widgets/base",
            "_model_module_version": "1.2.0",
            "_model_name": "LayoutModel",
            "_view_count": null,
            "_view_module": "@jupyter-widgets/base",
            "_view_module_version": "1.2.0",
            "_view_name": "LayoutView",
            "align_content": null,
            "align_items": null,
            "align_self": null,
            "border": null,
            "bottom": null,
            "display": null,
            "flex": null,
            "flex_flow": null,
            "grid_area": null,
            "grid_auto_columns": null,
            "grid_auto_flow": null,
            "grid_auto_rows": null,
            "grid_column": null,
            "grid_gap": null,
            "grid_row": null,
            "grid_template_areas": null,
            "grid_template_columns": null,
            "grid_template_rows": null,
            "height": null,
            "justify_content": null,
            "justify_items": null,
            "left": null,
            "margin": null,
            "max_height": null,
            "max_width": null,
            "min_height": null,
            "min_width": null,
            "object_fit": null,
            "object_position": null,
            "order": null,
            "overflow": null,
            "overflow_x": null,
            "overflow_y": null,
            "padding": null,
            "right": null,
            "top": null,
            "visibility": null,
            "width": null
          }
        },
        "51b68c080cc14122b6a2617b45674d89": {
          "model_module": "@jupyter-widgets/controls",
          "model_module_version": "1.5.0",
          "model_name": "FloatProgressModel",
          "state": {
            "_dom_classes": [],
            "_model_module": "@jupyter-widgets/controls",
            "_model_module_version": "1.5.0",
            "_model_name": "FloatProgressModel",
            "_view_count": null,
            "_view_module": "@jupyter-widgets/controls",
            "_view_module_version": "1.5.0",
            "_view_name": "ProgressView",
            "bar_style": "success",
            "description": "",
            "description_tooltip": null,
            "layout": "IPY_MODEL_a49c623556ed4fc2add833df2ef2e6ad",
            "max": 97743,
            "min": 0,
            "orientation": "horizontal",
            "style": "IPY_MODEL_8b4988cf2334498caf4c0ca707ddbfc5",
            "value": 97743
          }
        },
        "51d10f8212ff4ea5add261fbea97c9b3": {
          "model_module": "@jupyter-widgets/base",
          "model_module_version": "1.2.0",
          "model_name": "LayoutModel",
          "state": {
            "_model_module": "@jupyter-widgets/base",
            "_model_module_version": "1.2.0",
            "_model_name": "LayoutModel",
            "_view_count": null,
            "_view_module": "@jupyter-widgets/base",
            "_view_module_version": "1.2.0",
            "_view_name": "LayoutView",
            "align_content": null,
            "align_items": null,
            "align_self": null,
            "border": null,
            "bottom": null,
            "display": null,
            "flex": null,
            "flex_flow": null,
            "grid_area": null,
            "grid_auto_columns": null,
            "grid_auto_flow": null,
            "grid_auto_rows": null,
            "grid_column": null,
            "grid_gap": null,
            "grid_row": null,
            "grid_template_areas": null,
            "grid_template_columns": null,
            "grid_template_rows": null,
            "height": null,
            "justify_content": null,
            "justify_items": null,
            "left": null,
            "margin": null,
            "max_height": null,
            "max_width": null,
            "min_height": null,
            "min_width": null,
            "object_fit": null,
            "object_position": null,
            "order": null,
            "overflow": null,
            "overflow_x": null,
            "overflow_y": null,
            "padding": null,
            "right": null,
            "top": null,
            "visibility": null,
            "width": null
          }
        },
        "535f09c1e5c64479ad63f86d4c37f8b2": {
          "model_module": "@jupyter-widgets/base",
          "model_module_version": "1.2.0",
          "model_name": "LayoutModel",
          "state": {
            "_model_module": "@jupyter-widgets/base",
            "_model_module_version": "1.2.0",
            "_model_name": "LayoutModel",
            "_view_count": null,
            "_view_module": "@jupyter-widgets/base",
            "_view_module_version": "1.2.0",
            "_view_name": "LayoutView",
            "align_content": null,
            "align_items": null,
            "align_self": null,
            "border": null,
            "bottom": null,
            "display": null,
            "flex": null,
            "flex_flow": null,
            "grid_area": null,
            "grid_auto_columns": null,
            "grid_auto_flow": null,
            "grid_auto_rows": null,
            "grid_column": null,
            "grid_gap": null,
            "grid_row": null,
            "grid_template_areas": null,
            "grid_template_columns": null,
            "grid_template_rows": null,
            "height": null,
            "justify_content": null,
            "justify_items": null,
            "left": null,
            "margin": null,
            "max_height": null,
            "max_width": null,
            "min_height": null,
            "min_width": null,
            "object_fit": null,
            "object_position": null,
            "order": null,
            "overflow": null,
            "overflow_x": null,
            "overflow_y": null,
            "padding": null,
            "right": null,
            "top": null,
            "visibility": null,
            "width": null
          }
        },
        "54268735fb3f474faec631271c08202f": {
          "model_module": "@jupyter-widgets/base",
          "model_module_version": "1.2.0",
          "model_name": "LayoutModel",
          "state": {
            "_model_module": "@jupyter-widgets/base",
            "_model_module_version": "1.2.0",
            "_model_name": "LayoutModel",
            "_view_count": null,
            "_view_module": "@jupyter-widgets/base",
            "_view_module_version": "1.2.0",
            "_view_name": "LayoutView",
            "align_content": null,
            "align_items": null,
            "align_self": null,
            "border": null,
            "bottom": null,
            "display": null,
            "flex": null,
            "flex_flow": null,
            "grid_area": null,
            "grid_auto_columns": null,
            "grid_auto_flow": null,
            "grid_auto_rows": null,
            "grid_column": null,
            "grid_gap": null,
            "grid_row": null,
            "grid_template_areas": null,
            "grid_template_columns": null,
            "grid_template_rows": null,
            "height": null,
            "justify_content": null,
            "justify_items": null,
            "left": null,
            "margin": null,
            "max_height": null,
            "max_width": null,
            "min_height": null,
            "min_width": null,
            "object_fit": null,
            "object_position": null,
            "order": null,
            "overflow": null,
            "overflow_x": null,
            "overflow_y": null,
            "padding": null,
            "right": null,
            "top": null,
            "visibility": null,
            "width": null
          }
        },
        "546c26bd77af409e88985855bb4361a5": {
          "model_module": "@jupyter-widgets/controls",
          "model_module_version": "1.5.0",
          "model_name": "HTMLModel",
          "state": {
            "_dom_classes": [],
            "_model_module": "@jupyter-widgets/controls",
            "_model_module_version": "1.5.0",
            "_model_name": "HTMLModel",
            "_view_count": null,
            "_view_module": "@jupyter-widgets/controls",
            "_view_module_version": "1.5.0",
            "_view_name": "HTMLView",
            "description": "",
            "description_tooltip": null,
            "layout": "IPY_MODEL_08d93699366446dab682f5a5583e9e43",
            "placeholder": "​",
            "style": "IPY_MODEL_a191087772aa4662a5a6d49d287f00f9",
            "value": "Downloading: 100%"
          }
        },
        "5524961b7e4d40b49e635c541a9fbf14": {
          "model_module": "@jupyter-widgets/controls",
          "model_module_version": "1.5.0",
          "model_name": "DescriptionStyleModel",
          "state": {
            "_model_module": "@jupyter-widgets/controls",
            "_model_module_version": "1.5.0",
            "_model_name": "DescriptionStyleModel",
            "_view_count": null,
            "_view_module": "@jupyter-widgets/base",
            "_view_module_version": "1.2.0",
            "_view_name": "StyleView",
            "description_width": ""
          }
        },
        "55b659ce21264fefbeaf2b4c6d197d5a": {
          "model_module": "@jupyter-widgets/controls",
          "model_module_version": "1.5.0",
          "model_name": "DescriptionStyleModel",
          "state": {
            "_model_module": "@jupyter-widgets/controls",
            "_model_module_version": "1.5.0",
            "_model_name": "DescriptionStyleModel",
            "_view_count": null,
            "_view_module": "@jupyter-widgets/base",
            "_view_module_version": "1.2.0",
            "_view_name": "StyleView",
            "description_width": ""
          }
        },
        "56051995328f409d946cbf7c3ce109ce": {
          "model_module": "@jupyter-widgets/controls",
          "model_module_version": "1.5.0",
          "model_name": "FloatProgressModel",
          "state": {
            "_dom_classes": [],
            "_model_module": "@jupyter-widgets/controls",
            "_model_module_version": "1.5.0",
            "_model_name": "FloatProgressModel",
            "_view_count": null,
            "_view_module": "@jupyter-widgets/controls",
            "_view_module_version": "1.5.0",
            "_view_name": "ProgressView",
            "bar_style": "success",
            "description": "",
            "description_tooltip": null,
            "layout": "IPY_MODEL_e85a4d82d46d4febba82d9a75153fe92",
            "max": 2,
            "min": 0,
            "orientation": "horizontal",
            "style": "IPY_MODEL_a38f9cffbf4c49b5937941692b3df037",
            "value": 2
          }
        },
        "58a650fb7f984574a8ef68c33fc4e05d": {
          "model_module": "@jupyter-widgets/base",
          "model_module_version": "1.2.0",
          "model_name": "LayoutModel",
          "state": {
            "_model_module": "@jupyter-widgets/base",
            "_model_module_version": "1.2.0",
            "_model_name": "LayoutModel",
            "_view_count": null,
            "_view_module": "@jupyter-widgets/base",
            "_view_module_version": "1.2.0",
            "_view_name": "LayoutView",
            "align_content": null,
            "align_items": null,
            "align_self": null,
            "border": null,
            "bottom": null,
            "display": null,
            "flex": null,
            "flex_flow": null,
            "grid_area": null,
            "grid_auto_columns": null,
            "grid_auto_flow": null,
            "grid_auto_rows": null,
            "grid_column": null,
            "grid_gap": null,
            "grid_row": null,
            "grid_template_areas": null,
            "grid_template_columns": null,
            "grid_template_rows": null,
            "height": null,
            "justify_content": null,
            "justify_items": null,
            "left": null,
            "margin": null,
            "max_height": null,
            "max_width": null,
            "min_height": null,
            "min_width": null,
            "object_fit": null,
            "object_position": null,
            "order": null,
            "overflow": null,
            "overflow_x": null,
            "overflow_y": null,
            "padding": null,
            "right": null,
            "top": null,
            "visibility": null,
            "width": null
          }
        },
        "5a932c9305ed4ef5a1a112d56993bb70": {
          "model_module": "@jupyter-widgets/controls",
          "model_module_version": "1.5.0",
          "model_name": "HBoxModel",
          "state": {
            "_dom_classes": [],
            "_model_module": "@jupyter-widgets/controls",
            "_model_module_version": "1.5.0",
            "_model_name": "HBoxModel",
            "_view_count": null,
            "_view_module": "@jupyter-widgets/controls",
            "_view_module_version": "1.5.0",
            "_view_name": "HBoxView",
            "box_style": "",
            "children": [
              "IPY_MODEL_332cc51838814791851b832d9e4f0767",
              "IPY_MODEL_e29ad23ec60e47cfb320dd2ec64c5d71",
              "IPY_MODEL_1b9d9c3b6c994df7a4aaa6eb79709a0c"
            ],
            "layout": "IPY_MODEL_096830b5315c4596b2488e37a0a3b6a4"
          }
        },
        "5c571c08a05243028e71060b2c3c62b0": {
          "model_module": "@jupyter-widgets/base",
          "model_module_version": "1.2.0",
          "model_name": "LayoutModel",
          "state": {
            "_model_module": "@jupyter-widgets/base",
            "_model_module_version": "1.2.0",
            "_model_name": "LayoutModel",
            "_view_count": null,
            "_view_module": "@jupyter-widgets/base",
            "_view_module_version": "1.2.0",
            "_view_name": "LayoutView",
            "align_content": null,
            "align_items": null,
            "align_self": null,
            "border": null,
            "bottom": null,
            "display": null,
            "flex": null,
            "flex_flow": null,
            "grid_area": null,
            "grid_auto_columns": null,
            "grid_auto_flow": null,
            "grid_auto_rows": null,
            "grid_column": null,
            "grid_gap": null,
            "grid_row": null,
            "grid_template_areas": null,
            "grid_template_columns": null,
            "grid_template_rows": null,
            "height": null,
            "justify_content": null,
            "justify_items": null,
            "left": null,
            "margin": null,
            "max_height": null,
            "max_width": null,
            "min_height": null,
            "min_width": null,
            "object_fit": null,
            "object_position": null,
            "order": null,
            "overflow": null,
            "overflow_x": null,
            "overflow_y": null,
            "padding": null,
            "right": null,
            "top": null,
            "visibility": null,
            "width": null
          }
        },
        "5e168333e16b4812ab8482eba85df368": {
          "model_module": "@jupyter-widgets/controls",
          "model_module_version": "1.5.0",
          "model_name": "HBoxModel",
          "state": {
            "_dom_classes": [],
            "_model_module": "@jupyter-widgets/controls",
            "_model_module_version": "1.5.0",
            "_model_name": "HBoxModel",
            "_view_count": null,
            "_view_module": "@jupyter-widgets/controls",
            "_view_module_version": "1.5.0",
            "_view_name": "HBoxView",
            "box_style": "",
            "children": [
              "IPY_MODEL_4211bffaf40b40b69b7860af66c8ca28",
              "IPY_MODEL_796060c808b44be28394d1d733be56ca",
              "IPY_MODEL_2358684336e64000b35b8e2ca5e73fde"
            ],
            "layout": "IPY_MODEL_35a140ffdec547028db7155e5007bb93"
          }
        },
        "605df8b9dc5f49699192a4802ad6af12": {
          "model_module": "@jupyter-widgets/controls",
          "model_module_version": "1.5.0",
          "model_name": "ProgressStyleModel",
          "state": {
            "_model_module": "@jupyter-widgets/controls",
            "_model_module_version": "1.5.0",
            "_model_name": "ProgressStyleModel",
            "_view_count": null,
            "_view_module": "@jupyter-widgets/base",
            "_view_module_version": "1.2.0",
            "_view_name": "StyleView",
            "bar_color": null,
            "description_width": ""
          }
        },
        "61a4c67f0e0f4db3ac6772b871aebec6": {
          "model_module": "@jupyter-widgets/controls",
          "model_module_version": "1.5.0",
          "model_name": "DescriptionStyleModel",
          "state": {
            "_model_module": "@jupyter-widgets/controls",
            "_model_module_version": "1.5.0",
            "_model_name": "DescriptionStyleModel",
            "_view_count": null,
            "_view_module": "@jupyter-widgets/base",
            "_view_module_version": "1.2.0",
            "_view_name": "StyleView",
            "description_width": ""
          }
        },
        "65dbb4b97e864de4aeacdc51d0471da2": {
          "model_module": "@jupyter-widgets/controls",
          "model_module_version": "1.5.0",
          "model_name": "DescriptionStyleModel",
          "state": {
            "_model_module": "@jupyter-widgets/controls",
            "_model_module_version": "1.5.0",
            "_model_name": "DescriptionStyleModel",
            "_view_count": null,
            "_view_module": "@jupyter-widgets/base",
            "_view_module_version": "1.2.0",
            "_view_name": "StyleView",
            "description_width": ""
          }
        },
        "669b6b7aa77544ce8d5d9d87e5e4c0f4": {
          "model_module": "@jupyter-widgets/controls",
          "model_module_version": "1.5.0",
          "model_name": "ProgressStyleModel",
          "state": {
            "_model_module": "@jupyter-widgets/controls",
            "_model_module_version": "1.5.0",
            "_model_name": "ProgressStyleModel",
            "_view_count": null,
            "_view_module": "@jupyter-widgets/base",
            "_view_module_version": "1.2.0",
            "_view_name": "StyleView",
            "bar_color": null,
            "description_width": ""
          }
        },
        "680b426379f045a387a4e54b45048e8e": {
          "model_module": "@jupyter-widgets/base",
          "model_module_version": "1.2.0",
          "model_name": "LayoutModel",
          "state": {
            "_model_module": "@jupyter-widgets/base",
            "_model_module_version": "1.2.0",
            "_model_name": "LayoutModel",
            "_view_count": null,
            "_view_module": "@jupyter-widgets/base",
            "_view_module_version": "1.2.0",
            "_view_name": "LayoutView",
            "align_content": null,
            "align_items": null,
            "align_self": null,
            "border": null,
            "bottom": null,
            "display": null,
            "flex": null,
            "flex_flow": null,
            "grid_area": null,
            "grid_auto_columns": null,
            "grid_auto_flow": null,
            "grid_auto_rows": null,
            "grid_column": null,
            "grid_gap": null,
            "grid_row": null,
            "grid_template_areas": null,
            "grid_template_columns": null,
            "grid_template_rows": null,
            "height": null,
            "justify_content": null,
            "justify_items": null,
            "left": null,
            "margin": null,
            "max_height": null,
            "max_width": null,
            "min_height": null,
            "min_width": null,
            "object_fit": null,
            "object_position": null,
            "order": null,
            "overflow": null,
            "overflow_x": null,
            "overflow_y": null,
            "padding": null,
            "right": null,
            "top": null,
            "visibility": null,
            "width": null
          }
        },
        "6b9e85abc144464c9a719c310db74d3c": {
          "model_module": "@jupyter-widgets/controls",
          "model_module_version": "1.5.0",
          "model_name": "DescriptionStyleModel",
          "state": {
            "_model_module": "@jupyter-widgets/controls",
            "_model_module_version": "1.5.0",
            "_model_name": "DescriptionStyleModel",
            "_view_count": null,
            "_view_module": "@jupyter-widgets/base",
            "_view_module_version": "1.2.0",
            "_view_name": "StyleView",
            "description_width": ""
          }
        },
        "6c022385324f4278849d64e3424af487": {
          "model_module": "@jupyter-widgets/base",
          "model_module_version": "1.2.0",
          "model_name": "LayoutModel",
          "state": {
            "_model_module": "@jupyter-widgets/base",
            "_model_module_version": "1.2.0",
            "_model_name": "LayoutModel",
            "_view_count": null,
            "_view_module": "@jupyter-widgets/base",
            "_view_module_version": "1.2.0",
            "_view_name": "LayoutView",
            "align_content": null,
            "align_items": null,
            "align_self": null,
            "border": null,
            "bottom": null,
            "display": null,
            "flex": null,
            "flex_flow": null,
            "grid_area": null,
            "grid_auto_columns": null,
            "grid_auto_flow": null,
            "grid_auto_rows": null,
            "grid_column": null,
            "grid_gap": null,
            "grid_row": null,
            "grid_template_areas": null,
            "grid_template_columns": null,
            "grid_template_rows": null,
            "height": null,
            "justify_content": null,
            "justify_items": null,
            "left": null,
            "margin": null,
            "max_height": null,
            "max_width": null,
            "min_height": null,
            "min_width": null,
            "object_fit": null,
            "object_position": null,
            "order": null,
            "overflow": null,
            "overflow_x": null,
            "overflow_y": null,
            "padding": null,
            "right": null,
            "top": null,
            "visibility": null,
            "width": null
          }
        },
        "6e15108b87584980848abd11de20c2d0": {
          "model_module": "@jupyter-widgets/controls",
          "model_module_version": "1.5.0",
          "model_name": "DescriptionStyleModel",
          "state": {
            "_model_module": "@jupyter-widgets/controls",
            "_model_module_version": "1.5.0",
            "_model_name": "DescriptionStyleModel",
            "_view_count": null,
            "_view_module": "@jupyter-widgets/base",
            "_view_module_version": "1.2.0",
            "_view_name": "StyleView",
            "description_width": ""
          }
        },
        "6f03c2b735f7495a95467ce3d16fb881": {
          "model_module": "@jupyter-widgets/base",
          "model_module_version": "1.2.0",
          "model_name": "LayoutModel",
          "state": {
            "_model_module": "@jupyter-widgets/base",
            "_model_module_version": "1.2.0",
            "_model_name": "LayoutModel",
            "_view_count": null,
            "_view_module": "@jupyter-widgets/base",
            "_view_module_version": "1.2.0",
            "_view_name": "LayoutView",
            "align_content": null,
            "align_items": null,
            "align_self": null,
            "border": null,
            "bottom": null,
            "display": null,
            "flex": null,
            "flex_flow": null,
            "grid_area": null,
            "grid_auto_columns": null,
            "grid_auto_flow": null,
            "grid_auto_rows": null,
            "grid_column": null,
            "grid_gap": null,
            "grid_row": null,
            "grid_template_areas": null,
            "grid_template_columns": null,
            "grid_template_rows": null,
            "height": null,
            "justify_content": null,
            "justify_items": null,
            "left": null,
            "margin": null,
            "max_height": null,
            "max_width": null,
            "min_height": null,
            "min_width": null,
            "object_fit": null,
            "object_position": null,
            "order": null,
            "overflow": null,
            "overflow_x": null,
            "overflow_y": null,
            "padding": null,
            "right": null,
            "top": null,
            "visibility": null,
            "width": null
          }
        },
        "70b4a607c95c48de9a6c86a97a21ada9": {
          "model_module": "@jupyter-widgets/base",
          "model_module_version": "1.2.0",
          "model_name": "LayoutModel",
          "state": {
            "_model_module": "@jupyter-widgets/base",
            "_model_module_version": "1.2.0",
            "_model_name": "LayoutModel",
            "_view_count": null,
            "_view_module": "@jupyter-widgets/base",
            "_view_module_version": "1.2.0",
            "_view_name": "LayoutView",
            "align_content": null,
            "align_items": null,
            "align_self": null,
            "border": null,
            "bottom": null,
            "display": null,
            "flex": null,
            "flex_flow": null,
            "grid_area": null,
            "grid_auto_columns": null,
            "grid_auto_flow": null,
            "grid_auto_rows": null,
            "grid_column": null,
            "grid_gap": null,
            "grid_row": null,
            "grid_template_areas": null,
            "grid_template_columns": null,
            "grid_template_rows": null,
            "height": null,
            "justify_content": null,
            "justify_items": null,
            "left": null,
            "margin": null,
            "max_height": null,
            "max_width": null,
            "min_height": null,
            "min_width": null,
            "object_fit": null,
            "object_position": null,
            "order": null,
            "overflow": null,
            "overflow_x": null,
            "overflow_y": null,
            "padding": null,
            "right": null,
            "top": null,
            "visibility": null,
            "width": null
          }
        },
        "716e706bfcb445e1928a1c7a952599d4": {
          "model_module": "@jupyter-widgets/base",
          "model_module_version": "1.2.0",
          "model_name": "LayoutModel",
          "state": {
            "_model_module": "@jupyter-widgets/base",
            "_model_module_version": "1.2.0",
            "_model_name": "LayoutModel",
            "_view_count": null,
            "_view_module": "@jupyter-widgets/base",
            "_view_module_version": "1.2.0",
            "_view_name": "LayoutView",
            "align_content": null,
            "align_items": null,
            "align_self": null,
            "border": null,
            "bottom": null,
            "display": null,
            "flex": null,
            "flex_flow": null,
            "grid_area": null,
            "grid_auto_columns": null,
            "grid_auto_flow": null,
            "grid_auto_rows": null,
            "grid_column": null,
            "grid_gap": null,
            "grid_row": null,
            "grid_template_areas": null,
            "grid_template_columns": null,
            "grid_template_rows": null,
            "height": null,
            "justify_content": null,
            "justify_items": null,
            "left": null,
            "margin": null,
            "max_height": null,
            "max_width": null,
            "min_height": null,
            "min_width": null,
            "object_fit": null,
            "object_position": null,
            "order": null,
            "overflow": null,
            "overflow_x": null,
            "overflow_y": null,
            "padding": null,
            "right": null,
            "top": null,
            "visibility": null,
            "width": null
          }
        },
        "73c5ec8aedf94521ac042ae73b56298e": {
          "model_module": "@jupyter-widgets/controls",
          "model_module_version": "1.5.0",
          "model_name": "HTMLModel",
          "state": {
            "_dom_classes": [],
            "_model_module": "@jupyter-widgets/controls",
            "_model_module_version": "1.5.0",
            "_model_name": "HTMLModel",
            "_view_count": null,
            "_view_module": "@jupyter-widgets/controls",
            "_view_module_version": "1.5.0",
            "_view_name": "HTMLView",
            "description": "",
            "description_tooltip": null,
            "layout": "IPY_MODEL_9e1f0a92add84cc2acc1b18d65f1ed36",
            "placeholder": "​",
            "style": "IPY_MODEL_d250fce4b641472597c65771298649f3",
            "value": " 229k/229k [00:00&lt;00:00, 234kB/s]"
          }
        },
        "741361b0935d4831be97dd86c0e7770b": {
          "model_module": "@jupyter-widgets/controls",
          "model_module_version": "1.5.0",
          "model_name": "HTMLModel",
          "state": {
            "_dom_classes": [],
            "_model_module": "@jupyter-widgets/controls",
            "_model_module_version": "1.5.0",
            "_model_name": "HTMLModel",
            "_view_count": null,
            "_view_module": "@jupyter-widgets/controls",
            "_view_module_version": "1.5.0",
            "_view_name": "HTMLView",
            "description": "",
            "description_tooltip": null,
            "layout": "IPY_MODEL_b9bf35ea3a1148a59c1d6c131817578d",
            "placeholder": "​",
            "style": "IPY_MODEL_95132b17488846378ef67e7eaed8bca0",
            "value": "Downloading data: "
          }
        },
        "75f0c1d995ab447998f83e5c8160bfa6": {
          "model_module": "@jupyter-widgets/base",
          "model_module_version": "1.2.0",
          "model_name": "LayoutModel",
          "state": {
            "_model_module": "@jupyter-widgets/base",
            "_model_module_version": "1.2.0",
            "_model_name": "LayoutModel",
            "_view_count": null,
            "_view_module": "@jupyter-widgets/base",
            "_view_module_version": "1.2.0",
            "_view_name": "LayoutView",
            "align_content": null,
            "align_items": null,
            "align_self": null,
            "border": null,
            "bottom": null,
            "display": null,
            "flex": null,
            "flex_flow": null,
            "grid_area": null,
            "grid_auto_columns": null,
            "grid_auto_flow": null,
            "grid_auto_rows": null,
            "grid_column": null,
            "grid_gap": null,
            "grid_row": null,
            "grid_template_areas": null,
            "grid_template_columns": null,
            "grid_template_rows": null,
            "height": null,
            "justify_content": null,
            "justify_items": null,
            "left": null,
            "margin": null,
            "max_height": null,
            "max_width": null,
            "min_height": null,
            "min_width": null,
            "object_fit": null,
            "object_position": null,
            "order": null,
            "overflow": null,
            "overflow_x": null,
            "overflow_y": null,
            "padding": null,
            "right": null,
            "top": null,
            "visibility": null,
            "width": null
          }
        },
        "77bd0713d4dc4a039519ad2b650c02fa": {
          "model_module": "@jupyter-widgets/base",
          "model_module_version": "1.2.0",
          "model_name": "LayoutModel",
          "state": {
            "_model_module": "@jupyter-widgets/base",
            "_model_module_version": "1.2.0",
            "_model_name": "LayoutModel",
            "_view_count": null,
            "_view_module": "@jupyter-widgets/base",
            "_view_module_version": "1.2.0",
            "_view_name": "LayoutView",
            "align_content": null,
            "align_items": null,
            "align_self": null,
            "border": null,
            "bottom": null,
            "display": null,
            "flex": null,
            "flex_flow": null,
            "grid_area": null,
            "grid_auto_columns": null,
            "grid_auto_flow": null,
            "grid_auto_rows": null,
            "grid_column": null,
            "grid_gap": null,
            "grid_row": null,
            "grid_template_areas": null,
            "grid_template_columns": null,
            "grid_template_rows": null,
            "height": null,
            "justify_content": null,
            "justify_items": null,
            "left": null,
            "margin": null,
            "max_height": null,
            "max_width": null,
            "min_height": null,
            "min_width": null,
            "object_fit": null,
            "object_position": null,
            "order": null,
            "overflow": null,
            "overflow_x": null,
            "overflow_y": null,
            "padding": null,
            "right": null,
            "top": null,
            "visibility": null,
            "width": null
          }
        },
        "7858ce73fb6845e597fa8d23a2a9c32f": {
          "model_module": "@jupyter-widgets/controls",
          "model_module_version": "1.5.0",
          "model_name": "DescriptionStyleModel",
          "state": {
            "_model_module": "@jupyter-widgets/controls",
            "_model_module_version": "1.5.0",
            "_model_name": "DescriptionStyleModel",
            "_view_count": null,
            "_view_module": "@jupyter-widgets/base",
            "_view_module_version": "1.2.0",
            "_view_name": "StyleView",
            "description_width": ""
          }
        },
        "796060c808b44be28394d1d733be56ca": {
          "model_module": "@jupyter-widgets/controls",
          "model_module_version": "1.5.0",
          "model_name": "FloatProgressModel",
          "state": {
            "_dom_classes": [],
            "_model_module": "@jupyter-widgets/controls",
            "_model_module_version": "1.5.0",
            "_model_name": "FloatProgressModel",
            "_view_count": null,
            "_view_module": "@jupyter-widgets/controls",
            "_view_module_version": "1.5.0",
            "_view_name": "ProgressView",
            "bar_style": "success",
            "description": "",
            "description_tooltip": null,
            "layout": "IPY_MODEL_81b1856328bf4d19b10c7fdc71c740aa",
            "max": 2,
            "min": 0,
            "orientation": "horizontal",
            "style": "IPY_MODEL_d34de73882784df9a5371e23abf2e0cb",
            "value": 2
          }
        },
        "7a20e77378d449f9b88b6fd3705835a5": {
          "model_module": "@jupyter-widgets/controls",
          "model_module_version": "1.5.0",
          "model_name": "DescriptionStyleModel",
          "state": {
            "_model_module": "@jupyter-widgets/controls",
            "_model_module_version": "1.5.0",
            "_model_name": "DescriptionStyleModel",
            "_view_count": null,
            "_view_module": "@jupyter-widgets/base",
            "_view_module_version": "1.2.0",
            "_view_name": "StyleView",
            "description_width": ""
          }
        },
        "7a8753ee83a8426d9f1fec428c199915": {
          "model_module": "@jupyter-widgets/controls",
          "model_module_version": "1.5.0",
          "model_name": "DescriptionStyleModel",
          "state": {
            "_model_module": "@jupyter-widgets/controls",
            "_model_module_version": "1.5.0",
            "_model_name": "DescriptionStyleModel",
            "_view_count": null,
            "_view_module": "@jupyter-widgets/base",
            "_view_module_version": "1.2.0",
            "_view_name": "StyleView",
            "description_width": ""
          }
        },
        "7c9df9dab181425b99639110a01ac82d": {
          "model_module": "@jupyter-widgets/controls",
          "model_module_version": "1.5.0",
          "model_name": "DescriptionStyleModel",
          "state": {
            "_model_module": "@jupyter-widgets/controls",
            "_model_module_version": "1.5.0",
            "_model_name": "DescriptionStyleModel",
            "_view_count": null,
            "_view_module": "@jupyter-widgets/base",
            "_view_module_version": "1.2.0",
            "_view_name": "StyleView",
            "description_width": ""
          }
        },
        "7db1ce140bf9431b98284d8b59f0c940": {
          "model_module": "@jupyter-widgets/controls",
          "model_module_version": "1.5.0",
          "model_name": "HTMLModel",
          "state": {
            "_dom_classes": [],
            "_model_module": "@jupyter-widgets/controls",
            "_model_module_version": "1.5.0",
            "_model_name": "HTMLModel",
            "_view_count": null,
            "_view_module": "@jupyter-widgets/controls",
            "_view_module_version": "1.5.0",
            "_view_name": "HTMLView",
            "description": "",
            "description_tooltip": null,
            "layout": "IPY_MODEL_1e03411960ae4a57975ba0c8bd001ab8",
            "placeholder": "​",
            "style": "IPY_MODEL_6b9e85abc144464c9a719c310db74d3c",
            "value": "Downloading data: "
          }
        },
        "7dbe16322dd2415fb47588b2f12d4ea2": {
          "model_module": "@jupyter-widgets/controls",
          "model_module_version": "1.5.0",
          "model_name": "FloatProgressModel",
          "state": {
            "_dom_classes": [],
            "_model_module": "@jupyter-widgets/controls",
            "_model_module_version": "1.5.0",
            "_model_name": "FloatProgressModel",
            "_view_count": null,
            "_view_module": "@jupyter-widgets/controls",
            "_view_module_version": "1.5.0",
            "_view_name": "ProgressView",
            "bar_style": "success",
            "description": "",
            "description_tooltip": null,
            "layout": "IPY_MODEL_b8d240ed0ac2480398980d7eaffb4aac",
            "max": 497810400,
            "min": 0,
            "orientation": "horizontal",
            "style": "IPY_MODEL_369d946467914dafa6e9236107823b3a",
            "value": 497810400
          }
        },
        "7f131c7622d849e9a30ff8435a6c5c53": {
          "model_module": "@jupyter-widgets/controls",
          "model_module_version": "1.5.0",
          "model_name": "FloatProgressModel",
          "state": {
            "_dom_classes": [],
            "_model_module": "@jupyter-widgets/controls",
            "_model_module_version": "1.5.0",
            "_model_name": "FloatProgressModel",
            "_view_count": null,
            "_view_module": "@jupyter-widgets/controls",
            "_view_module_version": "1.5.0",
            "_view_name": "ProgressView",
            "bar_style": "success",
            "description": "",
            "description_tooltip": null,
            "layout": "IPY_MODEL_92a0451cdc3d4e4693b984a6b19c5937",
            "max": 112,
            "min": 0,
            "orientation": "horizontal",
            "style": "IPY_MODEL_dcf34b15acea4bc9ae30196266080e0a",
            "value": 112
          }
        },
        "8044851fa5b145078a5c01b8404edd00": {
          "model_module": "@jupyter-widgets/controls",
          "model_module_version": "1.5.0",
          "model_name": "HBoxModel",
          "state": {
            "_dom_classes": [],
            "_model_module": "@jupyter-widgets/controls",
            "_model_module_version": "1.5.0",
            "_model_name": "HBoxModel",
            "_view_count": null,
            "_view_module": "@jupyter-widgets/controls",
            "_view_module_version": "1.5.0",
            "_view_name": "HBoxView",
            "box_style": "",
            "children": [
              "IPY_MODEL_157319f02a444ccd8c7f95c58bd32092",
              "IPY_MODEL_f126fc42415f4c5591879aba5f475a34",
              "IPY_MODEL_1b8ca76f7f99489691d6d51c75cbd21d"
            ],
            "layout": "IPY_MODEL_1d49e199b45640f8bfa6c46af9d1e4ef"
          }
        },
        "80b636d46a3441e89966cd3a25e0a767": {
          "model_module": "@jupyter-widgets/base",
          "model_module_version": "1.2.0",
          "model_name": "LayoutModel",
          "state": {
            "_model_module": "@jupyter-widgets/base",
            "_model_module_version": "1.2.0",
            "_model_name": "LayoutModel",
            "_view_count": null,
            "_view_module": "@jupyter-widgets/base",
            "_view_module_version": "1.2.0",
            "_view_name": "LayoutView",
            "align_content": null,
            "align_items": null,
            "align_self": null,
            "border": null,
            "bottom": null,
            "display": null,
            "flex": null,
            "flex_flow": null,
            "grid_area": null,
            "grid_auto_columns": null,
            "grid_auto_flow": null,
            "grid_auto_rows": null,
            "grid_column": null,
            "grid_gap": null,
            "grid_row": null,
            "grid_template_areas": null,
            "grid_template_columns": null,
            "grid_template_rows": null,
            "height": null,
            "justify_content": null,
            "justify_items": null,
            "left": null,
            "margin": null,
            "max_height": null,
            "max_width": null,
            "min_height": null,
            "min_width": null,
            "object_fit": null,
            "object_position": null,
            "order": null,
            "overflow": null,
            "overflow_x": null,
            "overflow_y": null,
            "padding": null,
            "right": null,
            "top": null,
            "visibility": null,
            "width": null
          }
        },
        "80cfcec384764d89a2fc9eb5d786e792": {
          "model_module": "@jupyter-widgets/base",
          "model_module_version": "1.2.0",
          "model_name": "LayoutModel",
          "state": {
            "_model_module": "@jupyter-widgets/base",
            "_model_module_version": "1.2.0",
            "_model_name": "LayoutModel",
            "_view_count": null,
            "_view_module": "@jupyter-widgets/base",
            "_view_module_version": "1.2.0",
            "_view_name": "LayoutView",
            "align_content": null,
            "align_items": null,
            "align_self": null,
            "border": null,
            "bottom": null,
            "display": null,
            "flex": null,
            "flex_flow": null,
            "grid_area": null,
            "grid_auto_columns": null,
            "grid_auto_flow": null,
            "grid_auto_rows": null,
            "grid_column": null,
            "grid_gap": null,
            "grid_row": null,
            "grid_template_areas": null,
            "grid_template_columns": null,
            "grid_template_rows": null,
            "height": null,
            "justify_content": null,
            "justify_items": null,
            "left": null,
            "margin": null,
            "max_height": null,
            "max_width": null,
            "min_height": null,
            "min_width": null,
            "object_fit": null,
            "object_position": null,
            "order": null,
            "overflow": null,
            "overflow_x": null,
            "overflow_y": null,
            "padding": null,
            "right": null,
            "top": null,
            "visibility": null,
            "width": "20px"
          }
        },
        "81b1856328bf4d19b10c7fdc71c740aa": {
          "model_module": "@jupyter-widgets/base",
          "model_module_version": "1.2.0",
          "model_name": "LayoutModel",
          "state": {
            "_model_module": "@jupyter-widgets/base",
            "_model_module_version": "1.2.0",
            "_model_name": "LayoutModel",
            "_view_count": null,
            "_view_module": "@jupyter-widgets/base",
            "_view_module_version": "1.2.0",
            "_view_name": "LayoutView",
            "align_content": null,
            "align_items": null,
            "align_self": null,
            "border": null,
            "bottom": null,
            "display": null,
            "flex": null,
            "flex_flow": null,
            "grid_area": null,
            "grid_auto_columns": null,
            "grid_auto_flow": null,
            "grid_auto_rows": null,
            "grid_column": null,
            "grid_gap": null,
            "grid_row": null,
            "grid_template_areas": null,
            "grid_template_columns": null,
            "grid_template_rows": null,
            "height": null,
            "justify_content": null,
            "justify_items": null,
            "left": null,
            "margin": null,
            "max_height": null,
            "max_width": null,
            "min_height": null,
            "min_width": null,
            "object_fit": null,
            "object_position": null,
            "order": null,
            "overflow": null,
            "overflow_x": null,
            "overflow_y": null,
            "padding": null,
            "right": null,
            "top": null,
            "visibility": null,
            "width": null
          }
        },
        "843e73d9bce44e15ad26b5b2ed2a20de": {
          "model_module": "@jupyter-widgets/controls",
          "model_module_version": "1.5.0",
          "model_name": "DescriptionStyleModel",
          "state": {
            "_model_module": "@jupyter-widgets/controls",
            "_model_module_version": "1.5.0",
            "_model_name": "DescriptionStyleModel",
            "_view_count": null,
            "_view_module": "@jupyter-widgets/base",
            "_view_module_version": "1.2.0",
            "_view_name": "StyleView",
            "description_width": ""
          }
        },
        "88ae469bf11e4690bf444d6e74ec0c0c": {
          "model_module": "@jupyter-widgets/controls",
          "model_module_version": "1.5.0",
          "model_name": "FloatProgressModel",
          "state": {
            "_dom_classes": [],
            "_model_module": "@jupyter-widgets/controls",
            "_model_module_version": "1.5.0",
            "_model_name": "FloatProgressModel",
            "_view_count": null,
            "_view_module": "@jupyter-widgets/controls",
            "_view_module_version": "1.5.0",
            "_view_name": "ProgressView",
            "bar_style": "info",
            "description": "",
            "description_tooltip": null,
            "layout": "IPY_MODEL_cc1093350cf141299ff6a6655be081f2",
            "max": 1,
            "min": 0,
            "orientation": "horizontal",
            "style": "IPY_MODEL_28963ad21e6d4c54beff5d89b5d19df6",
            "value": 1
          }
        },
        "8a5292f4193e43a8abe2e10edc92ab43": {
          "model_module": "@jupyter-widgets/controls",
          "model_module_version": "1.5.0",
          "model_name": "HBoxModel",
          "state": {
            "_dom_classes": [],
            "_model_module": "@jupyter-widgets/controls",
            "_model_module_version": "1.5.0",
            "_model_name": "HBoxModel",
            "_view_count": null,
            "_view_module": "@jupyter-widgets/controls",
            "_view_module_version": "1.5.0",
            "_view_name": "HBoxView",
            "box_style": "",
            "children": [
              "IPY_MODEL_1053b7f68aef42dd9f16704f6fa37ed8",
              "IPY_MODEL_a22e79d371ed4e92aa072eb6bd3332bc",
              "IPY_MODEL_e0ad6a53bf8e46cc850d594eae0c0924"
            ],
            "layout": "IPY_MODEL_dfaaa190ae4e45c39ae4ce1d8b443790"
          }
        },
        "8a6c36f62db843f68c9f2d3fff222639": {
          "model_module": "@jupyter-widgets/base",
          "model_module_version": "1.2.0",
          "model_name": "LayoutModel",
          "state": {
            "_model_module": "@jupyter-widgets/base",
            "_model_module_version": "1.2.0",
            "_model_name": "LayoutModel",
            "_view_count": null,
            "_view_module": "@jupyter-widgets/base",
            "_view_module_version": "1.2.0",
            "_view_name": "LayoutView",
            "align_content": null,
            "align_items": null,
            "align_self": null,
            "border": null,
            "bottom": null,
            "display": null,
            "flex": null,
            "flex_flow": null,
            "grid_area": null,
            "grid_auto_columns": null,
            "grid_auto_flow": null,
            "grid_auto_rows": null,
            "grid_column": null,
            "grid_gap": null,
            "grid_row": null,
            "grid_template_areas": null,
            "grid_template_columns": null,
            "grid_template_rows": null,
            "height": null,
            "justify_content": null,
            "justify_items": null,
            "left": null,
            "margin": null,
            "max_height": null,
            "max_width": null,
            "min_height": null,
            "min_width": null,
            "object_fit": null,
            "object_position": null,
            "order": null,
            "overflow": null,
            "overflow_x": null,
            "overflow_y": null,
            "padding": null,
            "right": null,
            "top": null,
            "visibility": null,
            "width": null
          }
        },
        "8b4988cf2334498caf4c0ca707ddbfc5": {
          "model_module": "@jupyter-widgets/controls",
          "model_module_version": "1.5.0",
          "model_name": "ProgressStyleModel",
          "state": {
            "_model_module": "@jupyter-widgets/controls",
            "_model_module_version": "1.5.0",
            "_model_name": "ProgressStyleModel",
            "_view_count": null,
            "_view_module": "@jupyter-widgets/base",
            "_view_module_version": "1.2.0",
            "_view_name": "StyleView",
            "bar_color": null,
            "description_width": ""
          }
        },
        "8edc6868dd8042649daaf0e76e072574": {
          "model_module": "@jupyter-widgets/base",
          "model_module_version": "1.2.0",
          "model_name": "LayoutModel",
          "state": {
            "_model_module": "@jupyter-widgets/base",
            "_model_module_version": "1.2.0",
            "_model_name": "LayoutModel",
            "_view_count": null,
            "_view_module": "@jupyter-widgets/base",
            "_view_module_version": "1.2.0",
            "_view_name": "LayoutView",
            "align_content": null,
            "align_items": null,
            "align_self": null,
            "border": null,
            "bottom": null,
            "display": null,
            "flex": null,
            "flex_flow": null,
            "grid_area": null,
            "grid_auto_columns": null,
            "grid_auto_flow": null,
            "grid_auto_rows": null,
            "grid_column": null,
            "grid_gap": null,
            "grid_row": null,
            "grid_template_areas": null,
            "grid_template_columns": null,
            "grid_template_rows": null,
            "height": null,
            "justify_content": null,
            "justify_items": null,
            "left": null,
            "margin": null,
            "max_height": null,
            "max_width": null,
            "min_height": null,
            "min_width": null,
            "object_fit": null,
            "object_position": null,
            "order": null,
            "overflow": null,
            "overflow_x": null,
            "overflow_y": null,
            "padding": null,
            "right": null,
            "top": null,
            "visibility": null,
            "width": null
          }
        },
        "8f067d1b46dc4111a75a7cb25d85fc49": {
          "model_module": "@jupyter-widgets/base",
          "model_module_version": "1.2.0",
          "model_name": "LayoutModel",
          "state": {
            "_model_module": "@jupyter-widgets/base",
            "_model_module_version": "1.2.0",
            "_model_name": "LayoutModel",
            "_view_count": null,
            "_view_module": "@jupyter-widgets/base",
            "_view_module_version": "1.2.0",
            "_view_name": "LayoutView",
            "align_content": null,
            "align_items": null,
            "align_self": null,
            "border": null,
            "bottom": null,
            "display": null,
            "flex": null,
            "flex_flow": null,
            "grid_area": null,
            "grid_auto_columns": null,
            "grid_auto_flow": null,
            "grid_auto_rows": null,
            "grid_column": null,
            "grid_gap": null,
            "grid_row": null,
            "grid_template_areas": null,
            "grid_template_columns": null,
            "grid_template_rows": null,
            "height": null,
            "justify_content": null,
            "justify_items": null,
            "left": null,
            "margin": null,
            "max_height": null,
            "max_width": null,
            "min_height": null,
            "min_width": null,
            "object_fit": null,
            "object_position": null,
            "order": null,
            "overflow": null,
            "overflow_x": null,
            "overflow_y": null,
            "padding": null,
            "right": null,
            "top": null,
            "visibility": null,
            "width": null
          }
        },
        "8fb1c6657b5e4005a4b6bbf5b21cda58": {
          "model_module": "@jupyter-widgets/base",
          "model_module_version": "1.2.0",
          "model_name": "LayoutModel",
          "state": {
            "_model_module": "@jupyter-widgets/base",
            "_model_module_version": "1.2.0",
            "_model_name": "LayoutModel",
            "_view_count": null,
            "_view_module": "@jupyter-widgets/base",
            "_view_module_version": "1.2.0",
            "_view_name": "LayoutView",
            "align_content": null,
            "align_items": null,
            "align_self": null,
            "border": null,
            "bottom": null,
            "display": null,
            "flex": null,
            "flex_flow": null,
            "grid_area": null,
            "grid_auto_columns": null,
            "grid_auto_flow": null,
            "grid_auto_rows": null,
            "grid_column": null,
            "grid_gap": null,
            "grid_row": null,
            "grid_template_areas": null,
            "grid_template_columns": null,
            "grid_template_rows": null,
            "height": null,
            "justify_content": null,
            "justify_items": null,
            "left": null,
            "margin": null,
            "max_height": null,
            "max_width": null,
            "min_height": null,
            "min_width": null,
            "object_fit": null,
            "object_position": null,
            "order": null,
            "overflow": null,
            "overflow_x": null,
            "overflow_y": null,
            "padding": null,
            "right": null,
            "top": null,
            "visibility": null,
            "width": null
          }
        },
        "92a0451cdc3d4e4693b984a6b19c5937": {
          "model_module": "@jupyter-widgets/base",
          "model_module_version": "1.2.0",
          "model_name": "LayoutModel",
          "state": {
            "_model_module": "@jupyter-widgets/base",
            "_model_module_version": "1.2.0",
            "_model_name": "LayoutModel",
            "_view_count": null,
            "_view_module": "@jupyter-widgets/base",
            "_view_module_version": "1.2.0",
            "_view_name": "LayoutView",
            "align_content": null,
            "align_items": null,
            "align_self": null,
            "border": null,
            "bottom": null,
            "display": null,
            "flex": null,
            "flex_flow": null,
            "grid_area": null,
            "grid_auto_columns": null,
            "grid_auto_flow": null,
            "grid_auto_rows": null,
            "grid_column": null,
            "grid_gap": null,
            "grid_row": null,
            "grid_template_areas": null,
            "grid_template_columns": null,
            "grid_template_rows": null,
            "height": null,
            "justify_content": null,
            "justify_items": null,
            "left": null,
            "margin": null,
            "max_height": null,
            "max_width": null,
            "min_height": null,
            "min_width": null,
            "object_fit": null,
            "object_position": null,
            "order": null,
            "overflow": null,
            "overflow_x": null,
            "overflow_y": null,
            "padding": null,
            "right": null,
            "top": null,
            "visibility": null,
            "width": null
          }
        },
        "930eed0b5aaf48f2bd23269b35f51f86": {
          "model_module": "@jupyter-widgets/controls",
          "model_module_version": "1.5.0",
          "model_name": "HTMLModel",
          "state": {
            "_dom_classes": [],
            "_model_module": "@jupyter-widgets/controls",
            "_model_module_version": "1.5.0",
            "_model_name": "HTMLModel",
            "_view_count": null,
            "_view_module": "@jupyter-widgets/controls",
            "_view_module_version": "1.5.0",
            "_view_name": "HTMLView",
            "description": "",
            "description_tooltip": null,
            "layout": "IPY_MODEL_b8cb11c920a541f497fc1b2029983c25",
            "placeholder": "​",
            "style": "IPY_MODEL_42317897debc413da9a9e87463b08010",
            "value": "Downloading data: "
          }
        },
        "9317e28771a84a44845f878b2c1360c7": {
          "model_module": "@jupyter-widgets/controls",
          "model_module_version": "1.5.0",
          "model_name": "DescriptionStyleModel",
          "state": {
            "_model_module": "@jupyter-widgets/controls",
            "_model_module_version": "1.5.0",
            "_model_name": "DescriptionStyleModel",
            "_view_count": null,
            "_view_module": "@jupyter-widgets/base",
            "_view_module_version": "1.2.0",
            "_view_name": "StyleView",
            "description_width": ""
          }
        },
        "95132b17488846378ef67e7eaed8bca0": {
          "model_module": "@jupyter-widgets/controls",
          "model_module_version": "1.5.0",
          "model_name": "DescriptionStyleModel",
          "state": {
            "_model_module": "@jupyter-widgets/controls",
            "_model_module_version": "1.5.0",
            "_model_name": "DescriptionStyleModel",
            "_view_count": null,
            "_view_module": "@jupyter-widgets/base",
            "_view_module_version": "1.2.0",
            "_view_name": "StyleView",
            "description_width": ""
          }
        },
        "95ee86d2ddf941b29e1b829077a79734": {
          "model_module": "@jupyter-widgets/base",
          "model_module_version": "1.2.0",
          "model_name": "LayoutModel",
          "state": {
            "_model_module": "@jupyter-widgets/base",
            "_model_module_version": "1.2.0",
            "_model_name": "LayoutModel",
            "_view_count": null,
            "_view_module": "@jupyter-widgets/base",
            "_view_module_version": "1.2.0",
            "_view_name": "LayoutView",
            "align_content": null,
            "align_items": null,
            "align_self": null,
            "border": null,
            "bottom": null,
            "display": null,
            "flex": null,
            "flex_flow": null,
            "grid_area": null,
            "grid_auto_columns": null,
            "grid_auto_flow": null,
            "grid_auto_rows": null,
            "grid_column": null,
            "grid_gap": null,
            "grid_row": null,
            "grid_template_areas": null,
            "grid_template_columns": null,
            "grid_template_rows": null,
            "height": null,
            "justify_content": null,
            "justify_items": null,
            "left": null,
            "margin": null,
            "max_height": null,
            "max_width": null,
            "min_height": null,
            "min_width": null,
            "object_fit": null,
            "object_position": null,
            "order": null,
            "overflow": null,
            "overflow_x": null,
            "overflow_y": null,
            "padding": null,
            "right": null,
            "top": null,
            "visibility": null,
            "width": null
          }
        },
        "9910e039d26c4a2f9fb0d46654de837f": {
          "model_module": "@jupyter-widgets/controls",
          "model_module_version": "1.5.0",
          "model_name": "HBoxModel",
          "state": {
            "_dom_classes": [],
            "_model_module": "@jupyter-widgets/controls",
            "_model_module_version": "1.5.0",
            "_model_name": "HBoxModel",
            "_view_count": null,
            "_view_module": "@jupyter-widgets/controls",
            "_view_module_version": "1.5.0",
            "_view_name": "HBoxView",
            "box_style": "",
            "children": [
              "IPY_MODEL_4ef46650350d46c094124a3ea21ebcd4",
              "IPY_MODEL_b1cd686d662c49958e30e98ef1fa11d8",
              "IPY_MODEL_a2783288e1cc470f8989b500f7a3fa52"
            ],
            "layout": "IPY_MODEL_d6337d6de2604c02bdae7ddac38c19b9"
          }
        },
        "9b2eb85c075f40ab871e063c8873c2ba": {
          "model_module": "@jupyter-widgets/controls",
          "model_module_version": "1.5.0",
          "model_name": "HTMLModel",
          "state": {
            "_dom_classes": [],
            "_model_module": "@jupyter-widgets/controls",
            "_model_module_version": "1.5.0",
            "_model_name": "HTMLModel",
            "_view_count": null,
            "_view_module": "@jupyter-widgets/controls",
            "_view_module_version": "1.5.0",
            "_view_name": "HTMLView",
            "description": "",
            "description_tooltip": null,
            "layout": "IPY_MODEL_02f85eeb60624cf8862efd3436372e0f",
            "placeholder": "​",
            "style": "IPY_MODEL_af43c0b80c4f4e9cb914858974c46a98",
            "value": "100%"
          }
        },
        "9b6fab8b24524ad8b020ad11fdf181b6": {
          "model_module": "@jupyter-widgets/controls",
          "model_module_version": "1.5.0",
          "model_name": "DescriptionStyleModel",
          "state": {
            "_model_module": "@jupyter-widgets/controls",
            "_model_module_version": "1.5.0",
            "_model_name": "DescriptionStyleModel",
            "_view_count": null,
            "_view_module": "@jupyter-widgets/base",
            "_view_module_version": "1.2.0",
            "_view_name": "StyleView",
            "description_width": ""
          }
        },
        "9cd1232cf42f4f269190352aac3614ea": {
          "model_module": "@jupyter-widgets/controls",
          "model_module_version": "1.5.0",
          "model_name": "ProgressStyleModel",
          "state": {
            "_model_module": "@jupyter-widgets/controls",
            "_model_module_version": "1.5.0",
            "_model_name": "ProgressStyleModel",
            "_view_count": null,
            "_view_module": "@jupyter-widgets/base",
            "_view_module_version": "1.2.0",
            "_view_name": "StyleView",
            "bar_color": null,
            "description_width": ""
          }
        },
        "9cdca179527d443fb0bfa3037842e67e": {
          "model_module": "@jupyter-widgets/controls",
          "model_module_version": "1.5.0",
          "model_name": "HBoxModel",
          "state": {
            "_dom_classes": [],
            "_model_module": "@jupyter-widgets/controls",
            "_model_module_version": "1.5.0",
            "_model_name": "HBoxModel",
            "_view_count": null,
            "_view_module": "@jupyter-widgets/controls",
            "_view_module_version": "1.5.0",
            "_view_name": "HBoxView",
            "box_style": "",
            "children": [
              "IPY_MODEL_44ee0cc623be484ca4201c4b7a313053",
              "IPY_MODEL_c642748e715647c888ca62b549b0a6ce",
              "IPY_MODEL_eef094be65ff4e4eb3c37b25601ab548"
            ],
            "layout": "IPY_MODEL_3af438d31b414050b7869cb60defbeec"
          }
        },
        "9d9e51e1e5ef4934ab6c6fbfcf4cd3d7": {
          "model_module": "@jupyter-widgets/base",
          "model_module_version": "1.2.0",
          "model_name": "LayoutModel",
          "state": {
            "_model_module": "@jupyter-widgets/base",
            "_model_module_version": "1.2.0",
            "_model_name": "LayoutModel",
            "_view_count": null,
            "_view_module": "@jupyter-widgets/base",
            "_view_module_version": "1.2.0",
            "_view_name": "LayoutView",
            "align_content": null,
            "align_items": null,
            "align_self": null,
            "border": null,
            "bottom": null,
            "display": null,
            "flex": null,
            "flex_flow": null,
            "grid_area": null,
            "grid_auto_columns": null,
            "grid_auto_flow": null,
            "grid_auto_rows": null,
            "grid_column": null,
            "grid_gap": null,
            "grid_row": null,
            "grid_template_areas": null,
            "grid_template_columns": null,
            "grid_template_rows": null,
            "height": null,
            "justify_content": null,
            "justify_items": null,
            "left": null,
            "margin": null,
            "max_height": null,
            "max_width": null,
            "min_height": null,
            "min_width": null,
            "object_fit": null,
            "object_position": null,
            "order": null,
            "overflow": null,
            "overflow_x": null,
            "overflow_y": null,
            "padding": null,
            "right": null,
            "top": null,
            "visibility": null,
            "width": null
          }
        },
        "9e0a6d5efc004038a766cb3ed9f94150": {
          "model_module": "@jupyter-widgets/controls",
          "model_module_version": "1.5.0",
          "model_name": "HTMLModel",
          "state": {
            "_dom_classes": [],
            "_model_module": "@jupyter-widgets/controls",
            "_model_module_version": "1.5.0",
            "_model_name": "HTMLModel",
            "_view_count": null,
            "_view_module": "@jupyter-widgets/controls",
            "_view_module_version": "1.5.0",
            "_view_name": "HTMLView",
            "description": "",
            "description_tooltip": null,
            "layout": "IPY_MODEL_aa292f0be71a4af2afa546507e07062a",
            "placeholder": "​",
            "style": "IPY_MODEL_ad09cd43c65d44cd8e9487218de4a059",
            "value": " 246k/? [00:00&lt;00:00, 5.57MB/s]"
          }
        },
        "9e1f0a92add84cc2acc1b18d65f1ed36": {
          "model_module": "@jupyter-widgets/base",
          "model_module_version": "1.2.0",
          "model_name": "LayoutModel",
          "state": {
            "_model_module": "@jupyter-widgets/base",
            "_model_module_version": "1.2.0",
            "_model_name": "LayoutModel",
            "_view_count": null,
            "_view_module": "@jupyter-widgets/base",
            "_view_module_version": "1.2.0",
            "_view_name": "LayoutView",
            "align_content": null,
            "align_items": null,
            "align_self": null,
            "border": null,
            "bottom": null,
            "display": null,
            "flex": null,
            "flex_flow": null,
            "grid_area": null,
            "grid_auto_columns": null,
            "grid_auto_flow": null,
            "grid_auto_rows": null,
            "grid_column": null,
            "grid_gap": null,
            "grid_row": null,
            "grid_template_areas": null,
            "grid_template_columns": null,
            "grid_template_rows": null,
            "height": null,
            "justify_content": null,
            "justify_items": null,
            "left": null,
            "margin": null,
            "max_height": null,
            "max_width": null,
            "min_height": null,
            "min_width": null,
            "object_fit": null,
            "object_position": null,
            "order": null,
            "overflow": null,
            "overflow_x": null,
            "overflow_y": null,
            "padding": null,
            "right": null,
            "top": null,
            "visibility": null,
            "width": null
          }
        },
        "9ee3fe6286fb4de2a3ba17360bc38a0a": {
          "model_module": "@jupyter-widgets/base",
          "model_module_version": "1.2.0",
          "model_name": "LayoutModel",
          "state": {
            "_model_module": "@jupyter-widgets/base",
            "_model_module_version": "1.2.0",
            "_model_name": "LayoutModel",
            "_view_count": null,
            "_view_module": "@jupyter-widgets/base",
            "_view_module_version": "1.2.0",
            "_view_name": "LayoutView",
            "align_content": null,
            "align_items": null,
            "align_self": null,
            "border": null,
            "bottom": null,
            "display": null,
            "flex": null,
            "flex_flow": null,
            "grid_area": null,
            "grid_auto_columns": null,
            "grid_auto_flow": null,
            "grid_auto_rows": null,
            "grid_column": null,
            "grid_gap": null,
            "grid_row": null,
            "grid_template_areas": null,
            "grid_template_columns": null,
            "grid_template_rows": null,
            "height": null,
            "justify_content": null,
            "justify_items": null,
            "left": null,
            "margin": null,
            "max_height": null,
            "max_width": null,
            "min_height": null,
            "min_width": null,
            "object_fit": null,
            "object_position": null,
            "order": null,
            "overflow": null,
            "overflow_x": null,
            "overflow_y": null,
            "padding": null,
            "right": null,
            "top": null,
            "visibility": null,
            "width": null
          }
        },
        "9f497a4624954380a677172bd2ed47dc": {
          "model_module": "@jupyter-widgets/controls",
          "model_module_version": "1.5.0",
          "model_name": "DescriptionStyleModel",
          "state": {
            "_model_module": "@jupyter-widgets/controls",
            "_model_module_version": "1.5.0",
            "_model_name": "DescriptionStyleModel",
            "_view_count": null,
            "_view_module": "@jupyter-widgets/base",
            "_view_module_version": "1.2.0",
            "_view_name": "StyleView",
            "description_width": ""
          }
        },
        "9fb9c5b0421747a0b00c042af5ac594f": {
          "model_module": "@jupyter-widgets/base",
          "model_module_version": "1.2.0",
          "model_name": "LayoutModel",
          "state": {
            "_model_module": "@jupyter-widgets/base",
            "_model_module_version": "1.2.0",
            "_model_name": "LayoutModel",
            "_view_count": null,
            "_view_module": "@jupyter-widgets/base",
            "_view_module_version": "1.2.0",
            "_view_name": "LayoutView",
            "align_content": null,
            "align_items": null,
            "align_self": null,
            "border": null,
            "bottom": null,
            "display": null,
            "flex": null,
            "flex_flow": null,
            "grid_area": null,
            "grid_auto_columns": null,
            "grid_auto_flow": null,
            "grid_auto_rows": null,
            "grid_column": null,
            "grid_gap": null,
            "grid_row": null,
            "grid_template_areas": null,
            "grid_template_columns": null,
            "grid_template_rows": null,
            "height": null,
            "justify_content": null,
            "justify_items": null,
            "left": null,
            "margin": null,
            "max_height": null,
            "max_width": null,
            "min_height": null,
            "min_width": null,
            "object_fit": null,
            "object_position": null,
            "order": null,
            "overflow": null,
            "overflow_x": null,
            "overflow_y": null,
            "padding": null,
            "right": null,
            "top": null,
            "visibility": null,
            "width": null
          }
        },
        "a02b592d9b9a48a7992d8c7c4bfb2858": {
          "model_module": "@jupyter-widgets/controls",
          "model_module_version": "1.5.0",
          "model_name": "HBoxModel",
          "state": {
            "_dom_classes": [],
            "_model_module": "@jupyter-widgets/controls",
            "_model_module_version": "1.5.0",
            "_model_name": "HBoxModel",
            "_view_count": null,
            "_view_module": "@jupyter-widgets/controls",
            "_view_module_version": "1.5.0",
            "_view_name": "HBoxView",
            "box_style": "",
            "children": [
              "IPY_MODEL_7db1ce140bf9431b98284d8b59f0c940",
              "IPY_MODEL_39438d292d224e23bfb15d76330e74dd",
              "IPY_MODEL_d12f1d33b9854f0eb394d59217ed52b0"
            ],
            "layout": "IPY_MODEL_b7ed84bf0b8342dbb8126ac1ecff7d46"
          }
        },
        "a12a2ad3153d4a51b66081580b023a03": {
          "model_module": "@jupyter-widgets/controls",
          "model_module_version": "1.5.0",
          "model_name": "HTMLModel",
          "state": {
            "_dom_classes": [],
            "_model_module": "@jupyter-widgets/controls",
            "_model_module_version": "1.5.0",
            "_model_name": "HTMLModel",
            "_view_count": null,
            "_view_module": "@jupyter-widgets/controls",
            "_view_module_version": "1.5.0",
            "_view_name": "HTMLView",
            "description": "",
            "description_tooltip": null,
            "layout": "IPY_MODEL_06ee5f2b9d6f49fc824e25abbe32fe79",
            "placeholder": "​",
            "style": "IPY_MODEL_edf7e96b001c49b5916b7cccebc59007",
            "value": "Generating train split: "
          }
        },
        "a15ea227220c4664ab362797a3465532": {
          "model_module": "@jupyter-widgets/controls",
          "model_module_version": "1.5.0",
          "model_name": "FloatProgressModel",
          "state": {
            "_dom_classes": [],
            "_model_module": "@jupyter-widgets/controls",
            "_model_module_version": "1.5.0",
            "_model_name": "FloatProgressModel",
            "_view_count": null,
            "_view_module": "@jupyter-widgets/controls",
            "_view_module_version": "1.5.0",
            "_view_name": "ProgressView",
            "bar_style": "success",
            "description": "",
            "description_tooltip": null,
            "layout": "IPY_MODEL_462b491b97bc4325857fc38cd1074f5e",
            "max": 229167,
            "min": 0,
            "orientation": "horizontal",
            "style": "IPY_MODEL_c3d1aa16c31645a89c656136b64726e1",
            "value": 229167
          }
        },
        "a185810485a54b66be9925668c363749": {
          "model_module": "@jupyter-widgets/controls",
          "model_module_version": "1.5.0",
          "model_name": "DescriptionStyleModel",
          "state": {
            "_model_module": "@jupyter-widgets/controls",
            "_model_module_version": "1.5.0",
            "_model_name": "DescriptionStyleModel",
            "_view_count": null,
            "_view_module": "@jupyter-widgets/base",
            "_view_module_version": "1.2.0",
            "_view_name": "StyleView",
            "description_width": ""
          }
        },
        "a191087772aa4662a5a6d49d287f00f9": {
          "model_module": "@jupyter-widgets/controls",
          "model_module_version": "1.5.0",
          "model_name": "DescriptionStyleModel",
          "state": {
            "_model_module": "@jupyter-widgets/controls",
            "_model_module_version": "1.5.0",
            "_model_name": "DescriptionStyleModel",
            "_view_count": null,
            "_view_module": "@jupyter-widgets/base",
            "_view_module_version": "1.2.0",
            "_view_name": "StyleView",
            "description_width": ""
          }
        },
        "a22e79d371ed4e92aa072eb6bd3332bc": {
          "model_module": "@jupyter-widgets/controls",
          "model_module_version": "1.5.0",
          "model_name": "FloatProgressModel",
          "state": {
            "_dom_classes": [],
            "_model_module": "@jupyter-widgets/controls",
            "_model_module_version": "1.5.0",
            "_model_name": "FloatProgressModel",
            "_view_count": null,
            "_view_module": "@jupyter-widgets/controls",
            "_view_module_version": "1.5.0",
            "_view_name": "ProgressView",
            "bar_style": "success",
            "description": "",
            "description_tooltip": null,
            "layout": "IPY_MODEL_48d91abe8ae34066b6f16644481f936c",
            "max": 1534,
            "min": 0,
            "orientation": "horizontal",
            "style": "IPY_MODEL_eed0955705c7450e9e8dd9c1580c57e0",
            "value": 1534
          }
        },
        "a2783288e1cc470f8989b500f7a3fa52": {
          "model_module": "@jupyter-widgets/controls",
          "model_module_version": "1.5.0",
          "model_name": "HTMLModel",
          "state": {
            "_dom_classes": [],
            "_model_module": "@jupyter-widgets/controls",
            "_model_module_version": "1.5.0",
            "_model_name": "HTMLModel",
            "_view_count": null,
            "_view_module": "@jupyter-widgets/controls",
            "_view_module_version": "1.5.0",
            "_view_name": "HTMLView",
            "description": "",
            "description_tooltip": null,
            "layout": "IPY_MODEL_9ee3fe6286fb4de2a3ba17360bc38a0a",
            "placeholder": "​",
            "style": "IPY_MODEL_7858ce73fb6845e597fa8d23a2a9c32f",
            "value": " 1/1 [00:00&lt;00:00, 29.71it/s]"
          }
        },
        "a305fff323d84b23b346827f498548b7": {
          "model_module": "@jupyter-widgets/controls",
          "model_module_version": "1.5.0",
          "model_name": "ProgressStyleModel",
          "state": {
            "_model_module": "@jupyter-widgets/controls",
            "_model_module_version": "1.5.0",
            "_model_name": "ProgressStyleModel",
            "_view_count": null,
            "_view_module": "@jupyter-widgets/base",
            "_view_module_version": "1.2.0",
            "_view_name": "StyleView",
            "bar_color": null,
            "description_width": ""
          }
        },
        "a38f9cffbf4c49b5937941692b3df037": {
          "model_module": "@jupyter-widgets/controls",
          "model_module_version": "1.5.0",
          "model_name": "ProgressStyleModel",
          "state": {
            "_model_module": "@jupyter-widgets/controls",
            "_model_module_version": "1.5.0",
            "_model_name": "ProgressStyleModel",
            "_view_count": null,
            "_view_module": "@jupyter-widgets/base",
            "_view_module_version": "1.2.0",
            "_view_name": "StyleView",
            "bar_color": null,
            "description_width": ""
          }
        },
        "a473344024784b118a18fc137417904d": {
          "model_module": "@jupyter-widgets/controls",
          "model_module_version": "1.5.0",
          "model_name": "HTMLModel",
          "state": {
            "_dom_classes": [],
            "_model_module": "@jupyter-widgets/controls",
            "_model_module_version": "1.5.0",
            "_model_name": "HTMLModel",
            "_view_count": null,
            "_view_module": "@jupyter-widgets/controls",
            "_view_module_version": "1.5.0",
            "_view_name": "HTMLView",
            "description": "",
            "description_tooltip": null,
            "layout": "IPY_MODEL_2b4d74da9757483098768c7a9c050787",
            "placeholder": "​",
            "style": "IPY_MODEL_7c9df9dab181425b99639110a01ac82d",
            "value": "100%"
          }
        },
        "a49c623556ed4fc2add833df2ef2e6ad": {
          "model_module": "@jupyter-widgets/base",
          "model_module_version": "1.2.0",
          "model_name": "LayoutModel",
          "state": {
            "_model_module": "@jupyter-widgets/base",
            "_model_module_version": "1.2.0",
            "_model_name": "LayoutModel",
            "_view_count": null,
            "_view_module": "@jupyter-widgets/base",
            "_view_module_version": "1.2.0",
            "_view_name": "LayoutView",
            "align_content": null,
            "align_items": null,
            "align_self": null,
            "border": null,
            "bottom": null,
            "display": null,
            "flex": null,
            "flex_flow": null,
            "grid_area": null,
            "grid_auto_columns": null,
            "grid_auto_flow": null,
            "grid_auto_rows": null,
            "grid_column": null,
            "grid_gap": null,
            "grid_row": null,
            "grid_template_areas": null,
            "grid_template_columns": null,
            "grid_template_rows": null,
            "height": null,
            "justify_content": null,
            "justify_items": null,
            "left": null,
            "margin": null,
            "max_height": null,
            "max_width": null,
            "min_height": null,
            "min_width": null,
            "object_fit": null,
            "object_position": null,
            "order": null,
            "overflow": null,
            "overflow_x": null,
            "overflow_y": null,
            "padding": null,
            "right": null,
            "top": null,
            "visibility": null,
            "width": null
          }
        },
        "a5dcd295ea674222b66fb128069bc041": {
          "model_module": "@jupyter-widgets/controls",
          "model_module_version": "1.5.0",
          "model_name": "ProgressStyleModel",
          "state": {
            "_model_module": "@jupyter-widgets/controls",
            "_model_module_version": "1.5.0",
            "_model_name": "ProgressStyleModel",
            "_view_count": null,
            "_view_module": "@jupyter-widgets/base",
            "_view_module_version": "1.2.0",
            "_view_name": "StyleView",
            "bar_color": null,
            "description_width": ""
          }
        },
        "a78ef8920b23480e8654f775a792c12d": {
          "model_module": "@jupyter-widgets/base",
          "model_module_version": "1.2.0",
          "model_name": "LayoutModel",
          "state": {
            "_model_module": "@jupyter-widgets/base",
            "_model_module_version": "1.2.0",
            "_model_name": "LayoutModel",
            "_view_count": null,
            "_view_module": "@jupyter-widgets/base",
            "_view_module_version": "1.2.0",
            "_view_name": "LayoutView",
            "align_content": null,
            "align_items": null,
            "align_self": null,
            "border": null,
            "bottom": null,
            "display": null,
            "flex": null,
            "flex_flow": null,
            "grid_area": null,
            "grid_auto_columns": null,
            "grid_auto_flow": null,
            "grid_auto_rows": null,
            "grid_column": null,
            "grid_gap": null,
            "grid_row": null,
            "grid_template_areas": null,
            "grid_template_columns": null,
            "grid_template_rows": null,
            "height": null,
            "justify_content": null,
            "justify_items": null,
            "left": null,
            "margin": null,
            "max_height": null,
            "max_width": null,
            "min_height": null,
            "min_width": null,
            "object_fit": null,
            "object_position": null,
            "order": null,
            "overflow": null,
            "overflow_x": null,
            "overflow_y": null,
            "padding": null,
            "right": null,
            "top": null,
            "visibility": null,
            "width": null
          }
        },
        "a8aa7f8548d546c9b5254e3dc616e41d": {
          "model_module": "@jupyter-widgets/base",
          "model_module_version": "1.2.0",
          "model_name": "LayoutModel",
          "state": {
            "_model_module": "@jupyter-widgets/base",
            "_model_module_version": "1.2.0",
            "_model_name": "LayoutModel",
            "_view_count": null,
            "_view_module": "@jupyter-widgets/base",
            "_view_module_version": "1.2.0",
            "_view_name": "LayoutView",
            "align_content": null,
            "align_items": null,
            "align_self": null,
            "border": null,
            "bottom": null,
            "display": null,
            "flex": null,
            "flex_flow": null,
            "grid_area": null,
            "grid_auto_columns": null,
            "grid_auto_flow": null,
            "grid_auto_rows": null,
            "grid_column": null,
            "grid_gap": null,
            "grid_row": null,
            "grid_template_areas": null,
            "grid_template_columns": null,
            "grid_template_rows": null,
            "height": null,
            "justify_content": null,
            "justify_items": null,
            "left": null,
            "margin": null,
            "max_height": null,
            "max_width": null,
            "min_height": null,
            "min_width": null,
            "object_fit": null,
            "object_position": null,
            "order": null,
            "overflow": null,
            "overflow_x": null,
            "overflow_y": null,
            "padding": null,
            "right": null,
            "top": null,
            "visibility": null,
            "width": null
          }
        },
        "a8ff8023ef0046f1a43e83804415add0": {
          "model_module": "@jupyter-widgets/base",
          "model_module_version": "1.2.0",
          "model_name": "LayoutModel",
          "state": {
            "_model_module": "@jupyter-widgets/base",
            "_model_module_version": "1.2.0",
            "_model_name": "LayoutModel",
            "_view_count": null,
            "_view_module": "@jupyter-widgets/base",
            "_view_module_version": "1.2.0",
            "_view_name": "LayoutView",
            "align_content": null,
            "align_items": null,
            "align_self": null,
            "border": null,
            "bottom": null,
            "display": null,
            "flex": null,
            "flex_flow": null,
            "grid_area": null,
            "grid_auto_columns": null,
            "grid_auto_flow": null,
            "grid_auto_rows": null,
            "grid_column": null,
            "grid_gap": null,
            "grid_row": null,
            "grid_template_areas": null,
            "grid_template_columns": null,
            "grid_template_rows": null,
            "height": null,
            "justify_content": null,
            "justify_items": null,
            "left": null,
            "margin": null,
            "max_height": null,
            "max_width": null,
            "min_height": null,
            "min_width": null,
            "object_fit": null,
            "object_position": null,
            "order": null,
            "overflow": null,
            "overflow_x": null,
            "overflow_y": null,
            "padding": null,
            "right": null,
            "top": null,
            "visibility": null,
            "width": null
          }
        },
        "a9f0b080abed46588e9d2c045a1dad44": {
          "model_module": "@jupyter-widgets/controls",
          "model_module_version": "1.5.0",
          "model_name": "DescriptionStyleModel",
          "state": {
            "_model_module": "@jupyter-widgets/controls",
            "_model_module_version": "1.5.0",
            "_model_name": "DescriptionStyleModel",
            "_view_count": null,
            "_view_module": "@jupyter-widgets/base",
            "_view_module_version": "1.2.0",
            "_view_name": "StyleView",
            "description_width": ""
          }
        },
        "aa292f0be71a4af2afa546507e07062a": {
          "model_module": "@jupyter-widgets/base",
          "model_module_version": "1.2.0",
          "model_name": "LayoutModel",
          "state": {
            "_model_module": "@jupyter-widgets/base",
            "_model_module_version": "1.2.0",
            "_model_name": "LayoutModel",
            "_view_count": null,
            "_view_module": "@jupyter-widgets/base",
            "_view_module_version": "1.2.0",
            "_view_name": "LayoutView",
            "align_content": null,
            "align_items": null,
            "align_self": null,
            "border": null,
            "bottom": null,
            "display": null,
            "flex": null,
            "flex_flow": null,
            "grid_area": null,
            "grid_auto_columns": null,
            "grid_auto_flow": null,
            "grid_auto_rows": null,
            "grid_column": null,
            "grid_gap": null,
            "grid_row": null,
            "grid_template_areas": null,
            "grid_template_columns": null,
            "grid_template_rows": null,
            "height": null,
            "justify_content": null,
            "justify_items": null,
            "left": null,
            "margin": null,
            "max_height": null,
            "max_width": null,
            "min_height": null,
            "min_width": null,
            "object_fit": null,
            "object_position": null,
            "order": null,
            "overflow": null,
            "overflow_x": null,
            "overflow_y": null,
            "padding": null,
            "right": null,
            "top": null,
            "visibility": null,
            "width": null
          }
        },
        "aa925a383bf14cc9a1bf367bb700b035": {
          "model_module": "@jupyter-widgets/controls",
          "model_module_version": "1.5.0",
          "model_name": "FloatProgressModel",
          "state": {
            "_dom_classes": [],
            "_model_module": "@jupyter-widgets/controls",
            "_model_module_version": "1.5.0",
            "_model_name": "FloatProgressModel",
            "_view_count": null,
            "_view_module": "@jupyter-widgets/controls",
            "_view_module_version": "1.5.0",
            "_view_name": "ProgressView",
            "bar_style": "info",
            "description": "",
            "description_tooltip": null,
            "layout": "IPY_MODEL_bda14f7730104124ade8b721633c374f",
            "max": 1,
            "min": 0,
            "orientation": "horizontal",
            "style": "IPY_MODEL_a5dcd295ea674222b66fb128069bc041",
            "value": 1
          }
        },
        "aad2cedb203746868acb9f5727034699": {
          "model_module": "@jupyter-widgets/controls",
          "model_module_version": "1.5.0",
          "model_name": "FloatProgressModel",
          "state": {
            "_dom_classes": [],
            "_model_module": "@jupyter-widgets/controls",
            "_model_module_version": "1.5.0",
            "_model_name": "FloatProgressModel",
            "_view_count": null,
            "_view_module": "@jupyter-widgets/controls",
            "_view_module_version": "1.5.0",
            "_view_name": "ProgressView",
            "bar_style": "success",
            "description": "",
            "description_tooltip": null,
            "layout": "IPY_MODEL_77bd0713d4dc4a039519ad2b650c02fa",
            "max": 51558,
            "min": 0,
            "orientation": "horizontal",
            "style": "IPY_MODEL_669b6b7aa77544ce8d5d9d87e5e4c0f4",
            "value": 51558
          }
        },
        "ad09cd43c65d44cd8e9487218de4a059": {
          "model_module": "@jupyter-widgets/controls",
          "model_module_version": "1.5.0",
          "model_name": "DescriptionStyleModel",
          "state": {
            "_model_module": "@jupyter-widgets/controls",
            "_model_module_version": "1.5.0",
            "_model_name": "DescriptionStyleModel",
            "_view_count": null,
            "_view_module": "@jupyter-widgets/base",
            "_view_module_version": "1.2.0",
            "_view_name": "StyleView",
            "description_width": ""
          }
        },
        "af02bb58312b4ccda819a2f88fbc36ec": {
          "model_module": "@jupyter-widgets/controls",
          "model_module_version": "1.5.0",
          "model_name": "HTMLModel",
          "state": {
            "_dom_classes": [],
            "_model_module": "@jupyter-widgets/controls",
            "_model_module_version": "1.5.0",
            "_model_name": "HTMLModel",
            "_view_count": null,
            "_view_module": "@jupyter-widgets/controls",
            "_view_module_version": "1.5.0",
            "_view_name": "HTMLView",
            "description": "",
            "description_tooltip": null,
            "layout": "IPY_MODEL_535f09c1e5c64479ad63f86d4c37f8b2",
            "placeholder": "​",
            "style": "IPY_MODEL_e9affa5c391142f5945aef11feb360ca",
            "value": "Downloading data: "
          }
        },
        "af43c0b80c4f4e9cb914858974c46a98": {
          "model_module": "@jupyter-widgets/controls",
          "model_module_version": "1.5.0",
          "model_name": "DescriptionStyleModel",
          "state": {
            "_model_module": "@jupyter-widgets/controls",
            "_model_module_version": "1.5.0",
            "_model_name": "DescriptionStyleModel",
            "_view_count": null,
            "_view_module": "@jupyter-widgets/base",
            "_view_module_version": "1.2.0",
            "_view_name": "StyleView",
            "description_width": ""
          }
        },
        "b1cd686d662c49958e30e98ef1fa11d8": {
          "model_module": "@jupyter-widgets/controls",
          "model_module_version": "1.5.0",
          "model_name": "FloatProgressModel",
          "state": {
            "_dom_classes": [],
            "_model_module": "@jupyter-widgets/controls",
            "_model_module_version": "1.5.0",
            "_model_name": "FloatProgressModel",
            "_view_count": null,
            "_view_module": "@jupyter-widgets/controls",
            "_view_module_version": "1.5.0",
            "_view_name": "ProgressView",
            "bar_style": "success",
            "description": "",
            "description_tooltip": null,
            "layout": "IPY_MODEL_39b08f225eba40d98e5b9f9cd88b2113",
            "max": 1,
            "min": 0,
            "orientation": "horizontal",
            "style": "IPY_MODEL_0afc8adc058e4f17b66d12ed644aae44",
            "value": 1
          }
        },
        "b1e42c62e3654e1287c711900988056e": {
          "model_module": "@jupyter-widgets/controls",
          "model_module_version": "1.5.0",
          "model_name": "HTMLModel",
          "state": {
            "_dom_classes": [],
            "_model_module": "@jupyter-widgets/controls",
            "_model_module_version": "1.5.0",
            "_model_name": "HTMLModel",
            "_view_count": null,
            "_view_module": "@jupyter-widgets/controls",
            "_view_module_version": "1.5.0",
            "_view_name": "HTMLView",
            "description": "",
            "description_tooltip": null,
            "layout": "IPY_MODEL_cd39ad95cf2b44afa590429eb9b77be0",
            "placeholder": "​",
            "style": "IPY_MODEL_f7f48970f0284419a0a3c5c31b1265d3",
            "value": " 498M/498M [00:19&lt;00:00, 20.0MB/s]"
          }
        },
        "b3aed11dfa444bfda90f76a5c4d4b0be": {
          "model_module": "@jupyter-widgets/base",
          "model_module_version": "1.2.0",
          "model_name": "LayoutModel",
          "state": {
            "_model_module": "@jupyter-widgets/base",
            "_model_module_version": "1.2.0",
            "_model_name": "LayoutModel",
            "_view_count": null,
            "_view_module": "@jupyter-widgets/base",
            "_view_module_version": "1.2.0",
            "_view_name": "LayoutView",
            "align_content": null,
            "align_items": null,
            "align_self": null,
            "border": null,
            "bottom": null,
            "display": null,
            "flex": null,
            "flex_flow": null,
            "grid_area": null,
            "grid_auto_columns": null,
            "grid_auto_flow": null,
            "grid_auto_rows": null,
            "grid_column": null,
            "grid_gap": null,
            "grid_row": null,
            "grid_template_areas": null,
            "grid_template_columns": null,
            "grid_template_rows": null,
            "height": null,
            "justify_content": null,
            "justify_items": null,
            "left": null,
            "margin": null,
            "max_height": null,
            "max_width": null,
            "min_height": null,
            "min_width": null,
            "object_fit": null,
            "object_position": null,
            "order": null,
            "overflow": null,
            "overflow_x": null,
            "overflow_y": null,
            "padding": null,
            "right": null,
            "top": null,
            "visibility": "hidden",
            "width": null
          }
        },
        "b7ed84bf0b8342dbb8126ac1ecff7d46": {
          "model_module": "@jupyter-widgets/base",
          "model_module_version": "1.2.0",
          "model_name": "LayoutModel",
          "state": {
            "_model_module": "@jupyter-widgets/base",
            "_model_module_version": "1.2.0",
            "_model_name": "LayoutModel",
            "_view_count": null,
            "_view_module": "@jupyter-widgets/base",
            "_view_module_version": "1.2.0",
            "_view_name": "LayoutView",
            "align_content": null,
            "align_items": null,
            "align_self": null,
            "border": null,
            "bottom": null,
            "display": null,
            "flex": null,
            "flex_flow": null,
            "grid_area": null,
            "grid_auto_columns": null,
            "grid_auto_flow": null,
            "grid_auto_rows": null,
            "grid_column": null,
            "grid_gap": null,
            "grid_row": null,
            "grid_template_areas": null,
            "grid_template_columns": null,
            "grid_template_rows": null,
            "height": null,
            "justify_content": null,
            "justify_items": null,
            "left": null,
            "margin": null,
            "max_height": null,
            "max_width": null,
            "min_height": null,
            "min_width": null,
            "object_fit": null,
            "object_position": null,
            "order": null,
            "overflow": null,
            "overflow_x": null,
            "overflow_y": null,
            "padding": null,
            "right": null,
            "top": null,
            "visibility": null,
            "width": null
          }
        },
        "b8cb11c920a541f497fc1b2029983c25": {
          "model_module": "@jupyter-widgets/base",
          "model_module_version": "1.2.0",
          "model_name": "LayoutModel",
          "state": {
            "_model_module": "@jupyter-widgets/base",
            "_model_module_version": "1.2.0",
            "_model_name": "LayoutModel",
            "_view_count": null,
            "_view_module": "@jupyter-widgets/base",
            "_view_module_version": "1.2.0",
            "_view_name": "LayoutView",
            "align_content": null,
            "align_items": null,
            "align_self": null,
            "border": null,
            "bottom": null,
            "display": null,
            "flex": null,
            "flex_flow": null,
            "grid_area": null,
            "grid_auto_columns": null,
            "grid_auto_flow": null,
            "grid_auto_rows": null,
            "grid_column": null,
            "grid_gap": null,
            "grid_row": null,
            "grid_template_areas": null,
            "grid_template_columns": null,
            "grid_template_rows": null,
            "height": null,
            "justify_content": null,
            "justify_items": null,
            "left": null,
            "margin": null,
            "max_height": null,
            "max_width": null,
            "min_height": null,
            "min_width": null,
            "object_fit": null,
            "object_position": null,
            "order": null,
            "overflow": null,
            "overflow_x": null,
            "overflow_y": null,
            "padding": null,
            "right": null,
            "top": null,
            "visibility": null,
            "width": null
          }
        },
        "b8d240ed0ac2480398980d7eaffb4aac": {
          "model_module": "@jupyter-widgets/base",
          "model_module_version": "1.2.0",
          "model_name": "LayoutModel",
          "state": {
            "_model_module": "@jupyter-widgets/base",
            "_model_module_version": "1.2.0",
            "_model_name": "LayoutModel",
            "_view_count": null,
            "_view_module": "@jupyter-widgets/base",
            "_view_module_version": "1.2.0",
            "_view_name": "LayoutView",
            "align_content": null,
            "align_items": null,
            "align_self": null,
            "border": null,
            "bottom": null,
            "display": null,
            "flex": null,
            "flex_flow": null,
            "grid_area": null,
            "grid_auto_columns": null,
            "grid_auto_flow": null,
            "grid_auto_rows": null,
            "grid_column": null,
            "grid_gap": null,
            "grid_row": null,
            "grid_template_areas": null,
            "grid_template_columns": null,
            "grid_template_rows": null,
            "height": null,
            "justify_content": null,
            "justify_items": null,
            "left": null,
            "margin": null,
            "max_height": null,
            "max_width": null,
            "min_height": null,
            "min_width": null,
            "object_fit": null,
            "object_position": null,
            "order": null,
            "overflow": null,
            "overflow_x": null,
            "overflow_y": null,
            "padding": null,
            "right": null,
            "top": null,
            "visibility": null,
            "width": null
          }
        },
        "b9bf35ea3a1148a59c1d6c131817578d": {
          "model_module": "@jupyter-widgets/base",
          "model_module_version": "1.2.0",
          "model_name": "LayoutModel",
          "state": {
            "_model_module": "@jupyter-widgets/base",
            "_model_module_version": "1.2.0",
            "_model_name": "LayoutModel",
            "_view_count": null,
            "_view_module": "@jupyter-widgets/base",
            "_view_module_version": "1.2.0",
            "_view_name": "LayoutView",
            "align_content": null,
            "align_items": null,
            "align_self": null,
            "border": null,
            "bottom": null,
            "display": null,
            "flex": null,
            "flex_flow": null,
            "grid_area": null,
            "grid_auto_columns": null,
            "grid_auto_flow": null,
            "grid_auto_rows": null,
            "grid_column": null,
            "grid_gap": null,
            "grid_row": null,
            "grid_template_areas": null,
            "grid_template_columns": null,
            "grid_template_rows": null,
            "height": null,
            "justify_content": null,
            "justify_items": null,
            "left": null,
            "margin": null,
            "max_height": null,
            "max_width": null,
            "min_height": null,
            "min_width": null,
            "object_fit": null,
            "object_position": null,
            "order": null,
            "overflow": null,
            "overflow_x": null,
            "overflow_y": null,
            "padding": null,
            "right": null,
            "top": null,
            "visibility": null,
            "width": null
          }
        },
        "ba0e08a5fe8f47b6a9acb44cb918869b": {
          "model_module": "@jupyter-widgets/base",
          "model_module_version": "1.2.0",
          "model_name": "LayoutModel",
          "state": {
            "_model_module": "@jupyter-widgets/base",
            "_model_module_version": "1.2.0",
            "_model_name": "LayoutModel",
            "_view_count": null,
            "_view_module": "@jupyter-widgets/base",
            "_view_module_version": "1.2.0",
            "_view_name": "LayoutView",
            "align_content": null,
            "align_items": null,
            "align_self": null,
            "border": null,
            "bottom": null,
            "display": null,
            "flex": null,
            "flex_flow": null,
            "grid_area": null,
            "grid_auto_columns": null,
            "grid_auto_flow": null,
            "grid_auto_rows": null,
            "grid_column": null,
            "grid_gap": null,
            "grid_row": null,
            "grid_template_areas": null,
            "grid_template_columns": null,
            "grid_template_rows": null,
            "height": null,
            "justify_content": null,
            "justify_items": null,
            "left": null,
            "margin": null,
            "max_height": null,
            "max_width": null,
            "min_height": null,
            "min_width": null,
            "object_fit": null,
            "object_position": null,
            "order": null,
            "overflow": null,
            "overflow_x": null,
            "overflow_y": null,
            "padding": null,
            "right": null,
            "top": null,
            "visibility": null,
            "width": null
          }
        },
        "ba4cbd2d63a94b17b5526846b5fb341b": {
          "model_module": "@jupyter-widgets/controls",
          "model_module_version": "1.5.0",
          "model_name": "HBoxModel",
          "state": {
            "_dom_classes": [],
            "_model_module": "@jupyter-widgets/controls",
            "_model_module_version": "1.5.0",
            "_model_name": "HBoxModel",
            "_view_count": null,
            "_view_module": "@jupyter-widgets/controls",
            "_view_module_version": "1.5.0",
            "_view_name": "HBoxView",
            "box_style": "",
            "children": [
              "IPY_MODEL_a12a2ad3153d4a51b66081580b023a03",
              "IPY_MODEL_88ae469bf11e4690bf444d6e74ec0c0c",
              "IPY_MODEL_23e9c709192d4e73af8f6b03db91a76f"
            ],
            "layout": "IPY_MODEL_02646dd5ee754376b6f89eefa5a33519"
          }
        },
        "ba63ff98ce8c490998fe07aa149c6d8e": {
          "model_module": "@jupyter-widgets/controls",
          "model_module_version": "1.5.0",
          "model_name": "FloatProgressModel",
          "state": {
            "_dom_classes": [],
            "_model_module": "@jupyter-widgets/controls",
            "_model_module_version": "1.5.0",
            "_model_name": "FloatProgressModel",
            "_view_count": null,
            "_view_module": "@jupyter-widgets/controls",
            "_view_module_version": "1.5.0",
            "_view_name": "ProgressView",
            "bar_style": "success",
            "description": "",
            "description_tooltip": null,
            "layout": "IPY_MODEL_6c022385324f4278849d64e3424af487",
            "max": 41103,
            "min": 0,
            "orientation": "horizontal",
            "style": "IPY_MODEL_0adc808a9f77435ea853174a728f35a2",
            "value": 41103
          }
        },
        "bd29b650dbcd45ce93bd2c02149eab83": {
          "model_module": "@jupyter-widgets/controls",
          "model_module_version": "1.5.0",
          "model_name": "FloatProgressModel",
          "state": {
            "_dom_classes": [],
            "_model_module": "@jupyter-widgets/controls",
            "_model_module_version": "1.5.0",
            "_model_name": "FloatProgressModel",
            "_view_count": null,
            "_view_module": "@jupyter-widgets/controls",
            "_view_module_version": "1.5.0",
            "_view_name": "ProgressView",
            "bar_style": "success",
            "description": "",
            "description_tooltip": null,
            "layout": "IPY_MODEL_f27c9909ad8947a7b2d50776cc748958",
            "max": 2,
            "min": 0,
            "orientation": "horizontal",
            "style": "IPY_MODEL_a305fff323d84b23b346827f498548b7",
            "value": 2
          }
        },
        "bd4752b83552464b9e1b7c2444855545": {
          "model_module": "@jupyter-widgets/base",
          "model_module_version": "1.2.0",
          "model_name": "LayoutModel",
          "state": {
            "_model_module": "@jupyter-widgets/base",
            "_model_module_version": "1.2.0",
            "_model_name": "LayoutModel",
            "_view_count": null,
            "_view_module": "@jupyter-widgets/base",
            "_view_module_version": "1.2.0",
            "_view_name": "LayoutView",
            "align_content": null,
            "align_items": null,
            "align_self": null,
            "border": null,
            "bottom": null,
            "display": null,
            "flex": null,
            "flex_flow": null,
            "grid_area": null,
            "grid_auto_columns": null,
            "grid_auto_flow": null,
            "grid_auto_rows": null,
            "grid_column": null,
            "grid_gap": null,
            "grid_row": null,
            "grid_template_areas": null,
            "grid_template_columns": null,
            "grid_template_rows": null,
            "height": null,
            "justify_content": null,
            "justify_items": null,
            "left": null,
            "margin": null,
            "max_height": null,
            "max_width": null,
            "min_height": null,
            "min_width": null,
            "object_fit": null,
            "object_position": null,
            "order": null,
            "overflow": null,
            "overflow_x": null,
            "overflow_y": null,
            "padding": null,
            "right": null,
            "top": null,
            "visibility": null,
            "width": null
          }
        },
        "bda14f7730104124ade8b721633c374f": {
          "model_module": "@jupyter-widgets/base",
          "model_module_version": "1.2.0",
          "model_name": "LayoutModel",
          "state": {
            "_model_module": "@jupyter-widgets/base",
            "_model_module_version": "1.2.0",
            "_model_name": "LayoutModel",
            "_view_count": null,
            "_view_module": "@jupyter-widgets/base",
            "_view_module_version": "1.2.0",
            "_view_name": "LayoutView",
            "align_content": null,
            "align_items": null,
            "align_self": null,
            "border": null,
            "bottom": null,
            "display": null,
            "flex": null,
            "flex_flow": null,
            "grid_area": null,
            "grid_auto_columns": null,
            "grid_auto_flow": null,
            "grid_auto_rows": null,
            "grid_column": null,
            "grid_gap": null,
            "grid_row": null,
            "grid_template_areas": null,
            "grid_template_columns": null,
            "grid_template_rows": null,
            "height": null,
            "justify_content": null,
            "justify_items": null,
            "left": null,
            "margin": null,
            "max_height": null,
            "max_width": null,
            "min_height": null,
            "min_width": null,
            "object_fit": null,
            "object_position": null,
            "order": null,
            "overflow": null,
            "overflow_x": null,
            "overflow_y": null,
            "padding": null,
            "right": null,
            "top": null,
            "visibility": null,
            "width": "20px"
          }
        },
        "c0be461f1f0444048110b0aa1444e57a": {
          "model_module": "@jupyter-widgets/controls",
          "model_module_version": "1.5.0",
          "model_name": "HBoxModel",
          "state": {
            "_dom_classes": [],
            "_model_module": "@jupyter-widgets/controls",
            "_model_module_version": "1.5.0",
            "_model_name": "HBoxModel",
            "_view_count": null,
            "_view_module": "@jupyter-widgets/controls",
            "_view_module_version": "1.5.0",
            "_view_name": "HBoxView",
            "box_style": "",
            "children": [
              "IPY_MODEL_1de681fbfa56403aa0b3f55553dc2045",
              "IPY_MODEL_7f131c7622d849e9a30ff8435a6c5c53",
              "IPY_MODEL_e5dd0a6ec3bf4d83baff4c96fe0436c1"
            ],
            "layout": "IPY_MODEL_1a8af4723f484e71a76444e1d4ce1532"
          }
        },
        "c3b72a275f82495eb3eb7b945dda7267": {
          "model_module": "@jupyter-widgets/controls",
          "model_module_version": "1.5.0",
          "model_name": "HTMLModel",
          "state": {
            "_dom_classes": [],
            "_model_module": "@jupyter-widgets/controls",
            "_model_module_version": "1.5.0",
            "_model_name": "HTMLModel",
            "_view_count": null,
            "_view_module": "@jupyter-widgets/controls",
            "_view_module_version": "1.5.0",
            "_view_name": "HTMLView",
            "description": "",
            "description_tooltip": null,
            "layout": "IPY_MODEL_680b426379f045a387a4e54b45048e8e",
            "placeholder": "​",
            "style": "IPY_MODEL_e51d092564a74774a7cc17471b6d5602",
            "value": "Downloading data: "
          }
        },
        "c3d1aa16c31645a89c656136b64726e1": {
          "model_module": "@jupyter-widgets/controls",
          "model_module_version": "1.5.0",
          "model_name": "ProgressStyleModel",
          "state": {
            "_model_module": "@jupyter-widgets/controls",
            "_model_module_version": "1.5.0",
            "_model_name": "ProgressStyleModel",
            "_view_count": null,
            "_view_module": "@jupyter-widgets/base",
            "_view_module_version": "1.2.0",
            "_view_name": "StyleView",
            "bar_color": null,
            "description_width": ""
          }
        },
        "c642748e715647c888ca62b549b0a6ce": {
          "model_module": "@jupyter-widgets/controls",
          "model_module_version": "1.5.0",
          "model_name": "FloatProgressModel",
          "state": {
            "_dom_classes": [],
            "_model_module": "@jupyter-widgets/controls",
            "_model_module_version": "1.5.0",
            "_model_name": "FloatProgressModel",
            "_view_count": null,
            "_view_module": "@jupyter-widgets/controls",
            "_view_module_version": "1.5.0",
            "_view_name": "ProgressView",
            "bar_style": "success",
            "description": "",
            "description_tooltip": null,
            "layout": "IPY_MODEL_75f0c1d995ab447998f83e5c8160bfa6",
            "max": 1,
            "min": 0,
            "orientation": "horizontal",
            "style": "IPY_MODEL_9cd1232cf42f4f269190352aac3614ea",
            "value": 1
          }
        },
        "c73ebf020b8e43efa375c84f9cec50af": {
          "model_module": "@jupyter-widgets/controls",
          "model_module_version": "1.5.0",
          "model_name": "DescriptionStyleModel",
          "state": {
            "_model_module": "@jupyter-widgets/controls",
            "_model_module_version": "1.5.0",
            "_model_name": "DescriptionStyleModel",
            "_view_count": null,
            "_view_module": "@jupyter-widgets/base",
            "_view_module_version": "1.2.0",
            "_view_name": "StyleView",
            "description_width": ""
          }
        },
        "caa6a4d176874e11a65ad97d4e027053": {
          "model_module": "@jupyter-widgets/controls",
          "model_module_version": "1.5.0",
          "model_name": "HTMLModel",
          "state": {
            "_dom_classes": [],
            "_model_module": "@jupyter-widgets/controls",
            "_model_module_version": "1.5.0",
            "_model_name": "HTMLModel",
            "_view_count": null,
            "_view_module": "@jupyter-widgets/controls",
            "_view_module_version": "1.5.0",
            "_view_name": "HTMLView",
            "description": "",
            "description_tooltip": null,
            "layout": "IPY_MODEL_54268735fb3f474faec631271c08202f",
            "placeholder": "​",
            "style": "IPY_MODEL_1437fc9cea1a4c62b1d785d02ed096e7",
            "value": " 102k/? [00:00&lt;00:00, 2.96MB/s]"
          }
        },
        "cb3850acf0174430b698593f325e51fb": {
          "model_module": "@jupyter-widgets/controls",
          "model_module_version": "1.5.0",
          "model_name": "DescriptionStyleModel",
          "state": {
            "_model_module": "@jupyter-widgets/controls",
            "_model_module_version": "1.5.0",
            "_model_name": "DescriptionStyleModel",
            "_view_count": null,
            "_view_module": "@jupyter-widgets/base",
            "_view_module_version": "1.2.0",
            "_view_name": "StyleView",
            "description_width": ""
          }
        },
        "cc1093350cf141299ff6a6655be081f2": {
          "model_module": "@jupyter-widgets/base",
          "model_module_version": "1.2.0",
          "model_name": "LayoutModel",
          "state": {
            "_model_module": "@jupyter-widgets/base",
            "_model_module_version": "1.2.0",
            "_model_name": "LayoutModel",
            "_view_count": null,
            "_view_module": "@jupyter-widgets/base",
            "_view_module_version": "1.2.0",
            "_view_name": "LayoutView",
            "align_content": null,
            "align_items": null,
            "align_self": null,
            "border": null,
            "bottom": null,
            "display": null,
            "flex": null,
            "flex_flow": null,
            "grid_area": null,
            "grid_auto_columns": null,
            "grid_auto_flow": null,
            "grid_auto_rows": null,
            "grid_column": null,
            "grid_gap": null,
            "grid_row": null,
            "grid_template_areas": null,
            "grid_template_columns": null,
            "grid_template_rows": null,
            "height": null,
            "justify_content": null,
            "justify_items": null,
            "left": null,
            "margin": null,
            "max_height": null,
            "max_width": null,
            "min_height": null,
            "min_width": null,
            "object_fit": null,
            "object_position": null,
            "order": null,
            "overflow": null,
            "overflow_x": null,
            "overflow_y": null,
            "padding": null,
            "right": null,
            "top": null,
            "visibility": null,
            "width": "20px"
          }
        },
        "cd39ad95cf2b44afa590429eb9b77be0": {
          "model_module": "@jupyter-widgets/base",
          "model_module_version": "1.2.0",
          "model_name": "LayoutModel",
          "state": {
            "_model_module": "@jupyter-widgets/base",
            "_model_module_version": "1.2.0",
            "_model_name": "LayoutModel",
            "_view_count": null,
            "_view_module": "@jupyter-widgets/base",
            "_view_module_version": "1.2.0",
            "_view_name": "LayoutView",
            "align_content": null,
            "align_items": null,
            "align_self": null,
            "border": null,
            "bottom": null,
            "display": null,
            "flex": null,
            "flex_flow": null,
            "grid_area": null,
            "grid_auto_columns": null,
            "grid_auto_flow": null,
            "grid_auto_rows": null,
            "grid_column": null,
            "grid_gap": null,
            "grid_row": null,
            "grid_template_areas": null,
            "grid_template_columns": null,
            "grid_template_rows": null,
            "height": null,
            "justify_content": null,
            "justify_items": null,
            "left": null,
            "margin": null,
            "max_height": null,
            "max_width": null,
            "min_height": null,
            "min_width": null,
            "object_fit": null,
            "object_position": null,
            "order": null,
            "overflow": null,
            "overflow_x": null,
            "overflow_y": null,
            "padding": null,
            "right": null,
            "top": null,
            "visibility": null,
            "width": null
          }
        },
        "cf24b0ffe7194a019c118ccfe634d7fb": {
          "model_module": "@jupyter-widgets/controls",
          "model_module_version": "1.5.0",
          "model_name": "DescriptionStyleModel",
          "state": {
            "_model_module": "@jupyter-widgets/controls",
            "_model_module_version": "1.5.0",
            "_model_name": "DescriptionStyleModel",
            "_view_count": null,
            "_view_module": "@jupyter-widgets/base",
            "_view_module_version": "1.2.0",
            "_view_name": "StyleView",
            "description_width": ""
          }
        },
        "cfc7b877daf6415ea518087445506e3d": {
          "model_module": "@jupyter-widgets/controls",
          "model_module_version": "1.5.0",
          "model_name": "DescriptionStyleModel",
          "state": {
            "_model_module": "@jupyter-widgets/controls",
            "_model_module_version": "1.5.0",
            "_model_name": "DescriptionStyleModel",
            "_view_count": null,
            "_view_module": "@jupyter-widgets/base",
            "_view_module_version": "1.2.0",
            "_view_name": "StyleView",
            "description_width": ""
          }
        },
        "cfd5724d71d44fe59a2531bb3d77bd80": {
          "model_module": "@jupyter-widgets/controls",
          "model_module_version": "1.5.0",
          "model_name": "HBoxModel",
          "state": {
            "_dom_classes": [],
            "_model_module": "@jupyter-widgets/controls",
            "_model_module_version": "1.5.0",
            "_model_name": "HBoxModel",
            "_view_count": null,
            "_view_module": "@jupyter-widgets/controls",
            "_view_module_version": "1.5.0",
            "_view_name": "HBoxView",
            "box_style": "",
            "children": [
              "IPY_MODEL_41c48cf79238485bbd62d4cf24fc09df",
              "IPY_MODEL_4120033655c64b91b7fd74babd345259",
              "IPY_MODEL_09955071622e4e7a9c9e75b22aefa8cf"
            ],
            "layout": "IPY_MODEL_edc570209e1d4188a180351ca5609b76"
          }
        },
        "d12f1d33b9854f0eb394d59217ed52b0": {
          "model_module": "@jupyter-widgets/controls",
          "model_module_version": "1.5.0",
          "model_name": "HTMLModel",
          "state": {
            "_dom_classes": [],
            "_model_module": "@jupyter-widgets/controls",
            "_model_module_version": "1.5.0",
            "_model_name": "HTMLModel",
            "_view_count": null,
            "_view_module": "@jupyter-widgets/controls",
            "_view_module_version": "1.5.0",
            "_view_name": "HTMLView",
            "description": "",
            "description_tooltip": null,
            "layout": "IPY_MODEL_5100a48723c141b380b9a0a85cd682fd",
            "placeholder": "​",
            "style": "IPY_MODEL_dd24e9aeed7c4639a4c651d15ccc4929",
            "value": " 103k/? [00:00&lt;00:00, 2.02MB/s]"
          }
        },
        "d24c06d1bee244aeab03a1fe966e52a8": {
          "model_module": "@jupyter-widgets/controls",
          "model_module_version": "1.5.0",
          "model_name": "DescriptionStyleModel",
          "state": {
            "_model_module": "@jupyter-widgets/controls",
            "_model_module_version": "1.5.0",
            "_model_name": "DescriptionStyleModel",
            "_view_count": null,
            "_view_module": "@jupyter-widgets/base",
            "_view_module_version": "1.2.0",
            "_view_name": "StyleView",
            "description_width": ""
          }
        },
        "d250fce4b641472597c65771298649f3": {
          "model_module": "@jupyter-widgets/controls",
          "model_module_version": "1.5.0",
          "model_name": "DescriptionStyleModel",
          "state": {
            "_model_module": "@jupyter-widgets/controls",
            "_model_module_version": "1.5.0",
            "_model_name": "DescriptionStyleModel",
            "_view_count": null,
            "_view_module": "@jupyter-widgets/base",
            "_view_module_version": "1.2.0",
            "_view_name": "StyleView",
            "description_width": ""
          }
        },
        "d34de73882784df9a5371e23abf2e0cb": {
          "model_module": "@jupyter-widgets/controls",
          "model_module_version": "1.5.0",
          "model_name": "ProgressStyleModel",
          "state": {
            "_model_module": "@jupyter-widgets/controls",
            "_model_module_version": "1.5.0",
            "_model_name": "ProgressStyleModel",
            "_view_count": null,
            "_view_module": "@jupyter-widgets/base",
            "_view_module_version": "1.2.0",
            "_view_name": "StyleView",
            "bar_color": null,
            "description_width": ""
          }
        },
        "d57582c578254502b7e65f54b99ee246": {
          "model_module": "@jupyter-widgets/controls",
          "model_module_version": "1.5.0",
          "model_name": "HBoxModel",
          "state": {
            "_dom_classes": [],
            "_model_module": "@jupyter-widgets/controls",
            "_model_module_version": "1.5.0",
            "_model_name": "HBoxModel",
            "_view_count": null,
            "_view_module": "@jupyter-widgets/controls",
            "_view_module_version": "1.5.0",
            "_view_name": "HBoxView",
            "box_style": "",
            "children": [
              "IPY_MODEL_9b2eb85c075f40ab871e063c8873c2ba",
              "IPY_MODEL_bd29b650dbcd45ce93bd2c02149eab83",
              "IPY_MODEL_e4c813aac7c0460599c63e0fd7a8c3e0"
            ],
            "layout": "IPY_MODEL_8f067d1b46dc4111a75a7cb25d85fc49"
          }
        },
        "d5991738417043d78c557e5906d4f090": {
          "model_module": "@jupyter-widgets/base",
          "model_module_version": "1.2.0",
          "model_name": "LayoutModel",
          "state": {
            "_model_module": "@jupyter-widgets/base",
            "_model_module_version": "1.2.0",
            "_model_name": "LayoutModel",
            "_view_count": null,
            "_view_module": "@jupyter-widgets/base",
            "_view_module_version": "1.2.0",
            "_view_name": "LayoutView",
            "align_content": null,
            "align_items": null,
            "align_self": null,
            "border": null,
            "bottom": null,
            "display": null,
            "flex": null,
            "flex_flow": null,
            "grid_area": null,
            "grid_auto_columns": null,
            "grid_auto_flow": null,
            "grid_auto_rows": null,
            "grid_column": null,
            "grid_gap": null,
            "grid_row": null,
            "grid_template_areas": null,
            "grid_template_columns": null,
            "grid_template_rows": null,
            "height": null,
            "justify_content": null,
            "justify_items": null,
            "left": null,
            "margin": null,
            "max_height": null,
            "max_width": null,
            "min_height": null,
            "min_width": null,
            "object_fit": null,
            "object_position": null,
            "order": null,
            "overflow": null,
            "overflow_x": null,
            "overflow_y": null,
            "padding": null,
            "right": null,
            "top": null,
            "visibility": null,
            "width": null
          }
        },
        "d6337d6de2604c02bdae7ddac38c19b9": {
          "model_module": "@jupyter-widgets/base",
          "model_module_version": "1.2.0",
          "model_name": "LayoutModel",
          "state": {
            "_model_module": "@jupyter-widgets/base",
            "_model_module_version": "1.2.0",
            "_model_name": "LayoutModel",
            "_view_count": null,
            "_view_module": "@jupyter-widgets/base",
            "_view_module_version": "1.2.0",
            "_view_name": "LayoutView",
            "align_content": null,
            "align_items": null,
            "align_self": null,
            "border": null,
            "bottom": null,
            "display": null,
            "flex": null,
            "flex_flow": null,
            "grid_area": null,
            "grid_auto_columns": null,
            "grid_auto_flow": null,
            "grid_auto_rows": null,
            "grid_column": null,
            "grid_gap": null,
            "grid_row": null,
            "grid_template_areas": null,
            "grid_template_columns": null,
            "grid_template_rows": null,
            "height": null,
            "justify_content": null,
            "justify_items": null,
            "left": null,
            "margin": null,
            "max_height": null,
            "max_width": null,
            "min_height": null,
            "min_width": null,
            "object_fit": null,
            "object_position": null,
            "order": null,
            "overflow": null,
            "overflow_x": null,
            "overflow_y": null,
            "padding": null,
            "right": null,
            "top": null,
            "visibility": null,
            "width": null
          }
        },
        "d87123ddf065400e907dac3daa83e2b0": {
          "model_module": "@jupyter-widgets/controls",
          "model_module_version": "1.5.0",
          "model_name": "HBoxModel",
          "state": {
            "_dom_classes": [],
            "_model_module": "@jupyter-widgets/controls",
            "_model_module_version": "1.5.0",
            "_model_name": "HBoxModel",
            "_view_count": null,
            "_view_module": "@jupyter-widgets/controls",
            "_view_module_version": "1.5.0",
            "_view_name": "HBoxView",
            "box_style": "",
            "children": [
              "IPY_MODEL_741361b0935d4831be97dd86c0e7770b",
              "IPY_MODEL_ba63ff98ce8c490998fe07aa149c6d8e",
              "IPY_MODEL_caa6a4d176874e11a65ad97d4e027053"
            ],
            "layout": "IPY_MODEL_16c0f25d74f349eba44f62a55ea0573a"
          }
        },
        "dcf34b15acea4bc9ae30196266080e0a": {
          "model_module": "@jupyter-widgets/controls",
          "model_module_version": "1.5.0",
          "model_name": "ProgressStyleModel",
          "state": {
            "_model_module": "@jupyter-widgets/controls",
            "_model_module_version": "1.5.0",
            "_model_name": "ProgressStyleModel",
            "_view_count": null,
            "_view_module": "@jupyter-widgets/base",
            "_view_module_version": "1.2.0",
            "_view_name": "StyleView",
            "bar_color": null,
            "description_width": ""
          }
        },
        "dd24e9aeed7c4639a4c651d15ccc4929": {
          "model_module": "@jupyter-widgets/controls",
          "model_module_version": "1.5.0",
          "model_name": "DescriptionStyleModel",
          "state": {
            "_model_module": "@jupyter-widgets/controls",
            "_model_module_version": "1.5.0",
            "_model_name": "DescriptionStyleModel",
            "_view_count": null,
            "_view_module": "@jupyter-widgets/base",
            "_view_module_version": "1.2.0",
            "_view_name": "StyleView",
            "description_width": ""
          }
        },
        "dec7ba97dc8f4476900d33aef84cc2d2": {
          "model_module": "@jupyter-widgets/base",
          "model_module_version": "1.2.0",
          "model_name": "LayoutModel",
          "state": {
            "_model_module": "@jupyter-widgets/base",
            "_model_module_version": "1.2.0",
            "_model_name": "LayoutModel",
            "_view_count": null,
            "_view_module": "@jupyter-widgets/base",
            "_view_module_version": "1.2.0",
            "_view_name": "LayoutView",
            "align_content": null,
            "align_items": null,
            "align_self": null,
            "border": null,
            "bottom": null,
            "display": null,
            "flex": null,
            "flex_flow": null,
            "grid_area": null,
            "grid_auto_columns": null,
            "grid_auto_flow": null,
            "grid_auto_rows": null,
            "grid_column": null,
            "grid_gap": null,
            "grid_row": null,
            "grid_template_areas": null,
            "grid_template_columns": null,
            "grid_template_rows": null,
            "height": null,
            "justify_content": null,
            "justify_items": null,
            "left": null,
            "margin": null,
            "max_height": null,
            "max_width": null,
            "min_height": null,
            "min_width": null,
            "object_fit": null,
            "object_position": null,
            "order": null,
            "overflow": null,
            "overflow_x": null,
            "overflow_y": null,
            "padding": null,
            "right": null,
            "top": null,
            "visibility": null,
            "width": null
          }
        },
        "dfaaa190ae4e45c39ae4ce1d8b443790": {
          "model_module": "@jupyter-widgets/base",
          "model_module_version": "1.2.0",
          "model_name": "LayoutModel",
          "state": {
            "_model_module": "@jupyter-widgets/base",
            "_model_module_version": "1.2.0",
            "_model_name": "LayoutModel",
            "_view_count": null,
            "_view_module": "@jupyter-widgets/base",
            "_view_module_version": "1.2.0",
            "_view_name": "LayoutView",
            "align_content": null,
            "align_items": null,
            "align_self": null,
            "border": null,
            "bottom": null,
            "display": null,
            "flex": null,
            "flex_flow": null,
            "grid_area": null,
            "grid_auto_columns": null,
            "grid_auto_flow": null,
            "grid_auto_rows": null,
            "grid_column": null,
            "grid_gap": null,
            "grid_row": null,
            "grid_template_areas": null,
            "grid_template_columns": null,
            "grid_template_rows": null,
            "height": null,
            "justify_content": null,
            "justify_items": null,
            "left": null,
            "margin": null,
            "max_height": null,
            "max_width": null,
            "min_height": null,
            "min_width": null,
            "object_fit": null,
            "object_position": null,
            "order": null,
            "overflow": null,
            "overflow_x": null,
            "overflow_y": null,
            "padding": null,
            "right": null,
            "top": null,
            "visibility": null,
            "width": null
          }
        },
        "e0ad6a53bf8e46cc850d594eae0c0924": {
          "model_module": "@jupyter-widgets/controls",
          "model_module_version": "1.5.0",
          "model_name": "HTMLModel",
          "state": {
            "_dom_classes": [],
            "_model_module": "@jupyter-widgets/controls",
            "_model_module_version": "1.5.0",
            "_model_name": "HTMLModel",
            "_view_count": null,
            "_view_module": "@jupyter-widgets/controls",
            "_view_module_version": "1.5.0",
            "_view_name": "HTMLView",
            "description": "",
            "description_tooltip": null,
            "layout": "IPY_MODEL_8edc6868dd8042649daaf0e76e072574",
            "placeholder": "​",
            "style": "IPY_MODEL_cfc7b877daf6415ea518087445506e3d",
            "value": " 1.53k/1.53k [00:00&lt;00:00, 46.2kB/s]"
          }
        },
        "e29ad23ec60e47cfb320dd2ec64c5d71": {
          "model_module": "@jupyter-widgets/controls",
          "model_module_version": "1.5.0",
          "model_name": "FloatProgressModel",
          "state": {
            "_dom_classes": [],
            "_model_module": "@jupyter-widgets/controls",
            "_model_module_version": "1.5.0",
            "_model_name": "FloatProgressModel",
            "_view_count": null,
            "_view_module": "@jupyter-widgets/controls",
            "_view_module_version": "1.5.0",
            "_view_name": "ProgressView",
            "bar_style": "info",
            "description": "",
            "description_tooltip": null,
            "layout": "IPY_MODEL_80cfcec384764d89a2fc9eb5d786e792",
            "max": 1,
            "min": 0,
            "orientation": "horizontal",
            "style": "IPY_MODEL_605df8b9dc5f49699192a4802ad6af12",
            "value": 1
          }
        },
        "e4c813aac7c0460599c63e0fd7a8c3e0": {
          "model_module": "@jupyter-widgets/controls",
          "model_module_version": "1.5.0",
          "model_name": "HTMLModel",
          "state": {
            "_dom_classes": [],
            "_model_module": "@jupyter-widgets/controls",
            "_model_module_version": "1.5.0",
            "_model_name": "HTMLModel",
            "_view_count": null,
            "_view_module": "@jupyter-widgets/controls",
            "_view_module_version": "1.5.0",
            "_view_name": "HTMLView",
            "description": "",
            "description_tooltip": null,
            "layout": "IPY_MODEL_1765dbc7223d41268812ef25fe4558ca",
            "placeholder": "​",
            "style": "IPY_MODEL_6e15108b87584980848abd11de20c2d0",
            "value": " 2/2 [00:00&lt;00:00, 26.15it/s]"
          }
        },
        "e51d092564a74774a7cc17471b6d5602": {
          "model_module": "@jupyter-widgets/controls",
          "model_module_version": "1.5.0",
          "model_name": "DescriptionStyleModel",
          "state": {
            "_model_module": "@jupyter-widgets/controls",
            "_model_module_version": "1.5.0",
            "_model_name": "DescriptionStyleModel",
            "_view_count": null,
            "_view_module": "@jupyter-widgets/base",
            "_view_module_version": "1.2.0",
            "_view_name": "StyleView",
            "description_width": ""
          }
        },
        "e5dd0a6ec3bf4d83baff4c96fe0436c1": {
          "model_module": "@jupyter-widgets/controls",
          "model_module_version": "1.5.0",
          "model_name": "HTMLModel",
          "state": {
            "_dom_classes": [],
            "_model_module": "@jupyter-widgets/controls",
            "_model_module_version": "1.5.0",
            "_model_name": "HTMLModel",
            "_view_count": null,
            "_view_module": "@jupyter-widgets/controls",
            "_view_module_version": "1.5.0",
            "_view_name": "HTMLView",
            "description": "",
            "description_tooltip": null,
            "layout": "IPY_MODEL_51d10f8212ff4ea5add261fbea97c9b3",
            "placeholder": "​",
            "style": "IPY_MODEL_9f497a4624954380a677172bd2ed47dc",
            "value": " 112/112 [00:00&lt;00:00, 3.55kB/s]"
          }
        },
        "e85a4d82d46d4febba82d9a75153fe92": {
          "model_module": "@jupyter-widgets/base",
          "model_module_version": "1.2.0",
          "model_name": "LayoutModel",
          "state": {
            "_model_module": "@jupyter-widgets/base",
            "_model_module_version": "1.2.0",
            "_model_name": "LayoutModel",
            "_view_count": null,
            "_view_module": "@jupyter-widgets/base",
            "_view_module_version": "1.2.0",
            "_view_name": "LayoutView",
            "align_content": null,
            "align_items": null,
            "align_self": null,
            "border": null,
            "bottom": null,
            "display": null,
            "flex": null,
            "flex_flow": null,
            "grid_area": null,
            "grid_auto_columns": null,
            "grid_auto_flow": null,
            "grid_auto_rows": null,
            "grid_column": null,
            "grid_gap": null,
            "grid_row": null,
            "grid_template_areas": null,
            "grid_template_columns": null,
            "grid_template_rows": null,
            "height": null,
            "justify_content": null,
            "justify_items": null,
            "left": null,
            "margin": null,
            "max_height": null,
            "max_width": null,
            "min_height": null,
            "min_width": null,
            "object_fit": null,
            "object_position": null,
            "order": null,
            "overflow": null,
            "overflow_x": null,
            "overflow_y": null,
            "padding": null,
            "right": null,
            "top": null,
            "visibility": null,
            "width": null
          }
        },
        "e91f948a304c4b3a9bd2f6a703f06d0a": {
          "model_module": "@jupyter-widgets/controls",
          "model_module_version": "1.5.0",
          "model_name": "HBoxModel",
          "state": {
            "_dom_classes": [],
            "_model_module": "@jupyter-widgets/controls",
            "_model_module_version": "1.5.0",
            "_model_name": "HBoxModel",
            "_view_count": null,
            "_view_module": "@jupyter-widgets/controls",
            "_view_module_version": "1.5.0",
            "_view_name": "HBoxView",
            "box_style": "",
            "children": [
              "IPY_MODEL_ff6d0b22043e42038e03863e606d6ff0",
              "IPY_MODEL_7dbe16322dd2415fb47588b2f12d4ea2",
              "IPY_MODEL_b1e42c62e3654e1287c711900988056e"
            ],
            "layout": "IPY_MODEL_4860c0d40329452895a1534ba1c22f8d"
          }
        },
        "e9affa5c391142f5945aef11feb360ca": {
          "model_module": "@jupyter-widgets/controls",
          "model_module_version": "1.5.0",
          "model_name": "DescriptionStyleModel",
          "state": {
            "_model_module": "@jupyter-widgets/controls",
            "_model_module_version": "1.5.0",
            "_model_name": "DescriptionStyleModel",
            "_view_count": null,
            "_view_module": "@jupyter-widgets/base",
            "_view_module_version": "1.2.0",
            "_view_name": "StyleView",
            "description_width": ""
          }
        },
        "edc570209e1d4188a180351ca5609b76": {
          "model_module": "@jupyter-widgets/base",
          "model_module_version": "1.2.0",
          "model_name": "LayoutModel",
          "state": {
            "_model_module": "@jupyter-widgets/base",
            "_model_module_version": "1.2.0",
            "_model_name": "LayoutModel",
            "_view_count": null,
            "_view_module": "@jupyter-widgets/base",
            "_view_module_version": "1.2.0",
            "_view_name": "LayoutView",
            "align_content": null,
            "align_items": null,
            "align_self": null,
            "border": null,
            "bottom": null,
            "display": null,
            "flex": null,
            "flex_flow": null,
            "grid_area": null,
            "grid_auto_columns": null,
            "grid_auto_flow": null,
            "grid_auto_rows": null,
            "grid_column": null,
            "grid_gap": null,
            "grid_row": null,
            "grid_template_areas": null,
            "grid_template_columns": null,
            "grid_template_rows": null,
            "height": null,
            "justify_content": null,
            "justify_items": null,
            "left": null,
            "margin": null,
            "max_height": null,
            "max_width": null,
            "min_height": null,
            "min_width": null,
            "object_fit": null,
            "object_position": null,
            "order": null,
            "overflow": null,
            "overflow_x": null,
            "overflow_y": null,
            "padding": null,
            "right": null,
            "top": null,
            "visibility": null,
            "width": null
          }
        },
        "edf7e96b001c49b5916b7cccebc59007": {
          "model_module": "@jupyter-widgets/controls",
          "model_module_version": "1.5.0",
          "model_name": "DescriptionStyleModel",
          "state": {
            "_model_module": "@jupyter-widgets/controls",
            "_model_module_version": "1.5.0",
            "_model_name": "DescriptionStyleModel",
            "_view_count": null,
            "_view_module": "@jupyter-widgets/base",
            "_view_module_version": "1.2.0",
            "_view_name": "StyleView",
            "description_width": ""
          }
        },
        "ee568b7f7415499788af8d30f831538c": {
          "model_module": "@jupyter-widgets/controls",
          "model_module_version": "1.5.0",
          "model_name": "DescriptionStyleModel",
          "state": {
            "_model_module": "@jupyter-widgets/controls",
            "_model_module_version": "1.5.0",
            "_model_name": "DescriptionStyleModel",
            "_view_count": null,
            "_view_module": "@jupyter-widgets/base",
            "_view_module_version": "1.2.0",
            "_view_name": "StyleView",
            "description_width": ""
          }
        },
        "eed0955705c7450e9e8dd9c1580c57e0": {
          "model_module": "@jupyter-widgets/controls",
          "model_module_version": "1.5.0",
          "model_name": "ProgressStyleModel",
          "state": {
            "_model_module": "@jupyter-widgets/controls",
            "_model_module_version": "1.5.0",
            "_model_name": "ProgressStyleModel",
            "_view_count": null,
            "_view_module": "@jupyter-widgets/base",
            "_view_module_version": "1.2.0",
            "_view_name": "StyleView",
            "bar_color": null,
            "description_width": ""
          }
        },
        "eef094be65ff4e4eb3c37b25601ab548": {
          "model_module": "@jupyter-widgets/controls",
          "model_module_version": "1.5.0",
          "model_name": "HTMLModel",
          "state": {
            "_dom_classes": [],
            "_model_module": "@jupyter-widgets/controls",
            "_model_module_version": "1.5.0",
            "_model_name": "HTMLModel",
            "_view_count": null,
            "_view_module": "@jupyter-widgets/controls",
            "_view_module_version": "1.5.0",
            "_view_name": "HTMLView",
            "description": "",
            "description_tooltip": null,
            "layout": "IPY_MODEL_95ee86d2ddf941b29e1b829077a79734",
            "placeholder": "​",
            "style": "IPY_MODEL_cf24b0ffe7194a019c118ccfe634d7fb",
            "value": " 1/1 [00:00&lt;00:00, 14.76it/s]"
          }
        },
        "ef0a7bfab4f94d6a8a6cd005793ed791": {
          "model_module": "@jupyter-widgets/controls",
          "model_module_version": "1.5.0",
          "model_name": "HBoxModel",
          "state": {
            "_dom_classes": [],
            "_model_module": "@jupyter-widgets/controls",
            "_model_module_version": "1.5.0",
            "_model_name": "HBoxModel",
            "_view_count": null,
            "_view_module": "@jupyter-widgets/controls",
            "_view_module_version": "1.5.0",
            "_view_name": "HBoxView",
            "box_style": "",
            "children": [
              "IPY_MODEL_c3b72a275f82495eb3eb7b945dda7267",
              "IPY_MODEL_3682f4c24f4d47bebcab7b257bd85331",
              "IPY_MODEL_37c268be0f5844949f4fe1733c21562b"
            ],
            "layout": "IPY_MODEL_dec7ba97dc8f4476900d33aef84cc2d2"
          }
        },
        "f0b24b76a73143f796c1328a65c5d541": {
          "model_module": "@jupyter-widgets/controls",
          "model_module_version": "1.5.0",
          "model_name": "DescriptionStyleModel",
          "state": {
            "_model_module": "@jupyter-widgets/controls",
            "_model_module_version": "1.5.0",
            "_model_name": "DescriptionStyleModel",
            "_view_count": null,
            "_view_module": "@jupyter-widgets/base",
            "_view_module_version": "1.2.0",
            "_view_name": "StyleView",
            "description_width": ""
          }
        },
        "f126fc42415f4c5591879aba5f475a34": {
          "model_module": "@jupyter-widgets/controls",
          "model_module_version": "1.5.0",
          "model_name": "FloatProgressModel",
          "state": {
            "_dom_classes": [],
            "_model_module": "@jupyter-widgets/controls",
            "_model_module_version": "1.5.0",
            "_model_name": "FloatProgressModel",
            "_view_count": null,
            "_view_module": "@jupyter-widgets/controls",
            "_view_module_version": "1.5.0",
            "_view_name": "ProgressView",
            "bar_style": "success",
            "description": "",
            "description_tooltip": null,
            "layout": "IPY_MODEL_8fb1c6657b5e4005a4b6bbf5b21cda58",
            "max": 633974,
            "min": 0,
            "orientation": "horizontal",
            "style": "IPY_MODEL_28556c22750744aba54fbd537770fa39",
            "value": 633974
          }
        },
        "f27c9909ad8947a7b2d50776cc748958": {
          "model_module": "@jupyter-widgets/base",
          "model_module_version": "1.2.0",
          "model_name": "LayoutModel",
          "state": {
            "_model_module": "@jupyter-widgets/base",
            "_model_module_version": "1.2.0",
            "_model_name": "LayoutModel",
            "_view_count": null,
            "_view_module": "@jupyter-widgets/base",
            "_view_module_version": "1.2.0",
            "_view_name": "LayoutView",
            "align_content": null,
            "align_items": null,
            "align_self": null,
            "border": null,
            "bottom": null,
            "display": null,
            "flex": null,
            "flex_flow": null,
            "grid_area": null,
            "grid_auto_columns": null,
            "grid_auto_flow": null,
            "grid_auto_rows": null,
            "grid_column": null,
            "grid_gap": null,
            "grid_row": null,
            "grid_template_areas": null,
            "grid_template_columns": null,
            "grid_template_rows": null,
            "height": null,
            "justify_content": null,
            "justify_items": null,
            "left": null,
            "margin": null,
            "max_height": null,
            "max_width": null,
            "min_height": null,
            "min_width": null,
            "object_fit": null,
            "object_position": null,
            "order": null,
            "overflow": null,
            "overflow_x": null,
            "overflow_y": null,
            "padding": null,
            "right": null,
            "top": null,
            "visibility": null,
            "width": null
          }
        },
        "f5fa7c5535804e3aac766a257d13f902": {
          "model_module": "@jupyter-widgets/controls",
          "model_module_version": "1.5.0",
          "model_name": "HTMLModel",
          "state": {
            "_dom_classes": [],
            "_model_module": "@jupyter-widgets/controls",
            "_model_module_version": "1.5.0",
            "_model_name": "HTMLModel",
            "_view_count": null,
            "_view_module": "@jupyter-widgets/controls",
            "_view_module_version": "1.5.0",
            "_view_name": "HTMLView",
            "description": "",
            "description_tooltip": null,
            "layout": "IPY_MODEL_1714d36327f4457ca7e3edc002c1afcb",
            "placeholder": "​",
            "style": "IPY_MODEL_843e73d9bce44e15ad26b5b2ed2a20de",
            "value": " 125k/? [00:00&lt;00:00, 2.92MB/s]"
          }
        },
        "f7f48970f0284419a0a3c5c31b1265d3": {
          "model_module": "@jupyter-widgets/controls",
          "model_module_version": "1.5.0",
          "model_name": "DescriptionStyleModel",
          "state": {
            "_model_module": "@jupyter-widgets/controls",
            "_model_module_version": "1.5.0",
            "_model_name": "DescriptionStyleModel",
            "_view_count": null,
            "_view_module": "@jupyter-widgets/base",
            "_view_module_version": "1.2.0",
            "_view_name": "StyleView",
            "description_width": ""
          }
        },
        "ff6d0b22043e42038e03863e606d6ff0": {
          "model_module": "@jupyter-widgets/controls",
          "model_module_version": "1.5.0",
          "model_name": "HTMLModel",
          "state": {
            "_dom_classes": [],
            "_model_module": "@jupyter-widgets/controls",
            "_model_module_version": "1.5.0",
            "_model_name": "HTMLModel",
            "_view_count": null,
            "_view_module": "@jupyter-widgets/controls",
            "_view_module_version": "1.5.0",
            "_view_name": "HTMLView",
            "description": "",
            "description_tooltip": null,
            "layout": "IPY_MODEL_d5991738417043d78c557e5906d4f090",
            "placeholder": "​",
            "style": "IPY_MODEL_c73ebf020b8e43efa375c84f9cec50af",
            "value": "Downloading: 100%"
          }
        }
      }
    }
  },
  "nbformat": 4,
  "nbformat_minor": 0
}
